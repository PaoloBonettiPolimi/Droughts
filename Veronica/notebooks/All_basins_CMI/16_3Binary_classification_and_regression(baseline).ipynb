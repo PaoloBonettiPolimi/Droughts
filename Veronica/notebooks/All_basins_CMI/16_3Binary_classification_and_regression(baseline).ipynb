{
  "cells": [
    {
      "cell_type": "code",
      "execution_count": null,
      "id": "ba303dc8",
      "metadata": {
        "id": "ba303dc8"
      },
      "outputs": [],
      "source": [
        "import numpy as np\n",
        "import os\n",
        "import glob\n",
        "import pandas as pd\n",
        "from sklearn.preprocessing import StandardScaler\n",
        "import matplotlib.pyplot as plt\n",
        "from sklearn.linear_model import LogisticRegression\n",
        "from sklearn.linear_model import LinearRegression\n",
        "from sklearn.metrics import r2_score"
      ]
    },
    {
      "cell_type": "code",
      "source": [
        "from google.colab import drive\n",
        "drive.mount('/content/drive/')"
      ],
      "metadata": {
        "colab": {
          "base_uri": "https://localhost:8080/"
        },
        "id": "mdkD6YgaK_Fy",
        "outputId": "a753e9a4-7f93-45f2-ded5-baf329891634"
      },
      "id": "mdkD6YgaK_Fy",
      "execution_count": null,
      "outputs": [
        {
          "output_type": "stream",
          "name": "stdout",
          "text": [
            "Mounted at /content/drive/\n"
          ]
        }
      ]
    },
    {
      "cell_type": "code",
      "source": [
        "cd drive/MyDrive/Colab\\ Notebooks/scripts"
      ],
      "metadata": {
        "colab": {
          "base_uri": "https://localhost:8080/"
        },
        "id": "KA6FWH4mLLe-",
        "outputId": "9cf35746-f89c-45d3-fb2d-f41a392399c0"
      },
      "id": "KA6FWH4mLLe-",
      "execution_count": null,
      "outputs": [
        {
          "output_type": "stream",
          "name": "stdout",
          "text": [
            "/content/drive/MyDrive/Colab Notebooks/scripts\n"
          ]
        }
      ]
    },
    {
      "cell_type": "code",
      "source": [
        "from feature_selection import forwardFeatureSelection\n",
        "from aux_GenLinCFA import prepare_target_binary\n",
        "from aux_GenLinCFA import prepare_target"
      ],
      "metadata": {
        "id": "vGdQ6KAUSaIF"
      },
      "id": "vGdQ6KAUSaIF",
      "execution_count": null,
      "outputs": []
    },
    {
      "cell_type": "code",
      "source": [
        "cd .."
      ],
      "metadata": {
        "colab": {
          "base_uri": "https://localhost:8080/"
        },
        "id": "b_YVFcxoSacl",
        "outputId": "3ef776a4-7606-4f53-9d2b-8afdd1c954a9"
      },
      "id": "b_YVFcxoSacl",
      "execution_count": null,
      "outputs": [
        {
          "output_type": "stream",
          "name": "stdout",
          "text": [
            "/content/drive/MyDrive/Colab Notebooks\n"
          ]
        }
      ]
    },
    {
      "cell_type": "markdown",
      "id": "a2a5c649",
      "metadata": {
        "id": "a2a5c649"
      },
      "source": [
        "## Features averaged on whole basin for each basin"
      ]
    },
    {
      "cell_type": "code",
      "source": [
        "csv_with_aggreg = \"./features_with_aggregations.csv\"\n",
        "all_features = pd.read_csv(csv_with_aggreg).rename(columns={'Unnamed: 0': 'date'})\n",
        "features_df = all_features.filter(like=basin)"
      ],
      "metadata": {
        "id": "a2KiloADCLqF"
      },
      "id": "a2KiloADCLqF",
      "execution_count": null,
      "outputs": []
    },
    {
      "cell_type": "code",
      "source": [
        "# merge with target values of Emiliani2\n",
        "path_target = './csv/'\n",
        "csv_target = \"./csv/\" + basin + \".csv\"\n",
        "target = pd.read_csv(csv_target).rename(columns={'Unnamed: 0': 'date'})\n",
        "\n",
        "# remove dates not available in features\n",
        "target = target[target['date'] <= all_features['date'].iloc[-1]]"
      ],
      "metadata": {
        "id": "EMVPlJ4kfhbo"
      },
      "id": "EMVPlJ4kfhbo",
      "execution_count": null,
      "outputs": []
    },
    {
      "cell_type": "code",
      "execution_count": null,
      "id": "2b63d0b8",
      "metadata": {
        "id": "2b63d0b8",
        "colab": {
          "base_uri": "https://localhost:8080/"
        },
        "outputId": "d767ba32-1bf8-42b8-e2be-c023d5934241"
      },
      "outputs": [
        {
          "output_type": "stream",
          "name": "stdout",
          "text": [
            "0: cyclostationary_mean_Emiliani1_tg\n",
            "1: cyclostationary_mean_Emiliani1_rr\n",
            "2: cyclostationary_mean_Emiliani1_tg_1w\n",
            "3: cyclostationary_mean_Emiliani1_tg_4w\n",
            "4: cyclostationary_mean_Emiliani1_tg_8w\n",
            "5: cyclostationary_mean_Emiliani1_tg_12w\n",
            "6: cyclostationary_mean_Emiliani1_tg_16w\n",
            "7: cyclostationary_mean_Emiliani1_tg_24w\n",
            "8: cyclostationary_mean_Emiliani1_rr_1w\n",
            "9: cyclostationary_mean_Emiliani1_rr_4w\n",
            "10: cyclostationary_mean_Emiliani1_rr_8w\n",
            "11: cyclostationary_mean_Emiliani1_rr_12w\n",
            "12: cyclostationary_mean_Emiliani1_rr_16w\n",
            "13: cyclostationary_mean_Emiliani1_rr_24w\n"
          ]
        }
      ],
      "source": [
        "idx_dic = {}\n",
        "for col in features_df.columns:\n",
        "    idx_dic[col] = features_df.columns.get_loc(col)\n",
        "print('\\n'.join(f'{value}: {key}' for key, value in idx_dic.items()))"
      ]
    },
    {
      "cell_type": "markdown",
      "source": [
        "# Feature Selection and linear, logistic regression (continuous target)"
      ],
      "metadata": {
        "id": "2psmjQ8WlfVE"
      },
      "id": "2psmjQ8WlfVE"
    },
    {
      "cell_type": "markdown",
      "source": [
        "### Divide features and target in train_val and test"
      ],
      "metadata": {
        "id": "AmbxwEexDeOM"
      },
      "id": "AmbxwEexDeOM"
    },
    {
      "cell_type": "code",
      "execution_count": null,
      "id": "1fd1913d",
      "metadata": {
        "colab": {
          "base_uri": "https://localhost:8080/"
        },
        "id": "1fd1913d",
        "outputId": "27473567-f8e9-4818-b886-35bc39f915fa"
      },
      "outputs": [
        {
          "output_type": "execute_result",
          "data": {
            "text/plain": [
              "639"
            ]
          },
          "metadata": {},
          "execution_count": 11
        }
      ],
      "source": [
        "# features selection done on training and validation set\n",
        "\n",
        "date_valid_end = '2014-12-31'\n",
        "date_test_end = '2019-12-31'\n",
        "\n",
        "features_train_val = features_df.loc[all_features['date'] <= date_valid_end,:].copy()\n",
        "features_test = features_df.loc[(all_features['date'] > date_valid_end) & (all_features['date'] <= date_test_end),:].copy()\n",
        "len(features_train_val)"
      ]
    },
    {
      "cell_type": "code",
      "execution_count": null,
      "id": "e4af057a",
      "metadata": {
        "colab": {
          "base_uri": "https://localhost:8080/"
        },
        "id": "e4af057a",
        "outputId": "d0ed2485-cf69-4583-918b-76b6ee0b045b"
      },
      "outputs": [
        {
          "output_type": "execute_result",
          "data": {
            "text/plain": [
              "639"
            ]
          },
          "metadata": {},
          "execution_count": 12
        }
      ],
      "source": [
        "target_train_val = target.loc[target['date'] <= date_valid_end,:]['mean'].to_frame().copy()\n",
        "target_test = target.loc[(target['date'] > date_valid_end) & (target['date'] <= date_test_end),:]['mean'].to_frame().copy()\n",
        "len(target_train_val)"
      ]
    },
    {
      "cell_type": "code",
      "execution_count": null,
      "id": "a3523879",
      "metadata": {
        "id": "a3523879"
      },
      "outputs": [],
      "source": [
        "scaler_f = StandardScaler()\n",
        "scaler_t = StandardScaler()\n",
        "\n",
        "features_train_val = pd.DataFrame(scaler_f.fit_transform(features_train_val.values),\n",
        "                               index=features_train_val.index, columns=features_train_val.columns)\n",
        "target_train_val['mean'] = scaler_t.fit_transform(target_train_val)\n",
        "\n",
        "features_test = pd.DataFrame(scaler_f.fit_transform(features_test.values),\n",
        "                               index=features_test.index, columns=features_test.columns)\n",
        "target_test['mean'] = scaler_t.transform(target_test)"
      ]
    },
    {
      "cell_type": "markdown",
      "source": [
        "### FS algorithm"
      ],
      "metadata": {
        "id": "D6Y_QfyFDiGG"
      },
      "id": "D6Y_QfyFDiGG"
    },
    {
      "cell_type": "code",
      "source": [
        "res = {\n",
        "          \"delta\" : [],\n",
        "          \"numSelected\" : [],\n",
        "          \"selectedFeatures\" : []\n",
        "      }\n",
        "delta = 10\n",
        "k = 10\n",
        "res['selectedFeatures'] = forwardFeatureSelection(delta, np.array(features_train_val.values), np.array(target_train_val['mean']), res, delta,1)\n",
        "selectedFeatures='selectedFeatures'\n",
        "print(f'\\n{res[selectedFeatures]}\\n')"
      ],
      "metadata": {
        "id": "dl21z11mGhdk",
        "colab": {
          "base_uri": "https://localhost:8080/"
        },
        "outputId": "39369f38-41dc-4990-9a6e-a5aa4115ac5a"
      },
      "id": "dl21z11mGhdk",
      "execution_count": null,
      "outputs": [
        {
          "output_type": "stream",
          "name": "stdout",
          "text": [
            "----- MI Scores -----\n",
            "[(9, 0.17041186858054383), (8, 0.1648332049131115), (10, 0.14736930929716657), (11, 0.13629091542369332), (12, 0.11995623648323962), (0, 0.11588360717929823), (1, 0.09218339024471321), (13, 0.07751129197507917), (2, 0.07624477236090975), (6, 0.06284608934165047), (5, 0.051790012755202605), (4, 0.05068230872635781), (3, 0.020999956603970124), (7, 0.016088261985364893)]\n",
            "Best MI score: 0.17041186858054383\n",
            "Adding first best original feature: 9\n",
            "CMI: 0.09720366837934666\n",
            "CMI: 0.031068280869894882\n",
            "CMI: 0.0843642866203421\n",
            "CMI: 0.031961045593324106\n",
            "CMI: 0.011625703451463548\n",
            "CMI: 0.023692086720127764\n",
            "CMI: 0.04381413827358352\n",
            "CMI: 0.026380305971849677\n",
            "CMI: 0.058064533284264974\n",
            "CMI: 0.022484789881361544\n",
            "CMI: 0.038275839679744406\n",
            "CMI: 0.010975783225232433\n",
            "CMI: 0.014648817072766801\n",
            "Highest CMI score: 0.09720366837934666\n",
            "Adding original feature: 0\n",
            "CMI: 0.01099267966924905\n",
            "CMI: 0.00850854126448658\n",
            "CMI: 0.002738299382470444\n",
            "Highest CMI score: 0.01099267966924905\n",
            "Adding original feature: 2\n",
            "CMI: 0.0026867952398170747\n",
            "Highest CMI score: 0.0026867952398170747\n",
            "Adding original feature: 10\n",
            "CMI: 0.006339754347065851\n",
            "Highest CMI score: 0.006339754347065851\n",
            "Adding original feature: 8\n",
            "Highest CMI score: -0.0059927466560605325\n",
            "\n",
            "[9, 0, 2, 10, 8]\n",
            "\n"
          ]
        }
      ]
    },
    {
      "cell_type": "markdown",
      "id": "e1c4e691",
      "metadata": {
        "id": "e1c4e691"
      },
      "source": [
        "### Linear, Logistic Regression"
      ]
    },
    {
      "cell_type": "code",
      "source": [
        "res[selectedFeatures] = res[selectedFeatures][0:5]\n",
        "res[selectedFeatures]"
      ],
      "metadata": {
        "colab": {
          "base_uri": "https://localhost:8080/"
        },
        "id": "dU2JginySu8o",
        "outputId": "35ba4c72-0da7-48b8-a86b-3378e1a638c4"
      },
      "id": "dU2JginySu8o",
      "execution_count": null,
      "outputs": [
        {
          "output_type": "execute_result",
          "data": {
            "text/plain": [
              "[9, 0, 2, 10, 8]"
            ]
          },
          "metadata": {},
          "execution_count": 15
        }
      ]
    },
    {
      "cell_type": "code",
      "execution_count": null,
      "id": "8f33d2ae",
      "metadata": {
        "scrolled": true,
        "id": "8f33d2ae",
        "colab": {
          "base_uri": "https://localhost:8080/"
        },
        "outputId": "2a819c5b-3c73-4b2f-d97d-fe822b06e685"
      },
      "outputs": [
        {
          "output_type": "stream",
          "name": "stdout",
          "text": [
            "###### Linear Regression ######\n",
            "Train R2 linear regression CMI best 5:  0.351\n",
            "Test R2 linear regression CMI best 5:  0.321 \n",
            "\n",
            "###### Binary Classification ######\n",
            "Train accuracy logregr CMI best 5 :  0.726\n",
            "Test accuracy logregr CMI best 5 :  0.732 \n",
            "\n"
          ]
        }
      ],
      "source": [
        "features_dir = \"./CMI_features_nocoord/continuous_target/\"\n",
        "\n",
        "chosen_features_train_val = features_train_val[features_train_val.columns[res[selectedFeatures]]]\n",
        "chosen_features_test = features_test[features_test.columns[res[selectedFeatures]]]\n",
        "\n",
        "train_val_string = features_dir + basin + '_best5_CMI_trainval.csv'\n",
        "test_string = features_dir + basin + '_best5_CMI_test.csv'\n",
        "chosen_features_train_val.to_csv(train_val_string, index=False)\n",
        "chosen_features_test.to_csv(test_string, index=False)\n",
        "\n",
        "print('###### Linear Regression ######')\n",
        "lin_regr = LinearRegression()\n",
        "# CMI best 5\n",
        "lin_regr.fit(chosen_features_train_val.values, target_train_val.values.ravel())\n",
        "print(\"Train R2 linear regression CMI best 5: \", round(lin_regr.score(chosen_features_train_val.values, target_train_val.values.ravel()),3))\n",
        "print(\"Test R2 linear regression CMI best 5: \", round(lin_regr.score(chosen_features_test.values, target_test.values.ravel()),3), \"\\n\")\n",
        "\n",
        "\n",
        "target_train_val_binary = target_train_val.apply(lambda x: np.sign(x), axis=1)\n",
        "target_test_binary = target_test.apply(lambda x: np.sign(x), axis=1)\n",
        "\n",
        "print('###### Binary Classification ######')\n",
        "\n",
        "log_regr = LogisticRegression(solver='lbfgs', max_iter=1000, random_state = 42)\n",
        "log_regr.fit(chosen_features_train_val.values, target_train_val_binary.values.ravel())\n",
        "print(\"Train accuracy logregr CMI best 5 : \", round(log_regr.score(chosen_features_train_val.values, target_train_val_binary.values.ravel()),3))\n",
        "print(\"Test accuracy logregr CMI best 5 : \", round(log_regr.score(chosen_features_test.values, target_test_binary.values.ravel()),3), \"\\n\")"
      ]
    },
    {
      "cell_type": "markdown",
      "source": [
        "### Multi Task scores regression"
      ],
      "metadata": {
        "id": "sBqhNIjNpeHc"
      },
      "id": "sBqhNIjNpeHc"
    },
    {
      "cell_type": "code",
      "source": [
        "# for linear regression\n",
        "\n",
        "def MTL_scores(clust_basins, df_train, df_val, df_test, targets_df_train, targets_df_val, targets_df_test):\n",
        "\n",
        "    colnames = [x for x in df_train.columns if x.startswith(tuple(clust_basins))]\n",
        "\n",
        "    clusterdf_train_withClass = pd.DataFrame()\n",
        "    clusterdf_val_withClass = pd.DataFrame()\n",
        "    clusterdf_test_withClass = pd.DataFrame()\n",
        "\n",
        "    for i in range(len(clust_basins)):\n",
        "        clusterdf_train_withClass = pd.concat((clusterdf_train_withClass,pd.concat((df_train[colnames],pd.DataFrame(1+i*np.ones(len(df_train)),columns=['basin'])),axis=1)),axis=0)\n",
        "        clusterdf_val_withClass = pd.concat((clusterdf_val_withClass,pd.concat((df_val[colnames],pd.DataFrame(1+i*np.ones(len(df_val)),columns=['basin'])),axis=1)),axis=0)\n",
        "        clusterdf_test_withClass = pd.concat((clusterdf_test_withClass,pd.concat((df_test[colnames],pd.DataFrame(1+i*np.ones(len(df_test)),columns=['basin'])),axis=1)),axis=0)\n",
        "\n",
        "    for i in range(len(clust_basins)):\n",
        "        clusterdf_train_withClass[clust_basins[i]] = clusterdf_train_withClass.apply(lambda x: int(x.basin==i+1),axis=1)\n",
        "        clusterdf_val_withClass[clust_basins[i]] = clusterdf_val_withClass.apply(lambda x: int(x.basin==i+1),axis=1)\n",
        "        clusterdf_test_withClass[clust_basins[i]] = clusterdf_test_withClass.apply(lambda x: int(x.basin==i+1),axis=1)\n",
        "\n",
        "    clusterdf_train_withClass = clusterdf_train_withClass.loc[:,clusterdf_train_withClass.columns != 'basin']\n",
        "    clusterdf_val_withClass = clusterdf_val_withClass.loc[:,clusterdf_val_withClass.columns != 'basin']\n",
        "    clusterdf_test_withClass = clusterdf_test_withClass.loc[:,clusterdf_test_withClass.columns != 'basin']\n",
        "\n",
        "    targets_df_train_unfolded = pd.DataFrame()\n",
        "    targets_df_val_unfolded = pd.DataFrame()\n",
        "    targets_df_test_unfolded = pd.DataFrame()\n",
        "\n",
        "    for basin in clust_basins:\n",
        "        targets_df_train_unfolded =  pd.concat((targets_df_train_unfolded,targets_df_train[basin]),axis=0)\n",
        "        targets_df_val_unfolded =  pd.concat((targets_df_val_unfolded,targets_df_val[basin]),axis=0)\n",
        "        targets_df_test_unfolded =  pd.concat((targets_df_test_unfolded,targets_df_test[basin]),axis=0)\n",
        "    targets_df_train_unfolded = targets_df_train_unfolded.reset_index(drop=True)\n",
        "    targets_df_val_unfolded = targets_df_val_unfolded.reset_index(drop=True)\n",
        "    targets_df_test_unfolded = targets_df_test_unfolded.reset_index(drop=True)\n",
        "\n",
        "    # same scores changing the solver, some differences changing penalty, some improve with l1\n",
        "    model_ohe = LinearRegression()\n",
        "    model_ohe.fit(pd.concat((clusterdf_train_withClass,clusterdf_val_withClass)).values,pd.concat((targets_df_train_unfolded,targets_df_val_unfolded)).values.ravel())\n",
        "\n",
        "    for basin in clust_basins:\n",
        "        print(basin)\n",
        "        res = model_ohe.predict(clusterdf_test_withClass.loc[clusterdf_test_withClass[basin]==1].values)\n",
        "        print(r2_score(targets_df_test[basin].values.ravel(), res))"
      ],
      "metadata": {
        "id": "9cFdma0-pgFG"
      },
      "id": "9cFdma0-pgFG",
      "execution_count": null,
      "outputs": []
    },
    {
      "cell_type": "code",
      "source": [
        "### continuous targets\n",
        "basins = ['Adda','Dora','Emiliani1','Emiliani2','Garda_Mincio','Lambro_Olona','Oglio_Iseo','Piemonte_Nord','Piemonte_Sud','Ticino']\n",
        "path_targets = \"./csv/\"\n",
        "targets_df_train = pd.DataFrame()\n",
        "targets_df_val = pd.DataFrame()\n",
        "targets_df_test = pd.DataFrame()\n",
        "targets_df_trainVal = pd.DataFrame()\n",
        "\n",
        "for basin in basins:\n",
        "    target_df_train,target_df_val,target_df_test,target_df_trainVal = prepare_target('',max_train='2010-01-01', max_val='2015-01-01',\n",
        "                                                                                     max_test='2020-01-01', path=path_targets+basin+'.csv',\n",
        "                                                                                     window_size = 1)\n",
        "    targets_df_train[basin] = target_df_train.mean_std\n",
        "    targets_df_val[basin] = target_df_val.mean_std\n",
        "    targets_df_test[basin] = target_df_test.mean_std\n",
        "    targets_df_trainVal[basin] = target_df_trainVal.mean_std"
      ],
      "metadata": {
        "id": "0q95olT8phJN"
      },
      "id": "0q95olT8phJN",
      "execution_count": null,
      "outputs": []
    },
    {
      "cell_type": "code",
      "source": [
        "basins = ['Adda','Dora','Emiliani1','Emiliani2','Garda_Mincio','Lambro_Olona',\n",
        "          'Oglio_Iseo','Piemonte_Nord','Piemonte_Sud','Ticino']\n",
        "\n",
        "### CMI best5 features\n",
        "#path_features = './NonLinCFA/temp_prec_internal_ordering/dyn_eps_lin/'\n",
        "path_features = \"./CMI_features_nocoord/continuous_target/\"\n",
        "\n",
        "best5_CMI_fulldf_train = pd.DataFrame()\n",
        "best5_CMI_fulldf_val = pd.DataFrame()\n",
        "best5_CMI_fulldf_test = pd.DataFrame()\n",
        "\n",
        "for basin in basins:\n",
        "    train_temp = pd.read_csv(path_features+basin+'_best5_CMI_trainval.csv').iloc[:411,:]\n",
        "    val_temp = pd.read_csv(path_features+basin+'_best5_CMI_trainval.csv').iloc[411:639,:]\n",
        "    val_temp.reset_index(drop=True, inplace=True)\n",
        "    test_temp = pd.read_csv(path_features+basin+'_best5_CMI_test.csv')\n",
        "    best5_CMI_fulldf_train[basin+'_'+train_temp.columns.values] = train_temp\n",
        "    best5_CMI_fulldf_val[basin+'_'+val_temp.columns.values] = val_temp\n",
        "    best5_CMI_fulldf_test[basin+'_'+test_temp.columns.values] = test_temp"
      ],
      "metadata": {
        "id": "E4pnhHIgqTbh"
      },
      "id": "E4pnhHIgqTbh",
      "execution_count": null,
      "outputs": []
    },
    {
      "cell_type": "code",
      "source": [
        "MTL_scores(clust_basins=['Emiliani1','Emiliani2','Garda_Mincio'], df_train=best5_CMI_fulldf_train,\n",
        "           df_val=best5_CMI_fulldf_val, df_test=best5_CMI_fulldf_test, targets_df_train=targets_df_train,\n",
        "           targets_df_val=targets_df_val, targets_df_test=targets_df_test)"
      ],
      "metadata": {
        "id": "I27bt5zmqZfm"
      },
      "id": "I27bt5zmqZfm",
      "execution_count": null,
      "outputs": []
    },
    {
      "cell_type": "code",
      "source": [
        "MTL_scores(clust_basins=['Adda','Lambro_Olona','Oglio_Iseo', 'Ticino'], df_train=best5_CMI_fulldf_train,\n",
        "           df_val=best5_CMI_fulldf_val, df_test=best5_CMI_fulldf_test, targets_df_train=targets_df_train,\n",
        "           targets_df_val=targets_df_val, targets_df_test=targets_df_test)"
      ],
      "metadata": {
        "id": "gRpKWvvMqdQp"
      },
      "id": "gRpKWvvMqdQp",
      "execution_count": null,
      "outputs": []
    },
    {
      "cell_type": "code",
      "source": [
        "MTL_scores(clust_basins=['Dora','Piemonte_Nord','Piemonte_Sud'], df_train=best5_CMI_fulldf_train,\n",
        "           df_val=best5_CMI_fulldf_val, df_test=best5_CMI_fulldf_test, targets_df_train=targets_df_train,\n",
        "           targets_df_val=targets_df_val, targets_df_test=targets_df_test)"
      ],
      "metadata": {
        "id": "R6APbYDHqdFO"
      },
      "id": "R6APbYDHqdFO",
      "execution_count": null,
      "outputs": []
    },
    {
      "cell_type": "markdown",
      "source": [
        "# Feature Selection and logistic regression (discrete target)"
      ],
      "metadata": {
        "id": "OYtUNUrPPluK"
      },
      "id": "OYtUNUrPPluK"
    },
    {
      "cell_type": "markdown",
      "source": [
        "### Divide features and target in train_val and test"
      ],
      "metadata": {
        "id": "p9NPFbmRaJ8O"
      },
      "id": "p9NPFbmRaJ8O"
    },
    {
      "cell_type": "code",
      "execution_count": null,
      "metadata": {
        "colab": {
          "base_uri": "https://localhost:8080/"
        },
        "outputId": "ea3002d7-e7bf-44b1-d5e1-ce57e089b983",
        "id": "hWAswhaGPluL"
      },
      "outputs": [
        {
          "output_type": "execute_result",
          "data": {
            "text/plain": [
              "639"
            ]
          },
          "metadata": {},
          "execution_count": 132
        }
      ],
      "source": [
        "# features selection done on training and validation set\n",
        "\n",
        "date_valid_end = '2014-12-31'\n",
        "date_test_end = '2019-12-31'\n",
        "\n",
        "features_train_val = features_df.loc[all_features['date'] <= date_valid_end,:].copy()\n",
        "features_test = features_df.loc[(all_features['date'] > date_valid_end) & (all_features['date'] <= date_test_end),:].copy()\n",
        "len(features_train_val)"
      ],
      "id": "hWAswhaGPluL"
    },
    {
      "cell_type": "code",
      "execution_count": null,
      "metadata": {
        "colab": {
          "base_uri": "https://localhost:8080/"
        },
        "outputId": "9430664f-96c7-441b-84a4-6ea9936a4294",
        "id": "jq0KzD7BPluM"
      },
      "outputs": [
        {
          "output_type": "execute_result",
          "data": {
            "text/plain": [
              "639"
            ]
          },
          "metadata": {},
          "execution_count": 133
        }
      ],
      "source": [
        "target_train_val = target.loc[target['date'] <= date_valid_end,:]['mean'].to_frame().copy()\n",
        "target_test = target.loc[(target['date'] > date_valid_end) & (target['date'] <= date_test_end),:]['mean'].to_frame().copy()\n",
        "len(target_train_val)"
      ],
      "id": "jq0KzD7BPluM"
    },
    {
      "cell_type": "code",
      "execution_count": null,
      "metadata": {
        "id": "GV1vUG_mPluM"
      },
      "outputs": [],
      "source": [
        "scaler_f = StandardScaler()\n",
        "\n",
        "features_train_val = pd.DataFrame(scaler_f.fit_transform(features_train_val.values),\n",
        "                               index=features_train_val.index, columns=features_train_val.columns)\n",
        "\n",
        "features_test = pd.DataFrame(scaler_f.fit_transform(features_test.values),\n",
        "                               index=features_test.index, columns=features_test.columns)"
      ],
      "id": "GV1vUG_mPluM"
    },
    {
      "cell_type": "code",
      "source": [
        "scaler_t = StandardScaler()\n",
        "\n",
        "target_train_val['mean'] = scaler_t.fit_transform(target_train_val)\n",
        "target_test['mean'] = scaler_t.transform(target_test)"
      ],
      "metadata": {
        "id": "NB6pt8MxXRRb"
      },
      "id": "NB6pt8MxXRRb",
      "execution_count": null,
      "outputs": []
    },
    {
      "cell_type": "code",
      "source": [
        "target_train_val = target_train_val.apply(lambda x: np.sign(x), axis=1)\n",
        "target_test = target_test.apply(lambda x: np.sign(x), axis=1)"
      ],
      "metadata": {
        "id": "EvgvDpl-P3nr"
      },
      "id": "EvgvDpl-P3nr",
      "execution_count": null,
      "outputs": []
    },
    {
      "cell_type": "markdown",
      "source": [
        "### FS algorithm"
      ],
      "metadata": {
        "id": "3q8cGoFtPluN"
      },
      "id": "3q8cGoFtPluN"
    },
    {
      "cell_type": "code",
      "source": [
        "res = {\n",
        "          \"delta\" : [],\n",
        "          \"numSelected\" : [],\n",
        "          \"selectedFeatures\" : []\n",
        "      }\n",
        "delta = 10\n",
        "k = 10\n",
        "res['selectedFeatures'] = forwardFeatureSelection(delta, np.array(features_train_val.values), np.array(target_train_val.values), res, delta,1)\n",
        "selectedFeatures='selectedFeatures'\n",
        "print(f'\\n{res[selectedFeatures]}\\n')"
      ],
      "metadata": {
        "id": "Z9drE0S7PluN",
        "colab": {
          "base_uri": "https://localhost:8080/"
        },
        "outputId": "7c3fbe99-3c65-43a6-b274-79b0d353edaf"
      },
      "execution_count": null,
      "outputs": [
        {
          "output_type": "stream",
          "name": "stdout",
          "text": [
            "----- MI Scores -----\n",
            "[(0, 0.07377159577435016), (2, 0.06979123361600668), (8, 0.03617305525235264), (12, 0.031948663470024875), (11, 0.023667337099783064), (13, 0.019895276450792292), (1, 0.01685600404210754), (3, 0.015394266323718177), (5, 0.014150712199026187), (4, 0.011807084007060672), (7, 0.011738250737526889), (9, 0.011650054558383843), (6, 0.003340490036492996), (10, 0.000913150784347241)]\n",
            "Best MI score: 0.07377159577435016\n",
            "Adding first best original feature: 0\n",
            "CMI: 0.010506775821494369\n",
            "CMI: 0.0125130596333623\n",
            "CMI: 0.013584757203425168\n",
            "CMI: 0.007960443051661673\n",
            "CMI: 0.0017166698189011315\n",
            "CMI: 0.010069798760638182\n",
            "Highest CMI score: 0.013584757203425168\n",
            "Adding original feature: 9\n",
            "CMI: 0.006086975128703709\n",
            "CMI: 0.00611108278699822\n",
            "CMI: 0.019666041993673167\n",
            "CMI: 0.01337199616991093\n",
            "CMI: 0.005402312306529988\n",
            "CMI: 0.0024869256583497368\n",
            "CMI: 0.004432264352596332\n",
            "CMI: 0.01408179857710734\n",
            "Highest CMI score: 0.019666041993673167\n",
            "Adding original feature: 5\n",
            "CMI: 0.001332347331132147\n",
            "CMI: 0.0013725181954869492\n",
            "CMI: 0.008225804467224512\n",
            "Highest CMI score: 0.008225804467224512\n",
            "Adding original feature: 12\n",
            "Highest CMI score: -0.0005629552099348373\n",
            "\n",
            "[0, 9, 5, 12]\n",
            "\n"
          ]
        }
      ],
      "id": "Z9drE0S7PluN"
    },
    {
      "cell_type": "markdown",
      "metadata": {
        "id": "0mmkXVrgPluN"
      },
      "source": [
        "### Logistic Regression"
      ],
      "id": "0mmkXVrgPluN"
    },
    {
      "cell_type": "code",
      "source": [
        "res[selectedFeatures] = res[selectedFeatures][0:5]\n",
        "res[selectedFeatures]"
      ],
      "metadata": {
        "colab": {
          "base_uri": "https://localhost:8080/"
        },
        "id": "cDjWcXZKZ71L",
        "outputId": "f462f095-d81e-40cd-f879-b8557a5b958f"
      },
      "id": "cDjWcXZKZ71L",
      "execution_count": null,
      "outputs": [
        {
          "output_type": "execute_result",
          "data": {
            "text/plain": [
              "[0, 9, 5, 12]"
            ]
          },
          "metadata": {},
          "execution_count": 138
        }
      ]
    },
    {
      "cell_type": "code",
      "execution_count": null,
      "metadata": {
        "scrolled": true,
        "id": "9BFmB8nzPluN",
        "colab": {
          "base_uri": "https://localhost:8080/"
        },
        "outputId": "223274d7-9fae-4a06-b509-a583162d7ce9"
      },
      "outputs": [
        {
          "output_type": "stream",
          "name": "stdout",
          "text": [
            "###### Binary Classification ######\n",
            "Train accuracy logregr CMI best 5 :  0.648\n",
            "Test accuracy logregr CMI best 5 :  0.684 \n",
            "\n"
          ]
        }
      ],
      "source": [
        "features_dir = \"./CMI_features_nocoord/discrete_target/\"\n",
        "\n",
        "chosen_features_train_val = features_train_val[features_train_val.columns[res[selectedFeatures]]]\n",
        "chosen_features_test = features_test[features_test.columns[res[selectedFeatures]]]\n",
        "\n",
        "train_val_string = features_dir + basin + '_best5_CMI_trainval.csv'\n",
        "test_string = features_dir + basin + '_best5_CMI_test.csv'\n",
        "chosen_features_train_val.to_csv(train_val_string, index=False)\n",
        "chosen_features_test.to_csv(test_string, index=False)\n",
        "\n",
        "print('###### Binary Classification ######')\n",
        "\n",
        "log_regr = LogisticRegression(solver='lbfgs', max_iter=1000, random_state = 42)\n",
        "log_regr.fit(chosen_features_train_val.values, target_train_val.values.ravel())\n",
        "print(\"Train accuracy logregr CMI best 5 : \", round(log_regr.score(chosen_features_train_val.values, target_train_val.values.ravel()),3))\n",
        "print(\"Test accuracy logregr CMI best 5 : \", round(log_regr.score(chosen_features_test.values, target_test.values.ravel()),3), \"\\n\")"
      ],
      "id": "9BFmB8nzPluN"
    },
    {
      "cell_type": "markdown",
      "source": [
        "### Multi Task scores classif"
      ],
      "metadata": {
        "id": "5R1aL21oh3Rv"
      },
      "id": "5R1aL21oh3Rv"
    },
    {
      "cell_type": "code",
      "source": [
        "# for binary classification\n",
        "\n",
        "from sklearn.metrics import accuracy_score\n",
        "def MTL_scores(clust_basins, df_train, df_val, df_test, targets_df_train, targets_df_val, targets_df_test):\n",
        "\n",
        "    colnames = [x for x in df_train.columns if x.startswith(tuple(clust_basins))]\n",
        "\n",
        "    clusterdf_train_withClass = pd.DataFrame()\n",
        "    clusterdf_val_withClass = pd.DataFrame()\n",
        "    clusterdf_test_withClass = pd.DataFrame()\n",
        "\n",
        "    for i in range(len(clust_basins)):\n",
        "        clusterdf_train_withClass = pd.concat((clusterdf_train_withClass,pd.concat((df_train[colnames],pd.DataFrame(1+i*np.ones(len(df_train)),columns=['basin'])),axis=1)),axis=0)\n",
        "        clusterdf_val_withClass = pd.concat((clusterdf_val_withClass,pd.concat((df_val[colnames],pd.DataFrame(1+i*np.ones(len(df_val)),columns=['basin'])),axis=1)),axis=0)\n",
        "        clusterdf_test_withClass = pd.concat((clusterdf_test_withClass,pd.concat((df_test[colnames],pd.DataFrame(1+i*np.ones(len(df_test)),columns=['basin'])),axis=1)),axis=0)\n",
        "\n",
        "    for i in range(len(clust_basins)):\n",
        "        clusterdf_train_withClass[clust_basins[i]] = clusterdf_train_withClass.apply(lambda x: int(x.basin==i+1),axis=1)\n",
        "        clusterdf_val_withClass[clust_basins[i]] = clusterdf_val_withClass.apply(lambda x: int(x.basin==i+1),axis=1)\n",
        "        clusterdf_test_withClass[clust_basins[i]] = clusterdf_test_withClass.apply(lambda x: int(x.basin==i+1),axis=1)\n",
        "\n",
        "    clusterdf_train_withClass = clusterdf_train_withClass.loc[:,clusterdf_train_withClass.columns != 'basin']\n",
        "    clusterdf_val_withClass = clusterdf_val_withClass.loc[:,clusterdf_val_withClass.columns != 'basin']\n",
        "    clusterdf_test_withClass = clusterdf_test_withClass.loc[:,clusterdf_test_withClass.columns != 'basin']\n",
        "\n",
        "    targets_df_train_unfolded = pd.DataFrame()\n",
        "    targets_df_val_unfolded = pd.DataFrame()\n",
        "    targets_df_test_unfolded = pd.DataFrame()\n",
        "\n",
        "    for basin in clust_basins:\n",
        "        targets_df_train_unfolded =  pd.concat((targets_df_train_unfolded,targets_df_train[basin]),axis=0)\n",
        "        targets_df_val_unfolded =  pd.concat((targets_df_val_unfolded,targets_df_val[basin]),axis=0)\n",
        "        targets_df_test_unfolded =  pd.concat((targets_df_test_unfolded,targets_df_test[basin]),axis=0)\n",
        "    targets_df_train_unfolded = targets_df_train_unfolded.reset_index(drop=True)\n",
        "    targets_df_val_unfolded = targets_df_val_unfolded.reset_index(drop=True)\n",
        "    targets_df_test_unfolded = targets_df_test_unfolded.reset_index(drop=True)\n",
        "\n",
        "    # same scores changing the solver, some differences changing penalty, some improve with l1\n",
        "    model_ohe = LogisticRegression(max_iter = 500)\n",
        "    model_ohe.fit(pd.concat((clusterdf_train_withClass,clusterdf_val_withClass)).values,pd.concat((targets_df_train_unfolded,targets_df_val_unfolded)).values.ravel())\n",
        "\n",
        "    for basin in clust_basins:\n",
        "        print(basin)\n",
        "        res = model_ohe.predict(clusterdf_test_withClass.loc[clusterdf_test_withClass[basin]==1].values)\n",
        "        print(accuracy_score(targets_df_test[basin].values.ravel(), res))"
      ],
      "metadata": {
        "id": "Jjf80LUMiCEE"
      },
      "id": "Jjf80LUMiCEE",
      "execution_count": null,
      "outputs": []
    },
    {
      "cell_type": "code",
      "source": [
        "### binary targets\n",
        "basins = ['Emiliani1','Emiliani2','Garda_Mincio', 'Adda', 'Lambro_Olona', 'Ticino',\n",
        "          'Oglio_Iseo', 'Dora', 'Piemonte_Sud', 'Piemonte_Nord']\n",
        "\n",
        "path_target = \"./csv/\"\n",
        "targets_df_train = pd.DataFrame()\n",
        "targets_df_val = pd.DataFrame()\n",
        "targets_df_test = pd.DataFrame()\n",
        "targets_df_trainVal = pd.DataFrame()\n",
        "\n",
        "for basin in basins:\n",
        "    target_df_train,target_df_val,target_df_test,target_df_trainVal = prepare_target_binary('',max_train='2010-01-01',\n",
        "                                                                                            max_val='2015-01-01', max_test='2020-01-01',\n",
        "                                                                                            path=path_target+basin+'.csv', window_size = 1)\n",
        "    targets_df_train[basin] = target_df_train.mean_std\n",
        "    targets_df_val[basin] = target_df_val.mean_std\n",
        "    targets_df_test[basin] = target_df_test.mean_std\n",
        "    targets_df_trainVal[basin] = target_df_trainVal.mean_std"
      ],
      "metadata": {
        "id": "pyShHnaQiHh6"
      },
      "id": "pyShHnaQiHh6",
      "execution_count": null,
      "outputs": []
    },
    {
      "cell_type": "code",
      "source": [
        "### CMI best5 features\n",
        "path_features = \"./CMI_features_nocoord/discrete_target/\"\n",
        "\n",
        "basins = ['Emiliani1','Emiliani2','Garda_Mincio', 'Adda', 'Lambro_Olona', 'Ticino',\n",
        "          'Oglio_Iseo', 'Dora', 'Piemonte_Sud', 'Piemonte_Nord']\n",
        "\n",
        "best5_CMI_fulldf_train = pd.DataFrame()\n",
        "best5_CMI_fulldf_val = pd.DataFrame()\n",
        "best5_CMI_fulldf_test = pd.DataFrame()\n",
        "\n",
        "for basin in basins:\n",
        "    train_temp = pd.read_csv(path_features+basin+'_best5_CMI_trainval.csv').iloc[:411,:]\n",
        "    val_temp = pd.read_csv(path_features+basin+'_best5_CMI_trainval.csv').iloc[411:639,:]\n",
        "    val_temp.reset_index(drop=True, inplace=True)\n",
        "    test_temp = pd.read_csv(path_features+basin+'_best5_CMI_test.csv')\n",
        "    best5_CMI_fulldf_train[basin+'_'+train_temp.columns.values] = train_temp\n",
        "    best5_CMI_fulldf_val[basin+'_'+val_temp.columns.values] = val_temp\n",
        "    best5_CMI_fulldf_test[basin+'_'+test_temp.columns.values] = test_temp"
      ],
      "metadata": {
        "id": "li1mlWYHijQb"
      },
      "id": "li1mlWYHijQb",
      "execution_count": null,
      "outputs": []
    },
    {
      "cell_type": "code",
      "source": [
        "MTL_scores(clust_basins=['Emiliani1','Emiliani2','Garda_Mincio'], df_train=best5_CMI_fulldf_train, df_val=best5_CMI_fulldf_val, df_test=best5_CMI_fulldf_test, targets_df_train=targets_df_train, targets_df_val=targets_df_val, targets_df_test=targets_df_test)"
      ],
      "metadata": {
        "id": "wE6Xm8pQqMXH"
      },
      "id": "wE6Xm8pQqMXH",
      "execution_count": null,
      "outputs": []
    },
    {
      "cell_type": "code",
      "source": [
        "MTL_scores(clust_basins=['Adda','Lambro_Olona','Oglio_Iseo', 'Ticino'], df_train=best5_CMI_fulldf_train, df_val=best5_CMI_fulldf_val, df_test=best5_CMI_fulldf_test, targets_df_train=targets_df_train, targets_df_val=targets_df_val, targets_df_test=targets_df_test)"
      ],
      "metadata": {
        "id": "ooXnKO1Li9Ty"
      },
      "id": "ooXnKO1Li9Ty",
      "execution_count": null,
      "outputs": []
    },
    {
      "cell_type": "code",
      "source": [
        "MTL_scores(clust_basins=['Dora', 'Piemonte_Sud', 'Piemonte_Nord'], df_train=best5_CMI_fulldf_train, df_val=best5_CMI_fulldf_val, df_test=best5_CMI_fulldf_test, targets_df_train=targets_df_train, targets_df_val=targets_df_val, targets_df_test=targets_df_test)"
      ],
      "metadata": {
        "id": "QNn_eK_jqV9i"
      },
      "id": "QNn_eK_jqV9i",
      "execution_count": null,
      "outputs": []
    }
  ],
  "metadata": {
    "kernelspec": {
      "display_name": "Python 3 (ipykernel)",
      "language": "python",
      "name": "python3"
    },
    "language_info": {
      "codemirror_mode": {
        "name": "ipython",
        "version": 3
      },
      "file_extension": ".py",
      "mimetype": "text/x-python",
      "name": "python",
      "nbconvert_exporter": "python",
      "pygments_lexer": "ipython3",
      "version": "3.10.6"
    },
    "colab": {
      "provenance": [],
      "collapsed_sections": [
        "a2a5c649",
        "AmbxwEexDeOM",
        "D6Y_QfyFDiGG",
        "e1c4e691",
        "sBqhNIjNpeHc",
        "p9NPFbmRaJ8O",
        "3q8cGoFtPluN",
        "0mmkXVrgPluN",
        "5R1aL21oh3Rv"
      ]
    }
  },
  "nbformat": 4,
  "nbformat_minor": 5
}