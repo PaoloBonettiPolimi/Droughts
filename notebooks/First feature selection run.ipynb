{
 "cells": [
  {
   "cell_type": "markdown",
   "id": "14679c32",
   "metadata": {},
   "source": [
    "# Wine è una classificazione"
   ]
  },
  {
   "cell_type": "code",
   "execution_count": 1,
   "id": "cd6e47b5",
   "metadata": {},
   "outputs": [],
   "source": [
    "import pandas as pd\n",
    "import pickle\n",
    "\n",
    "object = pd.read_pickle(r'/Users/paolo/Documents/projects/Projects/Magre/feature_selection/data/real/wine.pickle')\n",
    "with open('/Users/paolo/Documents/projects/Projects/Magre/feature_selection/data/real/wine.pickle', 'rb') as fp:\n",
    "            data = pickle.load(fp)"
   ]
  },
  {
   "cell_type": "code",
   "execution_count": 3,
   "id": "e887e811",
   "metadata": {},
   "outputs": [
    {
     "name": "stdout",
     "output_type": "stream",
     "text": [
      "(178, 13)\n"
     ]
    }
   ],
   "source": [
    "print(data['X'].shape)"
   ]
  },
  {
   "cell_type": "code",
   "execution_count": 9,
   "id": "21334c4f",
   "metadata": {
    "scrolled": false
   },
   "outputs": [
    {
     "name": "stdout",
     "output_type": "stream",
     "text": [
      "<class 'numpy.ndarray'>\n"
     ]
    }
   ],
   "source": [
    "print(type(data['X']))"
   ]
  },
  {
   "cell_type": "markdown",
   "id": "f78f2328",
   "metadata": {},
   "source": [
    "## 1) usando la feature selection \"con bug\" tornano i risultati del paper (usando un altro metodo)"
   ]
  },
  {
   "cell_type": "code",
   "execution_count": 12,
   "id": "2e84b1b7",
   "metadata": {},
   "outputs": [],
   "source": [
    "with open('/Users/paolo/Documents/projects/Projects/Magre/feature_selection/dataset_win_backward_res.pickle', 'rb') as fp:\n",
    "            res = pickle.load(fp)"
   ]
  },
  {
   "cell_type": "code",
   "execution_count": 29,
   "id": "9ad7cdc1",
   "metadata": {},
   "outputs": [
    {
     "name": "stdout",
     "output_type": "stream",
     "text": [
      "[ 0  1  2  3  4  5  6  7  8  9 10 11 12] \n",
      " [ 0  1  2  3  4  5  6  7  8  9 10 11 12] \n",
      " [ 0  3  4  5  6  7  8  9 10 11 12] \n",
      " [ 0  3  4  7  9 10 12] \n",
      " [ 0  3  4 12] \n",
      " [ 4 12] \n",
      " [ 4 12] \n",
      " [ 4 12]\n"
     ]
    }
   ],
   "source": [
    "print(fp[0].selected,'\\n',fp[1].selected,'\\n',fp[2].selected,'\\n',fp[3].selected,'\\n',fp[4].selected,'\\n',fp[5].selected,'\\n',fp[6].selected,'\\n',fp[7].selected)\n",
    "\n"
   ]
  },
  {
   "cell_type": "code",
   "execution_count": 32,
   "id": "66d8eaf4",
   "metadata": {},
   "outputs": [],
   "source": [
    "from sklearn.svm import SVC\n",
    "from sklearn.model_selection import train_test_split\n",
    "\n",
    "svmC1 = SVC(kernel=\"rbf\", gamma='auto', C=1.0)\n",
    "svmHighC = SVC(kernel=\"rbf\", gamma='auto', C=10.0)\n",
    "svmLowC = SVC(kernel=\"rbf\", gamma='auto', C=0.1)\n",
    "\n",
    "Xtrain, Xtest, Ytrain, Ytest = train_test_split(data['X'], data['Y'])"
   ]
  },
  {
   "cell_type": "code",
   "execution_count": 40,
   "id": "217f149c",
   "metadata": {
    "scrolled": false
   },
   "outputs": [
    {
     "name": "stdout",
     "output_type": "stream",
     "text": [
      "[[1.317e+01 2.590e+00 2.370e+00 ... 6.000e-01 1.620e+00 8.400e+02]\n",
      " [1.187e+01 4.310e+00 2.390e+00 ... 7.500e-01 3.640e+00 3.800e+02]\n",
      " [1.367e+01 1.250e+00 1.920e+00 ... 1.230e+00 2.460e+00 6.300e+02]\n",
      " ...\n",
      " [1.406e+01 1.630e+00 2.280e+00 ... 1.090e+00 3.710e+00 7.800e+02]\n",
      " [1.372e+01 1.430e+00 2.500e+00 ... 8.900e-01 2.870e+00 1.285e+03]\n",
      " [1.221e+01 1.190e+00 1.750e+00 ... 1.280e+00 3.070e+00 7.180e+02]]\n"
     ]
    }
   ],
   "source": [
    "print(Xtrain[:, [ 0,1,2,3,4,5,6,7,8,9,10,11,12]])"
   ]
  },
  {
   "cell_type": "code",
   "execution_count": 42,
   "id": "278ade12",
   "metadata": {},
   "outputs": [
    {
     "data": {
      "text/plain": [
       "SVC(C=0.1, gamma='auto')"
      ]
     },
     "execution_count": 42,
     "metadata": {},
     "output_type": "execute_result"
    }
   ],
   "source": [
    "svmC1.fit(Xtrain[:, [ 0,1,2,3,4,5,6,7,8,9,10,11,12]], Ytrain)\n",
    "svmHighC.fit(Xtrain[:, [ 0,1,2,3,4,5,6,7,8,9,10,11,12]], Ytrain)\n",
    "svmLowC.fit(Xtrain[:, [ 0,1,2,3,4,5,6,7,8,9,10,11,12]], Ytrain)"
   ]
  },
  {
   "cell_type": "code",
   "execution_count": 44,
   "id": "e3de3f23",
   "metadata": {},
   "outputs": [],
   "source": [
    "a = svmC1.score(Xtest[:, [ 0,1,2,3,4,5,6,7,8,9,10,11,12]], Ytest)\n",
    "b = svmHighC.score(Xtest[:, [ 0,1,2,3,4,5,6,7,8,9,10,11,12]], Ytest)\n",
    "c = svmLowC.score(Xtest[:, [ 0,1,2,3,4,5,6,7,8,9,10,11,12]], Ytest)"
   ]
  },
  {
   "cell_type": "code",
   "execution_count": 46,
   "id": "997148c1",
   "metadata": {},
   "outputs": [
    {
     "name": "stdout",
     "output_type": "stream",
     "text": [
      "0.35555555555555557 0.35555555555555557 0.35555555555555557\n"
     ]
    }
   ],
   "source": [
    "print(a,b,c)"
   ]
  },
  {
   "cell_type": "code",
   "execution_count": 65,
   "id": "81941360",
   "metadata": {
    "scrolled": true
   },
   "outputs": [
    {
     "name": "stdout",
     "output_type": "stream",
     "text": [
      "[3 2 2 2 2 3 3 2 2 2 2 3 3 3 2 3 1 2 3 2 3 2 1 1 1 3 2 2 1 2 1 1 1 1 1 2 3\n",
      " 3 1 3 2 2 3 3 2 3 2 3 2 2 3 2 1 3 3 2 2 3 2 2 1 2 2 3 1 1 1 2 3 1 2 1 2 1\n",
      " 1 2 1 1 3 2 3 2 3 2 2 2 1 3 1 3 2 2 1 1 2 2 2 1 1 3 2 2 3 3 1 2 2 2 1 1 1\n",
      " 1 1 1 2 3 2 2 2 2 2 1 1 1 1 3 3 1 3 1 1 1 2]\n"
     ]
    }
   ],
   "source": [
    "print(Ytrain)"
   ]
  },
  {
   "cell_type": "code",
   "execution_count": 76,
   "id": "018c01b1",
   "metadata": {},
   "outputs": [],
   "source": [
    "from sklearn.svm import SVC\n",
    "from sklearn.tree import ExtraTreeClassifier\n",
    "\n",
    "from sklearn.model_selection import train_test_split\n",
    "\n",
    "ETC = ExtraTreeClassifier()\n",
    "\n",
    "Xtrain, Xtest, Ytrain, Ytest = train_test_split(data['X'], data['Y'])\n",
    "\n",
    "#ETC.fit(Xtrain[:, [ 0,1,2,3,4,5,6,7,8,9,10,11,12]], Ytrain)\n",
    "#ETC.score(Xtest[:, [ 0,1,2,3,4,5,6,7,8,9,10,11,12]], Ytest)\n",
    "\n",
    "#ETC.fit(Xtrain[:, [0,3,4,5,6,7,8,9,10,11,12]], Ytrain)\n",
    "#ETC.score(Xtest[:, [0,3,4,5,6,7,8,9,10,11,12]], Ytest)\n",
    "\n",
    "#ETC.fit(Xtrain[:, [0,3,4,7,9,10,12]], Ytrain)\n",
    "#ETC.score(Xtest[:, [0,3,4,7,9,10,12]], Ytest)\n",
    "\n",
    "#ETC.fit(Xtrain[:, [0,3,4,12]], Ytrain)\n",
    "#ETC.score(Xtest[:, [0,3,4,12]], Ytest)"
   ]
  },
  {
   "cell_type": "code",
   "execution_count": null,
   "id": "8a029c79",
   "metadata": {},
   "outputs": [],
   "source": [
    "from sklearn.svm import SVC\n",
    "from sklearn.tree import ExtraTreeClassifier\n",
    "\n",
    "from sklearn.model_selection import train_test_split\n",
    "\n",
    "ETC = ExtraTreeClassifier()\n",
    "\n",
    "Xtrain, Xtest, Ytrain, Ytest = train_test_split(data['X'], data['Y'])\n",
    "\n",
    "#ETC.fit(Xtrain[:, [ 0,1,2,3,4,5,6,7,8,9,10,11,12]], Ytrain)\n",
    "#ETC.score(Xtest[:, [ 0,1,2,3,4,5,6,7,8,9,10,11,12]], Ytest)\n",
    "\n",
    "#ETC.fit(Xtrain[:, [0,3,4,5,6,7,8,9,10,11,12]], Ytrain)\n",
    "#ETC.score(Xtest[:, [0,3,4,5,6,7,8,9,10,11,12]], Ytest)\n",
    "\n",
    "#ETC.fit(Xtrain[:, [0,3,4,7,9,10,12]], Ytrain)\n",
    "#ETC.score(Xtest[:, [0,3,4,7,9,10,12]], Ytest)\n",
    "\n",
    "#ETC.fit(Xtrain[:, [0,3,4,12]], Ytrain)\n",
    "#ETC.score(Xtest[:, [0,3,4,12]], Ytest)"
   ]
  },
  {
   "cell_type": "code",
   "execution_count": 158,
   "id": "b9926426",
   "metadata": {},
   "outputs": [
    {
     "data": {
      "text/plain": [
       "0.6666666666666666"
      ]
     },
     "execution_count": 158,
     "metadata": {},
     "output_type": "execute_result"
    }
   ],
   "source": [
    "from sklearn.svm import SVC\n",
    "from sklearn.tree import ExtraTreeClassifier\n",
    "\n",
    "from sklearn.model_selection import train_test_split\n",
    "\n",
    "SVM_C = SVC()\n",
    "\n",
    "Xtrain, Xtest, Ytrain, Ytest = train_test_split(data['X'], data['Y'])\n",
    "\n",
    "#SVM_C.fit(Xtrain[:, [ 0,1,2,3,4,5,6,7,8,9,10,11,12]], Ytrain)\n",
    "#SVM_C.score(Xtest[:, [ 0,1,2,3,4,5,6,7,8,9,10,11,12]], Ytest)\n",
    "\n",
    "#SVM_C.fit(Xtrain[:, [0,3,4,5,6,7,8,9,10,11,12]], Ytrain)\n",
    "#SVM_C.score(Xtest[:, [0,3,4,5,6,7,8,9,10,11,12]], Ytest)\n",
    "\n",
    "#SVM_C.fit(Xtrain[:, [0,3,4,7,9,10,12]], Ytrain)\n",
    "#SVM_C.score(Xtest[:, [0,3,4,7,9,10,12]], Ytest)\n",
    "\n",
    "#SVM_C.fit(Xtrain[:, [0,3,4,12]], Ytrain)\n",
    "#SVM_C.score(Xtest[:, [0,3,4,12]], Ytest)"
   ]
  },
  {
   "cell_type": "code",
   "execution_count": 170,
   "id": "06386249",
   "metadata": {},
   "outputs": [
    {
     "data": {
      "text/plain": [
       "0.8888888888888888"
      ]
     },
     "execution_count": 170,
     "metadata": {},
     "output_type": "execute_result"
    }
   ],
   "source": [
    "from sklearn.linear_model import LogisticRegression\n",
    "\n",
    "LR = LogisticRegression(multi_class='multinomial',max_iter=10000)\n",
    "\n",
    "#LR.fit(Xtrain[:, [ 0,1,2,3,4,5,6,7,8,9,10,11,12]], Ytrain)\n",
    "#LR.score(Xtest[:, [ 0,1,2,3,4,5,6,7,8,9,10,11,12]], Ytest)\n",
    "# 0.9555555555555556\n",
    "\n",
    "#LR.fit(Xtrain[:, [0,3,4,5,6,7,8,9,10,11,12]], Ytrain)\n",
    "#LR.score(Xtest[:, [0,3,4,5,6,7,8,9,10,11,12]], Ytest)\n",
    "# 0.9333333333333333\n",
    "\n",
    "#LR.fit(Xtrain[:, [0,3,4,7,9,10,12]], Ytrain)\n",
    "#LR.score(Xtest[:, [0,3,4,7,9,10,12]], Ytest)\n",
    "# 0.8444444444444444\n",
    "\n",
    "LR.fit(Xtrain[:, [0,3,4,12]], Ytrain)\n",
    "LR.score(Xtest[:, [0,3,4,12]], Ytest)\n",
    "# 0.8888888888888888"
   ]
  },
  {
   "cell_type": "code",
   "execution_count": 23,
   "id": "5452195f",
   "metadata": {},
   "outputs": [
    {
     "name": "stdout",
     "output_type": "stream",
     "text": [
      "2\n",
      "(178, 13)\n",
      "8\n"
     ]
    }
   ],
   "source": [
    "dataset=['nome',object]\n",
    "print(len(dataset))\n",
    "print(data[\"X\"].shape)\n",
    "print(data[\"X\"].shape[0]//20)"
   ]
  },
  {
   "cell_type": "markdown",
   "id": "a8dc584f",
   "metadata": {},
   "source": [
    "## 2) usando la FS custom \"non buggata\" le CMI sono negative"
   ]
  },
  {
   "cell_type": "markdown",
   "id": "b21a1b1f",
   "metadata": {},
   "source": [
    "Ha senso, il target è categorico e lo stimatore implementato è continuo!"
   ]
  },
  {
   "cell_type": "markdown",
   "id": "ff840ec0",
   "metadata": {},
   "source": [
    "-0.0404135338345859, 0\n",
    "-0.0404135338345859, 1\n",
    "-0.04077162737707063, 12\n",
    "-0.05636249715197028, 11\n",
    "-0.04696210222525998, 7\n",
    "-0.04807546254914685, 10\n",
    "-0.0453178400546812, 2\n",
    "-0.04185419843314486, 5\n",
    "-0.053934077618287724, 8\n",
    "-0.05814475833272814, 6\n",
    "-0.05608475658275758, 4\n",
    "-0.014968442160926632, 3\n",
    "tiene infine la 9"
   ]
  },
  {
   "cell_type": "markdown",
   "id": "235a479e",
   "metadata": {},
   "source": [
    "## 3) Mutual Information with scikit-learn --> viene sensata, tiene conto dei valori categorici, ma univariata!"
   ]
  },
  {
   "cell_type": "code",
   "execution_count": null,
   "id": "ff3514dd",
   "metadata": {},
   "outputs": [],
   "source": [
    "con più di una feature non è reliable. Calcola la MI fra ciascuna feature e il target, non va bene."
   ]
  },
  {
   "cell_type": "code",
   "execution_count": 32,
   "id": "841cd62a",
   "metadata": {},
   "outputs": [],
   "source": [
    "import pandas as pd\n",
    "import pickle\n",
    "import numpy as np\n",
    "from sklearn.feature_selection import mutual_info_classif,mutual_info_regression\n",
    "from sklearn.model_selection import train_test_split\n",
    "import scripts.entropy_estimators as ee"
   ]
  },
  {
   "cell_type": "code",
   "execution_count": 15,
   "id": "043ec6c3",
   "metadata": {},
   "outputs": [],
   "source": [
    "Xtrain, Xtest, Ytrain, Ytest = train_test_split(data['X'], data['Y'])"
   ]
  },
  {
   "cell_type": "code",
   "execution_count": 16,
   "id": "8848895a",
   "metadata": {},
   "outputs": [],
   "source": [
    "MI_estimates = mutual_info_classif(data['X'], data['Y'], n_neighbors=8)"
   ]
  },
  {
   "cell_type": "code",
   "execution_count": 17,
   "id": "923bc245",
   "metadata": {
    "scrolled": false
   },
   "outputs": [
    {
     "name": "stdout",
     "output_type": "stream",
     "text": [
      "[0.45112532 0.28361621 0.12135706 0.2388463  0.19341533 0.4001019\n",
      " 0.69318873 0.15492481 0.22265654 0.55248673 0.44776843 0.54648898\n",
      " 0.56473595]\n"
     ]
    }
   ],
   "source": [
    "print(MI_estimates)"
   ]
  },
  {
   "cell_type": "code",
   "execution_count": null,
   "id": "ba954b1e",
   "metadata": {},
   "outputs": [],
   "source": [
    "### Calcolo la conditional con la chain rule"
   ]
  },
  {
   "cell_type": "code",
   "execution_count": 25,
   "id": "602a21ae",
   "metadata": {},
   "outputs": [],
   "source": [
    "Y = data['Y']\n",
    "X = data['X'][:,0]\n",
    "Z = data['X'][:,1:]"
   ]
  },
  {
   "cell_type": "code",
   "execution_count": 60,
   "id": "297cb3c8",
   "metadata": {},
   "outputs": [
    {
     "data": {
      "text/plain": [
       "array([0.10798022, 0.09634506, 0.09036841, 0.08104234, 0.17045062,\n",
       "       0.25903193, 0.03759561, 0.14373892, 0.34240903, 0.09122175,\n",
       "       0.1054235 , 0.26218111])"
      ]
     },
     "execution_count": 60,
     "metadata": {},
     "output_type": "execute_result"
    }
   ],
   "source": [
    "# MI fra X e Z\n",
    "MI_XZ = mutual_info_regression(Z,X, n_neighbors=8)\n",
    "MI_XZ"
   ]
  },
  {
   "cell_type": "code",
   "execution_count": 65,
   "id": "1bf1e3f1",
   "metadata": {},
   "outputs": [
    {
     "data": {
      "text/plain": [
       "array([0.10972553, 0.09387656, 0.09989507, 0.08254819, 0.16972341,\n",
       "       0.26087486, 0.03804636, 0.1440737 , 0.34434988, 0.09226397,\n",
       "       0.1019038 , 0.26142439, 0.45439996])"
      ]
     },
     "execution_count": 65,
     "metadata": {},
     "output_type": "execute_result"
    }
   ],
   "source": [
    "# MI fra X e (Y,Z)\n",
    "\n",
    "ZY = np.concatenate((Z,Y.reshape(-1,1)),axis=1)\n",
    "MI_XYZ = mutual_info_regression(ZY,X, n_neighbors=8)\n",
    "MI_XYZ"
   ]
  },
  {
   "cell_type": "markdown",
   "id": "15dfb4d8",
   "metadata": {},
   "source": [
    "# 4) Nuova Libreria"
   ]
  },
  {
   "cell_type": "code",
   "execution_count": 67,
   "id": "ea4fbbff",
   "metadata": {},
   "outputs": [
    {
     "name": "stdout",
     "output_type": "stream",
     "text": [
      "Help on function cmi in module scripts.entropy_estimators:\n",
      "\n",
      "cmi(x, y, z, k=3, base=2)\n",
      "    Mutual information of x and y, conditioned on z\n",
      "    Legacy function. Use mi(x, y, z) directly.\n",
      "\n"
     ]
    }
   ],
   "source": [
    "help(ee.cmi)"
   ]
  },
  {
   "cell_type": "code",
   "execution_count": 70,
   "id": "e8888779",
   "metadata": {},
   "outputs": [],
   "source": [
    "Xi = []\n",
    "Yi = []\n",
    "Zi = []\n",
    "for i in range(len(data['Y'])):\n",
    "    Xi.append([data['X'][i,0]])\n",
    "    Yi.append([data['Y'][i]])\n",
    "    Zi.append(data['X'][i,1:].tolist())"
   ]
  },
  {
   "cell_type": "code",
   "execution_count": 77,
   "id": "78fac92c",
   "metadata": {},
   "outputs": [
    {
     "data": {
      "text/plain": [
       "-0.18794151807092968"
      ]
     },
     "execution_count": 77,
     "metadata": {},
     "output_type": "execute_result"
    }
   ],
   "source": [
    "ee.cmi(Xi,Yi,Zi, k=8)"
   ]
  },
  {
   "cell_type": "code",
   "execution_count": 85,
   "id": "0a02d198",
   "metadata": {},
   "outputs": [
    {
     "name": "stdout",
     "output_type": "stream",
     "text": [
      "-0.056576034369974\n",
      "-0.056576034369974\n",
      "-0.056576034369974\n",
      "-0.056576034369974\n",
      "-0.05430567315443083\n",
      "-0.056576034369974\n",
      "-0.056576034369974\n",
      "-0.056576034369974\n",
      "-0.056576034369974\n",
      "-0.056576034369974\n",
      "-0.056576034369974\n",
      "-0.056576034369974\n",
      "-0.04765175565327358\n"
     ]
    }
   ],
   "source": [
    "for j in range(13):\n",
    "    Xi = []\n",
    "    Yi = []\n",
    "    Zi = []\n",
    "    for i in range(len(data['Y'])):\n",
    "        Xi.append([data['X'][i,j]])\n",
    "        Yi.append([data['Y'][i]])\n",
    "        Zi.append(np.delete(data['X'],j,1)[i,:].tolist())\n",
    "    #print(Xi[0])\n",
    "    #print(Yi[0])\n",
    "    #print(Zi[0])\n",
    "    print(ee.cmi(Xi,Yi,Zi,k=8,base=10))"
   ]
  },
  {
   "cell_type": "markdown",
   "id": "1d56d277",
   "metadata": {},
   "source": [
    "# Proviamo con dati continui"
   ]
  },
  {
   "cell_type": "code",
   "execution_count": 93,
   "id": "019ae675",
   "metadata": {},
   "outputs": [
    {
     "name": "stdout",
     "output_type": "stream",
     "text": [
      "       X1     X2     X3      X4   X5  X6   X7  X8     Y1     Y2  Unnamed: 10  \\\n",
      "0    0.98  514.5  294.0  110.25  7.0   2  0.0   0  15.55  21.33          NaN   \n",
      "1    0.98  514.5  294.0  110.25  7.0   3  0.0   0  15.55  21.33          NaN   \n",
      "2    0.98  514.5  294.0  110.25  7.0   4  0.0   0  15.55  21.33          NaN   \n",
      "3    0.98  514.5  294.0  110.25  7.0   5  0.0   0  15.55  21.33          NaN   \n",
      "4    0.90  563.5  318.5  122.50  7.0   2  0.0   0  20.84  28.28          NaN   \n",
      "..    ...    ...    ...     ...  ...  ..  ...  ..    ...    ...          ...   \n",
      "763  0.64  784.0  343.0  220.50  3.5   5  0.4   5  17.88  21.40          NaN   \n",
      "764  0.62  808.5  367.5  220.50  3.5   2  0.4   5  16.54  16.88          NaN   \n",
      "765  0.62  808.5  367.5  220.50  3.5   3  0.4   5  16.44  17.11          NaN   \n",
      "766  0.62  808.5  367.5  220.50  3.5   4  0.4   5  16.48  16.61          NaN   \n",
      "767  0.62  808.5  367.5  220.50  3.5   5  0.4   5  16.64  16.03          NaN   \n",
      "\n",
      "     Unnamed: 11  \n",
      "0            NaN  \n",
      "1            NaN  \n",
      "2            NaN  \n",
      "3            NaN  \n",
      "4            NaN  \n",
      "..           ...  \n",
      "763          NaN  \n",
      "764          NaN  \n",
      "765          NaN  \n",
      "766          NaN  \n",
      "767          NaN  \n",
      "\n",
      "[768 rows x 12 columns]\n"
     ]
    }
   ],
   "source": [
    "from pandas import *\n",
    "xls = ExcelFile('/Users/paolo/Documents/projects/Projects/Magre/feature_selection/data/real/ENB2012_data.xlsx')\n",
    "df = xls.parse(xls.sheet_names[0])\n",
    "print(df)"
   ]
  },
  {
   "cell_type": "code",
   "execution_count": 106,
   "id": "fd9cd249",
   "metadata": {},
   "outputs": [],
   "source": []
  },
  {
   "cell_type": "code",
   "execution_count": 125,
   "id": "544793fc",
   "metadata": {},
   "outputs": [
    {
     "name": "stdout",
     "output_type": "stream",
     "text": [
      "-3.857309866213148e-16\n",
      "0.2105245441812621\n",
      "-3.857309866213148e-16\n"
     ]
    }
   ],
   "source": [
    "#1) nuova libreria\n",
    "X = df.loc[:,['X1','X2','X3']].to_numpy()\n",
    "Y = df.loc[:,['Y1']].to_numpy()\n",
    "\n",
    "for j in range(3):\n",
    "    Xi = []\n",
    "    Yi = []\n",
    "    Zi = []\n",
    "    for i in range(len(Y)):\n",
    "        Xi.append([X[i,j]])\n",
    "        Yi.append([Y[i]])\n",
    "        Zi.append(np.delete(X,j,1)[i,:].tolist())\n",
    "    #print(Xi[0])\n",
    "    #print(Yi[0])\n",
    "    #print(Zi[0])\n",
    "    print(ee.cmi(Xi,Yi,Zi,k=38,base=10))"
   ]
  },
  {
   "cell_type": "code",
   "execution_count": 118,
   "id": "d41144fb",
   "metadata": {},
   "outputs": [],
   "source": [
    "# 2) scikit --> sempre poco sensato perchè fa 1 feature alla volta\n",
    "Y = df.loc[:,['Y1']].to_numpy()\n",
    "X = df.loc[:,'X1'].to_numpy()\n",
    "Z = df.loc[:,['X2','X3']].to_numpy()"
   ]
  },
  {
   "cell_type": "code",
   "execution_count": 119,
   "id": "ab384fcf",
   "metadata": {},
   "outputs": [
    {
     "data": {
      "text/plain": [
       "array([2.48636645, 1.81429287])"
      ]
     },
     "execution_count": 119,
     "metadata": {},
     "output_type": "execute_result"
    }
   ],
   "source": [
    "# MI fra X e Z\n",
    "MI_XZ = mutual_info_regression(Z,X, n_neighbors=8)\n",
    "MI_XZ"
   ]
  },
  {
   "cell_type": "code",
   "execution_count": 120,
   "id": "e4c1a9b9",
   "metadata": {},
   "outputs": [
    {
     "data": {
      "text/plain": [
       "array([2.48462451, 1.84082843, 1.50486508])"
      ]
     },
     "execution_count": 120,
     "metadata": {},
     "output_type": "execute_result"
    }
   ],
   "source": [
    "# MI fra X e (Y,Z)\n",
    "\n",
    "ZY = np.concatenate((Z,Y.reshape(-1,1)),axis=1)\n",
    "MI_XYZ = mutual_info_regression(ZY,X, n_neighbors=8)\n",
    "MI_XYZ"
   ]
  },
  {
   "cell_type": "code",
   "execution_count": 14,
   "id": "b6998f8b",
   "metadata": {},
   "outputs": [],
   "source": [
    "# salvo pickle per custom FS"
   ]
  },
  {
   "cell_type": "code",
   "execution_count": 123,
   "id": "7563d6d1",
   "metadata": {},
   "outputs": [],
   "source": [
    "dic = {'X':df.loc[:,['X1','X2','X3']].to_numpy(), 'Y': df.loc[:,['Y1']].to_numpy()}"
   ]
  },
  {
   "cell_type": "code",
   "execution_count": 124,
   "id": "42adbc68",
   "metadata": {
    "scrolled": true
   },
   "outputs": [],
   "source": [
    "with open('/Users/paolo/Documents/projects/Projects/Magre/feature_selection/data/real/reg_trial.pickle', 'wb') as handle:\n",
    "    pickle.dump(dic, handle, protocol=pickle.HIGHEST_PROTOCOL)"
   ]
  },
  {
   "cell_type": "code",
   "execution_count": null,
   "id": "7eb52ee7",
   "metadata": {},
   "outputs": [],
   "source": []
  },
  {
   "cell_type": "code",
   "execution_count": null,
   "id": "d680f1bf",
   "metadata": {
    "scrolled": true
   },
   "outputs": [],
   "source": []
  },
  {
   "cell_type": "code",
   "execution_count": null,
   "id": "c45bfad6",
   "metadata": {},
   "outputs": [],
   "source": []
  },
  {
   "cell_type": "code",
   "execution_count": null,
   "id": "b73dd981",
   "metadata": {},
   "outputs": [],
   "source": []
  }
 ],
 "metadata": {
  "kernelspec": {
   "display_name": "Python 3",
   "language": "python",
   "name": "python3"
  },
  "language_info": {
   "codemirror_mode": {
    "name": "ipython",
    "version": 3
   },
   "file_extension": ".py",
   "mimetype": "text/x-python",
   "name": "python",
   "nbconvert_exporter": "python",
   "pygments_lexer": "ipython3",
   "version": "3.8.8"
  }
 },
 "nbformat": 4,
 "nbformat_minor": 5
}
