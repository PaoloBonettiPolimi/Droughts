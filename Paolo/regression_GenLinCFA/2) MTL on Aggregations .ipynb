{
 "cells": [
  {
   "cell_type": "markdown",
   "id": "160f32be",
   "metadata": {
    "heading_collapsed": true
   },
   "source": [
    "# Preliminaries"
   ]
  },
  {
   "cell_type": "code",
   "execution_count": 1,
   "id": "b4b936fa",
   "metadata": {
    "hidden": true
   },
   "outputs": [],
   "source": [
    "import pandas as pd\n",
    "import matplotlib.pyplot as plt\n",
    "import matplotlib.cm as cm\n",
    "import numpy as np\n",
    "import sys\n",
    "import os\n",
    "from sklearn.linear_model import LinearRegression\n",
    "from sklearn.metrics import r2_score\n",
    "\n",
    "sys.path.append(\"/Users/paolo/Documents/methods/CMI_FS\")\n",
    "from feature_selection import forwardFeatureSelection\n",
    "\n",
    "sys.path.append(\"/Users/paolo/Documents/methods/GenLinCFA\")\n",
    "from GenLinCFA import GenLinCFA\n",
    "\n",
    "sys.path.append(\"/Users/paolo/Documents/Droughts/Paolo/regression_NonLinCFA\")\n",
    "from aux import standardize,unfold_dataset,compute_r2,prepare_target,prepare_target_binary,prepare_features,aggregate_unfolded_data,aggregate_unfolded_data_onlyTrain,FS_with_linearWrapper,compare_methods, compute_r2\n"
   ]
  },
  {
   "cell_type": "code",
   "execution_count": 2,
   "id": "d15bdfb2",
   "metadata": {
    "hidden": true
   },
   "outputs": [],
   "source": [
    "def plot_cells(output,selected_colnames, xmin=9, xmax=11, ymin=44, ymax=45.5):\n",
    "    x = []\n",
    "    y = []\n",
    "    colors = cm.rainbow(np.linspace(0,1,len(output)))\n",
    "    np.random.shuffle(colors)\n",
    "    fig, ax = plt.subplots(2)\n",
    "    ax[0].set_xlim(xmin,xmax)\n",
    "    ax[1].set_xlim(xmin,xmax)\n",
    "    ax[0].set_ylim(ymin,ymax)\n",
    "    ax[1].set_ylim(ymin,ymax)\n",
    "    for i in range(len(output)): \n",
    "        #print(len(output[i]))\n",
    "        x = []\n",
    "        y = []\n",
    "        \n",
    "        for datum in output[i]:\n",
    "            x.append(float(datum.split('_')[1]))\n",
    "            y.append(float(datum.split('_')[2]))\n",
    "        ax[0].scatter(x,y,color=colors[i])\n",
    "    \n",
    "    x = []\n",
    "    y = []\n",
    "    col = cm.rainbow(np.linspace(0,1,len(selected_colnames)))\n",
    "    for i in range(len(selected_colnames)): \n",
    "        idx = int(selected_colnames[i].split('_')[-1])\n",
    "        for datum in output[idx]:\n",
    "            x.append(float(datum.split('_')[1]))\n",
    "            y.append(float(datum.split('_')[2]))\n",
    "        ax[1].scatter(x,y,color=col[i])\n",
    "    "
   ]
  },
  {
   "cell_type": "code",
   "execution_count": 3,
   "id": "f74f0809",
   "metadata": {
    "hidden": true
   },
   "outputs": [
    {
     "name": "stdout",
     "output_type": "stream",
     "text": [
      "tensorflow version 2.10.0\n"
     ]
    }
   ],
   "source": [
    "import tensorflow as tf\n",
    "\n",
    "print(f'tensorflow version {tf.__version__}')\n",
    "\n",
    "from imblearn.over_sampling import SMOTE\n",
    "from collections import Counter\n",
    "from numpy import * \n",
    "\n",
    "import pandas as pd\n",
    "import io\n",
    "import requests\n",
    "import numpy as np\n",
    "from sklearn import metrics\n",
    "from sklearn.model_selection import train_test_split\n",
    "from tensorflow.keras.models import Sequential\n",
    "from tensorflow.keras.layers import Dense, Activation\n",
    "from tensorflow.keras.callbacks import EarlyStopping\n",
    "from tensorflow.keras.layers import Dense, Activation, Dropout\n",
    "from sklearn.linear_model import LogisticRegression\n",
    "from sklearn.metrics import accuracy_score"
   ]
  },
  {
   "cell_type": "code",
   "execution_count": 4,
   "id": "03047d68",
   "metadata": {
    "hidden": true
   },
   "outputs": [],
   "source": [
    "def MTL_scores(clust_basins, df_train, df_val, df_test, targets_df_train, targets_df_val, targets_df_test):\n",
    "    \n",
    "    colnames = [x for x in df_train.columns if x.startswith(tuple(clust_basins))]\n",
    "\n",
    "    clusterdf_train_withClass = pd.DataFrame()\n",
    "    clusterdf_val_withClass = pd.DataFrame()\n",
    "    clusterdf_test_withClass = pd.DataFrame()\n",
    "\n",
    "    for i in range(len(clust_basins)):\n",
    "        clusterdf_train_withClass = pd.concat((clusterdf_train_withClass,pd.concat((df_train[colnames],pd.DataFrame(1+i*np.ones(len(df_train)),columns=['basin'])),axis=1)),axis=0)\n",
    "        clusterdf_val_withClass = pd.concat((clusterdf_val_withClass,pd.concat((df_val[colnames],pd.DataFrame(1+i*np.ones(len(df_val)),columns=['basin'])),axis=1)),axis=0)\n",
    "        clusterdf_test_withClass = pd.concat((clusterdf_test_withClass,pd.concat((df_test[colnames],pd.DataFrame(1+i*np.ones(len(df_test)),columns=['basin'])),axis=1)),axis=0)\n",
    "    \n",
    "    for i in range(len(clust_basins)):\n",
    "        clusterdf_train_withClass[clust_basins[i]] = clusterdf_train_withClass.apply(lambda x: int(x.basin==i+1),axis=1)\n",
    "        clusterdf_val_withClass[clust_basins[i]] = clusterdf_val_withClass.apply(lambda x: int(x.basin==i+1),axis=1)\n",
    "        clusterdf_test_withClass[clust_basins[i]] = clusterdf_test_withClass.apply(lambda x: int(x.basin==i+1),axis=1)\n",
    "\n",
    "    clusterdf_train_withClass = clusterdf_train_withClass.loc[:,clusterdf_train_withClass.columns != 'basin']\n",
    "    clusterdf_val_withClass = clusterdf_val_withClass.loc[:,clusterdf_val_withClass.columns != 'basin']\n",
    "    clusterdf_test_withClass = clusterdf_test_withClass.loc[:,clusterdf_test_withClass.columns != 'basin']\n",
    "\n",
    "    targets_df_train_unfolded = pd.DataFrame()\n",
    "    targets_df_val_unfolded = pd.DataFrame()\n",
    "    targets_df_test_unfolded = pd.DataFrame()\n",
    "    \n",
    "    for basin in clust_basins:\n",
    "        targets_df_train_unfolded =  pd.concat((targets_df_train_unfolded,targets_df_train[basin]),axis=0)\n",
    "        targets_df_val_unfolded =  pd.concat((targets_df_val_unfolded,targets_df_val[basin]),axis=0)\n",
    "        targets_df_test_unfolded =  pd.concat((targets_df_test_unfolded,targets_df_test[basin]),axis=0)\n",
    "    targets_df_train_unfolded = targets_df_train_unfolded.reset_index(drop=True)\n",
    "    targets_df_val_unfolded = targets_df_val_unfolded.reset_index(drop=True)\n",
    "    targets_df_test_unfolded = targets_df_test_unfolded.reset_index(drop=True)\n",
    "\n",
    "    model_ohe = LogisticRegression()\n",
    "    model_ohe.fit(pd.concat((clusterdf_train_withClass,clusterdf_val_withClass)),pd.concat((targets_df_train_unfolded,targets_df_val_unfolded)))\n",
    "    \n",
    "    for basin in clust_basins:\n",
    "        print(basin)\n",
    "        res = model_ohe.predict(clusterdf_test_withClass.loc[clusterdf_test_withClass[basin]==1].values)\n",
    "        print(accuracy_score(targets_df_test[basin].values, res))\n",
    "\n"
   ]
  },
  {
   "cell_type": "markdown",
   "id": "bfd70cd6",
   "metadata": {
    "heading_collapsed": true
   },
   "source": [
    "# Target"
   ]
  },
  {
   "cell_type": "code",
   "execution_count": 5,
   "id": "005f1cbf",
   "metadata": {
    "hidden": true
   },
   "outputs": [
    {
     "name": "stdout",
     "output_type": "stream",
     "text": [
      "target samples:            date      mean  median  year  week  mean_std\n",
      "0    2001-01-05  0.039373    0.00  2001     1 -2.546951\n",
      "1    2001-01-13  0.380618    0.43  2001     2 -0.277191\n",
      "2    2001-01-21  0.341985    0.38  2001     3 -0.534156\n",
      "3    2001-01-29  0.322044    0.35  2001     5 -0.666789\n",
      "4    2001-02-06  0.354954    0.40  2001     6 -0.447894\n",
      "..          ...       ...     ...   ...   ...       ...\n",
      "406  2009-11-27  0.382706    0.40  2009    48 -0.263306\n",
      "407  2009-12-05  0.409921    0.46  2009    49 -0.082282\n",
      "408  2009-12-13  0.472087    0.53  2009    50  0.331204\n",
      "409  2009-12-21  0.324728    0.00  2009    52 -0.648940\n",
      "410  2009-12-29  0.086512    0.00  2009    53 -2.233412\n",
      "\n",
      "[411 rows x 6 columns]\n",
      " target shapes: ((411, 6), (228, 6), (639, 6), (228, 6))\n",
      "target samples:            date      mean  median  year  week  mean_std\n",
      "0    2001-01-05  0.010645    0.00  2001     1 -2.129508\n",
      "1    2001-01-13  0.206769    0.00  2001     2 -0.927136\n",
      "2    2001-01-21  0.267313    0.00  2001     3 -0.555958\n",
      "3    2001-01-29  0.240836    0.20  2001     5 -0.718282\n",
      "4    2001-02-06  0.193417    0.15  2001     6 -1.008995\n",
      "..          ...       ...     ...   ...   ...       ...\n",
      "406  2009-11-27  0.230073    0.25  2009    48 -0.784269\n",
      "407  2009-12-05  0.243632    0.24  2009    49 -0.701139\n",
      "408  2009-12-13  0.251111    0.00  2009    50 -0.655289\n",
      "409  2009-12-21  0.099246    0.00  2009    52 -1.586325\n",
      "410  2009-12-29  0.064990    0.00  2009    53 -1.796340\n",
      "\n",
      "[411 rows x 6 columns]\n",
      " target shapes: ((411, 6), (228, 6), (639, 6), (228, 6))\n",
      "target samples:            date      mean  median  year  week  mean_std\n",
      "0    2001-01-05  0.379890    0.50  2001     1 -0.382765\n",
      "1    2001-01-13  0.482679    0.58  2001     2  0.319215\n",
      "2    2001-01-21  0.516259    0.59  2001     3  0.548542\n",
      "3    2001-01-29  0.434421    0.50  2001     5 -0.010351\n",
      "4    2001-02-06  0.494805    0.54  2001     6  0.402030\n",
      "..          ...       ...     ...   ...   ...       ...\n",
      "406  2009-11-27  0.427085    0.43  2009    48 -0.060454\n",
      "407  2009-12-05  0.547380    0.57  2009    49  0.761079\n",
      "408  2009-12-13  0.531070    0.58  2009    50  0.649694\n",
      "409  2009-12-21  0.295704    0.00  2009    52 -0.957702\n",
      "410  2009-12-29  0.027861    0.00  2009    53 -2.786888\n",
      "\n",
      "[411 rows x 6 columns]\n",
      " target shapes: ((411, 6), (228, 6), (639, 6), (228, 6))\n",
      "target samples:            date      mean  median  year  week  mean_std\n",
      "0    2001-01-05  0.214281    0.00  2001     1 -1.339879\n",
      "1    2001-01-13  0.484737    0.52  2001     2  0.402993\n",
      "2    2001-01-21  0.466071    0.47  2001     3  0.282703\n",
      "3    2001-01-29  0.417470    0.44  2001     5 -0.030490\n",
      "4    2001-02-06  0.492202    0.53  2001     6  0.451097\n",
      "..          ...       ...     ...   ...   ...       ...\n",
      "406  2009-11-27  0.436464    0.46  2009    48  0.091910\n",
      "407  2009-12-05  0.466152    0.49  2009    49  0.283224\n",
      "408  2009-12-13  0.553659    0.59  2009    50  0.847138\n",
      "409  2009-12-21  0.507978    0.65  2009    52  0.552758\n",
      "410  2009-12-29  0.083046    0.00  2009    53 -2.185583\n",
      "\n",
      "[411 rows x 6 columns]\n",
      " target shapes: ((411, 6), (228, 6), (639, 6), (228, 6))\n",
      "target samples:            date      mean  median  year  week  mean_std\n",
      "0    2001-01-05  0.102270    0.00  2001     1 -1.996014\n",
      "1    2001-01-13  0.454431    0.53  2001     2  0.498869\n",
      "2    2001-01-21  0.323514    0.32  2001     3 -0.428613\n",
      "3    2001-01-29  0.301661    0.31  2001     5 -0.583432\n",
      "4    2001-02-06  0.394733    0.44  2001     6  0.075938\n",
      "..          ...       ...     ...   ...   ...       ...\n",
      "406  2009-11-27  0.388573    0.44  2009    48  0.032299\n",
      "407  2009-12-05  0.402760    0.47  2009    49  0.132804\n",
      "408  2009-12-13  0.353782    0.44  2009    50 -0.214182\n",
      "409  2009-12-21  0.043947    0.00  2009    52 -2.409204\n",
      "410  2009-12-29  0.006670    0.00  2009    53 -2.673294\n",
      "\n",
      "[411 rows x 6 columns]\n",
      " target shapes: ((411, 6), (228, 6), (639, 6), (228, 6))\n",
      "target samples:            date      mean  median  year  week  mean_std\n",
      "0    2001-01-05  0.369625    0.45  2001     1 -0.439541\n",
      "1    2001-01-13  0.429563    0.43  2001     2 -0.019547\n",
      "2    2001-01-21  0.470784    0.48  2001     3  0.269293\n",
      "3    2001-01-29  0.370358    0.37  2001     5 -0.434406\n",
      "4    2001-02-06  0.372263    0.37  2001     6 -0.421060\n",
      "..          ...       ...     ...   ...   ...       ...\n",
      "406  2009-11-27  0.402059    0.40  2009    48 -0.212272\n",
      "407  2009-12-05  0.389658    0.39  2009    49 -0.299172\n",
      "408  2009-12-13  0.545184    0.56  2009    50  0.790614\n",
      "409  2009-12-21  0.447916    0.55  2009    52  0.109054\n",
      "410  2009-12-29  0.277300    0.32  2009    53 -1.086474\n",
      "\n",
      "[411 rows x 6 columns]\n",
      " target shapes: ((411, 6), (228, 6), (639, 6), (228, 6))\n",
      "target samples:            date      mean  median  year  week  mean_std\n",
      "0    2001-01-05  0.243674    0.26  2001     1 -1.223671\n",
      "1    2001-01-13  0.424116    0.44  2001     2 -0.087252\n",
      "2    2001-01-21  0.393786    0.39  2001     3 -0.278268\n",
      "3    2001-01-29  0.314939    0.31  2001     5 -0.774846\n",
      "4    2001-02-06  0.464902    0.48  2001     6  0.169616\n",
      "..          ...       ...     ...   ...   ...       ...\n",
      "406  2009-11-27  0.465734    0.48  2009    48  0.174854\n",
      "407  2009-12-05  0.447390    0.47  2009    49  0.059327\n",
      "408  2009-12-13  0.556760    0.59  2009    50  0.748131\n",
      "409  2009-12-21  0.307880    0.00  2009    52 -0.819305\n",
      "410  2009-12-29  0.034211    0.00  2009    53 -2.542862\n",
      "\n",
      "[411 rows x 6 columns]\n",
      " target shapes: ((411, 6), (228, 6), (639, 6), (228, 6))\n",
      "target samples:            date      mean  median  year  week  mean_std\n",
      "0    2001-01-05  0.278983    0.00  2001     1 -1.146332\n",
      "1    2001-01-13  0.494910    0.51  2001     2  0.371173\n",
      "2    2001-01-21  0.496092    0.51  2001     3  0.379474\n",
      "3    2001-01-29  0.427992    0.43  2001     5 -0.099118\n",
      "4    2001-02-06  0.400512    0.41  2001     6 -0.292244\n",
      "..          ...       ...     ...   ...   ...       ...\n",
      "406  2009-11-27  0.363952    0.37  2009    48 -0.549184\n",
      "407  2009-12-05  0.400487    0.40  2009    49 -0.292423\n",
      "408  2009-12-13  0.506771    0.52  2009    50  0.454529\n",
      "409  2009-12-21  0.387530    0.53  2009    52 -0.383480\n",
      "410  2009-12-29  0.279894    0.27  2009    53 -1.139931\n",
      "\n",
      "[411 rows x 6 columns]\n",
      " target shapes: ((411, 6), (228, 6), (639, 6), (228, 6))\n",
      "target samples:            date      mean  median  year  week  mean_std\n",
      "0    2001-01-05  0.278060    0.09  2001     1 -0.967137\n",
      "1    2001-01-13  0.445159    0.48  2001     2  0.070382\n",
      "2    2001-01-21  0.488982    0.52  2001     3  0.342478\n",
      "3    2001-01-29  0.362487    0.37  2001     5 -0.442927\n",
      "4    2001-02-06  0.430732    0.45  2001     6 -0.019192\n",
      "..          ...       ...     ...   ...   ...       ...\n",
      "406  2009-11-27  0.430379    0.44  2009    48 -0.021388\n",
      "407  2009-12-05  0.419919    0.43  2009    49 -0.086330\n",
      "408  2009-12-13  0.526648    0.55  2009    50  0.576347\n",
      "409  2009-12-21  0.457440    0.61  2009    52  0.146632\n",
      "410  2009-12-29  0.301938    0.38  2009    53 -0.818877\n",
      "\n",
      "[411 rows x 6 columns]\n",
      " target shapes: ((411, 6), (228, 6), (639, 6), (228, 6))\n",
      "target samples:            date      mean  median  year  week  mean_std\n",
      "0    2001-01-05  0.264043    0.00  2001     1 -1.060146\n",
      "1    2001-01-13  0.354618    0.39  2001     2 -0.405065\n",
      "2    2001-01-21  0.427990    0.47  2001     3  0.125603\n",
      "3    2001-01-29  0.339495    0.35  2001     5 -0.514438\n",
      "4    2001-02-06  0.324134    0.34  2001     6 -0.625540\n",
      "..          ...       ...     ...   ...   ...       ...\n",
      "406  2009-11-27  0.332713    0.35  2009    48 -0.563495\n",
      "407  2009-12-05  0.370253    0.40  2009    49 -0.291984\n",
      "408  2009-12-13  0.517201    0.57  2009    50  0.770822\n",
      "409  2009-12-21  0.353636    0.45  2009    52 -0.412164\n",
      "410  2009-12-29  0.261079    0.00  2009    53 -1.081585\n",
      "\n",
      "[411 rows x 6 columns]\n",
      " target shapes: ((411, 6), (228, 6), (639, 6), (228, 6))\n"
     ]
    }
   ],
   "source": [
    "### targets\n",
    "basins = ['Adda','Dora','Emiliani1','Emiliani2','Garda_Mincio','Lambro_Olona','Oglio_Iseo','Piemonte_Nord','Piemonte_Sud','Ticino']\n",
    "path_targets = '/Users/paolo/Documents/OneDrive - Politecnico di Milano/droughts/csv_VHI/'\n",
    "targets_df_train = pd.DataFrame()\n",
    "targets_df_val = pd.DataFrame()\n",
    "targets_df_test = pd.DataFrame()\n",
    "targets_df_trainVal = pd.DataFrame()\n",
    "\n",
    "for basin in basins:\n",
    "    target_df_train,target_df_val,target_df_test,target_df_trainVal = prepare_target('',max_train='2010-01-01', max_val='2015-01-01', max_test='2020-01-01', path=path_targets+basin+'.csv')\n",
    "    targets_df_train[basin] = target_df_train.apply(lambda x: np.sign(x.mean_std), axis=1)\n",
    "    targets_df_val[basin] = target_df_val.apply(lambda x: np.sign(x.mean_std), axis=1)\n",
    "    targets_df_test[basin] = target_df_test.apply(lambda x: np.sign(x.mean_std), axis=1)\n",
    "    targets_df_trainVal[basin] = target_df_trainVal.apply(lambda x: np.sign(x.mean_std), axis=1)\n",
    "    "
   ]
  },
  {
   "cell_type": "markdown",
   "id": "2973e239",
   "metadata": {
    "heading_collapsed": true
   },
   "source": [
    "# Features"
   ]
  },
  {
   "cell_type": "code",
   "execution_count": 6,
   "id": "741fb8f0",
   "metadata": {
    "hidden": true
   },
   "outputs": [],
   "source": [
    "### wrapper best 5 features\n",
    "path_features = '/Users/paolo/Documents/OneDrive - Politecnico di Milano/droughts/reduced_features_classification/'\n",
    "\n",
    "best5_wrapper_fulldf_train = pd.DataFrame()\n",
    "best5_wrapper_fulldf_val = pd.DataFrame()\n",
    "best5_wrapper_fulldf_test = pd.DataFrame()\n",
    "\n",
    "for basin in basins:\n",
    "    best5_wrapper_train_temp = pd.read_csv(path_features+basin+'_GenLinCFA_wrapper_best5_train.csv')\n",
    "    best5_wrapper_val_temp = pd.read_csv(path_features+basin+'_GenLinCFA_wrapper_best5_val.csv')\n",
    "    best5_wrapper_test_temp = pd.read_csv(path_features+basin+'_GenLinCFA_wrapper_best5_test.csv')\n",
    "    best5_wrapper_fulldf_train[basin+'_'+best5_wrapper_train_temp.columns.values] = best5_wrapper_train_temp\n",
    "    best5_wrapper_fulldf_val[basin+'_'+best5_wrapper_val_temp.columns.values] = best5_wrapper_val_temp\n",
    "    best5_wrapper_fulldf_test[basin+'_'+best5_wrapper_test_temp.columns.values] = best5_wrapper_test_temp\n"
   ]
  },
  {
   "cell_type": "code",
   "execution_count": 7,
   "id": "c669a5ed",
   "metadata": {
    "hidden": true
   },
   "outputs": [],
   "source": [
    "### CMI features\n",
    "path_features = '/Users/paolo/Documents/OneDrive - Politecnico di Milano/droughts/reduced_features_classification/'\n",
    "\n",
    "CMI_fulldf_train = pd.DataFrame()\n",
    "CMI_fulldf_val = pd.DataFrame()\n",
    "CMI_fulldf_test = pd.DataFrame()\n",
    "\n",
    "for basin in basins:\n",
    "    train_temp = pd.read_csv(path_features+basin+'_GenLinCFA_CMI_train.csv')\n",
    "    val_temp = pd.read_csv(path_features+basin+'_GenLinCFA_CMI_val.csv')\n",
    "    test_temp = pd.read_csv(path_features+basin+'_GenLinCFA_CMI_test.csv')\n",
    "    CMI_fulldf_train[basin+'_'+train_temp.columns.values] = train_temp\n",
    "    CMI_fulldf_val[basin+'_'+val_temp.columns.values] = val_temp\n",
    "    CMI_fulldf_test[basin+'_'+test_temp.columns.values] = test_temp\n",
    "    "
   ]
  },
  {
   "cell_type": "code",
   "execution_count": 8,
   "id": "dca52b40",
   "metadata": {
    "hidden": true
   },
   "outputs": [],
   "source": [
    "### CMI best5 features\n",
    "path_features = '/Users/paolo/Documents/OneDrive - Politecnico di Milano/droughts/reduced_features_classification/'\n",
    "\n",
    "best5_CMI_fulldf_train = pd.DataFrame()\n",
    "best5_CMI_fulldf_val = pd.DataFrame()\n",
    "best5_CMI_fulldf_test = pd.DataFrame()\n",
    "\n",
    "for basin in basins:\n",
    "    train_temp = pd.read_csv(path_features+basin+'_GenLinCFA_best5_CMI_train.csv')\n",
    "    val_temp = pd.read_csv(path_features+basin+'_GenLinCFA_best5_CMI_val.csv')\n",
    "    test_temp = pd.read_csv(path_features+basin+'_GenLinCFA_best5_CMI_test.csv')\n",
    "    best5_CMI_fulldf_train[basin+'_'+train_temp.columns.values] = train_temp\n",
    "    best5_CMI_fulldf_val[basin+'_'+val_temp.columns.values] = val_temp\n",
    "    best5_CMI_fulldf_test[basin+'_'+test_temp.columns.values] = test_temp\n",
    "    "
   ]
  },
  {
   "cell_type": "markdown",
   "id": "3ba8e7c1",
   "metadata": {
    "heading_collapsed": true
   },
   "source": [
    "# Linear regression"
   ]
  },
  {
   "cell_type": "markdown",
   "id": "9b028bfc",
   "metadata": {
    "heading_collapsed": true,
    "hidden": true
   },
   "source": [
    "### Emiliani1 - Emiliani2 - Garda_Mincio: wrapper best 5"
   ]
  },
  {
   "cell_type": "code",
   "execution_count": 9,
   "id": "5d1b8cca",
   "metadata": {
    "hidden": true
   },
   "outputs": [
    {
     "name": "stdout",
     "output_type": "stream",
     "text": [
      "Emiliani1\n",
      "0.7017543859649122\n",
      "Emiliani2\n",
      "0.7807017543859649\n",
      "Garda_Mincio\n",
      "0.7807017543859649\n"
     ]
    },
    {
     "name": "stderr",
     "output_type": "stream",
     "text": [
      "/Users/paolo/opt/miniconda3/envs/tensorflow/lib/python3.9/site-packages/sklearn/utils/validation.py:1111: DataConversionWarning: A column-vector y was passed when a 1d array was expected. Please change the shape of y to (n_samples, ), for example using ravel().\n",
      "  y = column_or_1d(y, warn=True)\n",
      "/Users/paolo/opt/miniconda3/envs/tensorflow/lib/python3.9/site-packages/sklearn/base.py:450: UserWarning: X does not have valid feature names, but LogisticRegression was fitted with feature names\n",
      "  warnings.warn(\n",
      "/Users/paolo/opt/miniconda3/envs/tensorflow/lib/python3.9/site-packages/sklearn/base.py:450: UserWarning: X does not have valid feature names, but LogisticRegression was fitted with feature names\n",
      "  warnings.warn(\n",
      "/Users/paolo/opt/miniconda3/envs/tensorflow/lib/python3.9/site-packages/sklearn/base.py:450: UserWarning: X does not have valid feature names, but LogisticRegression was fitted with feature names\n",
      "  warnings.warn(\n"
     ]
    }
   ],
   "source": [
    "MTL_scores(clust_basins=['Emiliani1', 'Emiliani2', 'Garda_Mincio'], df_train=best5_wrapper_fulldf_train, df_val=best5_wrapper_fulldf_val, df_test=best5_wrapper_fulldf_test, targets_df_train=targets_df_train, targets_df_val=targets_df_val, targets_df_test=targets_df_test)\n"
   ]
  },
  {
   "cell_type": "markdown",
   "id": "a932b5de",
   "metadata": {
    "heading_collapsed": true,
    "hidden": true
   },
   "source": [
    "### Emiliani1 - Emiliani2 - Garda_Mincio: CMI"
   ]
  },
  {
   "cell_type": "code",
   "execution_count": 10,
   "id": "4e3ed6c6",
   "metadata": {
    "hidden": true
   },
   "outputs": [
    {
     "name": "stdout",
     "output_type": "stream",
     "text": [
      "Emiliani1\n",
      "0.6754385964912281\n",
      "Emiliani2\n",
      "0.6885964912280702\n",
      "Garda_Mincio\n",
      "0.7412280701754386\n"
     ]
    },
    {
     "name": "stderr",
     "output_type": "stream",
     "text": [
      "/Users/paolo/opt/miniconda3/envs/tensorflow/lib/python3.9/site-packages/sklearn/utils/validation.py:1111: DataConversionWarning: A column-vector y was passed when a 1d array was expected. Please change the shape of y to (n_samples, ), for example using ravel().\n",
      "  y = column_or_1d(y, warn=True)\n",
      "/Users/paolo/opt/miniconda3/envs/tensorflow/lib/python3.9/site-packages/sklearn/base.py:450: UserWarning: X does not have valid feature names, but LogisticRegression was fitted with feature names\n",
      "  warnings.warn(\n",
      "/Users/paolo/opt/miniconda3/envs/tensorflow/lib/python3.9/site-packages/sklearn/base.py:450: UserWarning: X does not have valid feature names, but LogisticRegression was fitted with feature names\n",
      "  warnings.warn(\n",
      "/Users/paolo/opt/miniconda3/envs/tensorflow/lib/python3.9/site-packages/sklearn/base.py:450: UserWarning: X does not have valid feature names, but LogisticRegression was fitted with feature names\n",
      "  warnings.warn(\n"
     ]
    }
   ],
   "source": [
    "MTL_scores(clust_basins=['Emiliani1', 'Emiliani2', 'Garda_Mincio'], df_train=CMI_fulldf_train, df_val=CMI_fulldf_val, df_test=CMI_fulldf_test, targets_df_train=targets_df_train, targets_df_val=targets_df_val, targets_df_test=targets_df_test)\n"
   ]
  },
  {
   "cell_type": "markdown",
   "id": "d5b92661",
   "metadata": {
    "heading_collapsed": true,
    "hidden": true
   },
   "source": [
    "### Emiliani1 - Emiliani2 - Garda_Mincio: CMI best 5"
   ]
  },
  {
   "cell_type": "code",
   "execution_count": 11,
   "id": "55da185e",
   "metadata": {
    "hidden": true
   },
   "outputs": [
    {
     "name": "stdout",
     "output_type": "stream",
     "text": [
      "Emiliani1\n",
      "0.6754385964912281\n",
      "Emiliani2\n",
      "0.706140350877193\n",
      "Garda_Mincio\n",
      "0.7236842105263158\n"
     ]
    },
    {
     "name": "stderr",
     "output_type": "stream",
     "text": [
      "/Users/paolo/opt/miniconda3/envs/tensorflow/lib/python3.9/site-packages/sklearn/utils/validation.py:1111: DataConversionWarning: A column-vector y was passed when a 1d array was expected. Please change the shape of y to (n_samples, ), for example using ravel().\n",
      "  y = column_or_1d(y, warn=True)\n",
      "/Users/paolo/opt/miniconda3/envs/tensorflow/lib/python3.9/site-packages/sklearn/base.py:450: UserWarning: X does not have valid feature names, but LogisticRegression was fitted with feature names\n",
      "  warnings.warn(\n",
      "/Users/paolo/opt/miniconda3/envs/tensorflow/lib/python3.9/site-packages/sklearn/base.py:450: UserWarning: X does not have valid feature names, but LogisticRegression was fitted with feature names\n",
      "  warnings.warn(\n",
      "/Users/paolo/opt/miniconda3/envs/tensorflow/lib/python3.9/site-packages/sklearn/base.py:450: UserWarning: X does not have valid feature names, but LogisticRegression was fitted with feature names\n",
      "  warnings.warn(\n"
     ]
    }
   ],
   "source": [
    "MTL_scores(clust_basins=['Emiliani1', 'Emiliani2', 'Garda_Mincio'], df_train=best5_CMI_fulldf_train, df_val=best5_CMI_fulldf_val, df_test=best5_CMI_fulldf_test, targets_df_train=targets_df_train, targets_df_val=targets_df_val, targets_df_test=targets_df_test)\n"
   ]
  },
  {
   "cell_type": "markdown",
   "id": "cea06c6a",
   "metadata": {
    "heading_collapsed": true,
    "hidden": true
   },
   "source": [
    "### Adda - Lambro_Olona - Oglio_Iseo - Ticino: wrapper best 5"
   ]
  },
  {
   "cell_type": "code",
   "execution_count": 60,
   "id": "daaede4d",
   "metadata": {
    "hidden": true
   },
   "outputs": [
    {
     "name": "stdout",
     "output_type": "stream",
     "text": [
      "Adda\n",
      "0.5921052631578947\n",
      "Lambro_Olona\n",
      "0.6140350877192983\n",
      "Oglio_Iseo\n",
      "0.6096491228070176\n",
      "Ticino\n",
      "0.6271929824561403\n"
     ]
    },
    {
     "name": "stderr",
     "output_type": "stream",
     "text": [
      "/Users/paolo/opt/miniconda3/envs/tensorflow/lib/python3.9/site-packages/sklearn/utils/validation.py:1111: DataConversionWarning: A column-vector y was passed when a 1d array was expected. Please change the shape of y to (n_samples, ), for example using ravel().\n",
      "  y = column_or_1d(y, warn=True)\n",
      "/Users/paolo/opt/miniconda3/envs/tensorflow/lib/python3.9/site-packages/sklearn/base.py:450: UserWarning: X does not have valid feature names, but LogisticRegression was fitted with feature names\n",
      "  warnings.warn(\n",
      "/Users/paolo/opt/miniconda3/envs/tensorflow/lib/python3.9/site-packages/sklearn/base.py:450: UserWarning: X does not have valid feature names, but LogisticRegression was fitted with feature names\n",
      "  warnings.warn(\n",
      "/Users/paolo/opt/miniconda3/envs/tensorflow/lib/python3.9/site-packages/sklearn/base.py:450: UserWarning: X does not have valid feature names, but LogisticRegression was fitted with feature names\n",
      "  warnings.warn(\n",
      "/Users/paolo/opt/miniconda3/envs/tensorflow/lib/python3.9/site-packages/sklearn/base.py:450: UserWarning: X does not have valid feature names, but LogisticRegression was fitted with feature names\n",
      "  warnings.warn(\n"
     ]
    }
   ],
   "source": [
    "MTL_scores(clust_basins=['Adda', 'Lambro_Olona', 'Oglio_Iseo', 'Ticino'], df_train=best5_wrapper_fulldf_train, df_val=best5_wrapper_fulldf_val, df_test=best5_wrapper_fulldf_test, targets_df_train=targets_df_train, targets_df_val=targets_df_val, targets_df_test=targets_df_test)\n"
   ]
  },
  {
   "cell_type": "markdown",
   "id": "035694ac",
   "metadata": {
    "heading_collapsed": true,
    "hidden": true
   },
   "source": [
    "### Adda - Lambro_Olona - Oglio_Iseo - Ticino: CMI"
   ]
  },
  {
   "cell_type": "code",
   "execution_count": 12,
   "id": "3ab77a52",
   "metadata": {
    "hidden": true
   },
   "outputs": [
    {
     "name": "stdout",
     "output_type": "stream",
     "text": [
      "Adda\n",
      "0.618421052631579\n",
      "Lambro_Olona\n",
      "0.5964912280701754\n",
      "Oglio_Iseo\n",
      "0.6008771929824561\n",
      "Ticino\n",
      "0.6096491228070176\n"
     ]
    },
    {
     "name": "stderr",
     "output_type": "stream",
     "text": [
      "/Users/paolo/opt/miniconda3/envs/tensorflow/lib/python3.9/site-packages/sklearn/utils/validation.py:1111: DataConversionWarning: A column-vector y was passed when a 1d array was expected. Please change the shape of y to (n_samples, ), for example using ravel().\n",
      "  y = column_or_1d(y, warn=True)\n",
      "/Users/paolo/opt/miniconda3/envs/tensorflow/lib/python3.9/site-packages/sklearn/linear_model/_logistic.py:444: ConvergenceWarning: lbfgs failed to converge (status=1):\n",
      "STOP: TOTAL NO. of ITERATIONS REACHED LIMIT.\n",
      "\n",
      "Increase the number of iterations (max_iter) or scale the data as shown in:\n",
      "    https://scikit-learn.org/stable/modules/preprocessing.html\n",
      "Please also refer to the documentation for alternative solver options:\n",
      "    https://scikit-learn.org/stable/modules/linear_model.html#logistic-regression\n",
      "  n_iter_i = _check_optimize_result(\n",
      "/Users/paolo/opt/miniconda3/envs/tensorflow/lib/python3.9/site-packages/sklearn/base.py:450: UserWarning: X does not have valid feature names, but LogisticRegression was fitted with feature names\n",
      "  warnings.warn(\n",
      "/Users/paolo/opt/miniconda3/envs/tensorflow/lib/python3.9/site-packages/sklearn/base.py:450: UserWarning: X does not have valid feature names, but LogisticRegression was fitted with feature names\n",
      "  warnings.warn(\n",
      "/Users/paolo/opt/miniconda3/envs/tensorflow/lib/python3.9/site-packages/sklearn/base.py:450: UserWarning: X does not have valid feature names, but LogisticRegression was fitted with feature names\n",
      "  warnings.warn(\n",
      "/Users/paolo/opt/miniconda3/envs/tensorflow/lib/python3.9/site-packages/sklearn/base.py:450: UserWarning: X does not have valid feature names, but LogisticRegression was fitted with feature names\n",
      "  warnings.warn(\n"
     ]
    }
   ],
   "source": [
    "MTL_scores(clust_basins=['Adda', 'Lambro_Olona', 'Oglio_Iseo', 'Ticino'], df_train=CMI_fulldf_train, df_val=CMI_fulldf_val, df_test=CMI_fulldf_test, targets_df_train=targets_df_train, targets_df_val=targets_df_val, targets_df_test=targets_df_test)\n"
   ]
  },
  {
   "cell_type": "markdown",
   "id": "8f013ae1",
   "metadata": {
    "heading_collapsed": true,
    "hidden": true
   },
   "source": [
    "### Adda - Lambro_Olona - Oglio_Iseo - Ticino: CMI best 5"
   ]
  },
  {
   "cell_type": "code",
   "execution_count": 13,
   "id": "b30215e6",
   "metadata": {
    "hidden": true
   },
   "outputs": [
    {
     "name": "stdout",
     "output_type": "stream",
     "text": [
      "Adda\n",
      "0.6842105263157895\n",
      "Lambro_Olona\n",
      "0.6885964912280702\n",
      "Oglio_Iseo\n",
      "0.6666666666666666\n",
      "Ticino\n",
      "0.7105263157894737\n"
     ]
    },
    {
     "name": "stderr",
     "output_type": "stream",
     "text": [
      "/Users/paolo/opt/miniconda3/envs/tensorflow/lib/python3.9/site-packages/sklearn/utils/validation.py:1111: DataConversionWarning: A column-vector y was passed when a 1d array was expected. Please change the shape of y to (n_samples, ), for example using ravel().\n",
      "  y = column_or_1d(y, warn=True)\n",
      "/Users/paolo/opt/miniconda3/envs/tensorflow/lib/python3.9/site-packages/sklearn/base.py:450: UserWarning: X does not have valid feature names, but LogisticRegression was fitted with feature names\n",
      "  warnings.warn(\n",
      "/Users/paolo/opt/miniconda3/envs/tensorflow/lib/python3.9/site-packages/sklearn/base.py:450: UserWarning: X does not have valid feature names, but LogisticRegression was fitted with feature names\n",
      "  warnings.warn(\n",
      "/Users/paolo/opt/miniconda3/envs/tensorflow/lib/python3.9/site-packages/sklearn/base.py:450: UserWarning: X does not have valid feature names, but LogisticRegression was fitted with feature names\n",
      "  warnings.warn(\n",
      "/Users/paolo/opt/miniconda3/envs/tensorflow/lib/python3.9/site-packages/sklearn/base.py:450: UserWarning: X does not have valid feature names, but LogisticRegression was fitted with feature names\n",
      "  warnings.warn(\n"
     ]
    }
   ],
   "source": [
    "MTL_scores(clust_basins=['Adda', 'Lambro_Olona', 'Oglio_Iseo', 'Ticino'], df_train=best5_CMI_fulldf_train, df_val=best5_CMI_fulldf_val, df_test=best5_CMI_fulldf_test, targets_df_train=targets_df_train, targets_df_val=targets_df_val, targets_df_test=targets_df_test)\n"
   ]
  },
  {
   "cell_type": "markdown",
   "id": "30f665d6",
   "metadata": {
    "heading_collapsed": true,
    "hidden": true
   },
   "source": [
    "### Dora - Piemonte Sud - Piemonte Nord: wrapper best 5"
   ]
  },
  {
   "cell_type": "code",
   "execution_count": 10,
   "id": "e346b7a5",
   "metadata": {
    "hidden": true
   },
   "outputs": [
    {
     "name": "stdout",
     "output_type": "stream",
     "text": [
      "Dora\n",
      "0.5614035087719298\n",
      "Piemonte_Nord\n",
      "0.6447368421052632\n",
      "Piemonte_Sud\n",
      "0.6798245614035088\n"
     ]
    },
    {
     "name": "stderr",
     "output_type": "stream",
     "text": [
      "/Users/paolo/opt/miniconda3/envs/tensorflow/lib/python3.9/site-packages/sklearn/utils/validation.py:1111: DataConversionWarning: A column-vector y was passed when a 1d array was expected. Please change the shape of y to (n_samples, ), for example using ravel().\n",
      "  y = column_or_1d(y, warn=True)\n",
      "/Users/paolo/opt/miniconda3/envs/tensorflow/lib/python3.9/site-packages/sklearn/base.py:450: UserWarning: X does not have valid feature names, but LogisticRegression was fitted with feature names\n",
      "  warnings.warn(\n",
      "/Users/paolo/opt/miniconda3/envs/tensorflow/lib/python3.9/site-packages/sklearn/base.py:450: UserWarning: X does not have valid feature names, but LogisticRegression was fitted with feature names\n",
      "  warnings.warn(\n",
      "/Users/paolo/opt/miniconda3/envs/tensorflow/lib/python3.9/site-packages/sklearn/base.py:450: UserWarning: X does not have valid feature names, but LogisticRegression was fitted with feature names\n",
      "  warnings.warn(\n"
     ]
    }
   ],
   "source": [
    "MTL_scores(clust_basins=['Dora', 'Piemonte_Nord', 'Piemonte_Sud'], df_train=best5_wrapper_fulldf_train, df_val=best5_wrapper_fulldf_val, df_test=best5_wrapper_fulldf_test, targets_df_train=targets_df_train, targets_df_val=targets_df_val, targets_df_test=targets_df_test)\n"
   ]
  },
  {
   "cell_type": "code",
   "execution_count": 12,
   "id": "ab9649e8",
   "metadata": {
    "hidden": true
   },
   "outputs": [
    {
     "name": "stdout",
     "output_type": "stream",
     "text": [
      "Piemonte_Nord\n",
      "0.6578947368421053\n",
      "Piemonte_Sud\n",
      "0.6885964912280702\n"
     ]
    },
    {
     "name": "stderr",
     "output_type": "stream",
     "text": [
      "/Users/paolo/opt/miniconda3/envs/tensorflow/lib/python3.9/site-packages/sklearn/utils/validation.py:1111: DataConversionWarning: A column-vector y was passed when a 1d array was expected. Please change the shape of y to (n_samples, ), for example using ravel().\n",
      "  y = column_or_1d(y, warn=True)\n",
      "/Users/paolo/opt/miniconda3/envs/tensorflow/lib/python3.9/site-packages/sklearn/base.py:450: UserWarning: X does not have valid feature names, but LogisticRegression was fitted with feature names\n",
      "  warnings.warn(\n",
      "/Users/paolo/opt/miniconda3/envs/tensorflow/lib/python3.9/site-packages/sklearn/base.py:450: UserWarning: X does not have valid feature names, but LogisticRegression was fitted with feature names\n",
      "  warnings.warn(\n"
     ]
    }
   ],
   "source": [
    "MTL_scores(clust_basins=['Piemonte_Nord', 'Piemonte_Sud'], df_train=best5_wrapper_fulldf_train, df_val=best5_wrapper_fulldf_val, df_test=best5_wrapper_fulldf_test, targets_df_train=targets_df_train, targets_df_val=targets_df_val, targets_df_test=targets_df_test)\n"
   ]
  },
  {
   "cell_type": "markdown",
   "id": "93b3c9d9",
   "metadata": {
    "heading_collapsed": true,
    "hidden": true
   },
   "source": [
    "### Dora - Piemonte Sud - Piemonte Nord: CMI"
   ]
  },
  {
   "cell_type": "code",
   "execution_count": 13,
   "id": "cea6295c",
   "metadata": {
    "hidden": true
   },
   "outputs": [
    {
     "name": "stdout",
     "output_type": "stream",
     "text": [
      "Dora\n",
      "0.5263157894736842\n",
      "Piemonte_Nord\n",
      "0.6008771929824561\n",
      "Piemonte_Sud\n",
      "0.6008771929824561\n"
     ]
    },
    {
     "name": "stderr",
     "output_type": "stream",
     "text": [
      "/Users/paolo/opt/miniconda3/envs/tensorflow/lib/python3.9/site-packages/sklearn/utils/validation.py:1111: DataConversionWarning: A column-vector y was passed when a 1d array was expected. Please change the shape of y to (n_samples, ), for example using ravel().\n",
      "  y = column_or_1d(y, warn=True)\n",
      "/Users/paolo/opt/miniconda3/envs/tensorflow/lib/python3.9/site-packages/sklearn/linear_model/_logistic.py:444: ConvergenceWarning: lbfgs failed to converge (status=1):\n",
      "STOP: TOTAL NO. of ITERATIONS REACHED LIMIT.\n",
      "\n",
      "Increase the number of iterations (max_iter) or scale the data as shown in:\n",
      "    https://scikit-learn.org/stable/modules/preprocessing.html\n",
      "Please also refer to the documentation for alternative solver options:\n",
      "    https://scikit-learn.org/stable/modules/linear_model.html#logistic-regression\n",
      "  n_iter_i = _check_optimize_result(\n",
      "/Users/paolo/opt/miniconda3/envs/tensorflow/lib/python3.9/site-packages/sklearn/base.py:450: UserWarning: X does not have valid feature names, but LogisticRegression was fitted with feature names\n",
      "  warnings.warn(\n",
      "/Users/paolo/opt/miniconda3/envs/tensorflow/lib/python3.9/site-packages/sklearn/base.py:450: UserWarning: X does not have valid feature names, but LogisticRegression was fitted with feature names\n",
      "  warnings.warn(\n",
      "/Users/paolo/opt/miniconda3/envs/tensorflow/lib/python3.9/site-packages/sklearn/base.py:450: UserWarning: X does not have valid feature names, but LogisticRegression was fitted with feature names\n",
      "  warnings.warn(\n"
     ]
    }
   ],
   "source": [
    "MTL_scores(clust_basins=['Dora', 'Piemonte_Nord', 'Piemonte_Sud'], df_train=CMI_fulldf_train, df_val=CMI_fulldf_val, df_test=CMI_fulldf_test, targets_df_train=targets_df_train, targets_df_val=targets_df_val, targets_df_test=targets_df_test)\n"
   ]
  },
  {
   "cell_type": "code",
   "execution_count": 14,
   "id": "4a5682d6",
   "metadata": {
    "hidden": true
   },
   "outputs": [
    {
     "name": "stdout",
     "output_type": "stream",
     "text": [
      "Piemonte_Nord\n",
      "0.5789473684210527\n",
      "Piemonte_Sud\n",
      "0.5833333333333334\n"
     ]
    },
    {
     "name": "stderr",
     "output_type": "stream",
     "text": [
      "/Users/paolo/opt/miniconda3/envs/tensorflow/lib/python3.9/site-packages/sklearn/utils/validation.py:1111: DataConversionWarning: A column-vector y was passed when a 1d array was expected. Please change the shape of y to (n_samples, ), for example using ravel().\n",
      "  y = column_or_1d(y, warn=True)\n",
      "/Users/paolo/opt/miniconda3/envs/tensorflow/lib/python3.9/site-packages/sklearn/base.py:450: UserWarning: X does not have valid feature names, but LogisticRegression was fitted with feature names\n",
      "  warnings.warn(\n",
      "/Users/paolo/opt/miniconda3/envs/tensorflow/lib/python3.9/site-packages/sklearn/base.py:450: UserWarning: X does not have valid feature names, but LogisticRegression was fitted with feature names\n",
      "  warnings.warn(\n"
     ]
    }
   ],
   "source": [
    "MTL_scores(clust_basins=['Piemonte_Nord', 'Piemonte_Sud'], df_train=CMI_fulldf_train, df_val=CMI_fulldf_val, df_test=CMI_fulldf_test, targets_df_train=targets_df_train, targets_df_val=targets_df_val, targets_df_test=targets_df_test)\n"
   ]
  },
  {
   "cell_type": "markdown",
   "id": "defd6bfc",
   "metadata": {
    "heading_collapsed": true,
    "hidden": true
   },
   "source": [
    "### Dora - Piemonte Sud - Piemonte Nord: CMI best 5"
   ]
  },
  {
   "cell_type": "code",
   "execution_count": 15,
   "id": "79238ce3",
   "metadata": {
    "hidden": true
   },
   "outputs": [
    {
     "name": "stdout",
     "output_type": "stream",
     "text": [
      "Dora\n",
      "0.5789473684210527\n",
      "Piemonte_Nord\n",
      "0.6403508771929824\n",
      "Piemonte_Sud\n",
      "0.6271929824561403\n"
     ]
    },
    {
     "name": "stderr",
     "output_type": "stream",
     "text": [
      "/Users/paolo/opt/miniconda3/envs/tensorflow/lib/python3.9/site-packages/sklearn/utils/validation.py:1111: DataConversionWarning: A column-vector y was passed when a 1d array was expected. Please change the shape of y to (n_samples, ), for example using ravel().\n",
      "  y = column_or_1d(y, warn=True)\n",
      "/Users/paolo/opt/miniconda3/envs/tensorflow/lib/python3.9/site-packages/sklearn/base.py:450: UserWarning: X does not have valid feature names, but LogisticRegression was fitted with feature names\n",
      "  warnings.warn(\n",
      "/Users/paolo/opt/miniconda3/envs/tensorflow/lib/python3.9/site-packages/sklearn/base.py:450: UserWarning: X does not have valid feature names, but LogisticRegression was fitted with feature names\n",
      "  warnings.warn(\n",
      "/Users/paolo/opt/miniconda3/envs/tensorflow/lib/python3.9/site-packages/sklearn/base.py:450: UserWarning: X does not have valid feature names, but LogisticRegression was fitted with feature names\n",
      "  warnings.warn(\n"
     ]
    }
   ],
   "source": [
    "MTL_scores(clust_basins=['Dora', 'Piemonte_Nord', 'Piemonte_Sud'], df_train=best5_CMI_fulldf_train, df_val=best5_CMI_fulldf_val, df_test=best5_CMI_fulldf_test, targets_df_train=targets_df_train, targets_df_val=targets_df_val, targets_df_test=targets_df_test)\n"
   ]
  },
  {
   "cell_type": "code",
   "execution_count": 16,
   "id": "b3e35f20",
   "metadata": {
    "hidden": true
   },
   "outputs": [
    {
     "name": "stdout",
     "output_type": "stream",
     "text": [
      "Piemonte_Nord\n",
      "0.618421052631579\n",
      "Piemonte_Sud\n",
      "0.5789473684210527\n"
     ]
    },
    {
     "name": "stderr",
     "output_type": "stream",
     "text": [
      "/Users/paolo/opt/miniconda3/envs/tensorflow/lib/python3.9/site-packages/sklearn/utils/validation.py:1111: DataConversionWarning: A column-vector y was passed when a 1d array was expected. Please change the shape of y to (n_samples, ), for example using ravel().\n",
      "  y = column_or_1d(y, warn=True)\n",
      "/Users/paolo/opt/miniconda3/envs/tensorflow/lib/python3.9/site-packages/sklearn/base.py:450: UserWarning: X does not have valid feature names, but LogisticRegression was fitted with feature names\n",
      "  warnings.warn(\n",
      "/Users/paolo/opt/miniconda3/envs/tensorflow/lib/python3.9/site-packages/sklearn/base.py:450: UserWarning: X does not have valid feature names, but LogisticRegression was fitted with feature names\n",
      "  warnings.warn(\n"
     ]
    }
   ],
   "source": [
    "MTL_scores(clust_basins=['Piemonte_Nord', 'Piemonte_Sud'], df_train=best5_CMI_fulldf_train, df_val=best5_CMI_fulldf_val, df_test=best5_CMI_fulldf_test, targets_df_train=targets_df_train, targets_df_val=targets_df_val, targets_df_test=targets_df_test)\n"
   ]
  },
  {
   "cell_type": "markdown",
   "id": "85144752",
   "metadata": {},
   "source": [
    "# With original target"
   ]
  },
  {
   "cell_type": "markdown",
   "id": "f36423a5",
   "metadata": {
    "heading_collapsed": true
   },
   "source": [
    "## Target"
   ]
  },
  {
   "cell_type": "code",
   "execution_count": 17,
   "id": "3075c087",
   "metadata": {
    "hidden": true
   },
   "outputs": [
    {
     "name": "stdout",
     "output_type": "stream",
     "text": [
      "target samples:            date      mean  median  year  week  mean_std\n",
      "0    2001-01-05  0.039373    0.00  2001     1         0\n",
      "1    2001-01-13  0.380618    0.43  2001     2         0\n",
      "2    2001-01-21  0.341985    0.38  2001     3         0\n",
      "3    2001-01-29  0.322044    0.35  2001     5         0\n",
      "4    2001-02-06  0.354954    0.40  2001     6         0\n",
      "..          ...       ...     ...   ...   ...       ...\n",
      "406  2009-11-27  0.382706    0.40  2009    48         0\n",
      "407  2009-12-05  0.409921    0.46  2009    49         0\n",
      "408  2009-12-13  0.472087    0.53  2009    50         0\n",
      "409  2009-12-21  0.324728    0.00  2009    52         0\n",
      "410  2009-12-29  0.086512    0.00  2009    53         0\n",
      "\n",
      "[411 rows x 6 columns]\n",
      " target shapes: ((411, 6), (228, 6), (639, 6), (228, 6))\n",
      "target samples:            date      mean  median  year  week  mean_std\n",
      "0    2001-01-05  0.010645    0.00  2001     1         0\n",
      "1    2001-01-13  0.206769    0.00  2001     2         0\n",
      "2    2001-01-21  0.267313    0.00  2001     3         0\n",
      "3    2001-01-29  0.240836    0.20  2001     5         0\n",
      "4    2001-02-06  0.193417    0.15  2001     6         0\n",
      "..          ...       ...     ...   ...   ...       ...\n",
      "406  2009-11-27  0.230073    0.25  2009    48         0\n",
      "407  2009-12-05  0.243632    0.24  2009    49         0\n",
      "408  2009-12-13  0.251111    0.00  2009    50         0\n",
      "409  2009-12-21  0.099246    0.00  2009    52         0\n",
      "410  2009-12-29  0.064990    0.00  2009    53         0\n",
      "\n",
      "[411 rows x 6 columns]\n",
      " target shapes: ((411, 6), (228, 6), (639, 6), (228, 6))\n",
      "target samples:            date      mean  median  year  week  mean_std\n",
      "0    2001-01-05  0.379890    0.50  2001     1         0\n",
      "1    2001-01-13  0.482679    0.58  2001     2         0\n",
      "2    2001-01-21  0.516259    0.59  2001     3         1\n",
      "3    2001-01-29  0.434421    0.50  2001     5         0\n",
      "4    2001-02-06  0.494805    0.54  2001     6         0\n",
      "..          ...       ...     ...   ...   ...       ...\n",
      "406  2009-11-27  0.427085    0.43  2009    48         0\n",
      "407  2009-12-05  0.547380    0.57  2009    49         1\n",
      "408  2009-12-13  0.531070    0.58  2009    50         1\n",
      "409  2009-12-21  0.295704    0.00  2009    52         0\n",
      "410  2009-12-29  0.027861    0.00  2009    53         0\n",
      "\n",
      "[411 rows x 6 columns]\n",
      " target shapes: ((411, 6), (228, 6), (639, 6), (228, 6))\n",
      "target samples:            date      mean  median  year  week  mean_std\n",
      "0    2001-01-05  0.214281    0.00  2001     1         0\n",
      "1    2001-01-13  0.484737    0.52  2001     2         0\n",
      "2    2001-01-21  0.466071    0.47  2001     3         0\n",
      "3    2001-01-29  0.417470    0.44  2001     5         0\n",
      "4    2001-02-06  0.492202    0.53  2001     6         0\n",
      "..          ...       ...     ...   ...   ...       ...\n",
      "406  2009-11-27  0.436464    0.46  2009    48         0\n",
      "407  2009-12-05  0.466152    0.49  2009    49         0\n",
      "408  2009-12-13  0.553659    0.59  2009    50         1\n",
      "409  2009-12-21  0.507978    0.65  2009    52         1\n",
      "410  2009-12-29  0.083046    0.00  2009    53         0\n",
      "\n",
      "[411 rows x 6 columns]\n",
      " target shapes: ((411, 6), (228, 6), (639, 6), (228, 6))\n",
      "target samples:            date      mean  median  year  week  mean_std\n",
      "0    2001-01-05  0.102270    0.00  2001     1         0\n",
      "1    2001-01-13  0.454431    0.53  2001     2         0\n",
      "2    2001-01-21  0.323514    0.32  2001     3         0\n",
      "3    2001-01-29  0.301661    0.31  2001     5         0\n",
      "4    2001-02-06  0.394733    0.44  2001     6         0\n",
      "..          ...       ...     ...   ...   ...       ...\n",
      "406  2009-11-27  0.388573    0.44  2009    48         0\n",
      "407  2009-12-05  0.402760    0.47  2009    49         0\n",
      "408  2009-12-13  0.353782    0.44  2009    50         0\n",
      "409  2009-12-21  0.043947    0.00  2009    52         0\n",
      "410  2009-12-29  0.006670    0.00  2009    53         0\n",
      "\n",
      "[411 rows x 6 columns]\n",
      " target shapes: ((411, 6), (228, 6), (639, 6), (228, 6))\n",
      "target samples:            date      mean  median  year  week  mean_std\n",
      "0    2001-01-05  0.369625    0.45  2001     1         0\n",
      "1    2001-01-13  0.429563    0.43  2001     2         0\n",
      "2    2001-01-21  0.470784    0.48  2001     3         0\n",
      "3    2001-01-29  0.370358    0.37  2001     5         0\n",
      "4    2001-02-06  0.372263    0.37  2001     6         0\n",
      "..          ...       ...     ...   ...   ...       ...\n",
      "406  2009-11-27  0.402059    0.40  2009    48         0\n",
      "407  2009-12-05  0.389658    0.39  2009    49         0\n",
      "408  2009-12-13  0.545184    0.56  2009    50         1\n",
      "409  2009-12-21  0.447916    0.55  2009    52         0\n",
      "410  2009-12-29  0.277300    0.32  2009    53         0\n",
      "\n",
      "[411 rows x 6 columns]\n",
      " target shapes: ((411, 6), (228, 6), (639, 6), (228, 6))\n",
      "target samples:            date      mean  median  year  week  mean_std\n",
      "0    2001-01-05  0.243674    0.26  2001     1         0\n",
      "1    2001-01-13  0.424116    0.44  2001     2         0\n",
      "2    2001-01-21  0.393786    0.39  2001     3         0\n",
      "3    2001-01-29  0.314939    0.31  2001     5         0\n",
      "4    2001-02-06  0.464902    0.48  2001     6         0\n",
      "..          ...       ...     ...   ...   ...       ...\n",
      "406  2009-11-27  0.465734    0.48  2009    48         0\n",
      "407  2009-12-05  0.447390    0.47  2009    49         0\n",
      "408  2009-12-13  0.556760    0.59  2009    50         1\n",
      "409  2009-12-21  0.307880    0.00  2009    52         0\n",
      "410  2009-12-29  0.034211    0.00  2009    53         0\n",
      "\n",
      "[411 rows x 6 columns]\n",
      " target shapes: ((411, 6), (228, 6), (639, 6), (228, 6))\n",
      "target samples:            date      mean  median  year  week  mean_std\n",
      "0    2001-01-05  0.278983    0.00  2001     1         0\n",
      "1    2001-01-13  0.494910    0.51  2001     2         0\n",
      "2    2001-01-21  0.496092    0.51  2001     3         0\n",
      "3    2001-01-29  0.427992    0.43  2001     5         0\n",
      "4    2001-02-06  0.400512    0.41  2001     6         0\n",
      "..          ...       ...     ...   ...   ...       ...\n",
      "406  2009-11-27  0.363952    0.37  2009    48         0\n",
      "407  2009-12-05  0.400487    0.40  2009    49         0\n",
      "408  2009-12-13  0.506771    0.52  2009    50         1\n",
      "409  2009-12-21  0.387530    0.53  2009    52         0\n",
      "410  2009-12-29  0.279894    0.27  2009    53         0\n",
      "\n",
      "[411 rows x 6 columns]\n",
      " target shapes: ((411, 6), (228, 6), (639, 6), (228, 6))\n",
      "target samples:            date      mean  median  year  week  mean_std\n",
      "0    2001-01-05  0.278060    0.09  2001     1         0\n",
      "1    2001-01-13  0.445159    0.48  2001     2         0\n",
      "2    2001-01-21  0.488982    0.52  2001     3         0\n",
      "3    2001-01-29  0.362487    0.37  2001     5         0\n",
      "4    2001-02-06  0.430732    0.45  2001     6         0\n",
      "..          ...       ...     ...   ...   ...       ...\n",
      "406  2009-11-27  0.430379    0.44  2009    48         0\n",
      "407  2009-12-05  0.419919    0.43  2009    49         0\n",
      "408  2009-12-13  0.526648    0.55  2009    50         1\n",
      "409  2009-12-21  0.457440    0.61  2009    52         0\n",
      "410  2009-12-29  0.301938    0.38  2009    53         0\n",
      "\n",
      "[411 rows x 6 columns]\n",
      " target shapes: ((411, 6), (228, 6), (639, 6), (228, 6))\n",
      "target samples:            date      mean  median  year  week  mean_std\n",
      "0    2001-01-05  0.264043    0.00  2001     1         0\n",
      "1    2001-01-13  0.354618    0.39  2001     2         0\n",
      "2    2001-01-21  0.427990    0.47  2001     3         0\n",
      "3    2001-01-29  0.339495    0.35  2001     5         0\n",
      "4    2001-02-06  0.324134    0.34  2001     6         0\n",
      "..          ...       ...     ...   ...   ...       ...\n",
      "406  2009-11-27  0.332713    0.35  2009    48         0\n",
      "407  2009-12-05  0.370253    0.40  2009    49         0\n",
      "408  2009-12-13  0.517201    0.57  2009    50         1\n",
      "409  2009-12-21  0.353636    0.45  2009    52         0\n",
      "410  2009-12-29  0.261079    0.00  2009    53         0\n",
      "\n",
      "[411 rows x 6 columns]\n",
      " target shapes: ((411, 6), (228, 6), (639, 6), (228, 6))\n"
     ]
    }
   ],
   "source": [
    "### targets\n",
    "basins = ['Adda','Dora','Emiliani1','Emiliani2','Garda_Mincio','Lambro_Olona','Oglio_Iseo','Piemonte_Nord','Piemonte_Sud','Ticino']\n",
    "path_targets = '/Users/paolo/Documents/OneDrive - Politecnico di Milano/droughts/csv_VHI/'\n",
    "targets_df_train = pd.DataFrame()\n",
    "targets_df_val = pd.DataFrame()\n",
    "targets_df_test = pd.DataFrame()\n",
    "targets_df_trainVal = pd.DataFrame()\n",
    "\n",
    "for basin in basins:\n",
    "    target_df_train,target_df_val,target_df_test,target_df_trainVal = prepare_target_binary('',max_train='2010-01-01', max_val='2015-01-01', max_test='2020-01-01', path=path_targets+basin+'.csv')\n",
    "    targets_df_train[basin] = target_df_train.mean_std\n",
    "    targets_df_val[basin] = target_df_val.mean_std\n",
    "    targets_df_test[basin] = target_df_test.mean_std\n",
    "    targets_df_trainVal[basin] = target_df_trainVal.mean_std\n",
    "    "
   ]
  },
  {
   "cell_type": "markdown",
   "id": "cdb86dc8",
   "metadata": {
    "heading_collapsed": true
   },
   "source": [
    "## Features"
   ]
  },
  {
   "cell_type": "code",
   "execution_count": 18,
   "id": "00e64c85",
   "metadata": {
    "hidden": true
   },
   "outputs": [],
   "source": [
    "### wrapper best 5 features\n",
    "path_features = '/Users/paolo/Documents/OneDrive - Politecnico di Milano/droughts/reduced_features_classification/'\n",
    "\n",
    "best5_wrapper_fulldf_train = pd.DataFrame()\n",
    "best5_wrapper_fulldf_val = pd.DataFrame()\n",
    "best5_wrapper_fulldf_test = pd.DataFrame()\n",
    "\n",
    "for basin in basins:\n",
    "    best5_wrapper_train_temp = pd.read_csv(path_features+basin+'_GenLinCFA_wrapper_best5_train_originalTarget.csv')\n",
    "    best5_wrapper_val_temp = pd.read_csv(path_features+basin+'_GenLinCFA_wrapper_best5_val_originalTarget.csv')\n",
    "    best5_wrapper_test_temp = pd.read_csv(path_features+basin+'_GenLinCFA_wrapper_best5_test_originalTarget.csv')\n",
    "    best5_wrapper_fulldf_train[basin+'_'+best5_wrapper_train_temp.columns.values] = best5_wrapper_train_temp\n",
    "    best5_wrapper_fulldf_val[basin+'_'+best5_wrapper_val_temp.columns.values] = best5_wrapper_val_temp\n",
    "    best5_wrapper_fulldf_test[basin+'_'+best5_wrapper_test_temp.columns.values] = best5_wrapper_test_temp\n"
   ]
  },
  {
   "cell_type": "code",
   "execution_count": 19,
   "id": "5ed3c261",
   "metadata": {
    "hidden": true
   },
   "outputs": [],
   "source": [
    "### CMI features\n",
    "path_features = '/Users/paolo/Documents/OneDrive - Politecnico di Milano/droughts/reduced_features_classification/'\n",
    "\n",
    "CMI_fulldf_train = pd.DataFrame()\n",
    "CMI_fulldf_val = pd.DataFrame()\n",
    "CMI_fulldf_test = pd.DataFrame()\n",
    "\n",
    "for basin in basins:\n",
    "    train_temp = pd.read_csv(path_features+basin+'_GenLinCFA_CMI_train_originalTarget.csv')\n",
    "    val_temp = pd.read_csv(path_features+basin+'_GenLinCFA_CMI_val_originalTarget.csv')\n",
    "    test_temp = pd.read_csv(path_features+basin+'_GenLinCFA_CMI_test_originalTarget.csv')\n",
    "    CMI_fulldf_train[basin+'_'+train_temp.columns.values] = train_temp\n",
    "    CMI_fulldf_val[basin+'_'+val_temp.columns.values] = val_temp\n",
    "    CMI_fulldf_test[basin+'_'+test_temp.columns.values] = test_temp\n",
    "    "
   ]
  },
  {
   "cell_type": "code",
   "execution_count": 20,
   "id": "1459af67",
   "metadata": {
    "hidden": true
   },
   "outputs": [],
   "source": [
    "### CMI best5 features\n",
    "path_features = '/Users/paolo/Documents/OneDrive - Politecnico di Milano/droughts/reduced_features_classification/'\n",
    "\n",
    "best5_CMI_fulldf_train = pd.DataFrame()\n",
    "best5_CMI_fulldf_val = pd.DataFrame()\n",
    "best5_CMI_fulldf_test = pd.DataFrame()\n",
    "\n",
    "for basin in basins:\n",
    "    train_temp = pd.read_csv(path_features+basin+'_GenLinCFA_best5_CMI_train_originalTarget.csv')\n",
    "    val_temp = pd.read_csv(path_features+basin+'_GenLinCFA_best5_CMI_val_originalTarget.csv')\n",
    "    test_temp = pd.read_csv(path_features+basin+'_GenLinCFA_best5_CMI_test_originalTarget.csv')\n",
    "    best5_CMI_fulldf_train[basin+'_'+train_temp.columns.values] = train_temp\n",
    "    best5_CMI_fulldf_val[basin+'_'+val_temp.columns.values] = val_temp\n",
    "    best5_CMI_fulldf_test[basin+'_'+test_temp.columns.values] = test_temp\n",
    "    "
   ]
  },
  {
   "cell_type": "markdown",
   "id": "6a32f0cb",
   "metadata": {},
   "source": [
    "## MTL linear regression"
   ]
  },
  {
   "cell_type": "code",
   "execution_count": 29,
   "id": "ae5a6097",
   "metadata": {},
   "outputs": [
    {
     "name": "stdout",
     "output_type": "stream",
     "text": [
      "Emiliani1\n",
      "0.7149122807017544\n",
      "Emiliani2\n",
      "0.6798245614035088\n",
      "Garda_Mincio\n",
      "0.706140350877193\n"
     ]
    },
    {
     "name": "stderr",
     "output_type": "stream",
     "text": [
      "/Users/paolo/opt/miniconda3/envs/tensorflow/lib/python3.9/site-packages/sklearn/utils/validation.py:1111: DataConversionWarning: A column-vector y was passed when a 1d array was expected. Please change the shape of y to (n_samples, ), for example using ravel().\n",
      "  y = column_or_1d(y, warn=True)\n",
      "/Users/paolo/opt/miniconda3/envs/tensorflow/lib/python3.9/site-packages/sklearn/base.py:450: UserWarning: X does not have valid feature names, but LogisticRegression was fitted with feature names\n",
      "  warnings.warn(\n",
      "/Users/paolo/opt/miniconda3/envs/tensorflow/lib/python3.9/site-packages/sklearn/base.py:450: UserWarning: X does not have valid feature names, but LogisticRegression was fitted with feature names\n",
      "  warnings.warn(\n",
      "/Users/paolo/opt/miniconda3/envs/tensorflow/lib/python3.9/site-packages/sklearn/base.py:450: UserWarning: X does not have valid feature names, but LogisticRegression was fitted with feature names\n",
      "  warnings.warn(\n"
     ]
    }
   ],
   "source": [
    "MTL_scores(clust_basins=['Emiliani1', 'Emiliani2', 'Garda_Mincio'], df_train=best5_wrapper_fulldf_train, df_val=best5_wrapper_fulldf_val, df_test=best5_wrapper_fulldf_test, targets_df_train=targets_df_train, targets_df_val=targets_df_val, targets_df_test=targets_df_test)\n"
   ]
  },
  {
   "cell_type": "code",
   "execution_count": 30,
   "id": "2353e44c",
   "metadata": {},
   "outputs": [
    {
     "name": "stdout",
     "output_type": "stream",
     "text": [
      "Emiliani1\n",
      "0.7368421052631579\n",
      "Emiliani2\n",
      "0.7280701754385965\n",
      "Garda_Mincio\n",
      "0.7236842105263158\n"
     ]
    },
    {
     "name": "stderr",
     "output_type": "stream",
     "text": [
      "/Users/paolo/opt/miniconda3/envs/tensorflow/lib/python3.9/site-packages/sklearn/utils/validation.py:1111: DataConversionWarning: A column-vector y was passed when a 1d array was expected. Please change the shape of y to (n_samples, ), for example using ravel().\n",
      "  y = column_or_1d(y, warn=True)\n",
      "/Users/paolo/opt/miniconda3/envs/tensorflow/lib/python3.9/site-packages/sklearn/base.py:450: UserWarning: X does not have valid feature names, but LogisticRegression was fitted with feature names\n",
      "  warnings.warn(\n",
      "/Users/paolo/opt/miniconda3/envs/tensorflow/lib/python3.9/site-packages/sklearn/base.py:450: UserWarning: X does not have valid feature names, but LogisticRegression was fitted with feature names\n",
      "  warnings.warn(\n",
      "/Users/paolo/opt/miniconda3/envs/tensorflow/lib/python3.9/site-packages/sklearn/base.py:450: UserWarning: X does not have valid feature names, but LogisticRegression was fitted with feature names\n",
      "  warnings.warn(\n"
     ]
    }
   ],
   "source": [
    "MTL_scores(clust_basins=['Emiliani1', 'Emiliani2', 'Garda_Mincio'], df_train=CMI_fulldf_train, df_val=CMI_fulldf_val, df_test=CMI_fulldf_test, targets_df_train=targets_df_train, targets_df_val=targets_df_val, targets_df_test=targets_df_test)\n"
   ]
  },
  {
   "cell_type": "code",
   "execution_count": 31,
   "id": "197966ce",
   "metadata": {},
   "outputs": [
    {
     "name": "stdout",
     "output_type": "stream",
     "text": [
      "Emiliani1\n",
      "0.706140350877193\n",
      "Emiliani2\n",
      "0.7149122807017544\n",
      "Garda_Mincio\n",
      "0.7236842105263158\n"
     ]
    },
    {
     "name": "stderr",
     "output_type": "stream",
     "text": [
      "/Users/paolo/opt/miniconda3/envs/tensorflow/lib/python3.9/site-packages/sklearn/utils/validation.py:1111: DataConversionWarning: A column-vector y was passed when a 1d array was expected. Please change the shape of y to (n_samples, ), for example using ravel().\n",
      "  y = column_or_1d(y, warn=True)\n",
      "/Users/paolo/opt/miniconda3/envs/tensorflow/lib/python3.9/site-packages/sklearn/base.py:450: UserWarning: X does not have valid feature names, but LogisticRegression was fitted with feature names\n",
      "  warnings.warn(\n",
      "/Users/paolo/opt/miniconda3/envs/tensorflow/lib/python3.9/site-packages/sklearn/base.py:450: UserWarning: X does not have valid feature names, but LogisticRegression was fitted with feature names\n",
      "  warnings.warn(\n",
      "/Users/paolo/opt/miniconda3/envs/tensorflow/lib/python3.9/site-packages/sklearn/base.py:450: UserWarning: X does not have valid feature names, but LogisticRegression was fitted with feature names\n",
      "  warnings.warn(\n"
     ]
    }
   ],
   "source": [
    "MTL_scores(clust_basins=['Emiliani1', 'Emiliani2', 'Garda_Mincio'], df_train=best5_CMI_fulldf_train, df_val=best5_CMI_fulldf_val, df_test=best5_CMI_fulldf_test, targets_df_train=targets_df_train, targets_df_val=targets_df_val, targets_df_test=targets_df_test)\n"
   ]
  },
  {
   "cell_type": "code",
   "execution_count": 32,
   "id": "0fba156c",
   "metadata": {},
   "outputs": [
    {
     "name": "stdout",
     "output_type": "stream",
     "text": [
      "Adda\n",
      "0.7105263157894737\n",
      "Lambro_Olona\n",
      "0.706140350877193\n",
      "Oglio_Iseo\n",
      "0.7017543859649122\n",
      "Ticino\n",
      "0.7894736842105263\n"
     ]
    },
    {
     "name": "stderr",
     "output_type": "stream",
     "text": [
      "/Users/paolo/opt/miniconda3/envs/tensorflow/lib/python3.9/site-packages/sklearn/utils/validation.py:1111: DataConversionWarning: A column-vector y was passed when a 1d array was expected. Please change the shape of y to (n_samples, ), for example using ravel().\n",
      "  y = column_or_1d(y, warn=True)\n",
      "/Users/paolo/opt/miniconda3/envs/tensorflow/lib/python3.9/site-packages/sklearn/linear_model/_logistic.py:444: ConvergenceWarning: lbfgs failed to converge (status=1):\n",
      "STOP: TOTAL NO. of ITERATIONS REACHED LIMIT.\n",
      "\n",
      "Increase the number of iterations (max_iter) or scale the data as shown in:\n",
      "    https://scikit-learn.org/stable/modules/preprocessing.html\n",
      "Please also refer to the documentation for alternative solver options:\n",
      "    https://scikit-learn.org/stable/modules/linear_model.html#logistic-regression\n",
      "  n_iter_i = _check_optimize_result(\n",
      "/Users/paolo/opt/miniconda3/envs/tensorflow/lib/python3.9/site-packages/sklearn/base.py:450: UserWarning: X does not have valid feature names, but LogisticRegression was fitted with feature names\n",
      "  warnings.warn(\n",
      "/Users/paolo/opt/miniconda3/envs/tensorflow/lib/python3.9/site-packages/sklearn/base.py:450: UserWarning: X does not have valid feature names, but LogisticRegression was fitted with feature names\n",
      "  warnings.warn(\n",
      "/Users/paolo/opt/miniconda3/envs/tensorflow/lib/python3.9/site-packages/sklearn/base.py:450: UserWarning: X does not have valid feature names, but LogisticRegression was fitted with feature names\n",
      "  warnings.warn(\n",
      "/Users/paolo/opt/miniconda3/envs/tensorflow/lib/python3.9/site-packages/sklearn/base.py:450: UserWarning: X does not have valid feature names, but LogisticRegression was fitted with feature names\n",
      "  warnings.warn(\n"
     ]
    }
   ],
   "source": [
    "MTL_scores(clust_basins=['Adda', 'Lambro_Olona', 'Oglio_Iseo', 'Ticino'], df_train=best5_wrapper_fulldf_train, df_val=best5_wrapper_fulldf_val, df_test=best5_wrapper_fulldf_test, targets_df_train=targets_df_train, targets_df_val=targets_df_val, targets_df_test=targets_df_test)\n"
   ]
  },
  {
   "cell_type": "code",
   "execution_count": 33,
   "id": "a330057b",
   "metadata": {},
   "outputs": [
    {
     "name": "stdout",
     "output_type": "stream",
     "text": [
      "Adda\n",
      "0.6929824561403509\n",
      "Lambro_Olona\n",
      "0.7149122807017544\n",
      "Oglio_Iseo\n",
      "0.7017543859649122\n",
      "Ticino\n",
      "0.7631578947368421\n"
     ]
    },
    {
     "name": "stderr",
     "output_type": "stream",
     "text": [
      "/Users/paolo/opt/miniconda3/envs/tensorflow/lib/python3.9/site-packages/sklearn/utils/validation.py:1111: DataConversionWarning: A column-vector y was passed when a 1d array was expected. Please change the shape of y to (n_samples, ), for example using ravel().\n",
      "  y = column_or_1d(y, warn=True)\n",
      "/Users/paolo/opt/miniconda3/envs/tensorflow/lib/python3.9/site-packages/sklearn/linear_model/_logistic.py:444: ConvergenceWarning: lbfgs failed to converge (status=1):\n",
      "STOP: TOTAL NO. of ITERATIONS REACHED LIMIT.\n",
      "\n",
      "Increase the number of iterations (max_iter) or scale the data as shown in:\n",
      "    https://scikit-learn.org/stable/modules/preprocessing.html\n",
      "Please also refer to the documentation for alternative solver options:\n",
      "    https://scikit-learn.org/stable/modules/linear_model.html#logistic-regression\n",
      "  n_iter_i = _check_optimize_result(\n",
      "/Users/paolo/opt/miniconda3/envs/tensorflow/lib/python3.9/site-packages/sklearn/base.py:450: UserWarning: X does not have valid feature names, but LogisticRegression was fitted with feature names\n",
      "  warnings.warn(\n",
      "/Users/paolo/opt/miniconda3/envs/tensorflow/lib/python3.9/site-packages/sklearn/base.py:450: UserWarning: X does not have valid feature names, but LogisticRegression was fitted with feature names\n",
      "  warnings.warn(\n",
      "/Users/paolo/opt/miniconda3/envs/tensorflow/lib/python3.9/site-packages/sklearn/base.py:450: UserWarning: X does not have valid feature names, but LogisticRegression was fitted with feature names\n",
      "  warnings.warn(\n",
      "/Users/paolo/opt/miniconda3/envs/tensorflow/lib/python3.9/site-packages/sklearn/base.py:450: UserWarning: X does not have valid feature names, but LogisticRegression was fitted with feature names\n",
      "  warnings.warn(\n"
     ]
    }
   ],
   "source": [
    "MTL_scores(clust_basins=['Adda', 'Lambro_Olona', 'Oglio_Iseo', 'Ticino'], df_train=CMI_fulldf_train, df_val=CMI_fulldf_val, df_test=CMI_fulldf_test, targets_df_train=targets_df_train, targets_df_val=targets_df_val, targets_df_test=targets_df_test)\n"
   ]
  },
  {
   "cell_type": "code",
   "execution_count": 34,
   "id": "4ff846a7",
   "metadata": {},
   "outputs": [
    {
     "name": "stdout",
     "output_type": "stream",
     "text": [
      "Adda\n",
      "0.7105263157894737\n",
      "Lambro_Olona\n",
      "0.6973684210526315\n",
      "Oglio_Iseo\n",
      "0.706140350877193\n",
      "Ticino\n",
      "0.7543859649122807\n"
     ]
    },
    {
     "name": "stderr",
     "output_type": "stream",
     "text": [
      "/Users/paolo/opt/miniconda3/envs/tensorflow/lib/python3.9/site-packages/sklearn/utils/validation.py:1111: DataConversionWarning: A column-vector y was passed when a 1d array was expected. Please change the shape of y to (n_samples, ), for example using ravel().\n",
      "  y = column_or_1d(y, warn=True)\n",
      "/Users/paolo/opt/miniconda3/envs/tensorflow/lib/python3.9/site-packages/sklearn/base.py:450: UserWarning: X does not have valid feature names, but LogisticRegression was fitted with feature names\n",
      "  warnings.warn(\n",
      "/Users/paolo/opt/miniconda3/envs/tensorflow/lib/python3.9/site-packages/sklearn/base.py:450: UserWarning: X does not have valid feature names, but LogisticRegression was fitted with feature names\n",
      "  warnings.warn(\n",
      "/Users/paolo/opt/miniconda3/envs/tensorflow/lib/python3.9/site-packages/sklearn/base.py:450: UserWarning: X does not have valid feature names, but LogisticRegression was fitted with feature names\n",
      "  warnings.warn(\n",
      "/Users/paolo/opt/miniconda3/envs/tensorflow/lib/python3.9/site-packages/sklearn/base.py:450: UserWarning: X does not have valid feature names, but LogisticRegression was fitted with feature names\n",
      "  warnings.warn(\n"
     ]
    }
   ],
   "source": [
    "MTL_scores(clust_basins=['Adda', 'Lambro_Olona', 'Oglio_Iseo', 'Ticino'], df_train=best5_CMI_fulldf_train, df_val=best5_CMI_fulldf_val, df_test=best5_CMI_fulldf_test, targets_df_train=targets_df_train, targets_df_val=targets_df_val, targets_df_test=targets_df_test)\n"
   ]
  },
  {
   "cell_type": "code",
   "execution_count": 21,
   "id": "f647f1e1",
   "metadata": {},
   "outputs": [
    {
     "name": "stdout",
     "output_type": "stream",
     "text": [
      "Dora\n",
      "0.7017543859649122\n",
      "Piemonte_Nord\n",
      "0.5614035087719298\n",
      "Piemonte_Sud\n",
      "0.5657894736842105\n"
     ]
    },
    {
     "name": "stderr",
     "output_type": "stream",
     "text": [
      "/Users/paolo/opt/miniconda3/envs/tensorflow/lib/python3.9/site-packages/sklearn/utils/validation.py:1111: DataConversionWarning: A column-vector y was passed when a 1d array was expected. Please change the shape of y to (n_samples, ), for example using ravel().\n",
      "  y = column_or_1d(y, warn=True)\n",
      "/Users/paolo/opt/miniconda3/envs/tensorflow/lib/python3.9/site-packages/sklearn/base.py:450: UserWarning: X does not have valid feature names, but LogisticRegression was fitted with feature names\n",
      "  warnings.warn(\n",
      "/Users/paolo/opt/miniconda3/envs/tensorflow/lib/python3.9/site-packages/sklearn/base.py:450: UserWarning: X does not have valid feature names, but LogisticRegression was fitted with feature names\n",
      "  warnings.warn(\n",
      "/Users/paolo/opt/miniconda3/envs/tensorflow/lib/python3.9/site-packages/sklearn/base.py:450: UserWarning: X does not have valid feature names, but LogisticRegression was fitted with feature names\n",
      "  warnings.warn(\n"
     ]
    }
   ],
   "source": [
    "MTL_scores(clust_basins=['Dora', 'Piemonte_Nord', 'Piemonte_Sud'], df_train=best5_wrapper_fulldf_train, df_val=best5_wrapper_fulldf_val, df_test=best5_wrapper_fulldf_test, targets_df_train=targets_df_train, targets_df_val=targets_df_val, targets_df_test=targets_df_test)\n"
   ]
  },
  {
   "cell_type": "code",
   "execution_count": 22,
   "id": "e5de6415",
   "metadata": {},
   "outputs": [
    {
     "name": "stdout",
     "output_type": "stream",
     "text": [
      "Piemonte_Nord\n",
      "0.5921052631578947\n",
      "Piemonte_Sud\n",
      "0.5921052631578947\n"
     ]
    },
    {
     "name": "stderr",
     "output_type": "stream",
     "text": [
      "/Users/paolo/opt/miniconda3/envs/tensorflow/lib/python3.9/site-packages/sklearn/utils/validation.py:1111: DataConversionWarning: A column-vector y was passed when a 1d array was expected. Please change the shape of y to (n_samples, ), for example using ravel().\n",
      "  y = column_or_1d(y, warn=True)\n",
      "/Users/paolo/opt/miniconda3/envs/tensorflow/lib/python3.9/site-packages/sklearn/base.py:450: UserWarning: X does not have valid feature names, but LogisticRegression was fitted with feature names\n",
      "  warnings.warn(\n",
      "/Users/paolo/opt/miniconda3/envs/tensorflow/lib/python3.9/site-packages/sklearn/base.py:450: UserWarning: X does not have valid feature names, but LogisticRegression was fitted with feature names\n",
      "  warnings.warn(\n"
     ]
    }
   ],
   "source": [
    "MTL_scores(clust_basins=['Piemonte_Nord', 'Piemonte_Sud'], df_train=best5_wrapper_fulldf_train, df_val=best5_wrapper_fulldf_val, df_test=best5_wrapper_fulldf_test, targets_df_train=targets_df_train, targets_df_val=targets_df_val, targets_df_test=targets_df_test)\n"
   ]
  },
  {
   "cell_type": "code",
   "execution_count": 23,
   "id": "7aa6944d",
   "metadata": {},
   "outputs": [
    {
     "name": "stdout",
     "output_type": "stream",
     "text": [
      "Dora\n",
      "0.7236842105263158\n",
      "Piemonte_Nord\n",
      "0.5921052631578947\n",
      "Piemonte_Sud\n",
      "0.5570175438596491\n"
     ]
    },
    {
     "name": "stderr",
     "output_type": "stream",
     "text": [
      "/Users/paolo/opt/miniconda3/envs/tensorflow/lib/python3.9/site-packages/sklearn/utils/validation.py:1111: DataConversionWarning: A column-vector y was passed when a 1d array was expected. Please change the shape of y to (n_samples, ), for example using ravel().\n",
      "  y = column_or_1d(y, warn=True)\n",
      "/Users/paolo/opt/miniconda3/envs/tensorflow/lib/python3.9/site-packages/sklearn/linear_model/_logistic.py:444: ConvergenceWarning: lbfgs failed to converge (status=1):\n",
      "STOP: TOTAL NO. of ITERATIONS REACHED LIMIT.\n",
      "\n",
      "Increase the number of iterations (max_iter) or scale the data as shown in:\n",
      "    https://scikit-learn.org/stable/modules/preprocessing.html\n",
      "Please also refer to the documentation for alternative solver options:\n",
      "    https://scikit-learn.org/stable/modules/linear_model.html#logistic-regression\n",
      "  n_iter_i = _check_optimize_result(\n",
      "/Users/paolo/opt/miniconda3/envs/tensorflow/lib/python3.9/site-packages/sklearn/base.py:450: UserWarning: X does not have valid feature names, but LogisticRegression was fitted with feature names\n",
      "  warnings.warn(\n",
      "/Users/paolo/opt/miniconda3/envs/tensorflow/lib/python3.9/site-packages/sklearn/base.py:450: UserWarning: X does not have valid feature names, but LogisticRegression was fitted with feature names\n",
      "  warnings.warn(\n",
      "/Users/paolo/opt/miniconda3/envs/tensorflow/lib/python3.9/site-packages/sklearn/base.py:450: UserWarning: X does not have valid feature names, but LogisticRegression was fitted with feature names\n",
      "  warnings.warn(\n"
     ]
    }
   ],
   "source": [
    "MTL_scores(clust_basins=['Dora', 'Piemonte_Nord', 'Piemonte_Sud'], df_train=CMI_fulldf_train, df_val=CMI_fulldf_val, df_test=CMI_fulldf_test, targets_df_train=targets_df_train, targets_df_val=targets_df_val, targets_df_test=targets_df_test)\n"
   ]
  },
  {
   "cell_type": "code",
   "execution_count": 24,
   "id": "ba962160",
   "metadata": {},
   "outputs": [
    {
     "name": "stdout",
     "output_type": "stream",
     "text": [
      "Piemonte_Nord\n",
      "0.6228070175438597\n",
      "Piemonte_Sud\n",
      "0.5921052631578947\n"
     ]
    },
    {
     "name": "stderr",
     "output_type": "stream",
     "text": [
      "/Users/paolo/opt/miniconda3/envs/tensorflow/lib/python3.9/site-packages/sklearn/utils/validation.py:1111: DataConversionWarning: A column-vector y was passed when a 1d array was expected. Please change the shape of y to (n_samples, ), for example using ravel().\n",
      "  y = column_or_1d(y, warn=True)\n",
      "/Users/paolo/opt/miniconda3/envs/tensorflow/lib/python3.9/site-packages/sklearn/base.py:450: UserWarning: X does not have valid feature names, but LogisticRegression was fitted with feature names\n",
      "  warnings.warn(\n",
      "/Users/paolo/opt/miniconda3/envs/tensorflow/lib/python3.9/site-packages/sklearn/base.py:450: UserWarning: X does not have valid feature names, but LogisticRegression was fitted with feature names\n",
      "  warnings.warn(\n"
     ]
    }
   ],
   "source": [
    "MTL_scores(clust_basins=['Piemonte_Nord', 'Piemonte_Sud'], df_train=CMI_fulldf_train, df_val=CMI_fulldf_val, df_test=CMI_fulldf_test, targets_df_train=targets_df_train, targets_df_val=targets_df_val, targets_df_test=targets_df_test)\n"
   ]
  },
  {
   "cell_type": "code",
   "execution_count": 25,
   "id": "2bd93079",
   "metadata": {
    "scrolled": true
   },
   "outputs": [
    {
     "name": "stdout",
     "output_type": "stream",
     "text": [
      "Dora\n",
      "0.6754385964912281\n",
      "Piemonte_Nord\n",
      "0.5833333333333334\n",
      "Piemonte_Sud\n",
      "0.5307017543859649\n"
     ]
    },
    {
     "name": "stderr",
     "output_type": "stream",
     "text": [
      "/Users/paolo/opt/miniconda3/envs/tensorflow/lib/python3.9/site-packages/sklearn/utils/validation.py:1111: DataConversionWarning: A column-vector y was passed when a 1d array was expected. Please change the shape of y to (n_samples, ), for example using ravel().\n",
      "  y = column_or_1d(y, warn=True)\n",
      "/Users/paolo/opt/miniconda3/envs/tensorflow/lib/python3.9/site-packages/sklearn/base.py:450: UserWarning: X does not have valid feature names, but LogisticRegression was fitted with feature names\n",
      "  warnings.warn(\n",
      "/Users/paolo/opt/miniconda3/envs/tensorflow/lib/python3.9/site-packages/sklearn/base.py:450: UserWarning: X does not have valid feature names, but LogisticRegression was fitted with feature names\n",
      "  warnings.warn(\n",
      "/Users/paolo/opt/miniconda3/envs/tensorflow/lib/python3.9/site-packages/sklearn/base.py:450: UserWarning: X does not have valid feature names, but LogisticRegression was fitted with feature names\n",
      "  warnings.warn(\n"
     ]
    }
   ],
   "source": [
    "MTL_scores(clust_basins=['Dora', 'Piemonte_Nord', 'Piemonte_Sud'], df_train=best5_CMI_fulldf_train, df_val=best5_CMI_fulldf_val, df_test=best5_CMI_fulldf_test, targets_df_train=targets_df_train, targets_df_val=targets_df_val, targets_df_test=targets_df_test)\n"
   ]
  },
  {
   "cell_type": "code",
   "execution_count": 26,
   "id": "bce225e4",
   "metadata": {},
   "outputs": [
    {
     "name": "stdout",
     "output_type": "stream",
     "text": [
      "Piemonte_Nord\n",
      "0.6096491228070176\n",
      "Piemonte_Sud\n",
      "0.5833333333333334\n"
     ]
    },
    {
     "name": "stderr",
     "output_type": "stream",
     "text": [
      "/Users/paolo/opt/miniconda3/envs/tensorflow/lib/python3.9/site-packages/sklearn/utils/validation.py:1111: DataConversionWarning: A column-vector y was passed when a 1d array was expected. Please change the shape of y to (n_samples, ), for example using ravel().\n",
      "  y = column_or_1d(y, warn=True)\n",
      "/Users/paolo/opt/miniconda3/envs/tensorflow/lib/python3.9/site-packages/sklearn/base.py:450: UserWarning: X does not have valid feature names, but LogisticRegression was fitted with feature names\n",
      "  warnings.warn(\n",
      "/Users/paolo/opt/miniconda3/envs/tensorflow/lib/python3.9/site-packages/sklearn/base.py:450: UserWarning: X does not have valid feature names, but LogisticRegression was fitted with feature names\n",
      "  warnings.warn(\n"
     ]
    }
   ],
   "source": [
    "MTL_scores(clust_basins=['Piemonte_Nord', 'Piemonte_Sud'], df_train=best5_CMI_fulldf_train, df_val=best5_CMI_fulldf_val, df_test=best5_CMI_fulldf_test, targets_df_train=targets_df_train, targets_df_val=targets_df_val, targets_df_test=targets_df_test)\n"
   ]
  },
  {
   "cell_type": "markdown",
   "id": "3ae31d3a",
   "metadata": {
    "heading_collapsed": true
   },
   "source": [
    "# With snow"
   ]
  },
  {
   "cell_type": "markdown",
   "id": "8b31ebcb",
   "metadata": {
    "heading_collapsed": true,
    "hidden": true
   },
   "source": [
    "## Target"
   ]
  },
  {
   "cell_type": "code",
   "execution_count": 38,
   "id": "1f7fda19",
   "metadata": {
    "hidden": true
   },
   "outputs": [
    {
     "name": "stdout",
     "output_type": "stream",
     "text": [
      "target samples:            date      mean  median  year  week  mean_std\n",
      "0    2001-01-05  0.039373    0.00  2001     1 -2.546951\n",
      "1    2001-01-13  0.380618    0.43  2001     2 -0.277191\n",
      "2    2001-01-21  0.341985    0.38  2001     3 -0.534156\n",
      "3    2001-01-29  0.322044    0.35  2001     5 -0.666789\n",
      "4    2001-02-06  0.354954    0.40  2001     6 -0.447894\n",
      "..          ...       ...     ...   ...   ...       ...\n",
      "406  2009-11-27  0.382706    0.40  2009    48 -0.263306\n",
      "407  2009-12-05  0.409921    0.46  2009    49 -0.082282\n",
      "408  2009-12-13  0.472087    0.53  2009    50  0.331204\n",
      "409  2009-12-21  0.324728    0.00  2009    52 -0.648940\n",
      "410  2009-12-29  0.086512    0.00  2009    53 -2.233412\n",
      "\n",
      "[411 rows x 6 columns]\n",
      " target shapes: ((411, 6), (228, 6), (639, 6), (228, 6))\n",
      "target samples:            date      mean  median  year  week  mean_std\n",
      "0    2001-01-05  0.010645    0.00  2001     1 -2.129508\n",
      "1    2001-01-13  0.206769    0.00  2001     2 -0.927136\n",
      "2    2001-01-21  0.267313    0.00  2001     3 -0.555958\n",
      "3    2001-01-29  0.240836    0.20  2001     5 -0.718282\n",
      "4    2001-02-06  0.193417    0.15  2001     6 -1.008995\n",
      "..          ...       ...     ...   ...   ...       ...\n",
      "406  2009-11-27  0.230073    0.25  2009    48 -0.784269\n",
      "407  2009-12-05  0.243632    0.24  2009    49 -0.701139\n",
      "408  2009-12-13  0.251111    0.00  2009    50 -0.655289\n",
      "409  2009-12-21  0.099246    0.00  2009    52 -1.586325\n",
      "410  2009-12-29  0.064990    0.00  2009    53 -1.796340\n",
      "\n",
      "[411 rows x 6 columns]\n",
      " target shapes: ((411, 6), (228, 6), (639, 6), (228, 6))\n",
      "target samples:            date      mean  median  year  week  mean_std\n",
      "0    2001-01-05  0.379890    0.50  2001     1 -0.382765\n",
      "1    2001-01-13  0.482679    0.58  2001     2  0.319215\n",
      "2    2001-01-21  0.516259    0.59  2001     3  0.548542\n",
      "3    2001-01-29  0.434421    0.50  2001     5 -0.010351\n",
      "4    2001-02-06  0.494805    0.54  2001     6  0.402030\n",
      "..          ...       ...     ...   ...   ...       ...\n",
      "406  2009-11-27  0.427085    0.43  2009    48 -0.060454\n",
      "407  2009-12-05  0.547380    0.57  2009    49  0.761079\n",
      "408  2009-12-13  0.531070    0.58  2009    50  0.649694\n",
      "409  2009-12-21  0.295704    0.00  2009    52 -0.957702\n",
      "410  2009-12-29  0.027861    0.00  2009    53 -2.786888\n",
      "\n",
      "[411 rows x 6 columns]\n",
      " target shapes: ((411, 6), (228, 6), (639, 6), (228, 6))\n",
      "target samples:            date      mean  median  year  week  mean_std\n",
      "0    2001-01-05  0.214281    0.00  2001     1 -1.339879\n",
      "1    2001-01-13  0.484737    0.52  2001     2  0.402993\n",
      "2    2001-01-21  0.466071    0.47  2001     3  0.282703\n",
      "3    2001-01-29  0.417470    0.44  2001     5 -0.030490\n",
      "4    2001-02-06  0.492202    0.53  2001     6  0.451097\n",
      "..          ...       ...     ...   ...   ...       ...\n",
      "406  2009-11-27  0.436464    0.46  2009    48  0.091910\n",
      "407  2009-12-05  0.466152    0.49  2009    49  0.283224\n",
      "408  2009-12-13  0.553659    0.59  2009    50  0.847138\n",
      "409  2009-12-21  0.507978    0.65  2009    52  0.552758\n",
      "410  2009-12-29  0.083046    0.00  2009    53 -2.185583\n",
      "\n",
      "[411 rows x 6 columns]\n",
      " target shapes: ((411, 6), (228, 6), (639, 6), (228, 6))\n",
      "target samples:            date      mean  median  year  week  mean_std\n",
      "0    2001-01-05  0.102270    0.00  2001     1 -1.996014\n",
      "1    2001-01-13  0.454431    0.53  2001     2  0.498869\n",
      "2    2001-01-21  0.323514    0.32  2001     3 -0.428613\n",
      "3    2001-01-29  0.301661    0.31  2001     5 -0.583432\n",
      "4    2001-02-06  0.394733    0.44  2001     6  0.075938\n",
      "..          ...       ...     ...   ...   ...       ...\n",
      "406  2009-11-27  0.388573    0.44  2009    48  0.032299\n",
      "407  2009-12-05  0.402760    0.47  2009    49  0.132804\n",
      "408  2009-12-13  0.353782    0.44  2009    50 -0.214182\n",
      "409  2009-12-21  0.043947    0.00  2009    52 -2.409204\n",
      "410  2009-12-29  0.006670    0.00  2009    53 -2.673294\n",
      "\n",
      "[411 rows x 6 columns]\n",
      " target shapes: ((411, 6), (228, 6), (639, 6), (228, 6))\n",
      "target samples:            date      mean  median  year  week  mean_std\n",
      "0    2001-01-05  0.369625    0.45  2001     1 -0.439541\n",
      "1    2001-01-13  0.429563    0.43  2001     2 -0.019547\n",
      "2    2001-01-21  0.470784    0.48  2001     3  0.269293\n",
      "3    2001-01-29  0.370358    0.37  2001     5 -0.434406\n",
      "4    2001-02-06  0.372263    0.37  2001     6 -0.421060\n",
      "..          ...       ...     ...   ...   ...       ...\n",
      "406  2009-11-27  0.402059    0.40  2009    48 -0.212272\n",
      "407  2009-12-05  0.389658    0.39  2009    49 -0.299172\n",
      "408  2009-12-13  0.545184    0.56  2009    50  0.790614\n",
      "409  2009-12-21  0.447916    0.55  2009    52  0.109054\n",
      "410  2009-12-29  0.277300    0.32  2009    53 -1.086474\n",
      "\n",
      "[411 rows x 6 columns]\n",
      " target shapes: ((411, 6), (228, 6), (639, 6), (228, 6))\n",
      "target samples:            date      mean  median  year  week  mean_std\n",
      "0    2001-01-05  0.243674    0.26  2001     1 -1.223671\n",
      "1    2001-01-13  0.424116    0.44  2001     2 -0.087252\n",
      "2    2001-01-21  0.393786    0.39  2001     3 -0.278268\n",
      "3    2001-01-29  0.314939    0.31  2001     5 -0.774846\n",
      "4    2001-02-06  0.464902    0.48  2001     6  0.169616\n",
      "..          ...       ...     ...   ...   ...       ...\n",
      "406  2009-11-27  0.465734    0.48  2009    48  0.174854\n",
      "407  2009-12-05  0.447390    0.47  2009    49  0.059327\n",
      "408  2009-12-13  0.556760    0.59  2009    50  0.748131\n",
      "409  2009-12-21  0.307880    0.00  2009    52 -0.819305\n",
      "410  2009-12-29  0.034211    0.00  2009    53 -2.542862\n",
      "\n",
      "[411 rows x 6 columns]\n",
      " target shapes: ((411, 6), (228, 6), (639, 6), (228, 6))\n",
      "target samples:            date      mean  median  year  week  mean_std\n",
      "0    2001-01-05  0.278983    0.00  2001     1 -1.146332\n",
      "1    2001-01-13  0.494910    0.51  2001     2  0.371173\n",
      "2    2001-01-21  0.496092    0.51  2001     3  0.379474\n",
      "3    2001-01-29  0.427992    0.43  2001     5 -0.099118\n",
      "4    2001-02-06  0.400512    0.41  2001     6 -0.292244\n",
      "..          ...       ...     ...   ...   ...       ...\n",
      "406  2009-11-27  0.363952    0.37  2009    48 -0.549184\n",
      "407  2009-12-05  0.400487    0.40  2009    49 -0.292423\n",
      "408  2009-12-13  0.506771    0.52  2009    50  0.454529\n",
      "409  2009-12-21  0.387530    0.53  2009    52 -0.383480\n",
      "410  2009-12-29  0.279894    0.27  2009    53 -1.139931\n",
      "\n",
      "[411 rows x 6 columns]\n",
      " target shapes: ((411, 6), (228, 6), (639, 6), (228, 6))\n",
      "target samples:            date      mean  median  year  week  mean_std\n",
      "0    2001-01-05  0.278060    0.09  2001     1 -0.967137\n",
      "1    2001-01-13  0.445159    0.48  2001     2  0.070382\n",
      "2    2001-01-21  0.488982    0.52  2001     3  0.342478\n",
      "3    2001-01-29  0.362487    0.37  2001     5 -0.442927\n",
      "4    2001-02-06  0.430732    0.45  2001     6 -0.019192\n",
      "..          ...       ...     ...   ...   ...       ...\n",
      "406  2009-11-27  0.430379    0.44  2009    48 -0.021388\n",
      "407  2009-12-05  0.419919    0.43  2009    49 -0.086330\n",
      "408  2009-12-13  0.526648    0.55  2009    50  0.576347\n",
      "409  2009-12-21  0.457440    0.61  2009    52  0.146632\n",
      "410  2009-12-29  0.301938    0.38  2009    53 -0.818877\n",
      "\n",
      "[411 rows x 6 columns]\n",
      " target shapes: ((411, 6), (228, 6), (639, 6), (228, 6))\n",
      "target samples:            date      mean  median  year  week  mean_std\n",
      "0    2001-01-05  0.264043    0.00  2001     1 -1.060146\n",
      "1    2001-01-13  0.354618    0.39  2001     2 -0.405065\n",
      "2    2001-01-21  0.427990    0.47  2001     3  0.125603\n",
      "3    2001-01-29  0.339495    0.35  2001     5 -0.514438\n",
      "4    2001-02-06  0.324134    0.34  2001     6 -0.625540\n",
      "..          ...       ...     ...   ...   ...       ...\n",
      "406  2009-11-27  0.332713    0.35  2009    48 -0.563495\n",
      "407  2009-12-05  0.370253    0.40  2009    49 -0.291984\n",
      "408  2009-12-13  0.517201    0.57  2009    50  0.770822\n",
      "409  2009-12-21  0.353636    0.45  2009    52 -0.412164\n",
      "410  2009-12-29  0.261079    0.00  2009    53 -1.081585\n",
      "\n",
      "[411 rows x 6 columns]\n",
      " target shapes: ((411, 6), (228, 6), (639, 6), (228, 6))\n"
     ]
    }
   ],
   "source": [
    "### targets\n",
    "basins = ['Adda','Dora','Emiliani1','Emiliani2','Garda_Mincio','Lambro_Olona','Oglio_Iseo','Piemonte_Nord','Piemonte_Sud','Ticino']\n",
    "path_targets = '/Users/paolo/Documents/OneDrive - Politecnico di Milano/droughts/csv_VHI/'\n",
    "targets_df_train = pd.DataFrame()\n",
    "targets_df_val = pd.DataFrame()\n",
    "targets_df_test = pd.DataFrame()\n",
    "targets_df_trainVal = pd.DataFrame()\n",
    "\n",
    "for basin in basins:\n",
    "    target_df_train,target_df_val,target_df_test,target_df_trainVal = prepare_target('',max_train='2010-01-01', max_val='2015-01-01', max_test='2020-01-01', path=path_targets+basin+'.csv')\n",
    "    targets_df_train[basin] = target_df_train.apply(lambda x: np.sign(x.mean_std), axis=1)\n",
    "    targets_df_val[basin] = target_df_val.apply(lambda x: np.sign(x.mean_std), axis=1)\n",
    "    targets_df_test[basin] = target_df_test.apply(lambda x: np.sign(x.mean_std), axis=1)\n",
    "    targets_df_trainVal[basin] = target_df_trainVal.apply(lambda x: np.sign(x.mean_std), axis=1)\n",
    "    "
   ]
  },
  {
   "cell_type": "markdown",
   "id": "02467f12",
   "metadata": {
    "heading_collapsed": true,
    "hidden": true
   },
   "source": [
    "## Features"
   ]
  },
  {
   "cell_type": "code",
   "execution_count": 40,
   "id": "63a4b914",
   "metadata": {
    "hidden": true
   },
   "outputs": [],
   "source": [
    "### wrapper best 5 features\n",
    "path_features = '/Users/paolo/Documents/OneDrive - Politecnico di Milano/droughts/reduced_features_classification/'\n",
    "\n",
    "best5_wrapper_fulldf_train = pd.DataFrame()\n",
    "best5_wrapper_fulldf_val = pd.DataFrame()\n",
    "best5_wrapper_fulldf_test = pd.DataFrame()\n",
    "\n",
    "for basin in ['Adda','Dora','Piemonte_Nord','Piemonte_Sud','Ticino']:\n",
    "    best5_wrapper_train_temp = pd.read_csv(path_features+basin+'_GenLinCFA_wrapper_best5_train_withSnow_class.csv')\n",
    "    best5_wrapper_val_temp = pd.read_csv(path_features+basin+'_GenLinCFA_wrapper_best5_val_withSnow_class.csv')\n",
    "    best5_wrapper_test_temp = pd.read_csv(path_features+basin+'_GenLinCFA_wrapper_best5_test_withSnow_class.csv')\n",
    "    best5_wrapper_fulldf_train[basin+'_'+best5_wrapper_train_temp.columns.values] = best5_wrapper_train_temp\n",
    "    best5_wrapper_fulldf_val[basin+'_'+best5_wrapper_val_temp.columns.values] = best5_wrapper_val_temp\n",
    "    best5_wrapper_fulldf_test[basin+'_'+best5_wrapper_test_temp.columns.values] = best5_wrapper_test_temp\n",
    "\n",
    "for basin in ['Emiliani1','Emiliani2','Garda_Mincio','Lambro_Olona','Oglio_Iseo']:\n",
    "    best5_wrapper_train_temp = pd.read_csv(path_features+basin+'_GenLinCFA_wrapper_best5_train.csv')\n",
    "    best5_wrapper_val_temp = pd.read_csv(path_features+basin+'_GenLinCFA_wrapper_best5_val.csv')\n",
    "    best5_wrapper_test_temp = pd.read_csv(path_features+basin+'_GenLinCFA_wrapper_best5_test.csv')\n",
    "    best5_wrapper_fulldf_train[basin+'_'+best5_wrapper_train_temp.columns.values] = best5_wrapper_train_temp\n",
    "    best5_wrapper_fulldf_val[basin+'_'+best5_wrapper_val_temp.columns.values] = best5_wrapper_val_temp\n",
    "    best5_wrapper_fulldf_test[basin+'_'+best5_wrapper_test_temp.columns.values] = best5_wrapper_test_temp\n"
   ]
  },
  {
   "cell_type": "code",
   "execution_count": 41,
   "id": "766da20d",
   "metadata": {
    "hidden": true
   },
   "outputs": [],
   "source": [
    "### CMI features\n",
    "path_features = '/Users/paolo/Documents/OneDrive - Politecnico di Milano/droughts/reduced_features_classification/'\n",
    "\n",
    "CMI_fulldf_train = pd.DataFrame()\n",
    "CMI_fulldf_val = pd.DataFrame()\n",
    "CMI_fulldf_test = pd.DataFrame()\n",
    "\n",
    "for basin in ['Emiliani1','Emiliani2','Garda_Mincio','Lambro_Olona','Oglio_Iseo']:\n",
    "    train_temp = pd.read_csv(path_features+basin+'_GenLinCFA_CMI_train.csv')\n",
    "    val_temp = pd.read_csv(path_features+basin+'_GenLinCFA_CMI_val.csv')\n",
    "    test_temp = pd.read_csv(path_features+basin+'_GenLinCFA_CMI_test.csv')\n",
    "    CMI_fulldf_train[basin+'_'+train_temp.columns.values] = train_temp\n",
    "    CMI_fulldf_val[basin+'_'+val_temp.columns.values] = val_temp\n",
    "    CMI_fulldf_test[basin+'_'+test_temp.columns.values] = test_temp\n",
    "\n",
    "for basin in ['Adda','Dora','Piemonte_Nord','Piemonte_Sud','Ticino']:\n",
    "    train_temp = pd.read_csv(path_features+basin+'_GenLinCFA_CMI_train_withSnow_class.csv')\n",
    "    val_temp = pd.read_csv(path_features+basin+'_GenLinCFA_CMI_val_withSnow_class.csv')\n",
    "    test_temp = pd.read_csv(path_features+basin+'_GenLinCFA_CMI_test_withSnow_class.csv')\n",
    "    CMI_fulldf_train[basin+'_'+train_temp.columns.values] = train_temp\n",
    "    CMI_fulldf_val[basin+'_'+val_temp.columns.values] = val_temp\n",
    "    CMI_fulldf_test[basin+'_'+test_temp.columns.values] = test_temp"
   ]
  },
  {
   "cell_type": "code",
   "execution_count": 42,
   "id": "7f831fa4",
   "metadata": {
    "hidden": true
   },
   "outputs": [],
   "source": [
    "### CMI best5 features\n",
    "path_features = '/Users/paolo/Documents/OneDrive - Politecnico di Milano/droughts/reduced_features_classification/'\n",
    "\n",
    "best5_CMI_fulldf_train = pd.DataFrame()\n",
    "best5_CMI_fulldf_val = pd.DataFrame()\n",
    "best5_CMI_fulldf_test = pd.DataFrame()\n",
    "\n",
    "for basin in ['Emiliani1','Emiliani2','Garda_Mincio','Lambro_Olona','Oglio_Iseo']:\n",
    "    train_temp = pd.read_csv(path_features+basin+'_GenLinCFA_best5_CMI_train.csv')\n",
    "    val_temp = pd.read_csv(path_features+basin+'_GenLinCFA_best5_CMI_val.csv')\n",
    "    test_temp = pd.read_csv(path_features+basin+'_GenLinCFA_best5_CMI_test.csv')\n",
    "    best5_CMI_fulldf_train[basin+'_'+train_temp.columns.values] = train_temp\n",
    "    best5_CMI_fulldf_val[basin+'_'+val_temp.columns.values] = val_temp\n",
    "    best5_CMI_fulldf_test[basin+'_'+test_temp.columns.values] = test_temp\n",
    "\n",
    "for basin in ['Adda','Dora','Piemonte_Nord','Piemonte_Sud','Ticino']:\n",
    "    train_temp = pd.read_csv(path_features+basin+'_GenLinCFA_best5_CMI_train_withSnow_class.csv')\n",
    "    val_temp = pd.read_csv(path_features+basin+'_GenLinCFA_best5_CMI_val_withSnow_class.csv')\n",
    "    test_temp = pd.read_csv(path_features+basin+'_GenLinCFA_best5_CMI_test_withSnow_class.csv')\n",
    "    best5_CMI_fulldf_train[basin+'_'+train_temp.columns.values] = train_temp\n",
    "    best5_CMI_fulldf_val[basin+'_'+val_temp.columns.values] = val_temp\n",
    "    best5_CMI_fulldf_test[basin+'_'+test_temp.columns.values] = test_temp\n",
    "    "
   ]
  },
  {
   "cell_type": "markdown",
   "id": "0ea8d525",
   "metadata": {
    "heading_collapsed": true,
    "hidden": true
   },
   "source": [
    "## MTL"
   ]
  },
  {
   "cell_type": "code",
   "execution_count": 45,
   "id": "a109cf24",
   "metadata": {
    "hidden": true
   },
   "outputs": [
    {
     "name": "stdout",
     "output_type": "stream",
     "text": [
      "Adda\n",
      "0.6271929824561403\n",
      "Lambro_Olona\n",
      "0.6403508771929824\n",
      "Oglio_Iseo\n",
      "0.6622807017543859\n",
      "Ticino\n",
      "0.6491228070175439\n"
     ]
    },
    {
     "name": "stderr",
     "output_type": "stream",
     "text": [
      "/Users/paolo/opt/miniconda3/envs/tensorflow/lib/python3.9/site-packages/sklearn/utils/validation.py:1111: DataConversionWarning: A column-vector y was passed when a 1d array was expected. Please change the shape of y to (n_samples, ), for example using ravel().\n",
      "  y = column_or_1d(y, warn=True)\n",
      "/Users/paolo/opt/miniconda3/envs/tensorflow/lib/python3.9/site-packages/sklearn/base.py:450: UserWarning: X does not have valid feature names, but LogisticRegression was fitted with feature names\n",
      "  warnings.warn(\n",
      "/Users/paolo/opt/miniconda3/envs/tensorflow/lib/python3.9/site-packages/sklearn/base.py:450: UserWarning: X does not have valid feature names, but LogisticRegression was fitted with feature names\n",
      "  warnings.warn(\n",
      "/Users/paolo/opt/miniconda3/envs/tensorflow/lib/python3.9/site-packages/sklearn/base.py:450: UserWarning: X does not have valid feature names, but LogisticRegression was fitted with feature names\n",
      "  warnings.warn(\n",
      "/Users/paolo/opt/miniconda3/envs/tensorflow/lib/python3.9/site-packages/sklearn/base.py:450: UserWarning: X does not have valid feature names, but LogisticRegression was fitted with feature names\n",
      "  warnings.warn(\n"
     ]
    }
   ],
   "source": [
    "MTL_scores(clust_basins=['Adda', 'Lambro_Olona', 'Oglio_Iseo', 'Ticino'], df_train=best5_wrapper_fulldf_train, df_val=best5_wrapper_fulldf_val, df_test=best5_wrapper_fulldf_test, targets_df_train=targets_df_train, targets_df_val=targets_df_val, targets_df_test=targets_df_test)\n"
   ]
  },
  {
   "cell_type": "code",
   "execution_count": 46,
   "id": "a8325050",
   "metadata": {
    "hidden": true
   },
   "outputs": [
    {
     "name": "stdout",
     "output_type": "stream",
     "text": [
      "Adda\n",
      "0.6798245614035088\n",
      "Lambro_Olona\n",
      "0.6885964912280702\n",
      "Oglio_Iseo\n",
      "0.6578947368421053\n",
      "Ticino\n",
      "0.7017543859649122\n"
     ]
    },
    {
     "name": "stderr",
     "output_type": "stream",
     "text": [
      "/Users/paolo/opt/miniconda3/envs/tensorflow/lib/python3.9/site-packages/sklearn/utils/validation.py:1111: DataConversionWarning: A column-vector y was passed when a 1d array was expected. Please change the shape of y to (n_samples, ), for example using ravel().\n",
      "  y = column_or_1d(y, warn=True)\n",
      "/Users/paolo/opt/miniconda3/envs/tensorflow/lib/python3.9/site-packages/sklearn/base.py:450: UserWarning: X does not have valid feature names, but LogisticRegression was fitted with feature names\n",
      "  warnings.warn(\n",
      "/Users/paolo/opt/miniconda3/envs/tensorflow/lib/python3.9/site-packages/sklearn/base.py:450: UserWarning: X does not have valid feature names, but LogisticRegression was fitted with feature names\n",
      "  warnings.warn(\n",
      "/Users/paolo/opt/miniconda3/envs/tensorflow/lib/python3.9/site-packages/sklearn/base.py:450: UserWarning: X does not have valid feature names, but LogisticRegression was fitted with feature names\n",
      "  warnings.warn(\n",
      "/Users/paolo/opt/miniconda3/envs/tensorflow/lib/python3.9/site-packages/sklearn/base.py:450: UserWarning: X does not have valid feature names, but LogisticRegression was fitted with feature names\n",
      "  warnings.warn(\n"
     ]
    }
   ],
   "source": [
    "MTL_scores(clust_basins=['Adda', 'Lambro_Olona', 'Oglio_Iseo', 'Ticino'], df_train=CMI_fulldf_train, df_val=CMI_fulldf_val, df_test=CMI_fulldf_test, targets_df_train=targets_df_train, targets_df_val=targets_df_val, targets_df_test=targets_df_test)\n"
   ]
  },
  {
   "cell_type": "code",
   "execution_count": 47,
   "id": "d53d2a49",
   "metadata": {
    "hidden": true
   },
   "outputs": [
    {
     "name": "stdout",
     "output_type": "stream",
     "text": [
      "Adda\n",
      "0.6842105263157895\n",
      "Lambro_Olona\n",
      "0.6842105263157895\n",
      "Oglio_Iseo\n",
      "0.6447368421052632\n",
      "Ticino\n",
      "0.706140350877193\n"
     ]
    },
    {
     "name": "stderr",
     "output_type": "stream",
     "text": [
      "/Users/paolo/opt/miniconda3/envs/tensorflow/lib/python3.9/site-packages/sklearn/utils/validation.py:1111: DataConversionWarning: A column-vector y was passed when a 1d array was expected. Please change the shape of y to (n_samples, ), for example using ravel().\n",
      "  y = column_or_1d(y, warn=True)\n",
      "/Users/paolo/opt/miniconda3/envs/tensorflow/lib/python3.9/site-packages/sklearn/base.py:450: UserWarning: X does not have valid feature names, but LogisticRegression was fitted with feature names\n",
      "  warnings.warn(\n",
      "/Users/paolo/opt/miniconda3/envs/tensorflow/lib/python3.9/site-packages/sklearn/base.py:450: UserWarning: X does not have valid feature names, but LogisticRegression was fitted with feature names\n",
      "  warnings.warn(\n",
      "/Users/paolo/opt/miniconda3/envs/tensorflow/lib/python3.9/site-packages/sklearn/base.py:450: UserWarning: X does not have valid feature names, but LogisticRegression was fitted with feature names\n",
      "  warnings.warn(\n",
      "/Users/paolo/opt/miniconda3/envs/tensorflow/lib/python3.9/site-packages/sklearn/base.py:450: UserWarning: X does not have valid feature names, but LogisticRegression was fitted with feature names\n",
      "  warnings.warn(\n"
     ]
    }
   ],
   "source": [
    "MTL_scores(clust_basins=['Adda', 'Lambro_Olona', 'Oglio_Iseo', 'Ticino'], df_train=best5_CMI_fulldf_train, df_val=best5_CMI_fulldf_val, df_test=best5_CMI_fulldf_test, targets_df_train=targets_df_train, targets_df_val=targets_df_val, targets_df_test=targets_df_test)\n"
   ]
  },
  {
   "cell_type": "code",
   "execution_count": 48,
   "id": "91d3b5f4",
   "metadata": {
    "hidden": true
   },
   "outputs": [
    {
     "name": "stdout",
     "output_type": "stream",
     "text": [
      "Dora\n",
      "0.5745614035087719\n",
      "Piemonte_Nord\n",
      "0.618421052631579\n",
      "Piemonte_Sud\n",
      "0.6403508771929824\n"
     ]
    },
    {
     "name": "stderr",
     "output_type": "stream",
     "text": [
      "/Users/paolo/opt/miniconda3/envs/tensorflow/lib/python3.9/site-packages/sklearn/utils/validation.py:1111: DataConversionWarning: A column-vector y was passed when a 1d array was expected. Please change the shape of y to (n_samples, ), for example using ravel().\n",
      "  y = column_or_1d(y, warn=True)\n",
      "/Users/paolo/opt/miniconda3/envs/tensorflow/lib/python3.9/site-packages/sklearn/base.py:450: UserWarning: X does not have valid feature names, but LogisticRegression was fitted with feature names\n",
      "  warnings.warn(\n",
      "/Users/paolo/opt/miniconda3/envs/tensorflow/lib/python3.9/site-packages/sklearn/base.py:450: UserWarning: X does not have valid feature names, but LogisticRegression was fitted with feature names\n",
      "  warnings.warn(\n",
      "/Users/paolo/opt/miniconda3/envs/tensorflow/lib/python3.9/site-packages/sklearn/base.py:450: UserWarning: X does not have valid feature names, but LogisticRegression was fitted with feature names\n",
      "  warnings.warn(\n"
     ]
    }
   ],
   "source": [
    "MTL_scores(clust_basins=['Dora', 'Piemonte_Nord', 'Piemonte_Sud'], df_train=best5_wrapper_fulldf_train, df_val=best5_wrapper_fulldf_val, df_test=best5_wrapper_fulldf_test, targets_df_train=targets_df_train, targets_df_val=targets_df_val, targets_df_test=targets_df_test)\n"
   ]
  },
  {
   "cell_type": "code",
   "execution_count": 49,
   "id": "98f272a4",
   "metadata": {
    "hidden": true
   },
   "outputs": [
    {
     "name": "stdout",
     "output_type": "stream",
     "text": [
      "Dora\n",
      "0.4517543859649123\n",
      "Piemonte_Nord\n",
      "0.5131578947368421\n",
      "Piemonte_Sud\n",
      "0.5570175438596491\n"
     ]
    },
    {
     "name": "stderr",
     "output_type": "stream",
     "text": [
      "/Users/paolo/opt/miniconda3/envs/tensorflow/lib/python3.9/site-packages/sklearn/utils/validation.py:1111: DataConversionWarning: A column-vector y was passed when a 1d array was expected. Please change the shape of y to (n_samples, ), for example using ravel().\n",
      "  y = column_or_1d(y, warn=True)\n",
      "/Users/paolo/opt/miniconda3/envs/tensorflow/lib/python3.9/site-packages/sklearn/base.py:450: UserWarning: X does not have valid feature names, but LogisticRegression was fitted with feature names\n",
      "  warnings.warn(\n",
      "/Users/paolo/opt/miniconda3/envs/tensorflow/lib/python3.9/site-packages/sklearn/base.py:450: UserWarning: X does not have valid feature names, but LogisticRegression was fitted with feature names\n",
      "  warnings.warn(\n",
      "/Users/paolo/opt/miniconda3/envs/tensorflow/lib/python3.9/site-packages/sklearn/base.py:450: UserWarning: X does not have valid feature names, but LogisticRegression was fitted with feature names\n",
      "  warnings.warn(\n"
     ]
    }
   ],
   "source": [
    "MTL_scores(clust_basins=['Dora', 'Piemonte_Nord', 'Piemonte_Sud'], df_train=CMI_fulldf_train, df_val=CMI_fulldf_val, df_test=CMI_fulldf_test, targets_df_train=targets_df_train, targets_df_val=targets_df_val, targets_df_test=targets_df_test)\n"
   ]
  },
  {
   "cell_type": "code",
   "execution_count": 50,
   "id": "61f96891",
   "metadata": {
    "hidden": true
   },
   "outputs": [
    {
     "name": "stdout",
     "output_type": "stream",
     "text": [
      "Dora\n",
      "0.5307017543859649\n",
      "Piemonte_Nord\n",
      "0.5219298245614035\n",
      "Piemonte_Sud\n",
      "0.5526315789473685\n"
     ]
    },
    {
     "name": "stderr",
     "output_type": "stream",
     "text": [
      "/Users/paolo/opt/miniconda3/envs/tensorflow/lib/python3.9/site-packages/sklearn/utils/validation.py:1111: DataConversionWarning: A column-vector y was passed when a 1d array was expected. Please change the shape of y to (n_samples, ), for example using ravel().\n",
      "  y = column_or_1d(y, warn=True)\n",
      "/Users/paolo/opt/miniconda3/envs/tensorflow/lib/python3.9/site-packages/sklearn/base.py:450: UserWarning: X does not have valid feature names, but LogisticRegression was fitted with feature names\n",
      "  warnings.warn(\n",
      "/Users/paolo/opt/miniconda3/envs/tensorflow/lib/python3.9/site-packages/sklearn/base.py:450: UserWarning: X does not have valid feature names, but LogisticRegression was fitted with feature names\n",
      "  warnings.warn(\n",
      "/Users/paolo/opt/miniconda3/envs/tensorflow/lib/python3.9/site-packages/sklearn/base.py:450: UserWarning: X does not have valid feature names, but LogisticRegression was fitted with feature names\n",
      "  warnings.warn(\n"
     ]
    }
   ],
   "source": [
    "MTL_scores(clust_basins=['Dora', 'Piemonte_Nord', 'Piemonte_Sud'], df_train=best5_CMI_fulldf_train, df_val=best5_CMI_fulldf_val, df_test=best5_CMI_fulldf_test, targets_df_train=targets_df_train, targets_df_val=targets_df_val, targets_df_test=targets_df_test)\n"
   ]
  },
  {
   "cell_type": "markdown",
   "id": "85e46053",
   "metadata": {},
   "source": [
    "# With snow and original target"
   ]
  },
  {
   "cell_type": "code",
   "execution_count": 27,
   "id": "1eba95b7",
   "metadata": {},
   "outputs": [
    {
     "name": "stdout",
     "output_type": "stream",
     "text": [
      "target samples:            date      mean  median  year  week  mean_std\n",
      "0    2001-01-05  0.039373    0.00  2001     1         0\n",
      "1    2001-01-13  0.380618    0.43  2001     2         0\n",
      "2    2001-01-21  0.341985    0.38  2001     3         0\n",
      "3    2001-01-29  0.322044    0.35  2001     5         0\n",
      "4    2001-02-06  0.354954    0.40  2001     6         0\n",
      "..          ...       ...     ...   ...   ...       ...\n",
      "406  2009-11-27  0.382706    0.40  2009    48         0\n",
      "407  2009-12-05  0.409921    0.46  2009    49         0\n",
      "408  2009-12-13  0.472087    0.53  2009    50         0\n",
      "409  2009-12-21  0.324728    0.00  2009    52         0\n",
      "410  2009-12-29  0.086512    0.00  2009    53         0\n",
      "\n",
      "[411 rows x 6 columns]\n",
      " target shapes: ((411, 6), (228, 6), (639, 6), (228, 6))\n",
      "target samples:            date      mean  median  year  week  mean_std\n",
      "0    2001-01-05  0.010645    0.00  2001     1         0\n",
      "1    2001-01-13  0.206769    0.00  2001     2         0\n",
      "2    2001-01-21  0.267313    0.00  2001     3         0\n",
      "3    2001-01-29  0.240836    0.20  2001     5         0\n",
      "4    2001-02-06  0.193417    0.15  2001     6         0\n",
      "..          ...       ...     ...   ...   ...       ...\n",
      "406  2009-11-27  0.230073    0.25  2009    48         0\n",
      "407  2009-12-05  0.243632    0.24  2009    49         0\n",
      "408  2009-12-13  0.251111    0.00  2009    50         0\n",
      "409  2009-12-21  0.099246    0.00  2009    52         0\n",
      "410  2009-12-29  0.064990    0.00  2009    53         0\n",
      "\n",
      "[411 rows x 6 columns]\n",
      " target shapes: ((411, 6), (228, 6), (639, 6), (228, 6))\n",
      "target samples:            date      mean  median  year  week  mean_std\n",
      "0    2001-01-05  0.379890    0.50  2001     1         0\n",
      "1    2001-01-13  0.482679    0.58  2001     2         0\n",
      "2    2001-01-21  0.516259    0.59  2001     3         1\n",
      "3    2001-01-29  0.434421    0.50  2001     5         0\n",
      "4    2001-02-06  0.494805    0.54  2001     6         0\n",
      "..          ...       ...     ...   ...   ...       ...\n",
      "406  2009-11-27  0.427085    0.43  2009    48         0\n",
      "407  2009-12-05  0.547380    0.57  2009    49         1\n",
      "408  2009-12-13  0.531070    0.58  2009    50         1\n",
      "409  2009-12-21  0.295704    0.00  2009    52         0\n",
      "410  2009-12-29  0.027861    0.00  2009    53         0\n",
      "\n",
      "[411 rows x 6 columns]\n",
      " target shapes: ((411, 6), (228, 6), (639, 6), (228, 6))\n",
      "target samples:            date      mean  median  year  week  mean_std\n",
      "0    2001-01-05  0.214281    0.00  2001     1         0\n",
      "1    2001-01-13  0.484737    0.52  2001     2         0\n",
      "2    2001-01-21  0.466071    0.47  2001     3         0\n",
      "3    2001-01-29  0.417470    0.44  2001     5         0\n",
      "4    2001-02-06  0.492202    0.53  2001     6         0\n",
      "..          ...       ...     ...   ...   ...       ...\n",
      "406  2009-11-27  0.436464    0.46  2009    48         0\n",
      "407  2009-12-05  0.466152    0.49  2009    49         0\n",
      "408  2009-12-13  0.553659    0.59  2009    50         1\n",
      "409  2009-12-21  0.507978    0.65  2009    52         1\n",
      "410  2009-12-29  0.083046    0.00  2009    53         0\n",
      "\n",
      "[411 rows x 6 columns]\n",
      " target shapes: ((411, 6), (228, 6), (639, 6), (228, 6))\n",
      "target samples:            date      mean  median  year  week  mean_std\n",
      "0    2001-01-05  0.102270    0.00  2001     1         0\n",
      "1    2001-01-13  0.454431    0.53  2001     2         0\n",
      "2    2001-01-21  0.323514    0.32  2001     3         0\n",
      "3    2001-01-29  0.301661    0.31  2001     5         0\n",
      "4    2001-02-06  0.394733    0.44  2001     6         0\n",
      "..          ...       ...     ...   ...   ...       ...\n",
      "406  2009-11-27  0.388573    0.44  2009    48         0\n",
      "407  2009-12-05  0.402760    0.47  2009    49         0\n",
      "408  2009-12-13  0.353782    0.44  2009    50         0\n",
      "409  2009-12-21  0.043947    0.00  2009    52         0\n",
      "410  2009-12-29  0.006670    0.00  2009    53         0\n",
      "\n",
      "[411 rows x 6 columns]\n",
      " target shapes: ((411, 6), (228, 6), (639, 6), (228, 6))\n",
      "target samples:            date      mean  median  year  week  mean_std\n",
      "0    2001-01-05  0.369625    0.45  2001     1         0\n",
      "1    2001-01-13  0.429563    0.43  2001     2         0\n",
      "2    2001-01-21  0.470784    0.48  2001     3         0\n",
      "3    2001-01-29  0.370358    0.37  2001     5         0\n",
      "4    2001-02-06  0.372263    0.37  2001     6         0\n",
      "..          ...       ...     ...   ...   ...       ...\n",
      "406  2009-11-27  0.402059    0.40  2009    48         0\n",
      "407  2009-12-05  0.389658    0.39  2009    49         0\n",
      "408  2009-12-13  0.545184    0.56  2009    50         1\n",
      "409  2009-12-21  0.447916    0.55  2009    52         0\n",
      "410  2009-12-29  0.277300    0.32  2009    53         0\n",
      "\n",
      "[411 rows x 6 columns]\n",
      " target shapes: ((411, 6), (228, 6), (639, 6), (228, 6))\n",
      "target samples:            date      mean  median  year  week  mean_std\n",
      "0    2001-01-05  0.243674    0.26  2001     1         0\n",
      "1    2001-01-13  0.424116    0.44  2001     2         0\n",
      "2    2001-01-21  0.393786    0.39  2001     3         0\n",
      "3    2001-01-29  0.314939    0.31  2001     5         0\n",
      "4    2001-02-06  0.464902    0.48  2001     6         0\n",
      "..          ...       ...     ...   ...   ...       ...\n",
      "406  2009-11-27  0.465734    0.48  2009    48         0\n",
      "407  2009-12-05  0.447390    0.47  2009    49         0\n",
      "408  2009-12-13  0.556760    0.59  2009    50         1\n",
      "409  2009-12-21  0.307880    0.00  2009    52         0\n",
      "410  2009-12-29  0.034211    0.00  2009    53         0\n",
      "\n",
      "[411 rows x 6 columns]\n",
      " target shapes: ((411, 6), (228, 6), (639, 6), (228, 6))\n",
      "target samples:            date      mean  median  year  week  mean_std\n",
      "0    2001-01-05  0.278983    0.00  2001     1         0\n",
      "1    2001-01-13  0.494910    0.51  2001     2         0\n",
      "2    2001-01-21  0.496092    0.51  2001     3         0\n",
      "3    2001-01-29  0.427992    0.43  2001     5         0\n",
      "4    2001-02-06  0.400512    0.41  2001     6         0\n",
      "..          ...       ...     ...   ...   ...       ...\n",
      "406  2009-11-27  0.363952    0.37  2009    48         0\n",
      "407  2009-12-05  0.400487    0.40  2009    49         0\n",
      "408  2009-12-13  0.506771    0.52  2009    50         1\n",
      "409  2009-12-21  0.387530    0.53  2009    52         0\n",
      "410  2009-12-29  0.279894    0.27  2009    53         0\n",
      "\n",
      "[411 rows x 6 columns]\n",
      " target shapes: ((411, 6), (228, 6), (639, 6), (228, 6))\n",
      "target samples:            date      mean  median  year  week  mean_std\n",
      "0    2001-01-05  0.278060    0.09  2001     1         0\n",
      "1    2001-01-13  0.445159    0.48  2001     2         0\n",
      "2    2001-01-21  0.488982    0.52  2001     3         0\n",
      "3    2001-01-29  0.362487    0.37  2001     5         0\n",
      "4    2001-02-06  0.430732    0.45  2001     6         0\n",
      "..          ...       ...     ...   ...   ...       ...\n",
      "406  2009-11-27  0.430379    0.44  2009    48         0\n",
      "407  2009-12-05  0.419919    0.43  2009    49         0\n",
      "408  2009-12-13  0.526648    0.55  2009    50         1\n",
      "409  2009-12-21  0.457440    0.61  2009    52         0\n",
      "410  2009-12-29  0.301938    0.38  2009    53         0\n",
      "\n",
      "[411 rows x 6 columns]\n",
      " target shapes: ((411, 6), (228, 6), (639, 6), (228, 6))\n",
      "target samples:            date      mean  median  year  week  mean_std\n",
      "0    2001-01-05  0.264043    0.00  2001     1         0\n",
      "1    2001-01-13  0.354618    0.39  2001     2         0\n",
      "2    2001-01-21  0.427990    0.47  2001     3         0\n",
      "3    2001-01-29  0.339495    0.35  2001     5         0\n",
      "4    2001-02-06  0.324134    0.34  2001     6         0\n",
      "..          ...       ...     ...   ...   ...       ...\n",
      "406  2009-11-27  0.332713    0.35  2009    48         0\n",
      "407  2009-12-05  0.370253    0.40  2009    49         0\n",
      "408  2009-12-13  0.517201    0.57  2009    50         1\n",
      "409  2009-12-21  0.353636    0.45  2009    52         0\n",
      "410  2009-12-29  0.261079    0.00  2009    53         0\n",
      "\n",
      "[411 rows x 6 columns]\n",
      " target shapes: ((411, 6), (228, 6), (639, 6), (228, 6))\n"
     ]
    }
   ],
   "source": [
    "### targets\n",
    "basins = ['Adda','Dora','Emiliani1','Emiliani2','Garda_Mincio','Lambro_Olona','Oglio_Iseo','Piemonte_Nord','Piemonte_Sud','Ticino']\n",
    "path_targets = '/Users/paolo/Documents/OneDrive - Politecnico di Milano/droughts/csv_VHI/'\n",
    "targets_df_train = pd.DataFrame()\n",
    "targets_df_val = pd.DataFrame()\n",
    "targets_df_test = pd.DataFrame()\n",
    "targets_df_trainVal = pd.DataFrame()\n",
    "\n",
    "for basin in basins:\n",
    "    target_df_train,target_df_val,target_df_test,target_df_trainVal = prepare_target_binary('',max_train='2010-01-01', max_val='2015-01-01', max_test='2020-01-01', path=path_targets+basin+'.csv')\n",
    "    targets_df_train[basin] = target_df_train.mean_std\n",
    "    targets_df_val[basin] = target_df_val.mean_std\n",
    "    targets_df_test[basin] = target_df_test.mean_std\n",
    "    targets_df_trainVal[basin] = target_df_trainVal.mean_std\n",
    "    "
   ]
  },
  {
   "cell_type": "code",
   "execution_count": 28,
   "id": "51b5b2e1",
   "metadata": {},
   "outputs": [],
   "source": [
    "### wrapper best 5 features\n",
    "path_features = '/Users/paolo/Documents/OneDrive - Politecnico di Milano/droughts/reduced_features_classification/'\n",
    "\n",
    "best5_wrapper_fulldf_train = pd.DataFrame()\n",
    "best5_wrapper_fulldf_val = pd.DataFrame()\n",
    "best5_wrapper_fulldf_test = pd.DataFrame()\n",
    "\n",
    "for basin in ['Adda','Dora','Piemonte_Nord','Piemonte_Sud','Ticino']:\n",
    "    best5_wrapper_train_temp = pd.read_csv(path_features+basin+'_GenLinCFA_wrapper_best5_train_snowOriginal.csv')\n",
    "    best5_wrapper_val_temp = pd.read_csv(path_features+basin+'_GenLinCFA_wrapper_best5_val_snowOriginal.csv')\n",
    "    best5_wrapper_test_temp = pd.read_csv(path_features+basin+'_GenLinCFA_wrapper_best5_test_snowOriginal.csv')\n",
    "    best5_wrapper_fulldf_train[basin+'_'+best5_wrapper_train_temp.columns.values] = best5_wrapper_train_temp\n",
    "    best5_wrapper_fulldf_val[basin+'_'+best5_wrapper_val_temp.columns.values] = best5_wrapper_val_temp\n",
    "    best5_wrapper_fulldf_test[basin+'_'+best5_wrapper_test_temp.columns.values] = best5_wrapper_test_temp\n",
    "\n",
    "for basin in ['Emiliani1','Emiliani2','Garda_Mincio','Lambro_Olona','Oglio_Iseo']:\n",
    "    best5_wrapper_train_temp = pd.read_csv(path_features+basin+'_GenLinCFA_wrapper_best5_train_originalTarget.csv')\n",
    "    best5_wrapper_val_temp = pd.read_csv(path_features+basin+'_GenLinCFA_wrapper_best5_val_originalTarget.csv')\n",
    "    best5_wrapper_test_temp = pd.read_csv(path_features+basin+'_GenLinCFA_wrapper_best5_test_originalTarget.csv')\n",
    "    best5_wrapper_fulldf_train[basin+'_'+best5_wrapper_train_temp.columns.values] = best5_wrapper_train_temp\n",
    "    best5_wrapper_fulldf_val[basin+'_'+best5_wrapper_val_temp.columns.values] = best5_wrapper_val_temp\n",
    "    best5_wrapper_fulldf_test[basin+'_'+best5_wrapper_test_temp.columns.values] = best5_wrapper_test_temp\n"
   ]
  },
  {
   "cell_type": "code",
   "execution_count": 29,
   "id": "49276119",
   "metadata": {},
   "outputs": [],
   "source": [
    "### CMI features\n",
    "path_features = '/Users/paolo/Documents/OneDrive - Politecnico di Milano/droughts/reduced_features_classification/'\n",
    "\n",
    "CMI_fulldf_train = pd.DataFrame()\n",
    "CMI_fulldf_val = pd.DataFrame()\n",
    "CMI_fulldf_test = pd.DataFrame()\n",
    "\n",
    "for basin in ['Emiliani1','Emiliani2','Garda_Mincio','Lambro_Olona','Oglio_Iseo']:\n",
    "    train_temp = pd.read_csv(path_features+basin+'_GenLinCFA_CMI_train_originalTarget.csv')\n",
    "    val_temp = pd.read_csv(path_features+basin+'_GenLinCFA_CMI_val_originalTarget.csv')\n",
    "    test_temp = pd.read_csv(path_features+basin+'_GenLinCFA_CMI_test_originalTarget.csv')\n",
    "    CMI_fulldf_train[basin+'_'+train_temp.columns.values] = train_temp\n",
    "    CMI_fulldf_val[basin+'_'+val_temp.columns.values] = val_temp\n",
    "    CMI_fulldf_test[basin+'_'+test_temp.columns.values] = test_temp\n",
    "\n",
    "for basin in ['Adda','Dora','Piemonte_Nord','Piemonte_Sud','Ticino']:\n",
    "    train_temp = pd.read_csv(path_features+basin+'_GenLinCFA_CMI_train_snowOriginal.csv')\n",
    "    val_temp = pd.read_csv(path_features+basin+'_GenLinCFA_CMI_val_snowOriginal.csv')\n",
    "    test_temp = pd.read_csv(path_features+basin+'_GenLinCFA_CMI_test_snowOriginal.csv')\n",
    "    CMI_fulldf_train[basin+'_'+train_temp.columns.values] = train_temp\n",
    "    CMI_fulldf_val[basin+'_'+val_temp.columns.values] = val_temp\n",
    "    CMI_fulldf_test[basin+'_'+test_temp.columns.values] = test_temp"
   ]
  },
  {
   "cell_type": "code",
   "execution_count": 30,
   "id": "42824292",
   "metadata": {},
   "outputs": [],
   "source": [
    "### CMI best5 features\n",
    "path_features = '/Users/paolo/Documents/OneDrive - Politecnico di Milano/droughts/reduced_features_classification/'\n",
    "\n",
    "best5_CMI_fulldf_train = pd.DataFrame()\n",
    "best5_CMI_fulldf_val = pd.DataFrame()\n",
    "best5_CMI_fulldf_test = pd.DataFrame()\n",
    "\n",
    "for basin in ['Emiliani1','Emiliani2','Garda_Mincio','Lambro_Olona','Oglio_Iseo']:\n",
    "    train_temp = pd.read_csv(path_features+basin+'_GenLinCFA_best5_CMI_train_originalTarget.csv')\n",
    "    val_temp = pd.read_csv(path_features+basin+'_GenLinCFA_best5_CMI_val_originalTarget.csv')\n",
    "    test_temp = pd.read_csv(path_features+basin+'_GenLinCFA_best5_CMI_test_originalTarget.csv')\n",
    "    best5_CMI_fulldf_train[basin+'_'+train_temp.columns.values] = train_temp\n",
    "    best5_CMI_fulldf_val[basin+'_'+val_temp.columns.values] = val_temp\n",
    "    best5_CMI_fulldf_test[basin+'_'+test_temp.columns.values] = test_temp\n",
    "\n",
    "for basin in ['Adda','Dora','Piemonte_Nord','Piemonte_Sud','Ticino']:\n",
    "    train_temp = pd.read_csv(path_features+basin+'_GenLinCFA_best5_CMI_train_snowOriginal.csv')\n",
    "    val_temp = pd.read_csv(path_features+basin+'_GenLinCFA_best5_CMI_val_snowOriginal.csv')\n",
    "    test_temp = pd.read_csv(path_features+basin+'_GenLinCFA_best5_CMI_test_snowOriginal.csv')\n",
    "    best5_CMI_fulldf_train[basin+'_'+train_temp.columns.values] = train_temp\n",
    "    best5_CMI_fulldf_val[basin+'_'+val_temp.columns.values] = val_temp\n",
    "    best5_CMI_fulldf_test[basin+'_'+test_temp.columns.values] = test_temp\n",
    "    "
   ]
  },
  {
   "cell_type": "code",
   "execution_count": 31,
   "id": "57ff488e",
   "metadata": {},
   "outputs": [
    {
     "name": "stderr",
     "output_type": "stream",
     "text": [
      "/Users/paolo/opt/miniconda3/envs/tensorflow/lib/python3.9/site-packages/sklearn/utils/validation.py:1111: DataConversionWarning: A column-vector y was passed when a 1d array was expected. Please change the shape of y to (n_samples, ), for example using ravel().\n",
      "  y = column_or_1d(y, warn=True)\n",
      "/Users/paolo/opt/miniconda3/envs/tensorflow/lib/python3.9/site-packages/sklearn/base.py:450: UserWarning: X does not have valid feature names, but LogisticRegression was fitted with feature names\n",
      "  warnings.warn(\n",
      "/Users/paolo/opt/miniconda3/envs/tensorflow/lib/python3.9/site-packages/sklearn/base.py:450: UserWarning: X does not have valid feature names, but LogisticRegression was fitted with feature names\n",
      "  warnings.warn(\n",
      "/Users/paolo/opt/miniconda3/envs/tensorflow/lib/python3.9/site-packages/sklearn/base.py:450: UserWarning: X does not have valid feature names, but LogisticRegression was fitted with feature names\n",
      "  warnings.warn(\n",
      "/Users/paolo/opt/miniconda3/envs/tensorflow/lib/python3.9/site-packages/sklearn/base.py:450: UserWarning: X does not have valid feature names, but LogisticRegression was fitted with feature names\n",
      "  warnings.warn(\n",
      "/Users/paolo/opt/miniconda3/envs/tensorflow/lib/python3.9/site-packages/sklearn/utils/validation.py:1111: DataConversionWarning: A column-vector y was passed when a 1d array was expected. Please change the shape of y to (n_samples, ), for example using ravel().\n",
      "  y = column_or_1d(y, warn=True)\n",
      "/Users/paolo/opt/miniconda3/envs/tensorflow/lib/python3.9/site-packages/sklearn/base.py:450: UserWarning: X does not have valid feature names, but LogisticRegression was fitted with feature names\n",
      "  warnings.warn(\n",
      "/Users/paolo/opt/miniconda3/envs/tensorflow/lib/python3.9/site-packages/sklearn/base.py:450: UserWarning: X does not have valid feature names, but LogisticRegression was fitted with feature names\n",
      "  warnings.warn(\n",
      "/Users/paolo/opt/miniconda3/envs/tensorflow/lib/python3.9/site-packages/sklearn/base.py:450: UserWarning: X does not have valid feature names, but LogisticRegression was fitted with feature names\n",
      "  warnings.warn(\n",
      "/Users/paolo/opt/miniconda3/envs/tensorflow/lib/python3.9/site-packages/sklearn/base.py:450: UserWarning: X does not have valid feature names, but LogisticRegression was fitted with feature names\n",
      "  warnings.warn(\n"
     ]
    },
    {
     "name": "stdout",
     "output_type": "stream",
     "text": [
      "Adda\n",
      "0.7017543859649122\n",
      "Lambro_Olona\n",
      "0.7105263157894737\n",
      "Oglio_Iseo\n",
      "0.6754385964912281\n",
      "Ticino\n",
      "0.7763157894736842\n",
      "Adda\n",
      "0.6842105263157895\n",
      "Lambro_Olona\n",
      "0.6754385964912281\n",
      "Oglio_Iseo\n",
      "0.6798245614035088\n",
      "Ticino\n",
      "0.7631578947368421\n"
     ]
    },
    {
     "name": "stderr",
     "output_type": "stream",
     "text": [
      "/Users/paolo/opt/miniconda3/envs/tensorflow/lib/python3.9/site-packages/sklearn/utils/validation.py:1111: DataConversionWarning: A column-vector y was passed when a 1d array was expected. Please change the shape of y to (n_samples, ), for example using ravel().\n",
      "  y = column_or_1d(y, warn=True)\n",
      "/Users/paolo/opt/miniconda3/envs/tensorflow/lib/python3.9/site-packages/sklearn/base.py:450: UserWarning: X does not have valid feature names, but LogisticRegression was fitted with feature names\n",
      "  warnings.warn(\n",
      "/Users/paolo/opt/miniconda3/envs/tensorflow/lib/python3.9/site-packages/sklearn/base.py:450: UserWarning: X does not have valid feature names, but LogisticRegression was fitted with feature names\n",
      "  warnings.warn(\n",
      "/Users/paolo/opt/miniconda3/envs/tensorflow/lib/python3.9/site-packages/sklearn/base.py:450: UserWarning: X does not have valid feature names, but LogisticRegression was fitted with feature names\n",
      "  warnings.warn(\n",
      "/Users/paolo/opt/miniconda3/envs/tensorflow/lib/python3.9/site-packages/sklearn/base.py:450: UserWarning: X does not have valid feature names, but LogisticRegression was fitted with feature names\n",
      "  warnings.warn(\n",
      "/Users/paolo/opt/miniconda3/envs/tensorflow/lib/python3.9/site-packages/sklearn/utils/validation.py:1111: DataConversionWarning: A column-vector y was passed when a 1d array was expected. Please change the shape of y to (n_samples, ), for example using ravel().\n",
      "  y = column_or_1d(y, warn=True)\n",
      "/Users/paolo/opt/miniconda3/envs/tensorflow/lib/python3.9/site-packages/sklearn/base.py:450: UserWarning: X does not have valid feature names, but LogisticRegression was fitted with feature names\n",
      "  warnings.warn(\n",
      "/Users/paolo/opt/miniconda3/envs/tensorflow/lib/python3.9/site-packages/sklearn/base.py:450: UserWarning: X does not have valid feature names, but LogisticRegression was fitted with feature names\n",
      "  warnings.warn(\n",
      "/Users/paolo/opt/miniconda3/envs/tensorflow/lib/python3.9/site-packages/sklearn/base.py:450: UserWarning: X does not have valid feature names, but LogisticRegression was fitted with feature names\n",
      "  warnings.warn(\n",
      "/Users/paolo/opt/miniconda3/envs/tensorflow/lib/python3.9/site-packages/sklearn/utils/validation.py:1111: DataConversionWarning: A column-vector y was passed when a 1d array was expected. Please change the shape of y to (n_samples, ), for example using ravel().\n",
      "  y = column_or_1d(y, warn=True)\n",
      "/Users/paolo/opt/miniconda3/envs/tensorflow/lib/python3.9/site-packages/sklearn/base.py:450: UserWarning: X does not have valid feature names, but LogisticRegression was fitted with feature names\n",
      "  warnings.warn(\n",
      "/Users/paolo/opt/miniconda3/envs/tensorflow/lib/python3.9/site-packages/sklearn/base.py:450: UserWarning: X does not have valid feature names, but LogisticRegression was fitted with feature names\n",
      "  warnings.warn(\n",
      "/Users/paolo/opt/miniconda3/envs/tensorflow/lib/python3.9/site-packages/sklearn/base.py:450: UserWarning: X does not have valid feature names, but LogisticRegression was fitted with feature names\n",
      "  warnings.warn(\n",
      "/Users/paolo/opt/miniconda3/envs/tensorflow/lib/python3.9/site-packages/sklearn/utils/validation.py:1111: DataConversionWarning: A column-vector y was passed when a 1d array was expected. Please change the shape of y to (n_samples, ), for example using ravel().\n",
      "  y = column_or_1d(y, warn=True)\n",
      "/Users/paolo/opt/miniconda3/envs/tensorflow/lib/python3.9/site-packages/sklearn/base.py:450: UserWarning: X does not have valid feature names, but LogisticRegression was fitted with feature names\n",
      "  warnings.warn(\n",
      "/Users/paolo/opt/miniconda3/envs/tensorflow/lib/python3.9/site-packages/sklearn/base.py:450: UserWarning: X does not have valid feature names, but LogisticRegression was fitted with feature names\n",
      "  warnings.warn(\n",
      "/Users/paolo/opt/miniconda3/envs/tensorflow/lib/python3.9/site-packages/sklearn/base.py:450: UserWarning: X does not have valid feature names, but LogisticRegression was fitted with feature names\n",
      "  warnings.warn(\n"
     ]
    },
    {
     "name": "stdout",
     "output_type": "stream",
     "text": [
      "Adda\n",
      "0.6710526315789473\n",
      "Lambro_Olona\n",
      "0.6622807017543859\n",
      "Oglio_Iseo\n",
      "0.6754385964912281\n",
      "Ticino\n",
      "0.7675438596491229\n",
      "Dora\n",
      "0.5964912280701754\n",
      "Piemonte_Nord\n",
      "0.5526315789473685\n",
      "Piemonte_Sud\n",
      "0.543859649122807\n",
      "Dora\n",
      "0.75\n",
      "Piemonte_Nord\n",
      "0.6096491228070176\n",
      "Piemonte_Sud\n",
      "0.6052631578947368\n",
      "Dora\n",
      "0.7412280701754386\n",
      "Piemonte_Nord\n",
      "0.6140350877192983\n",
      "Piemonte_Sud\n",
      "0.6052631578947368\n",
      "Piemonte_Nord\n",
      "0.5745614035087719\n",
      "Piemonte_Sud\n",
      "0.5921052631578947\n",
      "Piemonte_Nord\n",
      "0.6271929824561403\n",
      "Piemonte_Sud\n",
      "0.6140350877192983\n",
      "Piemonte_Nord\n",
      "0.618421052631579\n",
      "Piemonte_Sud\n",
      "0.6140350877192983\n"
     ]
    },
    {
     "name": "stderr",
     "output_type": "stream",
     "text": [
      "/Users/paolo/opt/miniconda3/envs/tensorflow/lib/python3.9/site-packages/sklearn/utils/validation.py:1111: DataConversionWarning: A column-vector y was passed when a 1d array was expected. Please change the shape of y to (n_samples, ), for example using ravel().\n",
      "  y = column_or_1d(y, warn=True)\n",
      "/Users/paolo/opt/miniconda3/envs/tensorflow/lib/python3.9/site-packages/sklearn/base.py:450: UserWarning: X does not have valid feature names, but LogisticRegression was fitted with feature names\n",
      "  warnings.warn(\n",
      "/Users/paolo/opt/miniconda3/envs/tensorflow/lib/python3.9/site-packages/sklearn/base.py:450: UserWarning: X does not have valid feature names, but LogisticRegression was fitted with feature names\n",
      "  warnings.warn(\n",
      "/Users/paolo/opt/miniconda3/envs/tensorflow/lib/python3.9/site-packages/sklearn/utils/validation.py:1111: DataConversionWarning: A column-vector y was passed when a 1d array was expected. Please change the shape of y to (n_samples, ), for example using ravel().\n",
      "  y = column_or_1d(y, warn=True)\n",
      "/Users/paolo/opt/miniconda3/envs/tensorflow/lib/python3.9/site-packages/sklearn/base.py:450: UserWarning: X does not have valid feature names, but LogisticRegression was fitted with feature names\n",
      "  warnings.warn(\n",
      "/Users/paolo/opt/miniconda3/envs/tensorflow/lib/python3.9/site-packages/sklearn/base.py:450: UserWarning: X does not have valid feature names, but LogisticRegression was fitted with feature names\n",
      "  warnings.warn(\n",
      "/Users/paolo/opt/miniconda3/envs/tensorflow/lib/python3.9/site-packages/sklearn/utils/validation.py:1111: DataConversionWarning: A column-vector y was passed when a 1d array was expected. Please change the shape of y to (n_samples, ), for example using ravel().\n",
      "  y = column_or_1d(y, warn=True)\n",
      "/Users/paolo/opt/miniconda3/envs/tensorflow/lib/python3.9/site-packages/sklearn/base.py:450: UserWarning: X does not have valid feature names, but LogisticRegression was fitted with feature names\n",
      "  warnings.warn(\n",
      "/Users/paolo/opt/miniconda3/envs/tensorflow/lib/python3.9/site-packages/sklearn/base.py:450: UserWarning: X does not have valid feature names, but LogisticRegression was fitted with feature names\n",
      "  warnings.warn(\n"
     ]
    }
   ],
   "source": [
    "MTL_scores(clust_basins=['Adda', 'Lambro_Olona', 'Oglio_Iseo', 'Ticino'], df_train=best5_wrapper_fulldf_train, df_val=best5_wrapper_fulldf_val, df_test=best5_wrapper_fulldf_test, targets_df_train=targets_df_train, targets_df_val=targets_df_val, targets_df_test=targets_df_test)\n",
    "MTL_scores(clust_basins=['Adda', 'Lambro_Olona', 'Oglio_Iseo', 'Ticino'], df_train=CMI_fulldf_train, df_val=CMI_fulldf_val, df_test=CMI_fulldf_test, targets_df_train=targets_df_train, targets_df_val=targets_df_val, targets_df_test=targets_df_test)\n",
    "MTL_scores(clust_basins=['Adda', 'Lambro_Olona', 'Oglio_Iseo', 'Ticino'], df_train=best5_CMI_fulldf_train, df_val=best5_CMI_fulldf_val, df_test=best5_CMI_fulldf_test, targets_df_train=targets_df_train, targets_df_val=targets_df_val, targets_df_test=targets_df_test)\n",
    "MTL_scores(clust_basins=['Dora', 'Piemonte_Nord', 'Piemonte_Sud'], df_train=best5_wrapper_fulldf_train, df_val=best5_wrapper_fulldf_val, df_test=best5_wrapper_fulldf_test, targets_df_train=targets_df_train, targets_df_val=targets_df_val, targets_df_test=targets_df_test)\n",
    "MTL_scores(clust_basins=['Dora', 'Piemonte_Nord', 'Piemonte_Sud'], df_train=CMI_fulldf_train, df_val=CMI_fulldf_val, df_test=CMI_fulldf_test, targets_df_train=targets_df_train, targets_df_val=targets_df_val, targets_df_test=targets_df_test)\n",
    "MTL_scores(clust_basins=['Dora', 'Piemonte_Nord', 'Piemonte_Sud'], df_train=best5_CMI_fulldf_train, df_val=best5_CMI_fulldf_val, df_test=best5_CMI_fulldf_test, targets_df_train=targets_df_train, targets_df_val=targets_df_val, targets_df_test=targets_df_test)\n",
    "MTL_scores(clust_basins=['Piemonte_Nord', 'Piemonte_Sud'], df_train=best5_wrapper_fulldf_train, df_val=best5_wrapper_fulldf_val, df_test=best5_wrapper_fulldf_test, targets_df_train=targets_df_train, targets_df_val=targets_df_val, targets_df_test=targets_df_test)\n",
    "MTL_scores(clust_basins=['Piemonte_Nord', 'Piemonte_Sud'], df_train=CMI_fulldf_train, df_val=CMI_fulldf_val, df_test=CMI_fulldf_test, targets_df_train=targets_df_train, targets_df_val=targets_df_val, targets_df_test=targets_df_test)\n",
    "MTL_scores(clust_basins=['Piemonte_Nord', 'Piemonte_Sud'], df_train=best5_CMI_fulldf_train, df_val=best5_CMI_fulldf_val, df_test=best5_CMI_fulldf_test, targets_df_train=targets_df_train, targets_df_val=targets_df_val, targets_df_test=targets_df_test)\n"
   ]
  },
  {
   "cell_type": "code",
   "execution_count": null,
   "id": "be0feab7",
   "metadata": {},
   "outputs": [],
   "source": []
  }
 ],
 "metadata": {
  "kernelspec": {
   "display_name": "Python 3.9 (tensorflow)",
   "language": "python",
   "name": "tensorflow"
  },
  "language_info": {
   "codemirror_mode": {
    "name": "ipython",
    "version": 3
   },
   "file_extension": ".py",
   "mimetype": "text/x-python",
   "name": "python",
   "nbconvert_exporter": "python",
   "pygments_lexer": "ipython3",
   "version": "3.9.13"
  }
 },
 "nbformat": 4,
 "nbformat_minor": 5
}
