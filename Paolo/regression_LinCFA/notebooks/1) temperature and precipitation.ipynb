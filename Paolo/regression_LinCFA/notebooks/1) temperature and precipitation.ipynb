{
 "cells": [
  {
   "cell_type": "markdown",
   "id": "1b2d3408",
   "metadata": {},
   "source": [
    "# Only contemporary week"
   ]
  },
  {
   "cell_type": "code",
   "execution_count": 1,
   "id": "0d9afc73",
   "metadata": {},
   "outputs": [],
   "source": [
    "import pandas as pd\n",
    "import matplotlib.pyplot as plt\n",
    "from sklearn.preprocessing import StandardScaler\n",
    "import numpy as np\n",
    "import sys\n",
    "sys.path.append(\"/Users/paolo/Documents/PaperLinCFA/\")\n",
    "sys.path.append(\"/Users/paolo/Documents/Droughts/scripts/\")\n",
    "from DdimensionalExperimentReal import single_experiment_realData_nDim,train_sup_PCA,compute_PCA\n",
    "from LinCFA import LinCFA\n",
    "from sklearn.linear_model import LinearRegression\n",
    "from sklearn.metrics import r2_score"
   ]
  },
  {
   "cell_type": "code",
   "execution_count": 2,
   "id": "e9a5ef53",
   "metadata": {},
   "outputs": [],
   "source": [
    "def standardize(x_train, x_val, x_test):\n",
    "    trainScaler = StandardScaler()\n",
    "    x_train_scaled = trainScaler.fit_transform(x_train)\n",
    "    x_val_scaled = trainScaler.transform(x_val)\n",
    "    x_test_scaled = trainScaler.transform(x_test)\n",
    "    \n",
    "    return x_train_scaled, x_val_scaled, x_test_scaled\n",
    "\n",
    "def unfold_dataset(x, y, df, feature_list):\n",
    "    df_unfolded = pd.DataFrame(df.date.unique(), columns=['date'])\n",
    "    df_unfolded = df_unfolded.set_index('date', drop=True)\n",
    "    for feature_name in feature_list:\n",
    "        for i in x:\n",
    "            for j in y:\n",
    "                col = df.loc[(df.x==i) & (df.y==j),[feature_name,'date']].set_index('date',drop=True)\n",
    "                df_unfolded = pd.concat([df_unfolded,col],axis=1)\n",
    "                newname = 'mean_'+str(i)+'_'+str(j)\n",
    "                df_unfolded = df_unfolded.rename({feature_name:newname},axis=1)\n",
    "\n",
    "    return df_unfolded"
   ]
  },
  {
   "cell_type": "code",
   "execution_count": 3,
   "id": "24694910",
   "metadata": {},
   "outputs": [],
   "source": [
    "def compute_r2(x_train, y_train, x_val, y_val):\n",
    "    regr = LinearRegression().fit(x_train,y_train)\n",
    "    y_pred = regr.predict(x_val)\n",
    "    return r2_score(y_val, y_pred)"
   ]
  },
  {
   "cell_type": "code",
   "execution_count": 4,
   "id": "3c61647f",
   "metadata": {},
   "outputs": [],
   "source": [
    "def prepare_target():\n",
    "    target_df = pd.read_csv('/Users/paolo/Documents/OneDrive - Politecnico di Milano/droughts/csv_VHI/Emiliani2.csv')\n",
    "    target_df_train = target_df.iloc[0:589,:]\n",
    "    target_df_val = target_df.iloc[589:789,:]\n",
    "    target_df_test = target_df.iloc[789:,:]\n",
    "    \n",
    "    target_df_train['mean_std'], target_df_val['mean_std'], target_df_test['mean_std'] = standardize(target_df_train['mean'].values.reshape(-1,1), target_df_val['mean'].values.reshape(-1,1), target_df_test['mean'].values.reshape(-1,1))\n",
    "    target_df_trainVal = pd.concat([target_df_train,target_df_val],axis=0).reset_index(drop=True)\n",
    "    print(f'target samples: {target_df_train}\\n target shapes: {target_df_train.shape, target_df_val.shape, target_df_trainVal.shape, target_df_test.shape}')\n",
    "    \n",
    "    return target_df_train,target_df_val,target_df_test,target_df_trainVal\n"
   ]
  },
  {
   "cell_type": "code",
   "execution_count": 21,
   "id": "9bbf26f4",
   "metadata": {},
   "outputs": [],
   "source": [
    "def prepare_features(path, colName):\n",
    "    df = pd.read_csv(path)\n",
    "    df = df.rename(columns={'Unnamed: 0':'date'})\n",
    "    df_train = df.loc[df['date']<='2013-11-22',:]\n",
    "    df_val = df.loc[(df['date']>'2013-11-22') & (df['date']<='2018-04-10'),:]\n",
    "    df_test = df.loc[df['date']>'2018-04-10',:]\n",
    "    \n",
    "    df_train_unfolded = unfold_dataset(df_train.x.unique(), df_train.y.unique(), df_train, [colName])\n",
    "    df_train_unfolded = df_train_unfolded.loc[:,np.std(df_train_unfolded,axis=0)>0]\n",
    "    \n",
    "    df_val_unfolded = unfold_dataset(df_val.x.unique(), df_val.y.unique(), df_val, [colName])\n",
    "    df_val_unfolded = df_val_unfolded.loc[:,np.std(df_val_unfolded,axis=0)>0]\n",
    "    \n",
    "    df_test_unfolded = unfold_dataset(df_test.x.unique(), df_test.y.unique(), df_test, [colName])\n",
    "    df_test_unfolded = df_test_unfolded.loc[:,np.std(df_test_unfolded,axis=0)>0]\n",
    "    \n",
    "    df_train_unfolded_std, df_val_unfolded_std, df_test_unfolded_std = standardize(df_train_unfolded, df_val_unfolded, df_test_unfolded)\n",
    "    df_train_unfolded_std = pd.DataFrame(data=df_train_unfolded_std, columns=df_train_unfolded.columns)\n",
    "    df_val_unfolded_std = pd.DataFrame(data=df_val_unfolded_std, columns=df_val_unfolded.columns)\n",
    "    df_test_unfolded_std = pd.DataFrame(data=df_test_unfolded_std, columns=df_test_unfolded.columns)\n",
    "    df_trainVal_unfolded_std = pd.concat([df_train_unfolded_std,df_val_unfolded_std],axis=0).reset_index(drop=True)\n",
    "    \n",
    "    return df_train_unfolded_std, df_val_unfolded_std, df_test_unfolded_std,df_trainVal_unfolded_std\n"
   ]
  },
  {
   "cell_type": "markdown",
   "id": "d6d3a4af",
   "metadata": {},
   "source": [
    "# target "
   ]
  },
  {
   "cell_type": "code",
   "execution_count": 11,
   "id": "2e8a9811",
   "metadata": {
    "scrolled": true
   },
   "outputs": [
    {
     "name": "stdout",
     "output_type": "stream",
     "text": [
      "target samples:      Unnamed: 0      mean  median  year  week  mean_std\n",
      "0    2001-01-05  0.214281    0.00  2001     1 -1.402730\n",
      "1    2001-01-13  0.484737    0.52  2001     2  0.347916\n",
      "2    2001-01-21  0.466071    0.47  2001     3  0.227090\n",
      "3    2001-01-29  0.417470    0.44  2001     5 -0.087501\n",
      "4    2001-02-06  0.492202    0.53  2001     6  0.396235\n",
      "..          ...       ...     ...   ...   ...       ...\n",
      "584  2013-10-21  0.739946    0.79  2013    43  1.999865\n",
      "585  2013-10-29  0.447691    0.46  2013    44  0.108118\n",
      "586  2013-11-06  0.541628    0.56  2013    45  0.716163\n",
      "587  2013-11-14  0.493719    0.53  2013    46  0.406051\n",
      "588  2013-11-22  0.527436    0.57  2013    47  0.624301\n",
      "\n",
      "[589 rows x 6 columns]\n",
      " target shapes: ((589, 6), (200, 6), (789, 6), (199, 6))\n"
     ]
    },
    {
     "name": "stderr",
     "output_type": "stream",
     "text": [
      "/var/folders/h8/q6jr81l13jg__h7vcvcff1y00000gn/T/ipykernel_45135/1939263863.py:7: SettingWithCopyWarning: \n",
      "A value is trying to be set on a copy of a slice from a DataFrame.\n",
      "Try using .loc[row_indexer,col_indexer] = value instead\n",
      "\n",
      "See the caveats in the documentation: https://pandas.pydata.org/pandas-docs/stable/user_guide/indexing.html#returning-a-view-versus-a-copy\n",
      "  target_df_train['mean_std'], target_df_val['mean_std'], target_df_test['mean_std'] = standardize(target_df_train['mean'].values.reshape(-1,1), target_df_val['mean'].values.reshape(-1,1), target_df_test['mean'].values.reshape(-1,1))\n",
      "/var/folders/h8/q6jr81l13jg__h7vcvcff1y00000gn/T/ipykernel_45135/1939263863.py:7: SettingWithCopyWarning: \n",
      "A value is trying to be set on a copy of a slice from a DataFrame.\n",
      "Try using .loc[row_indexer,col_indexer] = value instead\n",
      "\n",
      "See the caveats in the documentation: https://pandas.pydata.org/pandas-docs/stable/user_guide/indexing.html#returning-a-view-versus-a-copy\n",
      "  target_df_train['mean_std'], target_df_val['mean_std'], target_df_test['mean_std'] = standardize(target_df_train['mean'].values.reshape(-1,1), target_df_val['mean'].values.reshape(-1,1), target_df_test['mean'].values.reshape(-1,1))\n",
      "/var/folders/h8/q6jr81l13jg__h7vcvcff1y00000gn/T/ipykernel_45135/1939263863.py:7: SettingWithCopyWarning: \n",
      "A value is trying to be set on a copy of a slice from a DataFrame.\n",
      "Try using .loc[row_indexer,col_indexer] = value instead\n",
      "\n",
      "See the caveats in the documentation: https://pandas.pydata.org/pandas-docs/stable/user_guide/indexing.html#returning-a-view-versus-a-copy\n",
      "  target_df_train['mean_std'], target_df_val['mean_std'], target_df_test['mean_std'] = standardize(target_df_train['mean'].values.reshape(-1,1), target_df_val['mean'].values.reshape(-1,1), target_df_test['mean'].values.reshape(-1,1))\n"
     ]
    },
    {
     "data": {
      "text/plain": [
       "[<matplotlib.lines.Line2D at 0x16077ab80>]"
      ]
     },
     "execution_count": 11,
     "metadata": {},
     "output_type": "execute_result"
    },
    {
     "data": {
      "image/png": "[encoded data removed]",
      "text/plain": [
       "<Figure size 640x480 with 1 Axes>"
      ]
     },
     "metadata": {},
     "output_type": "display_data"
    }
   ],
   "source": [
    "target_df_train,target_df_val,target_df_test,target_df_trainVal = prepare_target()\n",
    "plt.plot(target_df_trainVal['mean'], color='blue')\n",
    "plt.plot(target_df_trainVal['mean_std'], color='green')"
   ]
  },
  {
   "cell_type": "markdown",
   "id": "b4151a40",
   "metadata": {},
   "source": [
    "# features of Emiliani2"
   ]
  },
  {
   "cell_type": "markdown",
   "id": "935cb40e",
   "metadata": {},
   "source": [
    "### temperature"
   ]
  },
  {
   "cell_type": "code",
   "execution_count": 22,
   "id": "a86075c4",
   "metadata": {},
   "outputs": [
    {
     "ename": "AttributeError",
     "evalue": "'DataFrame' object has no attribute 'x'",
     "output_type": "error",
     "traceback": [
      "\u001b[0;31m---------------------------------------------------------------------------\u001b[0m",
      "\u001b[0;31mAttributeError\u001b[0m                            Traceback (most recent call last)",
      "Cell \u001b[0;32mIn [22], line 9\u001b[0m\n\u001b[1;32m      6\u001b[0m aggregate_test \u001b[38;5;241m=\u001b[39m pd\u001b[38;5;241m.\u001b[39mDataFrame()\n\u001b[1;32m      8\u001b[0m \u001b[38;5;28;01mfor\u001b[39;00m col \u001b[38;5;129;01min\u001b[39;00m colnames:\n\u001b[0;32m----> 9\u001b[0m     df_train_unfolded_std,df_val_unfolded_std,df_test_unfolded_std,df_trainVal_unfolded_std \u001b[38;5;241m=\u001b[39m prepare_features(path,col)\n\u001b[1;32m     10\u001b[0m     df_trainVal_unfolded_std_withTar \u001b[38;5;241m=\u001b[39m pd\u001b[38;5;241m.\u001b[39mconcat((df_trainVal_unfolded_std,target_df_trainVal[\u001b[38;5;124m'\u001b[39m\u001b[38;5;124mmean_std\u001b[39m\u001b[38;5;124m'\u001b[39m]), axis\u001b[38;5;241m=\u001b[39m\u001b[38;5;241m1\u001b[39m)\n\u001b[1;32m     11\u001b[0m     output \u001b[38;5;241m=\u001b[39m LinCFA(df_trainVal_unfolded_std_withTar,\u001b[38;5;124m'\u001b[39m\u001b[38;5;124mmean_std\u001b[39m\u001b[38;5;124m'\u001b[39m, \u001b[38;5;241m0\u001b[39m)\u001b[38;5;241m.\u001b[39mcompute_clusters()\n",
      "Cell \u001b[0;32mIn [21], line 8\u001b[0m, in \u001b[0;36mprepare_features\u001b[0;34m(path, colName)\u001b[0m\n\u001b[1;32m      5\u001b[0m df_val \u001b[38;5;241m=\u001b[39m df\u001b[38;5;241m.\u001b[39mloc[(df[\u001b[38;5;124m'\u001b[39m\u001b[38;5;124mdate\u001b[39m\u001b[38;5;124m'\u001b[39m]\u001b[38;5;241m>\u001b[39m\u001b[38;5;124m'\u001b[39m\u001b[38;5;124m2013-11-22\u001b[39m\u001b[38;5;124m'\u001b[39m) \u001b[38;5;241m&\u001b[39m (df[\u001b[38;5;124m'\u001b[39m\u001b[38;5;124mdate\u001b[39m\u001b[38;5;124m'\u001b[39m]\u001b[38;5;241m<\u001b[39m\u001b[38;5;241m=\u001b[39m\u001b[38;5;124m'\u001b[39m\u001b[38;5;124m2018-04-10\u001b[39m\u001b[38;5;124m'\u001b[39m),:]\n\u001b[1;32m      6\u001b[0m df_test \u001b[38;5;241m=\u001b[39m df\u001b[38;5;241m.\u001b[39mloc[df[\u001b[38;5;124m'\u001b[39m\u001b[38;5;124mdate\u001b[39m\u001b[38;5;124m'\u001b[39m]\u001b[38;5;241m>\u001b[39m\u001b[38;5;124m'\u001b[39m\u001b[38;5;124m2018-04-10\u001b[39m\u001b[38;5;124m'\u001b[39m,:]\n\u001b[0;32m----> 8\u001b[0m df_train_unfolded \u001b[38;5;241m=\u001b[39m unfold_dataset(\u001b[43mdf_train\u001b[49m\u001b[38;5;241;43m.\u001b[39;49m\u001b[43mx\u001b[49m\u001b[38;5;241m.\u001b[39munique(), df_train\u001b[38;5;241m.\u001b[39my\u001b[38;5;241m.\u001b[39munique(), df_train, [colName])\n\u001b[1;32m      9\u001b[0m df_train_unfolded \u001b[38;5;241m=\u001b[39m df_train_unfolded\u001b[38;5;241m.\u001b[39mloc[:,np\u001b[38;5;241m.\u001b[39mstd(df_train_unfolded,axis\u001b[38;5;241m=\u001b[39m\u001b[38;5;241m0\u001b[39m)\u001b[38;5;241m>\u001b[39m\u001b[38;5;241m0\u001b[39m]\n\u001b[1;32m     11\u001b[0m df_val_unfolded \u001b[38;5;241m=\u001b[39m unfold_dataset(df_val\u001b[38;5;241m.\u001b[39mx\u001b[38;5;241m.\u001b[39munique(), df_val\u001b[38;5;241m.\u001b[39my\u001b[38;5;241m.\u001b[39munique(), df_val, [colName])\n",
      "File \u001b[0;32m~/opt/miniconda3/envs/tensorflow/lib/python3.9/site-packages/pandas/core/generic.py:5907\u001b[0m, in \u001b[0;36mNDFrame.__getattr__\u001b[0;34m(self, name)\u001b[0m\n\u001b[1;32m   5900\u001b[0m \u001b[38;5;28;01mif\u001b[39;00m (\n\u001b[1;32m   5901\u001b[0m     name \u001b[38;5;129;01mnot\u001b[39;00m \u001b[38;5;129;01min\u001b[39;00m \u001b[38;5;28mself\u001b[39m\u001b[38;5;241m.\u001b[39m_internal_names_set\n\u001b[1;32m   5902\u001b[0m     \u001b[38;5;129;01mand\u001b[39;00m name \u001b[38;5;129;01mnot\u001b[39;00m \u001b[38;5;129;01min\u001b[39;00m \u001b[38;5;28mself\u001b[39m\u001b[38;5;241m.\u001b[39m_metadata\n\u001b[1;32m   5903\u001b[0m     \u001b[38;5;129;01mand\u001b[39;00m name \u001b[38;5;129;01mnot\u001b[39;00m \u001b[38;5;129;01min\u001b[39;00m \u001b[38;5;28mself\u001b[39m\u001b[38;5;241m.\u001b[39m_accessors\n\u001b[1;32m   5904\u001b[0m     \u001b[38;5;129;01mand\u001b[39;00m \u001b[38;5;28mself\u001b[39m\u001b[38;5;241m.\u001b[39m_info_axis\u001b[38;5;241m.\u001b[39m_can_hold_identifiers_and_holds_name(name)\n\u001b[1;32m   5905\u001b[0m ):\n\u001b[1;32m   5906\u001b[0m     \u001b[38;5;28;01mreturn\u001b[39;00m \u001b[38;5;28mself\u001b[39m[name]\n\u001b[0;32m-> 5907\u001b[0m \u001b[38;5;28;01mreturn\u001b[39;00m \u001b[38;5;28;43mobject\u001b[39;49m\u001b[38;5;241;43m.\u001b[39;49m\u001b[38;5;21;43m__getattribute__\u001b[39;49m\u001b[43m(\u001b[49m\u001b[38;5;28;43mself\u001b[39;49m\u001b[43m,\u001b[49m\u001b[43m \u001b[49m\u001b[43mname\u001b[49m\u001b[43m)\u001b[49m\n",
      "\u001b[0;31mAttributeError\u001b[0m: 'DataFrame' object has no attribute 'x'"
     ]
    }
   ],
   "source": [
    "path = '/Users/paolo/Documents/OneDrive - Politecnico di Milano/droughts/features/csv_mean/daily_mean_temperature(tg)/Emiliani2_tg.csv'\n",
    "\n",
    "colnames = ['cyclostationary_mean_tg']\n",
    "\n",
    "aggregate_trainVal = pd.DataFrame()\n",
    "aggregate_test = pd.DataFrame()\n",
    "\n",
    "for col in colnames:\n",
    "    df_train_unfolded_std,df_val_unfolded_std,df_test_unfolded_std,df_trainVal_unfolded_std = prepare_features(path,col)\n",
    "    df_trainVal_unfolded_std_withTar = pd.concat((df_trainVal_unfolded_std,target_df_trainVal['mean_std']), axis=1)\n",
    "    output = LinCFA(df_trainVal_unfolded_std_withTar,'mean_std', 0).compute_clusters()\n",
    "\n",
    "    for i in range(len(output)):\n",
    "        aggregate_trainVal[col+'_'+str(i)] = df_trainVal_unfolded_std_withTar[output[i]].mean(axis=1)\n",
    "        aggregate_test[col+'_'+str(i)] = df_test_unfolded_std[output[i]].mean(axis=1)\n",
    "    \n",
    "    print(len(output))\n",
    "    \n",
    "aggregate_trainVal    \n",
    "    "
   ]
  },
  {
   "cell_type": "code",
   "execution_count": 20,
   "id": "7bd4e285",
   "metadata": {},
   "outputs": [
    {
     "data": {
      "text/html": [
       "<div>\n",
       "<style scoped>\n",
       "    .dataframe tbody tr th:only-of-type {\n",
       "        vertical-align: middle;\n",
       "    }\n",
       "\n",
       "    .dataframe tbody tr th {\n",
       "        vertical-align: top;\n",
       "    }\n",
       "\n",
       "    .dataframe thead th {\n",
       "        text-align: right;\n",
       "    }\n",
       "</style>\n",
       "<table border=\"1\" class=\"dataframe\">\n",
       "  <thead>\n",
       "    <tr style=\"text-align: right;\">\n",
       "      <th></th>\n",
       "      <th>date</th>\n",
       "      <th>mean</th>\n",
       "      <th>year</th>\n",
       "      <th>week</th>\n",
       "      <th>cyclostationary_mean</th>\n",
       "    </tr>\n",
       "  </thead>\n",
       "  <tbody>\n",
       "    <tr>\n",
       "      <th>0</th>\n",
       "      <td>2001-01-05</td>\n",
       "      <td>2.305135</td>\n",
       "      <td>2001</td>\n",
       "      <td>1</td>\n",
       "      <td>0.560024</td>\n",
       "    </tr>\n",
       "    <tr>\n",
       "      <th>1</th>\n",
       "      <td>2001-01-13</td>\n",
       "      <td>5.310077</td>\n",
       "      <td>2001</td>\n",
       "      <td>2</td>\n",
       "      <td>3.357927</td>\n",
       "    </tr>\n",
       "    <tr>\n",
       "      <th>2</th>\n",
       "      <td>2001-01-21</td>\n",
       "      <td>0.675788</td>\n",
       "      <td>2001</td>\n",
       "      <td>3</td>\n",
       "      <td>-0.945032</td>\n",
       "    </tr>\n",
       "    <tr>\n",
       "      <th>3</th>\n",
       "      <td>2001-01-29</td>\n",
       "      <td>4.229442</td>\n",
       "      <td>2001</td>\n",
       "      <td>5</td>\n",
       "      <td>2.552268</td>\n",
       "    </tr>\n",
       "    <tr>\n",
       "      <th>4</th>\n",
       "      <td>2001-02-06</td>\n",
       "      <td>3.730202</td>\n",
       "      <td>2001</td>\n",
       "      <td>6</td>\n",
       "      <td>0.665864</td>\n",
       "    </tr>\n",
       "    <tr>\n",
       "      <th>...</th>\n",
       "      <td>...</td>\n",
       "      <td>...</td>\n",
       "      <td>...</td>\n",
       "      <td>...</td>\n",
       "      <td>...</td>\n",
       "    </tr>\n",
       "    <tr>\n",
       "      <th>976</th>\n",
       "      <td>2022-05-23</td>\n",
       "      <td>21.827153</td>\n",
       "      <td>2022</td>\n",
       "      <td>21</td>\n",
       "      <td>4.624119</td>\n",
       "    </tr>\n",
       "    <tr>\n",
       "      <th>977</th>\n",
       "      <td>2022-05-31</td>\n",
       "      <td>20.665490</td>\n",
       "      <td>2022</td>\n",
       "      <td>22</td>\n",
       "      <td>2.601352</td>\n",
       "    </tr>\n",
       "    <tr>\n",
       "      <th>978</th>\n",
       "      <td>2022-06-08</td>\n",
       "      <td>22.102288</td>\n",
       "      <td>2022</td>\n",
       "      <td>23</td>\n",
       "      <td>3.769107</td>\n",
       "    </tr>\n",
       "    <tr>\n",
       "      <th>979</th>\n",
       "      <td>2022-06-16</td>\n",
       "      <td>22.400644</td>\n",
       "      <td>2022</td>\n",
       "      <td>24</td>\n",
       "      <td>2.993290</td>\n",
       "    </tr>\n",
       "    <tr>\n",
       "      <th>980</th>\n",
       "      <td>2022-06-24</td>\n",
       "      <td>25.375019</td>\n",
       "      <td>2022</td>\n",
       "      <td>25</td>\n",
       "      <td>3.937319</td>\n",
       "    </tr>\n",
       "  </tbody>\n",
       "</table>\n",
       "<p>981 rows × 5 columns</p>\n",
       "</div>"
      ],
      "text/plain": [
       "           date       mean  year  week  cyclostationary_mean\n",
       "0    2001-01-05   2.305135  2001     1              0.560024\n",
       "1    2001-01-13   5.310077  2001     2              3.357927\n",
       "2    2001-01-21   0.675788  2001     3             -0.945032\n",
       "3    2001-01-29   4.229442  2001     5              2.552268\n",
       "4    2001-02-06   3.730202  2001     6              0.665864\n",
       "..          ...        ...   ...   ...                   ...\n",
       "976  2022-05-23  21.827153  2022    21              4.624119\n",
       "977  2022-05-31  20.665490  2022    22              2.601352\n",
       "978  2022-06-08  22.102288  2022    23              3.769107\n",
       "979  2022-06-16  22.400644  2022    24              2.993290\n",
       "980  2022-06-24  25.375019  2022    25              3.937319\n",
       "\n",
       "[981 rows x 5 columns]"
      ]
     },
     "execution_count": 20,
     "metadata": {},
     "output_type": "execute_result"
    }
   ],
   "source": [
    "df = pd.read_csv(path)\n",
    "df.rename(columns={'Unnamed: 0':'date'})"
   ]
  },
  {
   "cell_type": "code",
   "execution_count": 18,
   "id": "90f7a5b8",
   "metadata": {},
   "outputs": [
    {
     "data": {
      "text/plain": [
       "Index(['Unnamed: 0', 'mean', 'year', 'week', 'cyclostationary_mean'], dtype='object')"
      ]
     },
     "execution_count": 18,
     "metadata": {},
     "output_type": "execute_result"
    }
   ],
   "source": [
    "df.columns"
   ]
  },
  {
   "cell_type": "code",
   "execution_count": 6,
   "id": "eb843125",
   "metadata": {
    "scrolled": true
   },
   "outputs": [
    {
     "ename": "KeyError",
     "evalue": "'date'",
     "output_type": "error",
     "traceback": [
      "\u001b[0;31m---------------------------------------------------------------------------\u001b[0m",
      "\u001b[0;31mKeyError\u001b[0m                                  Traceback (most recent call last)",
      "File \u001b[0;32m~/opt/miniconda3/envs/tensorflow/lib/python3.9/site-packages/pandas/core/indexes/base.py:3800\u001b[0m, in \u001b[0;36mIndex.get_loc\u001b[0;34m(self, key, method, tolerance)\u001b[0m\n\u001b[1;32m   3799\u001b[0m \u001b[38;5;28;01mtry\u001b[39;00m:\n\u001b[0;32m-> 3800\u001b[0m     \u001b[38;5;28;01mreturn\u001b[39;00m \u001b[38;5;28;43mself\u001b[39;49m\u001b[38;5;241;43m.\u001b[39;49m\u001b[43m_engine\u001b[49m\u001b[38;5;241;43m.\u001b[39;49m\u001b[43mget_loc\u001b[49m\u001b[43m(\u001b[49m\u001b[43mcasted_key\u001b[49m\u001b[43m)\u001b[49m\n\u001b[1;32m   3801\u001b[0m \u001b[38;5;28;01mexcept\u001b[39;00m \u001b[38;5;167;01mKeyError\u001b[39;00m \u001b[38;5;28;01mas\u001b[39;00m err:\n",
      "File \u001b[0;32m~/opt/miniconda3/envs/tensorflow/lib/python3.9/site-packages/pandas/_libs/index.pyx:138\u001b[0m, in \u001b[0;36mpandas._libs.index.IndexEngine.get_loc\u001b[0;34m()\u001b[0m\n",
      "File \u001b[0;32m~/opt/miniconda3/envs/tensorflow/lib/python3.9/site-packages/pandas/_libs/index.pyx:165\u001b[0m, in \u001b[0;36mpandas._libs.index.IndexEngine.get_loc\u001b[0;34m()\u001b[0m\n",
      "File \u001b[0;32mpandas/_libs/hashtable_class_helper.pxi:5745\u001b[0m, in \u001b[0;36mpandas._libs.hashtable.PyObjectHashTable.get_item\u001b[0;34m()\u001b[0m\n",
      "File \u001b[0;32mpandas/_libs/hashtable_class_helper.pxi:5753\u001b[0m, in \u001b[0;36mpandas._libs.hashtable.PyObjectHashTable.get_item\u001b[0;34m()\u001b[0m\n",
      "\u001b[0;31mKeyError\u001b[0m: 'date'",
      "\nThe above exception was the direct cause of the following exception:\n",
      "\u001b[0;31mKeyError\u001b[0m                                  Traceback (most recent call last)",
      "Cell \u001b[0;32mIn [6], line 4\u001b[0m\n\u001b[1;32m      1\u001b[0m \u001b[38;5;66;03m### temperature\u001b[39;00m\n\u001b[1;32m      2\u001b[0m path \u001b[38;5;241m=\u001b[39m \u001b[38;5;124m'\u001b[39m\u001b[38;5;124m/Users/paolo/Documents/OneDrive - Politecnico di Milano/droughts/features/csv_mean/daily_mean_temperature(tg)/Emiliani2_tg.csv\u001b[39m\u001b[38;5;124m'\u001b[39m\n\u001b[0;32m----> 4\u001b[0m temp_df_train_unfolded_std,temp_df_val_unfolded_std,temp_df_test_unfolded_std,temp_df_trainVal_unfolded_std \u001b[38;5;241m=\u001b[39m prepare_features(path)\n\u001b[1;32m      6\u001b[0m \u001b[38;5;66;03m### with the new class\u001b[39;00m\n\u001b[1;32m      7\u001b[0m temp_df_trainVal_unfolded_std_withTar \u001b[38;5;241m=\u001b[39m pd\u001b[38;5;241m.\u001b[39mconcat((temp_df_trainVal_unfolded_std,target_df_trainVal[\u001b[38;5;124m'\u001b[39m\u001b[38;5;124mmean_std\u001b[39m\u001b[38;5;124m'\u001b[39m]), axis\u001b[38;5;241m=\u001b[39m\u001b[38;5;241m1\u001b[39m)\n",
      "Cell \u001b[0;32mIn [5], line 3\u001b[0m, in \u001b[0;36mprepare_features\u001b[0;34m(path)\u001b[0m\n\u001b[1;32m      1\u001b[0m \u001b[38;5;28;01mdef\u001b[39;00m \u001b[38;5;21mprepare_features\u001b[39m(path):\n\u001b[1;32m      2\u001b[0m     df \u001b[38;5;241m=\u001b[39m pd\u001b[38;5;241m.\u001b[39mread_csv(path)\n\u001b[0;32m----> 3\u001b[0m     df_train \u001b[38;5;241m=\u001b[39m df\u001b[38;5;241m.\u001b[39mloc[\u001b[43mdf\u001b[49m\u001b[43m[\u001b[49m\u001b[38;5;124;43m'\u001b[39;49m\u001b[38;5;124;43mdate\u001b[39;49m\u001b[38;5;124;43m'\u001b[39;49m\u001b[43m]\u001b[49m\u001b[38;5;241m<\u001b[39m\u001b[38;5;241m=\u001b[39m\u001b[38;5;124m'\u001b[39m\u001b[38;5;124m2013-11-22\u001b[39m\u001b[38;5;124m'\u001b[39m,:]\n\u001b[1;32m      4\u001b[0m     df_val \u001b[38;5;241m=\u001b[39m df\u001b[38;5;241m.\u001b[39mloc[(df[\u001b[38;5;124m'\u001b[39m\u001b[38;5;124mdate\u001b[39m\u001b[38;5;124m'\u001b[39m]\u001b[38;5;241m>\u001b[39m\u001b[38;5;124m'\u001b[39m\u001b[38;5;124m2013-11-22\u001b[39m\u001b[38;5;124m'\u001b[39m) \u001b[38;5;241m&\u001b[39m (df[\u001b[38;5;124m'\u001b[39m\u001b[38;5;124mdate\u001b[39m\u001b[38;5;124m'\u001b[39m]\u001b[38;5;241m<\u001b[39m\u001b[38;5;241m=\u001b[39m\u001b[38;5;124m'\u001b[39m\u001b[38;5;124m2018-04-10\u001b[39m\u001b[38;5;124m'\u001b[39m),:]\n\u001b[1;32m      5\u001b[0m     df_test \u001b[38;5;241m=\u001b[39m df\u001b[38;5;241m.\u001b[39mloc[df[\u001b[38;5;124m'\u001b[39m\u001b[38;5;124mdate\u001b[39m\u001b[38;5;124m'\u001b[39m]\u001b[38;5;241m>\u001b[39m\u001b[38;5;124m'\u001b[39m\u001b[38;5;124m2018-04-10\u001b[39m\u001b[38;5;124m'\u001b[39m,:]\n",
      "File \u001b[0;32m~/opt/miniconda3/envs/tensorflow/lib/python3.9/site-packages/pandas/core/frame.py:3805\u001b[0m, in \u001b[0;36mDataFrame.__getitem__\u001b[0;34m(self, key)\u001b[0m\n\u001b[1;32m   3803\u001b[0m \u001b[38;5;28;01mif\u001b[39;00m \u001b[38;5;28mself\u001b[39m\u001b[38;5;241m.\u001b[39mcolumns\u001b[38;5;241m.\u001b[39mnlevels \u001b[38;5;241m>\u001b[39m \u001b[38;5;241m1\u001b[39m:\n\u001b[1;32m   3804\u001b[0m     \u001b[38;5;28;01mreturn\u001b[39;00m \u001b[38;5;28mself\u001b[39m\u001b[38;5;241m.\u001b[39m_getitem_multilevel(key)\n\u001b[0;32m-> 3805\u001b[0m indexer \u001b[38;5;241m=\u001b[39m \u001b[38;5;28;43mself\u001b[39;49m\u001b[38;5;241;43m.\u001b[39;49m\u001b[43mcolumns\u001b[49m\u001b[38;5;241;43m.\u001b[39;49m\u001b[43mget_loc\u001b[49m\u001b[43m(\u001b[49m\u001b[43mkey\u001b[49m\u001b[43m)\u001b[49m\n\u001b[1;32m   3806\u001b[0m \u001b[38;5;28;01mif\u001b[39;00m is_integer(indexer):\n\u001b[1;32m   3807\u001b[0m     indexer \u001b[38;5;241m=\u001b[39m [indexer]\n",
      "File \u001b[0;32m~/opt/miniconda3/envs/tensorflow/lib/python3.9/site-packages/pandas/core/indexes/base.py:3802\u001b[0m, in \u001b[0;36mIndex.get_loc\u001b[0;34m(self, key, method, tolerance)\u001b[0m\n\u001b[1;32m   3800\u001b[0m     \u001b[38;5;28;01mreturn\u001b[39;00m \u001b[38;5;28mself\u001b[39m\u001b[38;5;241m.\u001b[39m_engine\u001b[38;5;241m.\u001b[39mget_loc(casted_key)\n\u001b[1;32m   3801\u001b[0m \u001b[38;5;28;01mexcept\u001b[39;00m \u001b[38;5;167;01mKeyError\u001b[39;00m \u001b[38;5;28;01mas\u001b[39;00m err:\n\u001b[0;32m-> 3802\u001b[0m     \u001b[38;5;28;01mraise\u001b[39;00m \u001b[38;5;167;01mKeyError\u001b[39;00m(key) \u001b[38;5;28;01mfrom\u001b[39;00m \u001b[38;5;21;01merr\u001b[39;00m\n\u001b[1;32m   3803\u001b[0m \u001b[38;5;28;01mexcept\u001b[39;00m \u001b[38;5;167;01mTypeError\u001b[39;00m:\n\u001b[1;32m   3804\u001b[0m     \u001b[38;5;66;03m# If we have a listlike key, _check_indexing_error will raise\u001b[39;00m\n\u001b[1;32m   3805\u001b[0m     \u001b[38;5;66;03m#  InvalidIndexError. Otherwise we fall through and re-raise\u001b[39;00m\n\u001b[1;32m   3806\u001b[0m     \u001b[38;5;66;03m#  the TypeError.\u001b[39;00m\n\u001b[1;32m   3807\u001b[0m     \u001b[38;5;28mself\u001b[39m\u001b[38;5;241m.\u001b[39m_check_indexing_error(key)\n",
      "\u001b[0;31mKeyError\u001b[0m: 'date'"
     ]
    }
   ],
   "source": [
    "### temperature\n",
    "path = '/Users/paolo/Documents/OneDrive - Politecnico di Milano/droughts/features/csv_mean/daily_mean_temperature(tg)/Emiliani2_tg.csv'\n",
    "\n",
    "temp_df_train_unfolded_std,temp_df_val_unfolded_std,temp_df_test_unfolded_std,temp_df_trainVal_unfolded_std = prepare_features(path)\n",
    "\n",
    "### with the new class\n",
    "temp_df_trainVal_unfolded_std_withTar = pd.concat((temp_df_trainVal_unfolded_std,target_df_trainVal['mean_std']), axis=1)\n",
    "temp_output = LinCFA(temp_df_trainVal_unfolded_std_withTar,'mean_std', 0).compute_clusters()\n",
    "temp_output\n",
    "\n",
    "temp_aggregate_trainVal = pd.DataFrame()\n",
    "temp_aggregate_test = pd.DataFrame()\n",
    "\n",
    "for i in range(len(temp_output)):\n",
    "    print(len(temp_output[i]))\n",
    "    temp_aggregate_trainVal[str(i)] = temp_df_trainVal_unfolded_std_withTar[temp_output[i]].mean(axis=1)\n",
    "    temp_aggregate_test[str(i)] = temp_df_test_unfolded_std[temp_output[i]].mean(axis=1)\n",
    "    \n",
    "print(len(temp_output))\n",
    "\n",
    "regr = LinearRegression()\n",
    "regr = regr.fit(temp_aggregate_trainVal,target_df_trainVal['mean_std'])\n",
    "regr.score(temp_aggregate_test,target_df_test['mean_std'][:-7])"
   ]
  },
  {
   "cell_type": "markdown",
   "id": "7792e0d6",
   "metadata": {},
   "source": [
    "### Precipitation"
   ]
  },
  {
   "cell_type": "code",
   "execution_count": 18,
   "id": "393e7fdb",
   "metadata": {
    "scrolled": true
   },
   "outputs": [
    {
     "name": "stdout",
     "output_type": "stream",
     "text": [
      "1\n",
      "37\n",
      "1\n",
      "1\n",
      "3\n",
      "1\n",
      "16\n",
      "6\n",
      "1\n",
      "1\n",
      "4\n",
      "8\n",
      "5\n",
      "1\n",
      "29\n",
      "3\n",
      "1\n",
      "1\n",
      "2\n",
      "2\n",
      "2\n",
      "1\n",
      "1\n",
      "2\n",
      "24\n"
     ]
    },
    {
     "name": "stderr",
     "output_type": "stream",
     "text": [
      "/var/folders/h8/q6jr81l13jg__h7vcvcff1y00000gn/T/ipykernel_30756/2702166885.py:22: FutureWarning: The behavior of `series[i:j]` with an integer-dtype index is deprecated. In a future version, this will be treated as *label-based* indexing, consistent with e.g. `series[i]` lookups. To retain the old behavior, use `series.iloc[i:j]`. To get the future behavior, use `series.loc[i:j]`.\n",
      "  regr.score(prec_aggregate_test,target_df_test['mean_std'][:-7])\n"
     ]
    },
    {
     "data": {
      "text/plain": [
       "0.031084640670759334"
      ]
     },
     "execution_count": 18,
     "metadata": {},
     "output_type": "execute_result"
    }
   ],
   "source": [
    "### precipitation\n",
    "path='/Users/paolo/Documents/OneDrive - Politecnico di Milano/droughts/features/csv_allvalues/daily_precipitation_sum(rr)/Emiliani2_rr.csv'\n",
    "prec_df_train_unfolded_std,prec_df_val_unfolded_std,prec_df_test_unfolded_std,prec_df_trainVal_unfolded_std = prepare_features(path)\n",
    "\n",
    "### with the new class\n",
    "prec_df_trainVal_unfolded_std_withTar = pd.concat((prec_df_trainVal_unfolded_std,target_df_trainVal['mean_std']), axis=1)\n",
    "prec_output = LinCFA(prec_df_trainVal_unfolded_std_withTar,'mean_std', 0).compute_clusters()\n",
    "prec_output\n",
    "\n",
    "prec_aggregate_trainVal = pd.DataFrame()\n",
    "prec_aggregate_test = pd.DataFrame()\n",
    "\n",
    "for i in range(len(prec_output)):\n",
    "    print(len(prec_output[i]))\n",
    "    prec_aggregate_trainVal[str(i)] = prec_df_trainVal_unfolded_std_withTar[prec_output[i]].mean(axis=1)\n",
    "    prec_aggregate_test[str(i)] = prec_df_test_unfolded_std[prec_output[i]].mean(axis=1)\n",
    "    \n",
    "print(len(prec_output))\n",
    "\n",
    "regr = LinearRegression()\n",
    "regr = regr.fit(prec_aggregate_trainVal,target_df_trainVal['mean_std'])\n",
    "regr.score(prec_aggregate_test,target_df_test['mean_std'][:-7])"
   ]
  },
  {
   "cell_type": "markdown",
   "id": "998bade0",
   "metadata": {},
   "source": [
    "### both"
   ]
  },
  {
   "cell_type": "code",
   "execution_count": 16,
   "id": "f6a8fe1b",
   "metadata": {},
   "outputs": [
    {
     "name": "stderr",
     "output_type": "stream",
     "text": [
      "/var/folders/h8/q6jr81l13jg__h7vcvcff1y00000gn/T/ipykernel_30756/802910874.py:3: FutureWarning: The behavior of `series[i:j]` with an integer-dtype index is deprecated. In a future version, this will be treated as *label-based* indexing, consistent with e.g. `series[i]` lookups. To retain the old behavior, use `series.iloc[i:j]`. To get the future behavior, use `series.loc[i:j]`.\n",
      "  regr.score(pd.concat((temp_aggregate_test,prec_aggregate_test),axis=1),target_df_test['mean_std'][:-7])\n"
     ]
    },
    {
     "data": {
      "text/plain": [
       "0.061283170545682"
      ]
     },
     "execution_count": 16,
     "metadata": {},
     "output_type": "execute_result"
    }
   ],
   "source": [
    "regr = LinearRegression()\n",
    "regr = regr.fit(pd.concat((temp_aggregate_trainVal,prec_aggregate_trainVal),axis=1),target_df_trainVal['mean_std'])\n",
    "regr.score(pd.concat((temp_aggregate_test,prec_aggregate_test),axis=1),target_df_test['mean_std'][:-7])"
   ]
  },
  {
   "cell_type": "code",
   "execution_count": null,
   "id": "4d5ab6b2",
   "metadata": {},
   "outputs": [],
   "source": []
  },
  {
   "cell_type": "code",
   "execution_count": null,
   "id": "0ad899c8",
   "metadata": {},
   "outputs": [],
   "source": []
  },
  {
   "cell_type": "code",
   "execution_count": null,
   "id": "64029520",
   "metadata": {},
   "outputs": [],
   "source": []
  },
  {
   "cell_type": "code",
   "execution_count": null,
   "id": "918b74bb",
   "metadata": {},
   "outputs": [],
   "source": []
  },
  {
   "cell_type": "code",
   "execution_count": null,
   "id": "4d7e5ec8",
   "metadata": {},
   "outputs": [],
   "source": []
  },
  {
   "cell_type": "code",
   "execution_count": null,
   "id": "7ef1b67d",
   "metadata": {},
   "outputs": [],
   "source": []
  }
 ],
 "metadata": {
  "kernelspec": {
   "display_name": "Python 3.9 (tensorflow)",
   "language": "python",
   "name": "tensorflow"
  },
  "language_info": {
   "codemirror_mode": {
    "name": "ipython",
    "version": 3
   },
   "file_extension": ".py",
   "mimetype": "text/x-python",
   "name": "python",
   "nbconvert_exporter": "python",
   "pygments_lexer": "ipython3",
   "version": "3.9.13"
  }
 },
 "nbformat": 4,
 "nbformat_minor": 5
}
