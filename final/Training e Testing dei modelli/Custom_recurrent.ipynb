{
  "nbformat": 4,
  "nbformat_minor": 0,
  "metadata": {
    "colab": {
      "provenance": [],
      "collapsed_sections": []
    },
    "kernelspec": {
      "name": "python3",
      "display_name": "Python 3"
    },
    "language_info": {
      "name": "python"
    }
  },
  "cells": [
    {
      "cell_type": "code",
      "execution_count": null,
      "metadata": {
        "id": "OetMa2Xp8wC-"
      },
      "outputs": [],
      "source": [
        "import torch\n",
        "from torch import nn\n",
        "import numpy as np\n",
        "import pandas as pd"
      ]
    },
    {
      "cell_type": "code",
      "source": [
        "from scipy.signal import detrend\n",
        "import seaborn as sns\n",
        "import matplotlib.pyplot as plt\n",
        "from sklearn.preprocessing import StandardScaler\n",
        "import seaborn as sns\n",
        "from math import sqrt\n",
        "from sklearn.metrics import mean_absolute_error, mean_squared_error\n",
        "\n",
        "sns.set(rc={'figure.figsize':(6., 3.336)})\n",
        "sns.set_style(\"whitegrid\", {'axes.grid' : False})"
      ],
      "metadata": {
        "id": "n5GfY89Y81su"
      },
      "execution_count": null,
      "outputs": []
    },
    {
      "cell_type": "code",
      "source": [
        "df = pd.read_csv('cultivable_pca.csv')\n",
        "df['Date'] = pd.to_datetime(df['Date'])\n",
        "features = df.iloc[:, 13:]\n",
        "cols = features.columns.tolist()\n",
        "\n",
        "emi2 = [18, 59, 57]\n",
        "ds = df[[cols[i] for i in emi2] + ['anomalia_emiliani2']]\n",
        "\n",
        "ds['anomalia_emiliani2'] = detrend(ds['anomalia_emiliani2'])\n",
        "ds['anomalia_emiliani2_t'] = ds['anomalia_emiliani2'].shift(1)\n",
        "ds['anomalia_emiliani2_t-1'] = ds['anomalia_emiliani2'].shift(2)"
      ],
      "metadata": {
        "id": "wQB2pfbI9Qf1"
      },
      "execution_count": null,
      "outputs": []
    },
    {
      "cell_type": "code",
      "source": [
        "columns = ds.columns.tolist()\n",
        "for col in columns[:3]:\n",
        "    for i in range(1,24):\n",
        "        ds[col+'_t-'+str(i)] = ds[col].shift(i)\n",
        "        \n",
        "for col in columns[3:4]:\n",
        "    for i in range(3,26):\n",
        "        ds[col+'_t-'+str(i-1)] = ds[col].shift(i)\n",
        "        \n",
        "ds = ds.iloc[25:].reset_index(drop=True)\n",
        "\n",
        "pcs = ds.filter(regex='PC')\n",
        "anomalia = ds.filter(regex='emiliani2_t')\n",
        "ds = ds[pcs.columns.tolist() + anomalia.columns.tolist()[1:] + anomalia.columns.tolist()[0:1]]"
      ],
      "metadata": {
        "id": "mZdfRGDKLL47"
      },
      "execution_count": null,
      "outputs": []
    },
    {
      "cell_type": "code",
      "source": [
        "# divide into train/test\n",
        "train = ds.iloc[0:int(len(ds)*0.6)]\n",
        "validation = ds.iloc[int(len(ds)*0.6):int(len(ds)*0.8)]\n",
        "test = ds.iloc[int(len(ds)*0.8):]\n",
        "\n",
        "scaler = StandardScaler()\n",
        "scaler.fit(train)\n",
        "ds[ds.columns] = scaler.transform(ds[ds.columns])\n",
        "\n",
        "train = ds.iloc[0:int(len(ds)*0.6)]\n",
        "validation = ds.iloc[int(len(ds)*0.6):int(len(ds)*0.8)]\n",
        "test = ds.iloc[int(len(ds)*0.8):]"
      ],
      "metadata": {
        "id": "4BP2_zjl9bQj"
      },
      "execution_count": null,
      "outputs": []
    },
    {
      "cell_type": "code",
      "source": [
        "def split_series(series, n_past, n_future, offset=1, hist=False):\n",
        "  #\n",
        "  # n_past ==> no of past observations\n",
        "  #\n",
        "  # n_future ==> no of future observations \n",
        "  #\n",
        "  # offset ==> window stride\n",
        "\n",
        "  X = []\n",
        "  y = []\n",
        "\n",
        "  for window_start in range(len(series)):\n",
        "    past_end = window_start*offset + n_past \n",
        "    future_end = past_end + n_future\n",
        "    if future_end > len(series):\n",
        "      break\n",
        "    \n",
        "    if hist:\n",
        "      past, future = series[window_start*offset:past_end, np.r_[0:72,-1:-2:-1]], series[past_end-1:future_end-1, -1] # prendo serie storica vars\n",
        "    else:\n",
        "      past, future = series[window_start*offset:past_end, [0,1,2,-1]], series[past_end-1:future_end-1, -1] \n",
        "    X.append(past)\n",
        "    y.append(future)\n",
        "  return np.array(X), np.array(y)"
      ],
      "metadata": {
        "id": "sGpqyrKZ86ze"
      },
      "execution_count": null,
      "outputs": []
    },
    {
      "cell_type": "code",
      "source": [
        "seq_length = 5\n",
        "X_train, y_train = split_series(train.values, seq_length, 1, seq_length, hist=False)\n",
        "X_val, y_val = split_series(validation.values, seq_length, 1, seq_length, hist=False)\n",
        "X_test, y_test = split_series(test.values, seq_length, 1, seq_length, hist=False)\n",
        "\n",
        "X_train = torch.from_numpy(X_train).float()\n",
        "y_train = torch.from_numpy(y_train)\n",
        "\n",
        "\n",
        "X_val = torch.from_numpy(X_val).float()\n",
        "y_val = torch.from_numpy(y_val)\n",
        "\n",
        "X_test = torch.from_numpy(X_test).float()\n",
        "y_test = torch.from_numpy(y_test)"
      ],
      "metadata": {
        "id": "nRvQ1hXOrm57"
      },
      "execution_count": null,
      "outputs": []
    },
    {
      "cell_type": "markdown",
      "source": [
        "## Modello per la regressione"
      ],
      "metadata": {
        "id": "ofhHIo081xj0"
      }
    },
    {
      "cell_type": "code",
      "source": [
        "class RNNModel(nn.Module):\n",
        "    def __init__(self, input_dim, hidden_dim, layer_dim, output_dim=1):\n",
        "        super(RNNModel, self).__init__()\n",
        "        \n",
        "        # Hidden dimensions \n",
        "        self.hidden_dim = hidden_dim\n",
        "\n",
        "        # Number of hidden layers \n",
        "        self.layer_dim = layer_dim\n",
        "\n",
        "        # batch_first=True causes input/output tensors to be of shape\n",
        "        # (batch_dim, seq_dim, input_dim)\n",
        "        # batch_dim = number of samples per batch\n",
        "        self.rnn = nn.RNN(input_dim, hidden_dim, layer_dim, batch_first=True, nonlinearity='tanh')\n",
        "     \n",
        "        # Readout layer\n",
        "        #self.fc = nn.Linear(hidden_dim, output_dim)\n",
        "\n",
        "    def forward(self, x):\n",
        "        # Initialize hidden state with zeros\n",
        "        h0 = torch.zeros(self.layer_dim, x.size(0), self.hidden_dim).requires_grad_()\n",
        "\n",
        "        # We need to detach the hidden state to prevent exploding/vanishing gradients\n",
        "        # This is part of truncated backpropagation through time (BPTT)\n",
        "        out, hn = self.rnn(x, h0.detach())\n",
        "\n",
        "        # Index hidden state of last time step\n",
        "        # out.size() --> 100, 28, 10\n",
        "        # out[:, -1, :] --> 100, 10 --> just want last time step hidden states! \n",
        "        #out = self.fc(out[:, -1, :]) \n",
        "        \n",
        "        return out, hn"
      ],
      "metadata": {
        "id": "8ZoaewVF9yN4"
      },
      "execution_count": null,
      "outputs": []
    },
    {
      "cell_type": "code",
      "source": [
        "input_size =  3  # Number of features used as input. (Number of columns)\n",
        "hidden_size = 1  # Number of features in last hidden state ie. number of output time-steps to predict.\n",
        "num_layers =  1  # Number of stacked rnn layers\n",
        "\n",
        "# Instantiate the model with hyperparameters\n",
        "model = RNNModel(input_dim=input_size, hidden_dim=hidden_size, layer_dim=1)\n",
        "model = model.float()\n",
        "\n",
        "# Define hyperparameters\n",
        "lr=0.01\n",
        "\n",
        "# Define Loss, Optimizer\n",
        "loss_fn = nn.MSELoss()\n",
        "optimizer = torch.optim.SGD(model.parameters(), lr=lr)  "
      ],
      "metadata": {
        "id": "3Sg5BIsjCfiV"
      },
      "execution_count": null,
      "outputs": []
    },
    {
      "cell_type": "code",
      "source": [
        "num_epochs = 50\n",
        "min_valid_loss = np.inf\n",
        "losses = []\n",
        "valid_losses = []\n",
        "n_batches = X_train.shape[0]\n",
        "\n",
        "train_loss = []\n",
        "validation_loss = []\n",
        "\n",
        "val_predictions = []\n",
        "true_val_vals = []\n",
        "\n",
        "for epoch in range(num_epochs):\n",
        "  \n",
        "  for batch_idx, seq in enumerate(X_train):\n",
        "    model.train()\n",
        "    cumulative_loss = 0.0\n",
        "    \n",
        "    for i in range(len(seq)):\n",
        "      # Load time step of sequence as tensor with gradient accumulation abilities\n",
        "      X = (\n",
        "          seq[i, :-1].view(-1, 1, input_size).requires_grad_()\n",
        "      )  # only variables value, no NDVI fed in input\n",
        "\n",
        "      optimizer.zero_grad()\n",
        "\n",
        "      # Forward pass to get output/logits\n",
        "      # outputs.size() --> 100, 10\n",
        "      outputs, hn = model(X)\n",
        "\n",
        "      true_target = seq[i, -1].view(-1, 1)\n",
        "      cumulative_loss += loss_fn(true_target, outputs.view(-1,1))\n",
        "      losses.append(cumulative_loss.item())\n",
        "\n",
        "    # Update weights after reading all sequences in batch\n",
        "    loss = cumulative_loss\n",
        "    # Getting gradients w.r.t. parameters\n",
        "    loss.backward()\n",
        "\n",
        "    # Updating parameters\n",
        "    optimizer.step()\n",
        "\n",
        "  # Print Loss\n",
        "  #print(\"Epoch: {}. Last batch training loss: {}\".format(epoch+1, loss.item()) + \"Last batch validation loss: {}\".format(epoch+1, valid_loss.item()))\n",
        "  \n",
        "  model.eval()\n",
        "  for batch_idx, seq in enumerate(X_val): \n",
        "    cumulative_valid_loss = 0.0\n",
        "    for i in range(len(seq)):\n",
        "      X = (seq[i, :-1].view(-1, 1, input_size))  \n",
        "\n",
        "      # Forward pass to get output/logits\n",
        "      # outputs.size() --> 100, 10\n",
        "      outputs, hn = model(X)\n",
        "\n",
        "      true_target = seq[i, -1].view(-1, 1)\n",
        "      cumulative_valid_loss += loss_fn(true_target, outputs.view(-1,1))\n",
        "    \n",
        "      valid_losses.append(cumulative_valid_loss.item())\n",
        "\n",
        "    if min_valid_loss > np.mean(valid_losses):\n",
        "      print(f'Validation Loss Decreased({min_valid_loss}--->{np.mean(valid_losses)}) \\t Saving The Model')\n",
        "      min_valid_loss = np.mean(valid_losses)\n",
        "      # Saving State Dict\n",
        "      torch.save(model.state_dict(), 'saved_model.pth')\n",
        "\n",
        "  # Print Loss\n",
        "  #print(\"Epoch: {}. Last batch validation loss: {}\".format(epoch+1, valid_loss.item()))\n",
        "\n",
        "  train_loss.append(np.mean(losses))\n",
        "  validation_loss.append(np.mean(valid_losses))\n",
        "  print(\"Epoch: {}. Mean training loss: {}\".format(epoch+1, np.mean(losses)) + \"   Mean validation loss: {}\".format(np.mean(valid_losses)))\n",
        "\n"
      ],
      "metadata": {
        "id": "hQ2ZT0X04Cbo"
      },
      "execution_count": null,
      "outputs": []
    },
    {
      "cell_type": "code",
      "source": [
        "train_predictions = []\n",
        "true_train_vals  =[]\n",
        "\n",
        "# Iterate through train dataset\n",
        "for batch_idx, seq in enumerate(X_train):\n",
        "    X = seq[:, :-1].view(-1, 1, input_size) # only variables value, no NDVI fed in input\n",
        "\n",
        "    # Forward pass only to get logits/output\n",
        "    outputs,hn = model(X)\n",
        "    true_target = seq[:, -1].view(-1,1)\n",
        "\n",
        "    #if i == len(seq)-1: # prendo ultimo sample della sequenza per plottare\n",
        "    train_predictions.append(outputs)\n",
        "    true_train_vals.append(true_target)\n",
        "\n",
        "\n",
        "preds = [p.detach().numpy().flatten() for p in train_predictions]\n",
        "trues = [v.numpy().flatten() for v in true_train_vals]\n",
        "preds = [item for p in preds for item in p]\n",
        "trues = [item for t in trues for item in t]"
      ],
      "metadata": {
        "id": "Zat9c2nUrmPm"
      },
      "execution_count": null,
      "outputs": []
    },
    {
      "cell_type": "markdown",
      "source": [
        "### Performance in train"
      ],
      "metadata": {
        "id": "fLwoCgvcWh52"
      }
    },
    {
      "cell_type": "code",
      "source": [
        "fig, ax = plt.subplots(figsize=(15,8))\n",
        "ax.plot(trues, label='true')\n",
        "ax.plot(preds, label='predictions')\n",
        "ax.axhline(y=0, color='red')\n",
        "ax.set_title('Performance su test set MAE : ' + str(mean_absolute_error(trues,preds)))\n",
        "ax.legend()"
      ],
      "metadata": {
        "id": "BllhS0T7sYGC"
      },
      "execution_count": null,
      "outputs": []
    },
    {
      "cell_type": "markdown",
      "source": [
        "### Performance in validation"
      ],
      "metadata": {
        "id": "3qME_ZCSojeR"
      }
    },
    {
      "cell_type": "code",
      "source": [
        "val_predictions = []\n",
        "true_val_vals  =[]\n",
        "model.load_state_dict(torch.load('saved_model.pth'))\n",
        "# Iterate through train dataset\n",
        "for batch_idx, seq in enumerate(X_val):\n",
        "    X = seq[:, :-1].view(-1, 1, input_size) # only variables value, no NDVI fed in input\n",
        "\n",
        "    # Forward pass only to get logits/output\n",
        "    outputs,hn = model(X)\n",
        "    true_target = seq[:, -1].view(-1,1)\n",
        "\n",
        "    #if i == len(seq)-1: # prendo ultimo sample della sequenza per plottare\n",
        "    val_predictions.append(outputs)\n",
        "    true_val_vals.append(true_target)\n",
        "\n",
        "\n",
        "preds = [p.detach().numpy().flatten() for p in val_predictions]\n",
        "trues = [v.numpy().flatten() for v in true_val_vals]\n",
        "preds = [item for p in preds for item in p]\n",
        "trues = [item for t in trues for item in t]"
      ],
      "metadata": {
        "id": "e2GhVQE3tjSx"
      },
      "execution_count": null,
      "outputs": []
    },
    {
      "cell_type": "code",
      "source": [
        "fig, ax = plt.subplots(figsize=(15,8))\n",
        "ax.plot(trues, label='true')\n",
        "ax.plot(preds, label='predictions')\n",
        "ax.axhline(y=0, color='red')\n",
        "ax.set_title('Performance su validation set MAE : ' + str(mean_absolute_error(trues,preds)))\n",
        "ax.legend()"
      ],
      "metadata": {
        "id": "3Ifh0oaLtyNM"
      },
      "execution_count": null,
      "outputs": []
    },
    {
      "cell_type": "code",
      "source": [
        "train_val = pd.concat([train,validation])\n",
        "\n",
        "test_set = train_val.iloc[int(len(train_val)*0.2):, :]\n",
        "\n",
        "seq_length = 5\n",
        "X_train, y_train = split_series(test_set.values, seq_length, 1, seq_length, hist=True)\n",
        "X_train = torch.from_numpy(X_train).float()\n",
        "y_train = torch.from_numpy(y_train).float()"
      ],
      "metadata": {
        "id": "R6PLfKlTt8aK"
      },
      "execution_count": null,
      "outputs": []
    },
    {
      "cell_type": "code",
      "source": [
        "input_size =  3  # Number of features used as input. (Number of columns)\n",
        "hidden_size = 1  # Number of features in last hidden state ie. number of output time-steps to predict.\n",
        "num_layers =  1  # Number of stacked rnn layers\n",
        "\n",
        "# Instantiate the model with hyperparameters\n",
        "model = RNNModel(input_dim=input_size, hidden_dim=hidden_size, layer_dim=1)\n",
        "model = model.float()\n",
        "\n",
        "# Define hyperparameters\n",
        "lr=0.01\n",
        "\n",
        "# Define Loss, Optimizer\n",
        "loss_fn = nn.MSELoss()\n",
        "optimizer = torch.optim.SGD(model.parameters(), lr=lr)  "
      ],
      "metadata": {
        "id": "g3Mg8devudEC"
      },
      "execution_count": null,
      "outputs": []
    },
    {
      "cell_type": "code",
      "source": [
        "num_epochs = 50\n",
        "min_valid_loss = np.inf\n",
        "losses = []\n",
        "valid_losses = []\n",
        "n_batches = X_train.shape[0]\n",
        "\n",
        "for epoch in range(num_epochs):\n",
        "  \n",
        "  for batch_idx, seq in enumerate(X_train):\n",
        "    model.train()\n",
        "    cumulative_loss = 0.0\n",
        "    \n",
        "    for i in range(len(seq)):\n",
        "      # Load time step of sequence as tensor with gradient accumulation abilities\n",
        "      X = (\n",
        "          seq[i, :-1].view(-1, 1, input_size).requires_grad_()\n",
        "      )  # only variables value, no NDVI fed in input\n",
        "\n",
        "      optimizer.zero_grad()\n",
        "\n",
        "      # Forward pass to get output/logits\n",
        "      # outputs.size() --> 100, 10\n",
        "      outputs, hn = model(X)\n",
        "\n",
        "      true_target = seq[i, -1].view(-1, 1)\n",
        "      cumulative_loss += loss_fn(true_target, outputs.view(-1,1))\n",
        "      losses.append(cumulative_loss.item())\n",
        "\n",
        "    # Update weights after reading all sequences in batch\n",
        "    loss = cumulative_loss\n",
        "    # Getting gradients w.r.t. parameters\n",
        "    loss.backward()\n",
        "\n",
        "    # Updating parameters\n",
        "    optimizer.step()\n",
        "\n",
        "\n"
      ],
      "metadata": {
        "id": "hruTVsO2uuTU"
      },
      "execution_count": null,
      "outputs": []
    },
    {
      "cell_type": "markdown",
      "source": [
        "### Performance in test"
      ],
      "metadata": {
        "id": "0-D7AWgZomsB"
      }
    },
    {
      "cell_type": "code",
      "source": [
        "predictions = []\n",
        "true_vals  =[]\n",
        "\n",
        "# Iterate through train dataset\n",
        "for batch_idx, seq in enumerate(X_test):\n",
        "    X = seq[:, :-1].view(-1, 1, input_size) # only variables value, no NDVI fed in input\n",
        "\n",
        "    # Forward pass only to get logits/output\n",
        "    outputs,hn = model(X)\n",
        "    true_target = seq[:, -1].view(-1,1)\n",
        "\n",
        "    #if i == len(seq)-1: # prendo ultimo sample della sequenza per plottare\n",
        "    predictions.append(outputs)\n",
        "    true_vals.append(true_target)\n",
        "\n",
        "\n",
        "preds = [p.detach().numpy().flatten() for p in predictions]\n",
        "trues = [v.numpy().flatten() for v in true_vals]\n",
        "preds = [item for p in preds for item in p]\n",
        "trues = [item for t in trues for item in t]"
      ],
      "metadata": {
        "id": "DKefBd30v1iR"
      },
      "execution_count": null,
      "outputs": []
    },
    {
      "cell_type": "code",
      "source": [
        "mean_absolute_error(trues,preds)"
      ],
      "metadata": {
        "id": "FHRzRr6D-GKV"
      },
      "execution_count": null,
      "outputs": []
    },
    {
      "cell_type": "code",
      "source": [
        "mean_squared_error(trues,preds)"
      ],
      "metadata": {
        "id": "uGveEBjP-PFG"
      },
      "execution_count": null,
      "outputs": []
    },
    {
      "cell_type": "code",
      "source": [
        "sqrt(mean_squared_error(trues,preds))"
      ],
      "metadata": {
        "id": "Znu9iPEI-dmp"
      },
      "execution_count": null,
      "outputs": []
    },
    {
      "cell_type": "code",
      "source": [
        "plt.plot(trues, label='Original')\n",
        "plt.plot(preds, label='Recurrent Network')\n",
        "#plt.axhline(y=0, color='red')\n",
        "#ax.set_title('Performance su test set MAE : ' + str(mean_absolute_error(trues,preds)))\n",
        "plt.xlabel('Sample index',labelpad=15)\n",
        "plt.ylabel('NDVI Anomaly',labelpad=15)\n",
        "plt.legend(loc='center left', bbox_to_anchor=(1, 0.5))\n",
        "plt.savefig('regression_recurrent+serie+storica+var.eps', format='eps', bbox_inches='tight')\n",
        "plt.show()"
      ],
      "metadata": {
        "id": "KNVoKiPqv_ZK"
      },
      "execution_count": null,
      "outputs": []
    },
    {
      "cell_type": "markdown",
      "source": [
        "## Classificazione\n",
        "\n",
        "questo è un approccio di classificazione con il modello presentato sopra per la regressione, ma ottiene risultati non brillanti "
      ],
      "metadata": {
        "id": "z9AENw_2oqyP"
      }
    },
    {
      "cell_type": "code",
      "source": [
        "from sklearn.metrics import confusion_matrix\n",
        "\n",
        "def plot_conmat(true, pred, title):\n",
        "    conmat = confusion_matrix(true, pred)\n",
        "    val = np.mat(conmat) \n",
        "\n",
        "    classnames = ['Normal', 'Good', 'Bad']\n",
        "\n",
        "    df_cm = pd.DataFrame(\n",
        "        val, index=classnames, columns=classnames, \n",
        "        )\n",
        "    \n",
        "    df_cm = df_cm.astype('float') / df_cm.sum(axis=1)[:, np.newaxis]  \n",
        "    heatmap = sns.heatmap(df_cm, annot=True, cmap=\"Blues\")\n",
        "\n",
        "    heatmap.yaxis.set_ticklabels(heatmap.yaxis.get_ticklabels(), rotation=0, ha='right')\n",
        "\n",
        "    heatmap.xaxis.set_ticklabels(heatmap.xaxis.get_ticklabels(), rotation=45, ha='right')\n",
        "\n",
        "    plt.ylabel('True label')\n",
        "\n",
        "    plt.xlabel('Predicted label')\n",
        "\n",
        "    plt.title(title)\n",
        "\n",
        "    plt.show()  \n"
      ],
      "metadata": {
        "id": "Y8fvrEE7ZrX-"
      },
      "execution_count": null,
      "outputs": []
    },
    {
      "cell_type": "code",
      "source": [
        "class RNNClassifier(nn.Module):\n",
        "    def __init__(self, input_dim, hidden_dim, layer_dim, output_dim=1):\n",
        "        super(RNNClassifier, self).__init__()\n",
        "        \n",
        "        # Hidden dimensions \n",
        "        self.hidden_dim = hidden_dim\n",
        "\n",
        "        # Number of hidden layers \n",
        "        self.layer_dim = layer_dim\n",
        "\n",
        "        # batch_first=True causes input/output tensors to be of shape\n",
        "        # (batch_dim, seq_dim, input_dim)\n",
        "        # batch_dim = number of samples per batch\n",
        "        self.rnn = nn.RNN(input_dim, hidden_dim, layer_dim, batch_first=True, nonlinearity='tanh')\n",
        "     \n",
        "        # Readout layer\n",
        "        self.fc = nn.Linear(hidden_dim, output_dim)\n",
        "\n",
        "    def forward(self, x):\n",
        "        # Initialize hidden state with zeros\n",
        "        h0 = torch.zeros(self.layer_dim, x.size(0), self.hidden_dim).requires_grad_()\n",
        "\n",
        "        # We need to detach the hidden state to prevent exploding/vanishing gradients\n",
        "        # This is part of truncated backpropagation through time (BPTT)\n",
        "        out, hn = self.rnn(x, h0.detach())\n",
        "\n",
        "        # Index hidden state of last time step\n",
        "        # out.size() --> 100, 28, 10\n",
        "        # out[:, -1, :] --> 100, 10 --> just want last time step hidden states! \n",
        "        out = self.fc(out[:, -1, :])\n",
        "        \n",
        "        return out"
      ],
      "metadata": {
        "id": "dFmvYb_8zcp_"
      },
      "execution_count": null,
      "outputs": []
    },
    {
      "cell_type": "code",
      "source": [
        "train_data = train.anomalia_emiliani2_t\n",
        "val_data = validation.anomalia_emiliani2_t\n",
        "test_data  = test.anomalia_emiliani2_t\n",
        "\n",
        "# Calcolo dei terzili\n",
        "y_min = train.anomalia_emiliani2_t.quantile(0.33)\n",
        "y_max = train.anomalia_emiliani2_t.quantile(0.66)\n",
        "\n",
        "train['Label'] = train_data.apply(lambda x: 'Good' if x>y_max else 'Bad' if x<y_min else 'Normal')\n",
        "validation['Label'] = val_data.apply(lambda x: 'Good' if x>y_max else 'Bad' if x<y_min else 'Normal')\n",
        "test['Label'] = test_data.apply(lambda x: 'Good' if x>y_max else 'Bad' if x<y_min else 'Normal')"
      ],
      "metadata": {
        "id": "y5CA-9QXwBvZ"
      },
      "execution_count": null,
      "outputs": []
    },
    {
      "cell_type": "code",
      "source": [
        "fig, ax = plt.subplots(1,3, figsize=(10,5))\n",
        "\n",
        "sns.countplot(x = 'Label', data=train, ax=ax[0])\n",
        "ax[0].set_ylabel('Count',labelpad=15)\n",
        "ax[0].set_xlabel('Train Labels',labelpad=15)\n",
        "\n",
        "sns.countplot(x = 'Label', data=validation, ax=ax[1])\n",
        "ax[1].set_ylabel('',labelpad=15)\n",
        "ax[1].set_xlabel('Validation Labels',labelpad=15)\n",
        "\n",
        "sns.countplot(x = 'Label', data=test, ax=ax[2])\n",
        "ax[2].set_ylabel('',labelpad=15)\n",
        "ax[2].set_xlabel('Test Labels',labelpad=15)\n",
        "\n",
        "plt.savefig('classes_distrib.eps', format='eps')"
      ],
      "metadata": {
        "id": "NiAuSnbjo3-5"
      },
      "execution_count": null,
      "outputs": []
    },
    {
      "cell_type": "code",
      "source": [
        "sns.countplot(x = 'Label', data=validation)"
      ],
      "metadata": {
        "id": "VsPCsgVt10YW"
      },
      "execution_count": null,
      "outputs": []
    },
    {
      "cell_type": "code",
      "source": [
        "sns.countplot(x = 'Label', data=test)"
      ],
      "metadata": {
        "id": "IYtqVX-Q14T1"
      },
      "execution_count": null,
      "outputs": []
    },
    {
      "cell_type": "code",
      "source": [
        "train_label = np.eye(3)[train['Label']] # [a ,b ,c] dove a: 0, b:1, c:-1\n",
        "validation_label = np.eye(3)[validation['Label']]\n",
        "test_label = np.eye(3)[test['Label']]"
      ],
      "metadata": {
        "id": "JMY-WA1xMIkJ"
      },
      "execution_count": null,
      "outputs": []
    },
    {
      "cell_type": "code",
      "source": [
        "def classification_series(series, labels, n_past, n_future, offset=1, hist=False):\n",
        "  #\n",
        "  # n_past ==> no of past observations\n",
        "  #\n",
        "  # n_future ==> no of future observations \n",
        "  #\n",
        "  # offset ==> window stride\n",
        "\n",
        "  X = []\n",
        "  y = []\n",
        "\n",
        "  for window_start in range(len(series)):\n",
        "    past_end = window_start*offset + n_past \n",
        "    future_end = past_end + n_future\n",
        "    if future_end > len(series):\n",
        "      break\n",
        "\n",
        "    if hist:\n",
        "      past, future = series[window_start*offset:past_end, :72], labels[window_start*offset:past_end]\n",
        "    else:\n",
        "      past, future = series[window_start*offset:past_end, [0,1,2]], labels[window_start*offset:past_end] \n",
        "    X.append(past)\n",
        "    y.append(future)\n",
        "  return np.array(X), np.array(y)"
      ],
      "metadata": {
        "id": "LPpMK7e7MrBH"
      },
      "execution_count": null,
      "outputs": []
    },
    {
      "cell_type": "code",
      "source": [
        "seq_length = 5\n",
        "X_train, y_train = classification_series(train.values, train_label, seq_length, 1, seq_length, hist=True)\n",
        "X_val, y_val = classification_series(validation.values, validation_label, seq_length, 1, seq_length, hist=True)\n",
        "X_test, y_test = classification_series(test.values, test_label, seq_length, 1, seq_length, hist=True)\n",
        "\n",
        "X_train = torch.from_numpy(X_train).float()\n",
        "y_train = torch.from_numpy(y_train)\n",
        "\n",
        "\n",
        "X_val = torch.from_numpy(X_val).float()\n",
        "y_val = torch.from_numpy(y_val)\n",
        "\n",
        "X_test = torch.from_numpy(X_test).float()\n",
        "y_test = torch.from_numpy(y_test)"
      ],
      "metadata": {
        "id": "IGoC0KcCsRl5"
      },
      "execution_count": null,
      "outputs": []
    },
    {
      "cell_type": "code",
      "source": [
        "input_size =  72  # Number of features used as input. (Number of columns)\n",
        "hidden_size = 1  # Number of features in last hidden state ie. number of output time-steps to predict.\n",
        "output_size = 3  # Number of classes\n",
        "\n",
        "# Instantiate the model with hyperparameters\n",
        "model = RNNClassifier(input_dim=input_size, hidden_dim=hidden_size, layer_dim=1, output_dim=3)\n",
        "model = model\n",
        "\n",
        "# Define hyperparameters\n",
        "lr=0.05\n",
        "\n",
        "# Define Loss, Optimizer\n",
        "criterion = nn.CrossEntropyLoss()\n",
        "learning_rate = 0.005\n",
        "optimizer = torch.optim.SGD(model.parameters(), lr=learning_rate)"
      ],
      "metadata": {
        "id": "2z-H4cA_toIm"
      },
      "execution_count": null,
      "outputs": []
    },
    {
      "cell_type": "code",
      "source": [
        "def multi_acc(y_pred, y_test):\n",
        "    y_pred_softmax = torch.log_softmax(y_pred, dim = 1)\n",
        "    _, y_pred_tags = torch.max(y_pred_softmax, dim = 1)    \n",
        "    \n",
        "    correct_pred = (y_pred_tags == y_test).float()\n",
        "    acc = correct_pred.sum() / len(correct_pred)\n",
        "    \n",
        "    acc = torch.round(acc * 100)\n",
        "    \n",
        "    return acc"
      ],
      "metadata": {
        "id": "uBlp602rlVU6"
      },
      "execution_count": null,
      "outputs": []
    },
    {
      "cell_type": "code",
      "source": [
        "num_epochs = 20\n",
        "min_valid_loss = np.inf\n",
        "losses = []\n",
        "valid_losses = []\n",
        "n_batches = X_train.shape[0]\n",
        "\n",
        "train_loss = []\n",
        "validation_loss = []\n",
        "\n",
        "val_predictions = []\n",
        "true_val_vals = []\n",
        "\n",
        "train_preds_acc = []\n",
        "\n",
        "for epoch in range(num_epochs):\n",
        "  \n",
        "  for batch_idx, seq in enumerate(X_train):\n",
        "    model.train()\n",
        "    cumulative_loss = 0.0\n",
        "    \n",
        "    for i in range(len(seq)):\n",
        "      # Load time step of sequence as tensor with gradient accumulation abilities\n",
        "      X = (\n",
        "          seq[i, :].view(-1, 1, 72).requires_grad_()\n",
        "      )  # only variables value, no NDVI fed in input\n",
        "\n",
        "      optimizer.zero_grad()\n",
        "\n",
        "      # Forward pass to get output/logits\n",
        "      # outputs.size() --> 100, 10\n",
        "      outputs = model(X)\n",
        "    \n",
        "      true_target = y_train[batch_idx, i].view(-1, 1)\n",
        "      cumulative_loss += criterion(true_target, outputs.view(-1,1))\n",
        "      losses.append(cumulative_loss.item())\n",
        "      train_preds_acc.append( multi_acc(true_target, outputs.view(-1,1)))\n",
        "\n",
        "    # Update weights after reading all sequences in batch\n",
        "    loss = cumulative_loss\n",
        "    # Getting gradients w.r.t. parameters\n",
        "    loss.backward()\n",
        "\n",
        "    # Updating parameters\n",
        "    optimizer.step()\n",
        "\n",
        "  # Print Loss\n",
        "  #print(\"Epoch: {}. Last batch training loss: {}\".format(epoch+1, loss.item()) + \"Last batch validation loss: {}\".format(epoch+1, valid_loss.item()))\n",
        "\n",
        "  model.eval()\n",
        "  for batch_idx, seq in enumerate(X_val): \n",
        "    cumulative_valid_loss = 0.0\n",
        "    for i in range(len(seq)):\n",
        "      X = (seq[i, :].view(-1, 1, input_size))  \n",
        "\n",
        "      # Forward pass to get output/logits\n",
        "      # outputs.size() --> 100, 10\n",
        "      outputs = model(X)\n",
        "\n",
        "      true_target = y_val[batch_idx, i].view(-1, 1)\n",
        "      cumulative_valid_loss += criterion(true_target, outputs.view(-1,1))\n",
        "    \n",
        "      valid_losses.append(cumulative_valid_loss.item())\n",
        "  # Print Loss\n",
        "  #print(\"Epoch: {}. Last batch validation loss: {}\".format(epoch+1, valid_loss.item()))\n",
        "\n",
        "  train_loss.append(np.mean(losses))\n",
        "  validation_loss.append(np.mean(valid_losses))\n",
        "  print(\"Epoch: {}. Mean training loss: {}\".format(epoch+1, np.mean(losses)) + \"   Mean validation loss: {}\".format(np.mean(valid_losses)))\n"
      ],
      "metadata": {
        "id": "HU1e1VoAtbZ3"
      },
      "execution_count": null,
      "outputs": []
    },
    {
      "cell_type": "code",
      "source": [
        "train_predictions = []\n",
        "true_train_vals  =[]\n",
        "\n",
        "# Iterate through train dataset\n",
        "for batch_idx, seq in enumerate(X_train):\n",
        "    X = seq[:, :].view(-1, 1, input_size) # only variables value, no NDVI fed in input\n",
        "\n",
        "    # Forward pass only to get logits/output\n",
        "    outputs = model(X)\n",
        "    true_target = y_train[batch_idx]\n",
        "\n",
        "    #if i == len(seq)-1: # prendo ultimo sample della sequenza per plottare\n",
        "    train_predictions.append(outputs)\n",
        "    true_train_vals.append(true_target)\n",
        "\n",
        "\n",
        "preds = [p.detach().numpy() for p in train_predictions]\n",
        "trues = [v.numpy() for v in true_train_vals]\n",
        "preds = [item for p in preds for item in p]\n",
        "trues = [item for t in trues for item in t]"
      ],
      "metadata": {
        "id": "wfbinicIZaco"
      },
      "execution_count": null,
      "outputs": []
    },
    {
      "cell_type": "code",
      "source": [
        "plot_conmat(np.array(trues).argmax(axis=1), np.array(preds).argmax(axis=1), 'Recurrent classification results on train set in percentage')"
      ],
      "metadata": {
        "id": "8_OLAmPOZ4B8"
      },
      "execution_count": null,
      "outputs": []
    },
    {
      "cell_type": "code",
      "source": [
        "val_predictions = []\n",
        "true_val_vals  =[]\n",
        "\n",
        "# Iterate through train dataset\n",
        "for batch_idx, seq in enumerate(X_val):\n",
        "    X = seq[:, :].view(-1, 1, input_size) # only variables value, no NDVI fed in input\n",
        "\n",
        "    # Forward pass only to get logits/output\n",
        "    outputs = model(X)\n",
        "    true_target =  y_val[batch_idx]\n",
        "\n",
        "    #if i == len(seq)-1: # prendo ultimo sample della sequenza per plottare\n",
        "    val_predictions.append(outputs)\n",
        "    true_val_vals.append(true_target)\n",
        "\n",
        "\n",
        "preds = [p.detach().numpy() for p in train_predictions]\n",
        "trues = [v.numpy() for v in true_train_vals]\n",
        "preds = [item for p in preds for item in p]\n",
        "trues = [item for t in trues for item in t]"
      ],
      "metadata": {
        "id": "dPWQO4OjrWLX"
      },
      "execution_count": null,
      "outputs": []
    },
    {
      "cell_type": "code",
      "source": [
        "plot_conmat(np.array(trues).argmax(axis=1), np.array(preds).argmax(axis=1), 'Recurrent classification results on validation set in percentage')"
      ],
      "metadata": {
        "id": "Z4s9mGaca1eX"
      },
      "execution_count": null,
      "outputs": []
    },
    {
      "cell_type": "code",
      "source": [
        "predictions = []\n",
        "true_values  =[]\n",
        "\n",
        "# Iterate through train dataset\n",
        "for batch_idx, seq in enumerate(X_test):\n",
        "    X = seq[:, :].view(-1, 1, input_size) # only variables value, no NDVI fed in input\n",
        "\n",
        "    # Forward pass only to get logits/output\n",
        "    outputs = model(X)\n",
        "    true_target = y_test[batch_idx]\n",
        "\n",
        "    #if i == len(seq)-1: # prendo ultimo sample della sequenza per plottare\n",
        "    predictions.append(outputs)\n",
        "    true_values.append(true_target)\n",
        "\n",
        "\n",
        "preds = [p.detach().numpy() for p in predictions]\n",
        "trues = [v.numpy() for v in true_values]\n",
        "preds = [item for p in preds for item in p]\n",
        "trues = [item for t in trues for item in t]"
      ],
      "metadata": {
        "id": "Sci2MACStAi3"
      },
      "execution_count": null,
      "outputs": []
    },
    {
      "cell_type": "code",
      "source": [
        "plot_conmat(np.array(trues).argmax(axis=1), np.array(preds).argmax(axis=1), 'Recurrent classification results on test set in percentage')"
      ],
      "metadata": {
        "id": "WiQv88gZvLhb"
      },
      "execution_count": null,
      "outputs": []
    },
    {
      "cell_type": "code",
      "source": [
        "train_val = pd.concat([train,validation])\n",
        "\n",
        "train_set = train_val.iloc[int(len(train_val)*0.2):, :]\n",
        "train_set_label = np.vstack([train_label, validation_label])[int(len(train_val)*0.2):]\n",
        "\n",
        "seq_length = 5\n",
        "X_train, y_train = classification_series(train_set.values, train_set_label, seq_length, 1, seq_length, hist=True)\n",
        "X_test, y_test = classification_series(test.values, test_label, seq_length, 1, seq_length, hist=True)\n",
        "\n",
        "X_train = torch.from_numpy(X_train).float()\n",
        "y_train = torch.from_numpy(y_train)\n",
        "\n",
        "\n",
        "X_val = torch.from_numpy(X_val).float()\n",
        "y_val = torch.from_numpy(y_val)\n",
        "\n",
        "X_test = torch.from_numpy(X_test).float()\n",
        "y_test = torch.from_numpy(y_test)"
      ],
      "metadata": {
        "id": "L6CoaxphAEMk"
      },
      "execution_count": null,
      "outputs": []
    },
    {
      "cell_type": "code",
      "source": [
        "class RNN(nn.Module):\n",
        "    # implement RNN from scratch rather than using nn.RNN\n",
        "    def __init__(self, input_size, hidden_size, output_size):\n",
        "        super(RNN, self).__init__()\n",
        "        \n",
        "        self.hidden_size = hidden_size\n",
        "        self.i2h = nn.Linear(input_size + hidden_size, hidden_size)\n",
        "        self.i2o = nn.Linear(input_size + hidden_size, output_size)\n",
        "        self.softmax = nn.LogSoftmax(dim=1)\n",
        "        \n",
        "    def forward(self, input_tensor, hidden_tensor):\n",
        "        combined = torch.cat((input_tensor, hidden_tensor), 1)\n",
        "        \n",
        "        hidden = self.i2h(combined)\n",
        "        output = self.i2o(combined)\n",
        "        output = self.softmax(output)\n",
        "        return output, hidden\n",
        "    \n",
        "    def init_hidden(self):\n",
        "        return torch.zeros(1, self.hidden_size)"
      ],
      "metadata": {
        "id": "-31RC3SqY5Cr"
      },
      "execution_count": null,
      "outputs": []
    },
    {
      "cell_type": "code",
      "source": [
        "X_train[0,0]"
      ],
      "metadata": {
        "id": "Pz44qn5qcuKY"
      },
      "execution_count": null,
      "outputs": []
    },
    {
      "cell_type": "code",
      "source": [
        "n_hidden = 72\n",
        "rnn = RNN(72, n_hidden, 3)\n",
        "\n",
        "# one step\n",
        "input_tensor = X_train[0,0].view(1,-1)\n",
        "hidden_tensor = rnn.init_hidden()\n",
        "\n",
        "output, next_hidden = rnn(input_tensor, hidden_tensor)\n",
        "\n",
        "print(output.size())\n",
        "print(next_hidden.size())"
      ],
      "metadata": {
        "id": "vseTf8aWb-0L"
      },
      "execution_count": null,
      "outputs": []
    },
    {
      "cell_type": "code",
      "source": [
        "categories = ['Normal', 'Good' , 'Bad']\n",
        "\n",
        "def category_from_output(output):\n",
        "    category_idx = torch.argmax(output).item()\n",
        "    return categories[category_idx]"
      ],
      "metadata": {
        "id": "HcoL2_STeKsZ"
      },
      "execution_count": null,
      "outputs": []
    },
    {
      "cell_type": "code",
      "source": [
        "criterion = nn.NLLLoss()\n",
        "learning_rate = 0.005\n",
        "optimizer = torch.optim.SGD(rnn.parameters(), lr=learning_rate)"
      ],
      "metadata": {
        "id": "fNsBggT8etlG"
      },
      "execution_count": null,
      "outputs": []
    },
    {
      "cell_type": "code",
      "source": [
        "def train(seq, target_seq):\n",
        "    hidden = rnn.init_hidden()\n",
        "    cumulative_loss = 0.0\n",
        "    for i in range(len(seq)):\n",
        "      input_tensor = seq[i].view(1,-1)\n",
        "      output, next_hidden = rnn(input_tensor, hidden_tensor)\n",
        "      \n",
        "      loss = criterion(output, target_seq[i].view(1,-1))\n",
        "      cumulative_loss += loss\n",
        "    \n",
        "    return cumulative_loss.item()"
      ],
      "metadata": {
        "id": "lJanavPnexX4"
      },
      "execution_count": null,
      "outputs": []
    },
    {
      "cell_type": "code",
      "source": [
        "output.long()"
      ],
      "metadata": {
        "id": "I6BR7o2piDnm"
      },
      "execution_count": null,
      "outputs": []
    },
    {
      "cell_type": "code",
      "source": [
        "criterion(output.lon.flatten(), y_train[0,0])"
      ],
      "metadata": {
        "id": "RU_C2Li5h1-b"
      },
      "execution_count": null,
      "outputs": []
    },
    {
      "cell_type": "code",
      "source": [
        "current_loss = 0\n",
        "train_loss = []\n",
        "n_iters = 50\n",
        "for i in range(n_iters):\n",
        "    \n",
        "    for batch, seq in enumerate(X_train):\n",
        "      optimizer.zero_grad()\n",
        "      cumulative_loss = train(seq, y_train[batch])\n",
        "      train_loss.append(cumulative_loss.item())\n",
        "      # Update weights after reading all sequences in batch\n",
        "      # Getting gradients w.r.t. parameters\n",
        "      cumulative_loss.backward()\n",
        "\n",
        "      # Updating parameters\n",
        "      optimizer.step()\n",
        "        "
      ],
      "metadata": {
        "id": "DDgX3S18gFKz"
      },
      "execution_count": null,
      "outputs": []
    },
    {
      "cell_type": "code",
      "source": [],
      "metadata": {
        "id": "mLpEOqnEhUXW"
      },
      "execution_count": null,
      "outputs": []
    }
  ]
}