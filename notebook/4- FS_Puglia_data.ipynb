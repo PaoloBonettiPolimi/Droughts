{
 "cells": [
  {
   "cell_type": "code",
   "execution_count": 1,
   "id": "fe504d85",
   "metadata": {},
   "outputs": [],
   "source": [
    "import sys\n",
    "sys.path.append('D:\\\\Lorenzo\\\\Desktop\\\\Droughts\\\\scripts')"
   ]
  },
  {
   "cell_type": "code",
   "execution_count": 2,
   "id": "5c1d54c9",
   "metadata": {},
   "outputs": [],
   "source": [
    "import pandas as pd\n",
    "import numpy as np\n",
    "\n",
    "from mixedRVMI import CMIEstimate\n",
    "from feature_selection import backwardFeatureSelection"
   ]
  },
  {
   "cell_type": "code",
   "execution_count": 3,
   "id": "23945838",
   "metadata": {},
   "outputs": [
    {
     "data": {
      "text/html": [
       "<div>\n",
       "<style scoped>\n",
       "    .dataframe tbody tr th:only-of-type {\n",
       "        vertical-align: middle;\n",
       "    }\n",
       "\n",
       "    .dataframe tbody tr th {\n",
       "        vertical-align: top;\n",
       "    }\n",
       "\n",
       "    .dataframe thead th {\n",
       "        text-align: right;\n",
       "    }\n",
       "</style>\n",
       "<table border=\"1\" class=\"dataframe\">\n",
       "  <thead>\n",
       "    <tr style=\"text-align: right;\">\n",
       "      <th></th>\n",
       "      <th>Prec</th>\n",
       "      <th>Prec4w</th>\n",
       "      <th>Prec26w</th>\n",
       "      <th>Mean_Temp</th>\n",
       "      <th>Temp4w</th>\n",
       "      <th>Temp26w</th>\n",
       "      <th>Max_Temp</th>\n",
       "      <th>Min_Temp</th>\n",
       "      <th>Dis</th>\n",
       "      <th>Dis4w</th>\n",
       "      <th>...</th>\n",
       "      <th>SRI4w</th>\n",
       "      <th>SRI13w</th>\n",
       "      <th>SRI26w</th>\n",
       "      <th>SRI52w</th>\n",
       "      <th>Fortore</th>\n",
       "      <th>Pertusillo</th>\n",
       "      <th>Sinni</th>\n",
       "      <th>Locone</th>\n",
       "      <th>SommaInvasi</th>\n",
       "      <th>NDVI_NEW</th>\n",
       "    </tr>\n",
       "  </thead>\n",
       "  <tbody>\n",
       "    <tr>\n",
       "      <th>1</th>\n",
       "      <td>1.365524</td>\n",
       "      <td>2.220178</td>\n",
       "      <td>1.591312</td>\n",
       "      <td>7.946628</td>\n",
       "      <td>8.357182</td>\n",
       "      <td>17.591113</td>\n",
       "      <td>11.508571</td>\n",
       "      <td>4.455714</td>\n",
       "      <td>5.651001</td>\n",
       "      <td>7.543345</td>\n",
       "      <td>...</td>\n",
       "      <td>0.930079</td>\n",
       "      <td>0.155211</td>\n",
       "      <td>-0.035628</td>\n",
       "      <td>-0.427399</td>\n",
       "      <td>5.133114e+07</td>\n",
       "      <td>6.536557e+07</td>\n",
       "      <td>9.699429e+07</td>\n",
       "      <td>1.441483e+07</td>\n",
       "      <td>2.281058e+08</td>\n",
       "      <td>0.178273</td>\n",
       "    </tr>\n",
       "    <tr>\n",
       "      <th>2</th>\n",
       "      <td>0.000000</td>\n",
       "      <td>2.211668</td>\n",
       "      <td>1.593471</td>\n",
       "      <td>6.668971</td>\n",
       "      <td>7.581245</td>\n",
       "      <td>16.911644</td>\n",
       "      <td>9.994285</td>\n",
       "      <td>3.731428</td>\n",
       "      <td>3.767630</td>\n",
       "      <td>8.131413</td>\n",
       "      <td>...</td>\n",
       "      <td>0.977349</td>\n",
       "      <td>0.182686</td>\n",
       "      <td>-0.064456</td>\n",
       "      <td>-0.452388</td>\n",
       "      <td>5.247686e+07</td>\n",
       "      <td>6.703214e+07</td>\n",
       "      <td>9.814857e+07</td>\n",
       "      <td>1.530671e+07</td>\n",
       "      <td>2.329643e+08</td>\n",
       "      <td>0.191796</td>\n",
       "    </tr>\n",
       "    <tr>\n",
       "      <th>3</th>\n",
       "      <td>0.311238</td>\n",
       "      <td>1.818144</td>\n",
       "      <td>1.581368</td>\n",
       "      <td>7.086209</td>\n",
       "      <td>7.285277</td>\n",
       "      <td>16.302279</td>\n",
       "      <td>10.634285</td>\n",
       "      <td>3.705714</td>\n",
       "      <td>3.267277</td>\n",
       "      <td>7.954611</td>\n",
       "      <td>...</td>\n",
       "      <td>0.054224</td>\n",
       "      <td>0.186564</td>\n",
       "      <td>-0.129462</td>\n",
       "      <td>-0.485946</td>\n",
       "      <td>5.270600e+07</td>\n",
       "      <td>6.818200e+07</td>\n",
       "      <td>9.747429e+07</td>\n",
       "      <td>1.615071e+07</td>\n",
       "      <td>2.345130e+08</td>\n",
       "      <td>0.204929</td>\n",
       "    </tr>\n",
       "    <tr>\n",
       "      <th>4</th>\n",
       "      <td>0.219810</td>\n",
       "      <td>0.771551</td>\n",
       "      <td>1.552907</td>\n",
       "      <td>5.376324</td>\n",
       "      <td>6.582116</td>\n",
       "      <td>15.629875</td>\n",
       "      <td>8.731428</td>\n",
       "      <td>1.277143</td>\n",
       "      <td>3.246390</td>\n",
       "      <td>5.113591</td>\n",
       "      <td>...</td>\n",
       "      <td>-0.499623</td>\n",
       "      <td>0.081900</td>\n",
       "      <td>-0.193506</td>\n",
       "      <td>-0.493294</td>\n",
       "      <td>5.356014e+07</td>\n",
       "      <td>6.988600e+07</td>\n",
       "      <td>9.793143e+07</td>\n",
       "      <td>1.683657e+07</td>\n",
       "      <td>2.382141e+08</td>\n",
       "      <td>0.218402</td>\n",
       "    </tr>\n",
       "    <tr>\n",
       "      <th>5</th>\n",
       "      <td>1.293143</td>\n",
       "      <td>0.642101</td>\n",
       "      <td>1.474303</td>\n",
       "      <td>3.613009</td>\n",
       "      <td>6.128373</td>\n",
       "      <td>14.965837</td>\n",
       "      <td>7.025714</td>\n",
       "      <td>-0.291429</td>\n",
       "      <td>4.077017</td>\n",
       "      <td>3.987183</td>\n",
       "      <td>...</td>\n",
       "      <td>-0.643762</td>\n",
       "      <td>0.010112</td>\n",
       "      <td>-0.261183</td>\n",
       "      <td>-0.481611</td>\n",
       "      <td>5.404286e+07</td>\n",
       "      <td>7.123814e+07</td>\n",
       "      <td>9.951857e+07</td>\n",
       "      <td>1.765414e+07</td>\n",
       "      <td>2.424537e+08</td>\n",
       "      <td>0.232743</td>\n",
       "    </tr>\n",
       "  </tbody>\n",
       "</table>\n",
       "<p>5 rows × 29 columns</p>\n",
       "</div>"
      ],
      "text/plain": [
       "       Prec    Prec4w   Prec26w  Mean_Temp    Temp4w    Temp26w   Max_Temp  \\\n",
       "1  1.365524  2.220178  1.591312   7.946628  8.357182  17.591113  11.508571   \n",
       "2  0.000000  2.211668  1.593471   6.668971  7.581245  16.911644   9.994285   \n",
       "3  0.311238  1.818144  1.581368   7.086209  7.285277  16.302279  10.634285   \n",
       "4  0.219810  0.771551  1.552907   5.376324  6.582116  15.629875   8.731428   \n",
       "5  1.293143  0.642101  1.474303   3.613009  6.128373  14.965837   7.025714   \n",
       "\n",
       "   Min_Temp       Dis     Dis4w  ...     SRI4w    SRI13w    SRI26w    SRI52w  \\\n",
       "1  4.455714  5.651001  7.543345  ...  0.930079  0.155211 -0.035628 -0.427399   \n",
       "2  3.731428  3.767630  8.131413  ...  0.977349  0.182686 -0.064456 -0.452388   \n",
       "3  3.705714  3.267277  7.954611  ...  0.054224  0.186564 -0.129462 -0.485946   \n",
       "4  1.277143  3.246390  5.113591  ... -0.499623  0.081900 -0.193506 -0.493294   \n",
       "5 -0.291429  4.077017  3.987183  ... -0.643762  0.010112 -0.261183 -0.481611   \n",
       "\n",
       "        Fortore    Pertusillo         Sinni        Locone   SommaInvasi  \\\n",
       "1  5.133114e+07  6.536557e+07  9.699429e+07  1.441483e+07  2.281058e+08   \n",
       "2  5.247686e+07  6.703214e+07  9.814857e+07  1.530671e+07  2.329643e+08   \n",
       "3  5.270600e+07  6.818200e+07  9.747429e+07  1.615071e+07  2.345130e+08   \n",
       "4  5.356014e+07  6.988600e+07  9.793143e+07  1.683657e+07  2.382141e+08   \n",
       "5  5.404286e+07  7.123814e+07  9.951857e+07  1.765414e+07  2.424537e+08   \n",
       "\n",
       "   NDVI_NEW  \n",
       "1  0.178273  \n",
       "2  0.191796  \n",
       "3  0.204929  \n",
       "4  0.218402  \n",
       "5  0.232743  \n",
       "\n",
       "[5 rows x 29 columns]"
      ]
     },
     "execution_count": 3,
     "metadata": {},
     "output_type": "execute_result"
    }
   ],
   "source": [
    "data=\"../data/Puglia_data.xls\"\n",
    "\n",
    "df=pd.read_excel(data)\n",
    "df = df.drop([\"Year\", \"Week\"], axis=1) # cancello le colonne Year e Week\n",
    "df = df.drop(0, axis=0) # cancello la prima riga che contiene info sul tipo di dato\n",
    "df.head()"
   ]
  },
  {
   "cell_type": "code",
   "execution_count": 4,
   "id": "8c38229f",
   "metadata": {},
   "outputs": [],
   "source": [
    "features=df.iloc[:,0:27].values\n",
    "target=df.iloc[:,28].values"
   ]
  },
  {
   "cell_type": "markdown",
   "id": "ca059c39",
   "metadata": {},
   "source": [
    "# delta=0.1"
   ]
  },
  {
   "cell_type": "code",
   "execution_count": 5,
   "id": "90b37221",
   "metadata": {},
   "outputs": [],
   "source": [
    "delta=0.1\n",
    "threshold = delta/2*np.max(target)**2 # regression\n",
    "\n",
    "res = {\n",
    "        \"delta\" : [], # list with all deltas\n",
    "        \"numSelected\" : [], # numero di features selezionate\n",
    "        \"selectedFeatures\" : [] # ID delle feature selezionate\n",
    "    }"
   ]
  },
  {
   "cell_type": "markdown",
   "id": "c63a9b6f",
   "metadata": {},
   "source": [
    "### k=3"
   ]
  },
  {
   "cell_type": "code",
   "execution_count": 6,
   "id": "15b7037a",
   "metadata": {
    "scrolled": true
   },
   "outputs": [
    {
     "name": "stdout",
     "output_type": "stream",
     "text": [
      "Removing original feature: 25\n",
      "Removing original feature: 23\n",
      "Removing original feature: 0\n",
      "Removing original feature: 1\n",
      "Removing original feature: 2\n",
      "Removing original feature: 3\n",
      "Removing original feature: 4\n",
      "Removing original feature: 5\n",
      "Removing original feature: 6\n",
      "Removing original feature: 7\n",
      "Removing original feature: 8\n",
      "Removing original feature: 9\n",
      "Removing original feature: 10\n",
      "Removing original feature: 11\n",
      "Removing original feature: 12\n",
      "Removing original feature: 13\n",
      "Removing original feature: 14\n",
      "Removing original feature: 15\n",
      "Removing original feature: 16\n",
      "Removing original feature: 17\n",
      "Removing original feature: 18\n",
      "Removing original feature: 19\n",
      "Removing original feature: 20\n",
      "Removing original feature: 21\n",
      "Removing original feature: 26\n",
      "Removing original feature: 24\n"
     ]
    }
   ],
   "source": [
    "selectedFeatures = backwardFeatureSelection(threshold,features,target,res,3)"
   ]
  },
  {
   "cell_type": "code",
   "execution_count": 7,
   "id": "e8e33eed",
   "metadata": {},
   "outputs": [
    {
     "data": {
      "text/plain": [
       "[22]"
      ]
     },
     "execution_count": 7,
     "metadata": {},
     "output_type": "execute_result"
    }
   ],
   "source": [
    "selectedFeatures"
   ]
  },
  {
   "cell_type": "markdown",
   "id": "ab736906",
   "metadata": {},
   "source": [
    "### k=10"
   ]
  },
  {
   "cell_type": "code",
   "execution_count": 8,
   "id": "15c35a73",
   "metadata": {},
   "outputs": [
    {
     "name": "stdout",
     "output_type": "stream",
     "text": [
      "Removing original feature: 25\n",
      "Removing original feature: 26\n",
      "Removing original feature: 0\n",
      "Removing original feature: 1\n",
      "Removing original feature: 2\n",
      "Removing original feature: 3\n",
      "Removing original feature: 4\n",
      "Removing original feature: 5\n",
      "Removing original feature: 6\n",
      "Removing original feature: 7\n",
      "Removing original feature: 8\n",
      "Removing original feature: 9\n",
      "Removing original feature: 10\n",
      "Removing original feature: 11\n",
      "Removing original feature: 12\n",
      "Removing original feature: 13\n",
      "Removing original feature: 14\n",
      "Removing original feature: 15\n",
      "Removing original feature: 16\n",
      "Removing original feature: 17\n",
      "Removing original feature: 18\n",
      "Removing original feature: 19\n",
      "Removing original feature: 20\n",
      "Removing original feature: 21\n",
      "Removing original feature: 22\n",
      "Removing original feature: 23\n"
     ]
    }
   ],
   "source": [
    "selectedFeatures = backwardFeatureSelection(threshold,features,target,res,10)"
   ]
  },
  {
   "cell_type": "code",
   "execution_count": 9,
   "id": "07174d7e",
   "metadata": {},
   "outputs": [
    {
     "data": {
      "text/plain": [
       "[24]"
      ]
     },
     "execution_count": 9,
     "metadata": {},
     "output_type": "execute_result"
    }
   ],
   "source": [
    "selectedFeatures"
   ]
  },
  {
   "cell_type": "markdown",
   "id": "56f01187",
   "metadata": {},
   "source": [
    "### k=40"
   ]
  },
  {
   "cell_type": "code",
   "execution_count": 11,
   "id": "eda6c03c",
   "metadata": {},
   "outputs": [
    {
     "name": "stdout",
     "output_type": "stream",
     "text": [
      "Removing original feature: 25\n",
      "Removing original feature: 23\n",
      "Removing original feature: 0\n",
      "Removing original feature: 1\n",
      "Removing original feature: 2\n",
      "Removing original feature: 3\n",
      "Removing original feature: 4\n",
      "Removing original feature: 5\n",
      "Removing original feature: 6\n",
      "Removing original feature: 7\n",
      "Removing original feature: 8\n",
      "Removing original feature: 9\n",
      "Removing original feature: 10\n",
      "Removing original feature: 11\n",
      "Removing original feature: 12\n",
      "Removing original feature: 13\n",
      "Removing original feature: 14\n",
      "Removing original feature: 15\n",
      "Removing original feature: 16\n",
      "Removing original feature: 17\n",
      "Removing original feature: 18\n",
      "Removing original feature: 19\n",
      "Removing original feature: 20\n",
      "Removing original feature: 21\n",
      "Removing original feature: 22\n",
      "Removing original feature: 24\n"
     ]
    },
    {
     "data": {
      "text/plain": [
       "[26]"
      ]
     },
     "execution_count": 11,
     "metadata": {},
     "output_type": "execute_result"
    }
   ],
   "source": [
    "selectedFeatures = backwardFeatureSelection(threshold,features,target,res,40)\n",
    "selectedFeatures"
   ]
  },
  {
   "cell_type": "markdown",
   "id": "a1e3e62b",
   "metadata": {},
   "source": [
    "# delta = 0,05"
   ]
  },
  {
   "cell_type": "code",
   "execution_count": 12,
   "id": "249f94ea",
   "metadata": {},
   "outputs": [],
   "source": [
    "delta=0.05\n",
    "threshold = delta/2*np.max(target)**2 # regression"
   ]
  },
  {
   "cell_type": "markdown",
   "id": "0df49d2e",
   "metadata": {},
   "source": [
    "### k=3"
   ]
  },
  {
   "cell_type": "code",
   "execution_count": 13,
   "id": "88fa6edc",
   "metadata": {
    "scrolled": true
   },
   "outputs": [
    {
     "name": "stdout",
     "output_type": "stream",
     "text": [
      "Removing original feature: 25\n",
      "Removing original feature: 23\n",
      "Removing original feature: 0\n",
      "Removing original feature: 1\n",
      "Removing original feature: 2\n",
      "Removing original feature: 3\n",
      "Removing original feature: 4\n",
      "Removing original feature: 5\n",
      "Removing original feature: 6\n",
      "Removing original feature: 7\n",
      "Removing original feature: 8\n",
      "Removing original feature: 9\n",
      "Removing original feature: 10\n",
      "Removing original feature: 11\n",
      "Removing original feature: 12\n",
      "Removing original feature: 13\n",
      "Removing original feature: 14\n",
      "Removing original feature: 15\n",
      "Removing original feature: 16\n",
      "Removing original feature: 17\n",
      "Removing original feature: 18\n",
      "Removing original feature: 19\n",
      "Removing original feature: 20\n",
      "Removing original feature: 21\n",
      "Removing original feature: 26\n",
      "Removing original feature: 24\n"
     ]
    },
    {
     "data": {
      "text/plain": [
       "[22]"
      ]
     },
     "execution_count": 13,
     "metadata": {},
     "output_type": "execute_result"
    }
   ],
   "source": [
    "selectedFeatures = backwardFeatureSelection(threshold,features,target,res,3)\n",
    "selectedFeatures"
   ]
  },
  {
   "cell_type": "markdown",
   "id": "3a55b073",
   "metadata": {},
   "source": [
    "### k=10"
   ]
  },
  {
   "cell_type": "code",
   "execution_count": 14,
   "id": "56fd6b7f",
   "metadata": {},
   "outputs": [
    {
     "name": "stdout",
     "output_type": "stream",
     "text": [
      "Removing original feature: 25\n",
      "Removing original feature: 26\n",
      "Removing original feature: 0\n",
      "Removing original feature: 1\n",
      "Removing original feature: 2\n",
      "Removing original feature: 3\n",
      "Removing original feature: 4\n",
      "Removing original feature: 5\n",
      "Removing original feature: 6\n",
      "Removing original feature: 7\n",
      "Removing original feature: 8\n",
      "Removing original feature: 9\n",
      "Removing original feature: 10\n",
      "Removing original feature: 11\n",
      "Removing original feature: 12\n",
      "Removing original feature: 13\n",
      "Removing original feature: 14\n",
      "Removing original feature: 15\n",
      "Removing original feature: 16\n",
      "Removing original feature: 17\n",
      "Removing original feature: 18\n",
      "Removing original feature: 19\n",
      "Removing original feature: 20\n",
      "Removing original feature: 21\n",
      "Removing original feature: 22\n",
      "Removing original feature: 23\n"
     ]
    },
    {
     "data": {
      "text/plain": [
       "[24]"
      ]
     },
     "execution_count": 14,
     "metadata": {},
     "output_type": "execute_result"
    }
   ],
   "source": [
    "selectedFeatures = backwardFeatureSelection(threshold,features,target,res,10)\n",
    "selectedFeatures"
   ]
  },
  {
   "cell_type": "markdown",
   "id": "f91e9405",
   "metadata": {},
   "source": [
    "### k = 40"
   ]
  },
  {
   "cell_type": "code",
   "execution_count": 15,
   "id": "a9bb6a52",
   "metadata": {},
   "outputs": [
    {
     "name": "stdout",
     "output_type": "stream",
     "text": [
      "Removing original feature: 25\n",
      "Removing original feature: 23\n",
      "Removing original feature: 0\n",
      "Removing original feature: 1\n",
      "Removing original feature: 2\n",
      "Removing original feature: 3\n",
      "Removing original feature: 4\n",
      "Removing original feature: 5\n",
      "Removing original feature: 6\n",
      "Removing original feature: 7\n",
      "Removing original feature: 8\n",
      "Removing original feature: 9\n",
      "Removing original feature: 10\n",
      "Removing original feature: 11\n",
      "Removing original feature: 12\n",
      "Removing original feature: 13\n",
      "Removing original feature: 14\n",
      "Removing original feature: 15\n",
      "Removing original feature: 16\n",
      "Removing original feature: 17\n",
      "Removing original feature: 18\n",
      "Removing original feature: 19\n",
      "Removing original feature: 20\n",
      "Removing original feature: 21\n",
      "Removing original feature: 22\n",
      "Removing original feature: 24\n"
     ]
    },
    {
     "data": {
      "text/plain": [
       "[26]"
      ]
     },
     "execution_count": 15,
     "metadata": {},
     "output_type": "execute_result"
    }
   ],
   "source": [
    "selectedFeatures = backwardFeatureSelection(threshold,features,target,res,40)\n",
    "selectedFeatures"
   ]
  },
  {
   "cell_type": "markdown",
   "id": "a9d55792",
   "metadata": {},
   "source": [
    "# delta=0,01"
   ]
  },
  {
   "cell_type": "code",
   "execution_count": 16,
   "id": "13ff1e36",
   "metadata": {},
   "outputs": [],
   "source": [
    "delta=0.05\n",
    "threshold = delta/2*np.max(target)**2 # regression"
   ]
  },
  {
   "cell_type": "markdown",
   "id": "447ec541",
   "metadata": {},
   "source": [
    "### k=3"
   ]
  },
  {
   "cell_type": "code",
   "execution_count": 17,
   "id": "751ca3c2",
   "metadata": {},
   "outputs": [
    {
     "name": "stdout",
     "output_type": "stream",
     "text": [
      "Removing original feature: 25\n",
      "Removing original feature: 23\n",
      "Removing original feature: 0\n",
      "Removing original feature: 1\n",
      "Removing original feature: 2\n",
      "Removing original feature: 3\n",
      "Removing original feature: 4\n",
      "Removing original feature: 5\n",
      "Removing original feature: 6\n",
      "Removing original feature: 7\n",
      "Removing original feature: 8\n",
      "Removing original feature: 9\n",
      "Removing original feature: 10\n",
      "Removing original feature: 11\n",
      "Removing original feature: 12\n",
      "Removing original feature: 13\n",
      "Removing original feature: 14\n",
      "Removing original feature: 15\n",
      "Removing original feature: 16\n",
      "Removing original feature: 17\n",
      "Removing original feature: 18\n",
      "Removing original feature: 19\n",
      "Removing original feature: 20\n",
      "Removing original feature: 21\n",
      "Removing original feature: 26\n",
      "Removing original feature: 24\n"
     ]
    },
    {
     "data": {
      "text/plain": [
       "[22]"
      ]
     },
     "execution_count": 17,
     "metadata": {},
     "output_type": "execute_result"
    }
   ],
   "source": [
    "selectedFeatures = backwardFeatureSelection(threshold,features,target,res,3)\n",
    "selectedFeatures"
   ]
  },
  {
   "cell_type": "markdown",
   "id": "4af69b0d",
   "metadata": {},
   "source": [
    "### k=10"
   ]
  },
  {
   "cell_type": "code",
   "execution_count": 18,
   "id": "7ee00538",
   "metadata": {},
   "outputs": [
    {
     "name": "stdout",
     "output_type": "stream",
     "text": [
      "Removing original feature: 25\n",
      "Removing original feature: 26\n",
      "Removing original feature: 0\n",
      "Removing original feature: 1\n",
      "Removing original feature: 2\n",
      "Removing original feature: 3\n",
      "Removing original feature: 4\n",
      "Removing original feature: 5\n",
      "Removing original feature: 6\n",
      "Removing original feature: 7\n",
      "Removing original feature: 8\n",
      "Removing original feature: 9\n",
      "Removing original feature: 10\n",
      "Removing original feature: 11\n",
      "Removing original feature: 12\n",
      "Removing original feature: 13\n",
      "Removing original feature: 14\n",
      "Removing original feature: 15\n",
      "Removing original feature: 16\n",
      "Removing original feature: 17\n",
      "Removing original feature: 18\n",
      "Removing original feature: 19\n",
      "Removing original feature: 20\n",
      "Removing original feature: 21\n",
      "Removing original feature: 22\n",
      "Removing original feature: 23\n"
     ]
    },
    {
     "data": {
      "text/plain": [
       "[24]"
      ]
     },
     "execution_count": 18,
     "metadata": {},
     "output_type": "execute_result"
    }
   ],
   "source": [
    "selectedFeatures = backwardFeatureSelection(threshold,features,target,res,10)\n",
    "selectedFeatures"
   ]
  },
  {
   "cell_type": "markdown",
   "id": "027544c3",
   "metadata": {},
   "source": [
    "### k=40"
   ]
  },
  {
   "cell_type": "code",
   "execution_count": 19,
   "id": "7c4da5ae",
   "metadata": {},
   "outputs": [
    {
     "name": "stdout",
     "output_type": "stream",
     "text": [
      "Removing original feature: 25\n",
      "Removing original feature: 23\n",
      "Removing original feature: 0\n",
      "Removing original feature: 1\n",
      "Removing original feature: 2\n",
      "Removing original feature: 3\n",
      "Removing original feature: 4\n",
      "Removing original feature: 5\n",
      "Removing original feature: 6\n",
      "Removing original feature: 7\n",
      "Removing original feature: 8\n",
      "Removing original feature: 9\n",
      "Removing original feature: 10\n",
      "Removing original feature: 11\n",
      "Removing original feature: 12\n",
      "Removing original feature: 13\n",
      "Removing original feature: 14\n",
      "Removing original feature: 15\n",
      "Removing original feature: 16\n",
      "Removing original feature: 17\n",
      "Removing original feature: 18\n",
      "Removing original feature: 19\n",
      "Removing original feature: 20\n",
      "Removing original feature: 21\n",
      "Removing original feature: 22\n",
      "Removing original feature: 24\n"
     ]
    },
    {
     "data": {
      "text/plain": [
       "[26]"
      ]
     },
     "execution_count": 19,
     "metadata": {},
     "output_type": "execute_result"
    }
   ],
   "source": [
    "selectedFeatures = backwardFeatureSelection(threshold,features,target,res,40)\n",
    "selectedFeatures"
   ]
  },
  {
   "cell_type": "markdown",
   "id": "5a747169",
   "metadata": {},
   "source": [
    "### k = 100"
   ]
  },
  {
   "cell_type": "code",
   "execution_count": 20,
   "id": "f8e90dcf",
   "metadata": {
    "scrolled": true
   },
   "outputs": [
    {
     "name": "stdout",
     "output_type": "stream",
     "text": [
      "Removing original feature: 25\n",
      "Removing original feature: 0\n",
      "Removing original feature: 1\n",
      "Removing original feature: 2\n",
      "Removing original feature: 3\n",
      "Removing original feature: 4\n",
      "Removing original feature: 5\n",
      "Removing original feature: 6\n",
      "Removing original feature: 7\n",
      "Removing original feature: 8\n",
      "Removing original feature: 9\n",
      "Removing original feature: 10\n",
      "Removing original feature: 11\n",
      "Removing original feature: 12\n",
      "Removing original feature: 13\n",
      "Removing original feature: 14\n",
      "Removing original feature: 15\n",
      "Removing original feature: 16\n",
      "Removing original feature: 17\n",
      "Removing original feature: 18\n",
      "Removing original feature: 19\n",
      "Removing original feature: 20\n",
      "Removing original feature: 21\n",
      "Removing original feature: 22\n",
      "Removing original feature: 24\n",
      "Removing original feature: 23\n"
     ]
    },
    {
     "data": {
      "text/plain": [
       "[26]"
      ]
     },
     "execution_count": 20,
     "metadata": {},
     "output_type": "execute_result"
    }
   ],
   "source": [
    "selectedFeatures = backwardFeatureSelection(threshold,features,target,res,100)\n",
    "selectedFeatures"
   ]
  },
  {
   "cell_type": "code",
   "execution_count": 25,
   "id": "ee152993",
   "metadata": {},
   "outputs": [
    {
     "name": "stdout",
     "output_type": "stream",
     "text": [
      "0.0\n",
      "0.0\n",
      "0.0\n",
      "0.0\n",
      "0.0\n",
      "0.0\n",
      "0.0\n",
      "0.0\n",
      "0.0\n",
      "0.0\n",
      "0.0\n",
      "0.0\n",
      "0.0\n",
      "0.0\n",
      "0.0\n",
      "0.0\n",
      "0.0\n",
      "0.0\n",
      "0.0\n",
      "0.0\n",
      "0.0\n",
      "0.0\n",
      "0.0\n",
      "0.00020873734109022601\n",
      "0.001167582417582358\n",
      "-0.001453081232492992\n",
      "0.0018288084464554433\n"
     ]
    }
   ],
   "source": [
    "for col in range(features.shape[1]):\n",
    "    print(CMIEstimate(features[:,col], target, np.delete(features,col,axis=1),3))"
   ]
  },
  {
   "cell_type": "code",
   "execution_count": 26,
   "id": "dd6b09ab",
   "metadata": {},
   "outputs": [
    {
     "name": "stdout",
     "output_type": "stream",
     "text": [
      "0.0\n",
      "0.0\n",
      "0.0\n",
      "0.0\n",
      "0.0\n",
      "0.0\n",
      "0.0\n",
      "0.0\n",
      "0.0\n",
      "0.0\n",
      "0.0\n",
      "0.0\n",
      "0.0\n",
      "0.0\n",
      "0.0\n",
      "0.0\n",
      "0.0\n",
      "0.0\n",
      "0.0\n",
      "0.0\n",
      "0.0\n",
      "0.0\n",
      "0.0\n",
      "-0.0001183221626570273\n",
      "-0.00021875541961623862\n",
      "-0.0004112339119512684\n",
      "-0.00013664002186239768\n"
     ]
    }
   ],
   "source": [
    "for col in range(features.shape[1]):\n",
    "    print(CMIEstimate(features[:,col], target, np.delete(features,col,axis=1),40))"
   ]
  },
  {
   "cell_type": "code",
   "execution_count": null,
   "id": "17773d11",
   "metadata": {},
   "outputs": [],
   "source": []
  }
 ],
 "metadata": {
  "kernelspec": {
   "display_name": "Python 3",
   "language": "python",
   "name": "python3"
  },
  "language_info": {
   "codemirror_mode": {
    "name": "ipython",
    "version": 3
   },
   "file_extension": ".py",
   "mimetype": "text/x-python",
   "name": "python",
   "nbconvert_exporter": "python",
   "pygments_lexer": "ipython3",
   "version": "3.8.8"
  }
 },
 "nbformat": 4,
 "nbformat_minor": 5
}
