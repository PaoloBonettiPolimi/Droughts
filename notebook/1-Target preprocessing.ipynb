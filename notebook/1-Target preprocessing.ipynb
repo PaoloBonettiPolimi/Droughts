{
 "cells": [
  {
   "cell_type": "markdown",
   "id": "971a3feb",
   "metadata": {},
   "source": [
    "# Import del file .nc, trasformazione in dataframe e salvataggio in file pickle"
   ]
  },
  {
   "cell_type": "code",
   "execution_count": 1,
   "id": "2f8a2c66",
   "metadata": {},
   "outputs": [],
   "source": [
    "import netCDF4 as nc\n",
    "import pandas as pd\n",
    "import pandasql as ps\n",
    "import xarray as xr\n",
    "\n",
    "pd.options.display.max_columns = None\n",
    "\n",
    "path=\"/Users/paolo/Documents/Droughts/data/VHP.G04.C07.npp.P2020052.SM.nc\""
   ]
  },
  {
   "cell_type": "code",
   "execution_count": 10,
   "id": "9098965b",
   "metadata": {},
   "outputs": [
    {
     "data": {
      "text/html": [
       "<div>\n",
       "<style scoped>\n",
       "    .dataframe tbody tr th:only-of-type {\n",
       "        vertical-align: middle;\n",
       "    }\n",
       "\n",
       "    .dataframe tbody tr th {\n",
       "        vertical-align: top;\n",
       "    }\n",
       "\n",
       "    .dataframe thead th {\n",
       "        text-align: right;\n",
       "    }\n",
       "</style>\n",
       "<table border=\"1\" class=\"dataframe\">\n",
       "  <thead>\n",
       "    <tr style=\"text-align: right;\">\n",
       "      <th></th>\n",
       "      <th>SMN</th>\n",
       "      <th>latitude</th>\n",
       "      <th>longitude</th>\n",
       "    </tr>\n",
       "  </thead>\n",
       "  <tbody>\n",
       "    <tr>\n",
       "      <th>0</th>\n",
       "      <td>NaN</td>\n",
       "      <td>75.006</td>\n",
       "      <td>-179.982</td>\n",
       "    </tr>\n",
       "    <tr>\n",
       "      <th>1</th>\n",
       "      <td>NaN</td>\n",
       "      <td>74.970</td>\n",
       "      <td>-179.982</td>\n",
       "    </tr>\n",
       "    <tr>\n",
       "      <th>2</th>\n",
       "      <td>NaN</td>\n",
       "      <td>74.934</td>\n",
       "      <td>-179.982</td>\n",
       "    </tr>\n",
       "    <tr>\n",
       "      <th>3</th>\n",
       "      <td>NaN</td>\n",
       "      <td>74.898</td>\n",
       "      <td>-179.982</td>\n",
       "    </tr>\n",
       "    <tr>\n",
       "      <th>4</th>\n",
       "      <td>NaN</td>\n",
       "      <td>74.862</td>\n",
       "      <td>-179.982</td>\n",
       "    </tr>\n",
       "  </tbody>\n",
       "</table>\n",
       "</div>"
      ],
      "text/plain": [
       "   SMN  latitude  longitude\n",
       "0  NaN    75.006   -179.982\n",
       "1  NaN    74.970   -179.982\n",
       "2  NaN    74.934   -179.982\n",
       "3  NaN    74.898   -179.982\n",
       "4  NaN    74.862   -179.982"
      ]
     },
     "execution_count": 10,
     "metadata": {},
     "output_type": "execute_result"
    }
   ],
   "source": [
    "# import dati in un dataframe\n",
    "ds = xr.open_dataset(path)\n",
    "df = ds.to_dataframe().reset_index()\n",
    "\n",
    "# a noi interessano SMN,lat,lon\n",
    "df = df.drop(\"SMT\",axis=1)\n",
    "\n",
    "dLon= dLat = (360.0/10000) \n",
    "Latitude = (75.024 - (df['ny']+0.5) *dLat)\n",
    "Longitude = (-180.0 + (df['nx']+0.5)* dLon) \n",
    "df = df.assign(latitude=Latitude.values)\n",
    "df = df.assign(longitude=Longitude.values)\n",
    "df = df.drop([\"nx\",\"ny\"],axis=1)\n",
    "\n",
    "df.head() "
   ]
  },
  {
   "cell_type": "code",
   "execution_count": 11,
   "id": "31f44fc2",
   "metadata": {},
   "outputs": [
    {
     "data": {
      "text/plain": [
       "SMN          11386119\n",
       "latitude     36160000\n",
       "longitude    36160000\n",
       "dtype: int64"
      ]
     },
     "execution_count": 11,
     "metadata": {},
     "output_type": "execute_result"
    }
   ],
   "source": [
    "df.count()"
   ]
  },
  {
   "cell_type": "code",
   "execution_count": 13,
   "id": "bfa9bd6d",
   "metadata": {},
   "outputs": [],
   "source": [
    "df.to_pickle(\"/Users/paolo/Documents/Droughts/data/NDVI_2020052.pkl\")"
   ]
  }
 ],
 "metadata": {
  "kernelspec": {
   "display_name": "Python 3",
   "language": "python",
   "name": "python3"
  },
  "language_info": {
   "codemirror_mode": {
    "name": "ipython",
    "version": 3
   },
   "file_extension": ".py",
   "mimetype": "text/x-python",
   "name": "python",
   "nbconvert_exporter": "python",
   "pygments_lexer": "ipython3",
   "version": "3.8.8"
  }
 },
 "nbformat": 4,
 "nbformat_minor": 5
}
