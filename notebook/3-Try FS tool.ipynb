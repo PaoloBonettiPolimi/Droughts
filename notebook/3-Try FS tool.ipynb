{
 "cells": [
  {
   "cell_type": "markdown",
   "id": "841e6a46",
   "metadata": {},
   "source": [
    "# MI test"
   ]
  },
  {
   "cell_type": "code",
   "execution_count": 2,
   "id": "cf601fa6",
   "metadata": {},
   "outputs": [],
   "source": [
    "import sys\n",
    "import pandas as pd\n",
    "import numpy as np\n",
    "sys.path.append('/Users/paolo/Documents/Droughts/scripts')\n"
   ]
  },
  {
   "cell_type": "code",
   "execution_count": 3,
   "id": "9e0c238d",
   "metadata": {},
   "outputs": [],
   "source": [
    "from mixedRVMI import MIEstimate"
   ]
  },
  {
   "cell_type": "code",
   "execution_count": 5,
   "id": "8abb57d3",
   "metadata": {},
   "outputs": [
    {
     "data": {
      "text/html": [
       "<div>\n",
       "<style scoped>\n",
       "    .dataframe tbody tr th:only-of-type {\n",
       "        vertical-align: middle;\n",
       "    }\n",
       "\n",
       "    .dataframe tbody tr th {\n",
       "        vertical-align: top;\n",
       "    }\n",
       "\n",
       "    .dataframe thead th {\n",
       "        text-align: right;\n",
       "    }\n",
       "</style>\n",
       "<table border=\"1\" class=\"dataframe\">\n",
       "  <thead>\n",
       "    <tr style=\"text-align: right;\">\n",
       "      <th></th>\n",
       "      <th>SMN</th>\n",
       "      <th>latitude</th>\n",
       "      <th>longitude</th>\n",
       "      <th>SMN_2</th>\n",
       "      <th>SMN_ind</th>\n",
       "    </tr>\n",
       "  </thead>\n",
       "  <tbody>\n",
       "    <tr>\n",
       "      <th>97</th>\n",
       "      <td>0.003</td>\n",
       "      <td>71.514</td>\n",
       "      <td>-179.982</td>\n",
       "      <td>0.000009</td>\n",
       "      <td>0.000</td>\n",
       "    </tr>\n",
       "    <tr>\n",
       "      <th>98</th>\n",
       "      <td>0.001</td>\n",
       "      <td>71.478</td>\n",
       "      <td>-179.982</td>\n",
       "      <td>0.000001</td>\n",
       "      <td>0.001</td>\n",
       "    </tr>\n",
       "    <tr>\n",
       "      <th>99</th>\n",
       "      <td>0.001</td>\n",
       "      <td>71.442</td>\n",
       "      <td>-179.982</td>\n",
       "      <td>0.000001</td>\n",
       "      <td>0.002</td>\n",
       "    </tr>\n",
       "    <tr>\n",
       "      <th>100</th>\n",
       "      <td>0.012</td>\n",
       "      <td>71.406</td>\n",
       "      <td>-179.982</td>\n",
       "      <td>0.000144</td>\n",
       "      <td>0.003</td>\n",
       "    </tr>\n",
       "    <tr>\n",
       "      <th>101</th>\n",
       "      <td>0.012</td>\n",
       "      <td>71.370</td>\n",
       "      <td>-179.982</td>\n",
       "      <td>0.000144</td>\n",
       "      <td>0.004</td>\n",
       "    </tr>\n",
       "  </tbody>\n",
       "</table>\n",
       "</div>"
      ],
      "text/plain": [
       "       SMN  latitude  longitude     SMN_2  SMN_ind\n",
       "97   0.003    71.514   -179.982  0.000009    0.000\n",
       "98   0.001    71.478   -179.982  0.000001    0.001\n",
       "99   0.001    71.442   -179.982  0.000001    0.002\n",
       "100  0.012    71.406   -179.982  0.000144    0.003\n",
       "101  0.012    71.370   -179.982  0.000144    0.004"
      ]
     },
     "execution_count": 5,
     "metadata": {},
     "output_type": "execute_result"
    }
   ],
   "source": [
    "# importo pickle con il dataframe\n",
    "# riduco a 100.000 dati per non essere troppo pesante \n",
    "# aggiungo una colonna non linearmente correlata e una indipendente\n",
    "current_df = pd.read_pickle(\"/Users/paolo/Documents/Droughts/data/NDVI_2020052.pkl\")\n",
    "current_df = current_df.dropna(subset = [\"SMN\"])\n",
    "current_df = current_df.iloc[0:100000]\n",
    "current_df['SMN_2'] = current_df['SMN'].apply(lambda row: row*row)\n",
    "current_df['SMN_ind'] = np.linspace(0,100,num=len(current_df['SMN']))\n",
    "current_df.head()"
   ]
  },
  {
   "cell_type": "code",
   "execution_count": 4,
   "id": "1896bd6b",
   "metadata": {},
   "outputs": [
    {
     "name": "stdout",
     "output_type": "stream",
     "text": [
      "MI(SMN,SMN^2) = 4.946787949670897\n",
      "MI(SMN,independent feature) = 0.9782831328718034\n",
      "MI(SMN,both) = 1.1940409535125753\n"
     ]
    }
   ],
   "source": [
    "print(\"MI(SMN,SMN^2) = \"+str(MIEstimate(current_df['SMN'].to_numpy(),current_df['SMN_2'].to_numpy(),estimate='digamma',k=3)))\n",
    "print(\"MI(SMN,independent feature) = \"+str(MIEstimate(current_df['SMN'].to_numpy(),current_df['SMN_ind'].to_numpy(),estimate='digamma',k=3)))\n",
    "print(\"MI(SMN,both) = \"+str(MIEstimate(current_df['SMN'].to_numpy(),current_df.loc[:,['SMN_2','SMN_ind']].to_numpy(),estimate='digamma',k=3)))"
   ]
  },
  {
   "cell_type": "code",
   "execution_count": 9,
   "id": "06a28a00",
   "metadata": {},
   "outputs": [
    {
     "name": "stderr",
     "output_type": "stream",
     "text": [
      "/opt/anaconda3/lib/python3.8/site-packages/sklearn/utils/validation.py:63: DataConversionWarning: A column-vector y was passed when a 1d array was expected. Please change the shape of y to (n_samples, ), for example using ravel().\n",
      "  return f(*args, **kwargs)\n"
     ]
    },
    {
     "name": "stdout",
     "output_type": "stream",
     "text": [
      "MI(SMN,SMN^2) = [4.94673379]\n"
     ]
    },
    {
     "name": "stderr",
     "output_type": "stream",
     "text": [
      "/opt/anaconda3/lib/python3.8/site-packages/sklearn/utils/validation.py:63: DataConversionWarning: A column-vector y was passed when a 1d array was expected. Please change the shape of y to (n_samples, ), for example using ravel().\n",
      "  return f(*args, **kwargs)\n"
     ]
    },
    {
     "name": "stdout",
     "output_type": "stream",
     "text": [
      "MI(SMN,independent feature) = [0.50616856]\n"
     ]
    },
    {
     "name": "stderr",
     "output_type": "stream",
     "text": [
      "/opt/anaconda3/lib/python3.8/site-packages/sklearn/utils/validation.py:63: DataConversionWarning: A column-vector y was passed when a 1d array was expected. Please change the shape of y to (n_samples, ), for example using ravel().\n",
      "  return f(*args, **kwargs)\n"
     ]
    },
    {
     "name": "stdout",
     "output_type": "stream",
     "text": [
      "MI(SMN,both) = [4.94561652 0.54166387]\n"
     ]
    }
   ],
   "source": [
    "from sklearn.feature_selection import mutual_info_regression\n",
    "print(\"MI(SMN,SMN^2) = \"+str(mutual_info_regression(current_df['SMN'].to_numpy().reshape(-1,1),current_df['SMN_2'].to_numpy().reshape(-1,1),n_neighbors=3)))\n",
    "print(\"MI(SMN,independent feature) = \"+str(mutual_info_regression(current_df['SMN'].to_numpy().reshape(-1,1),current_df['SMN_ind'].to_numpy().reshape(-1,1),n_neighbors=3)))\n",
    "print(\"MI(SMN,both) = \"+str(mutual_info_regression(current_df.loc[:,['SMN_2','SMN_ind']].to_numpy(),current_df['SMN'].to_numpy().reshape(-1,1),n_neighbors=3)))"
   ]
  }
 ],
 "metadata": {
  "kernelspec": {
   "display_name": "Python 3",
   "language": "python",
   "name": "python3"
  },
  "language_info": {
   "codemirror_mode": {
    "name": "ipython",
    "version": 3
   },
   "file_extension": ".py",
   "mimetype": "text/x-python",
   "name": "python",
   "nbconvert_exporter": "python",
   "pygments_lexer": "ipython3",
   "version": "3.8.8"
  }
 },
 "nbformat": 4,
 "nbformat_minor": 5
}
