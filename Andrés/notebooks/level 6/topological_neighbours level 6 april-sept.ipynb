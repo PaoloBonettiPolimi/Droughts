{
 "cells": [
  {
   "cell_type": "code",
   "execution_count": 1,
   "metadata": {},
   "outputs": [
    {
     "name": "stderr",
     "output_type": "stream",
     "text": [
      "/opt/anaconda3/lib/python3.9/site-packages/pandas/core/computation/expressions.py:21: UserWarning: Pandas requires version '2.8.0' or newer of 'numexpr' (version '2.7.3' currently installed).\n",
      "  from pandas.core.computation.check import NUMEXPR_INSTALLED\n",
      "/opt/anaconda3/lib/python3.9/site-packages/pandas/core/arrays/masked.py:62: UserWarning: Pandas requires version '1.3.4' or newer of 'bottleneck' (version '1.3.2' currently installed).\n",
      "  from pandas.core import (\n"
     ]
    }
   ],
   "source": [
    "import geopandas as gpd\n",
    "from tqdm import tqdm\n",
    "from shapely.validation import explain_validity\n",
    "import pandas as pd\n",
    "import numpy as np\n",
    "import matplotlib.pyplot as plt\n",
    "import os\n",
    "import calendar\n",
    "from itertools import cycle"
   ]
  },
  {
   "cell_type": "code",
   "execution_count": 2,
   "metadata": {},
   "outputs": [],
   "source": [
    "os.chdir(\"../../scripts\")\n",
    "from clustering_operations import *\n",
    "from HierarchicalClusteringOptimized import HierarchicalClustering\n",
    "\n",
    "%load_ext autoreload\n",
    "%autoreload 2"
   ]
  },
  {
   "cell_type": "code",
   "execution_count": 13,
   "metadata": {},
   "outputs": [],
   "source": [
    "file = \"../data/shapefiles/FAPAN_level_06/FAPAN_level_06_corrected.shp\"    \n",
    "\n",
    "# open file\n",
    "shp = gpd.read_file(file)\n",
    "df = pd.read_csv(\"../data/FAPAN_level_06_corrected.csv\")"
   ]
  },
  {
   "cell_type": "code",
   "execution_count": 14,
   "metadata": {},
   "outputs": [
    {
     "data": {
      "text/html": [
       "<div>\n",
       "<style scoped>\n",
       "    .dataframe tbody tr th:only-of-type {\n",
       "        vertical-align: middle;\n",
       "    }\n",
       "\n",
       "    .dataframe tbody tr th {\n",
       "        vertical-align: top;\n",
       "    }\n",
       "\n",
       "    .dataframe thead th {\n",
       "        text-align: right;\n",
       "    }\n",
       "</style>\n",
       "<table border=\"1\" class=\"dataframe\">\n",
       "  <thead>\n",
       "    <tr style=\"text-align: right;\">\n",
       "      <th></th>\n",
       "      <th>HYBAS_ID</th>\n",
       "      <th>SUBIDs</th>\n",
       "      <th>Common_Areas</th>\n",
       "      <th>1</th>\n",
       "      <th>2</th>\n",
       "      <th>3</th>\n",
       "      <th>4</th>\n",
       "      <th>5</th>\n",
       "      <th>6</th>\n",
       "      <th>7</th>\n",
       "      <th>...</th>\n",
       "      <th>195</th>\n",
       "      <th>196</th>\n",
       "      <th>197</th>\n",
       "      <th>198</th>\n",
       "      <th>199</th>\n",
       "      <th>200</th>\n",
       "      <th>201</th>\n",
       "      <th>202</th>\n",
       "      <th>203</th>\n",
       "      <th>204</th>\n",
       "    </tr>\n",
       "  </thead>\n",
       "  <tbody>\n",
       "    <tr>\n",
       "      <th>0</th>\n",
       "      <td>2060000020</td>\n",
       "      <td>9000344</td>\n",
       "      <td>0.02401311828330892</td>\n",
       "      <td>-1.447500</td>\n",
       "      <td>-0.678500</td>\n",
       "      <td>-1.512667</td>\n",
       "      <td>-1.678333</td>\n",
       "      <td>-1.416167</td>\n",
       "      <td>-1.088333</td>\n",
       "      <td>-1.370667</td>\n",
       "      <td>...</td>\n",
       "      <td>1.250167</td>\n",
       "      <td>0.948167</td>\n",
       "      <td>0.757500</td>\n",
       "      <td>1.425500</td>\n",
       "      <td>1.163833</td>\n",
       "      <td>0.907167</td>\n",
       "      <td>0.702500</td>\n",
       "      <td>0.387333</td>\n",
       "      <td>1.142833</td>\n",
       "      <td>1.303167</td>\n",
       "    </tr>\n",
       "    <tr>\n",
       "      <th>1</th>\n",
       "      <td>2060000250</td>\n",
       "      <td>9750169</td>\n",
       "      <td>0.047660205477118515</td>\n",
       "      <td>-0.841611</td>\n",
       "      <td>-0.376611</td>\n",
       "      <td>-0.481278</td>\n",
       "      <td>-0.624333</td>\n",
       "      <td>0.071333</td>\n",
       "      <td>-0.095611</td>\n",
       "      <td>-0.331389</td>\n",
       "      <td>...</td>\n",
       "      <td>0.336889</td>\n",
       "      <td>-0.485333</td>\n",
       "      <td>-0.822944</td>\n",
       "      <td>0.466722</td>\n",
       "      <td>0.475667</td>\n",
       "      <td>0.332000</td>\n",
       "      <td>0.930167</td>\n",
       "      <td>0.325778</td>\n",
       "      <td>0.846389</td>\n",
       "      <td>1.177056</td>\n",
       "    </tr>\n",
       "    <tr>\n",
       "      <th>2</th>\n",
       "      <td>2060000350</td>\n",
       "      <td>9749759_9749894_9750078_9749690_9749915</td>\n",
       "      <td>0.0159530869842181_0.02942515868956173_0.02613...</td>\n",
       "      <td>-0.189248</td>\n",
       "      <td>0.308236</td>\n",
       "      <td>0.170155</td>\n",
       "      <td>-0.148409</td>\n",
       "      <td>0.615358</td>\n",
       "      <td>0.809728</td>\n",
       "      <td>0.691766</td>\n",
       "      <td>...</td>\n",
       "      <td>1.022802</td>\n",
       "      <td>-0.561480</td>\n",
       "      <td>-1.012867</td>\n",
       "      <td>0.068079</td>\n",
       "      <td>-0.087174</td>\n",
       "      <td>0.064454</td>\n",
       "      <td>0.279940</td>\n",
       "      <td>0.107797</td>\n",
       "      <td>0.377528</td>\n",
       "      <td>1.257511</td>\n",
       "    </tr>\n",
       "    <tr>\n",
       "      <th>3</th>\n",
       "      <td>2060000360</td>\n",
       "      <td>9000487_9000484_9750185_9755677_9755810_975533...</td>\n",
       "      <td>0.04650632263860207_0.025804922053794144_0.025...</td>\n",
       "      <td>-0.057772</td>\n",
       "      <td>0.641776</td>\n",
       "      <td>-0.071709</td>\n",
       "      <td>-0.831357</td>\n",
       "      <td>0.760276</td>\n",
       "      <td>0.786154</td>\n",
       "      <td>0.367869</td>\n",
       "      <td>...</td>\n",
       "      <td>0.965195</td>\n",
       "      <td>0.859919</td>\n",
       "      <td>0.547498</td>\n",
       "      <td>0.854268</td>\n",
       "      <td>0.965067</td>\n",
       "      <td>0.668454</td>\n",
       "      <td>1.124251</td>\n",
       "      <td>0.211099</td>\n",
       "      <td>0.402814</td>\n",
       "      <td>0.723495</td>\n",
       "    </tr>\n",
       "    <tr>\n",
       "      <th>4</th>\n",
       "      <td>2060001220</td>\n",
       "      <td>9001546_9754147_9754198_9754370_9754381_975472...</td>\n",
       "      <td>0.015832480625249445_0.028670940060692374_0.02...</td>\n",
       "      <td>-0.375709</td>\n",
       "      <td>0.292616</td>\n",
       "      <td>-0.427568</td>\n",
       "      <td>-0.681236</td>\n",
       "      <td>0.346457</td>\n",
       "      <td>0.289082</td>\n",
       "      <td>0.170823</td>\n",
       "      <td>...</td>\n",
       "      <td>0.556770</td>\n",
       "      <td>0.158352</td>\n",
       "      <td>-0.532563</td>\n",
       "      <td>-0.285884</td>\n",
       "      <td>-0.040005</td>\n",
       "      <td>-0.136510</td>\n",
       "      <td>-0.218571</td>\n",
       "      <td>-0.832312</td>\n",
       "      <td>-0.120064</td>\n",
       "      <td>1.079247</td>\n",
       "    </tr>\n",
       "  </tbody>\n",
       "</table>\n",
       "<p>5 rows × 207 columns</p>\n",
       "</div>"
      ],
      "text/plain": [
       "     HYBAS_ID                                             SUBIDs  \\\n",
       "0  2060000020                                            9000344   \n",
       "1  2060000250                                            9750169   \n",
       "2  2060000350            9749759_9749894_9750078_9749690_9749915   \n",
       "3  2060000360  9000487_9000484_9750185_9755677_9755810_975533...   \n",
       "4  2060001220  9001546_9754147_9754198_9754370_9754381_975472...   \n",
       "\n",
       "                                        Common_Areas         1         2  \\\n",
       "0                                0.02401311828330892 -1.447500 -0.678500   \n",
       "1                               0.047660205477118515 -0.841611 -0.376611   \n",
       "2  0.0159530869842181_0.02942515868956173_0.02613... -0.189248  0.308236   \n",
       "3  0.04650632263860207_0.025804922053794144_0.025... -0.057772  0.641776   \n",
       "4  0.015832480625249445_0.028670940060692374_0.02... -0.375709  0.292616   \n",
       "\n",
       "          3         4         5         6         7  ...       195       196  \\\n",
       "0 -1.512667 -1.678333 -1.416167 -1.088333 -1.370667  ...  1.250167  0.948167   \n",
       "1 -0.481278 -0.624333  0.071333 -0.095611 -0.331389  ...  0.336889 -0.485333   \n",
       "2  0.170155 -0.148409  0.615358  0.809728  0.691766  ...  1.022802 -0.561480   \n",
       "3 -0.071709 -0.831357  0.760276  0.786154  0.367869  ...  0.965195  0.859919   \n",
       "4 -0.427568 -0.681236  0.346457  0.289082  0.170823  ...  0.556770  0.158352   \n",
       "\n",
       "        197       198       199       200       201       202       203  \\\n",
       "0  0.757500  1.425500  1.163833  0.907167  0.702500  0.387333  1.142833   \n",
       "1 -0.822944  0.466722  0.475667  0.332000  0.930167  0.325778  0.846389   \n",
       "2 -1.012867  0.068079 -0.087174  0.064454  0.279940  0.107797  0.377528   \n",
       "3  0.547498  0.854268  0.965067  0.668454  1.124251  0.211099  0.402814   \n",
       "4 -0.532563 -0.285884 -0.040005 -0.136510 -0.218571 -0.832312 -0.120064   \n",
       "\n",
       "        204  \n",
       "0  1.303167  \n",
       "1  1.177056  \n",
       "2  1.257511  \n",
       "3  0.723495  \n",
       "4  1.079247  \n",
       "\n",
       "[5 rows x 207 columns]"
      ]
     },
     "execution_count": 14,
     "metadata": {},
     "output_type": "execute_result"
    }
   ],
   "source": [
    "df.head()"
   ]
  },
  {
   "cell_type": "code",
   "execution_count": 15,
   "metadata": {},
   "outputs": [
    {
     "data": {
      "text/plain": [
       "(137, 17)"
      ]
     },
     "execution_count": 15,
     "metadata": {},
     "output_type": "execute_result"
    }
   ],
   "source": [
    "shp['validity'] = shp.apply(lambda row: explain_validity(row.geometry), axis=1)\n",
    "shp[shp['validity'] != 'Valid Geometry'].shape"
   ]
  },
  {
   "cell_type": "code",
   "execution_count": 16,
   "metadata": {},
   "outputs": [
    {
     "data": {
      "text/html": [
       "<div>\n",
       "<style scoped>\n",
       "    .dataframe tbody tr th:only-of-type {\n",
       "        vertical-align: middle;\n",
       "    }\n",
       "\n",
       "    .dataframe tbody tr th {\n",
       "        vertical-align: top;\n",
       "    }\n",
       "\n",
       "    .dataframe thead th {\n",
       "        text-align: right;\n",
       "    }\n",
       "</style>\n",
       "<table border=\"1\" class=\"dataframe\">\n",
       "  <thead>\n",
       "    <tr style=\"text-align: right;\">\n",
       "      <th></th>\n",
       "      <th>SUBID</th>\n",
       "      <th>1</th>\n",
       "      <th>2</th>\n",
       "      <th>3</th>\n",
       "      <th>4</th>\n",
       "      <th>5</th>\n",
       "      <th>6</th>\n",
       "      <th>7</th>\n",
       "      <th>8</th>\n",
       "      <th>9</th>\n",
       "      <th>...</th>\n",
       "      <th>195</th>\n",
       "      <th>196</th>\n",
       "      <th>197</th>\n",
       "      <th>198</th>\n",
       "      <th>199</th>\n",
       "      <th>200</th>\n",
       "      <th>201</th>\n",
       "      <th>202</th>\n",
       "      <th>203</th>\n",
       "      <th>204</th>\n",
       "    </tr>\n",
       "  </thead>\n",
       "  <tbody>\n",
       "    <tr>\n",
       "      <th>0</th>\n",
       "      <td>2060000020</td>\n",
       "      <td>-1.447500</td>\n",
       "      <td>-0.678500</td>\n",
       "      <td>-1.512667</td>\n",
       "      <td>-1.678333</td>\n",
       "      <td>-1.416167</td>\n",
       "      <td>-1.088333</td>\n",
       "      <td>-1.370667</td>\n",
       "      <td>-1.624833</td>\n",
       "      <td>-1.573833</td>\n",
       "      <td>...</td>\n",
       "      <td>1.250167</td>\n",
       "      <td>0.948167</td>\n",
       "      <td>0.757500</td>\n",
       "      <td>1.425500</td>\n",
       "      <td>1.163833</td>\n",
       "      <td>0.907167</td>\n",
       "      <td>0.702500</td>\n",
       "      <td>0.387333</td>\n",
       "      <td>1.142833</td>\n",
       "      <td>1.303167</td>\n",
       "    </tr>\n",
       "    <tr>\n",
       "      <th>1</th>\n",
       "      <td>2060000250</td>\n",
       "      <td>-0.841611</td>\n",
       "      <td>-0.376611</td>\n",
       "      <td>-0.481278</td>\n",
       "      <td>-0.624333</td>\n",
       "      <td>0.071333</td>\n",
       "      <td>-0.095611</td>\n",
       "      <td>-0.331389</td>\n",
       "      <td>-0.702444</td>\n",
       "      <td>-1.164933</td>\n",
       "      <td>...</td>\n",
       "      <td>0.336889</td>\n",
       "      <td>-0.485333</td>\n",
       "      <td>-0.822944</td>\n",
       "      <td>0.466722</td>\n",
       "      <td>0.475667</td>\n",
       "      <td>0.332000</td>\n",
       "      <td>0.930167</td>\n",
       "      <td>0.325778</td>\n",
       "      <td>0.846389</td>\n",
       "      <td>1.177056</td>\n",
       "    </tr>\n",
       "    <tr>\n",
       "      <th>2</th>\n",
       "      <td>2060000350</td>\n",
       "      <td>-0.189248</td>\n",
       "      <td>0.308236</td>\n",
       "      <td>0.170155</td>\n",
       "      <td>-0.148409</td>\n",
       "      <td>0.615358</td>\n",
       "      <td>0.809728</td>\n",
       "      <td>0.691766</td>\n",
       "      <td>0.081720</td>\n",
       "      <td>-0.031275</td>\n",
       "      <td>...</td>\n",
       "      <td>1.022802</td>\n",
       "      <td>-0.561480</td>\n",
       "      <td>-1.012867</td>\n",
       "      <td>0.068079</td>\n",
       "      <td>-0.087174</td>\n",
       "      <td>0.064454</td>\n",
       "      <td>0.279940</td>\n",
       "      <td>0.107797</td>\n",
       "      <td>0.377528</td>\n",
       "      <td>1.257511</td>\n",
       "    </tr>\n",
       "    <tr>\n",
       "      <th>3</th>\n",
       "      <td>2060000360</td>\n",
       "      <td>-0.057772</td>\n",
       "      <td>0.641776</td>\n",
       "      <td>-0.071709</td>\n",
       "      <td>-0.831357</td>\n",
       "      <td>0.760276</td>\n",
       "      <td>0.786154</td>\n",
       "      <td>0.367869</td>\n",
       "      <td>-0.014714</td>\n",
       "      <td>0.034511</td>\n",
       "      <td>...</td>\n",
       "      <td>0.965195</td>\n",
       "      <td>0.859919</td>\n",
       "      <td>0.547498</td>\n",
       "      <td>0.854268</td>\n",
       "      <td>0.965067</td>\n",
       "      <td>0.668454</td>\n",
       "      <td>1.124251</td>\n",
       "      <td>0.211099</td>\n",
       "      <td>0.402814</td>\n",
       "      <td>0.723495</td>\n",
       "    </tr>\n",
       "    <tr>\n",
       "      <th>4</th>\n",
       "      <td>2060001220</td>\n",
       "      <td>-0.375709</td>\n",
       "      <td>0.292616</td>\n",
       "      <td>-0.427568</td>\n",
       "      <td>-0.681236</td>\n",
       "      <td>0.346457</td>\n",
       "      <td>0.289082</td>\n",
       "      <td>0.170823</td>\n",
       "      <td>-0.041098</td>\n",
       "      <td>-0.008199</td>\n",
       "      <td>...</td>\n",
       "      <td>0.556770</td>\n",
       "      <td>0.158352</td>\n",
       "      <td>-0.532563</td>\n",
       "      <td>-0.285884</td>\n",
       "      <td>-0.040005</td>\n",
       "      <td>-0.136510</td>\n",
       "      <td>-0.218571</td>\n",
       "      <td>-0.832312</td>\n",
       "      <td>-0.120064</td>\n",
       "      <td>1.079247</td>\n",
       "    </tr>\n",
       "    <tr>\n",
       "      <th>...</th>\n",
       "      <td>...</td>\n",
       "      <td>...</td>\n",
       "      <td>...</td>\n",
       "      <td>...</td>\n",
       "      <td>...</td>\n",
       "      <td>...</td>\n",
       "      <td>...</td>\n",
       "      <td>...</td>\n",
       "      <td>...</td>\n",
       "      <td>...</td>\n",
       "      <td>...</td>\n",
       "      <td>...</td>\n",
       "      <td>...</td>\n",
       "      <td>...</td>\n",
       "      <td>...</td>\n",
       "      <td>...</td>\n",
       "      <td>...</td>\n",
       "      <td>...</td>\n",
       "      <td>...</td>\n",
       "      <td>...</td>\n",
       "      <td>...</td>\n",
       "    </tr>\n",
       "    <tr>\n",
       "      <th>1072</th>\n",
       "      <td>2060092010</td>\n",
       "      <td>-1.494963</td>\n",
       "      <td>-0.647243</td>\n",
       "      <td>0.193877</td>\n",
       "      <td>-0.788099</td>\n",
       "      <td>-0.975851</td>\n",
       "      <td>-1.251790</td>\n",
       "      <td>-0.297143</td>\n",
       "      <td>0.060851</td>\n",
       "      <td>0.464551</td>\n",
       "      <td>...</td>\n",
       "      <td>1.374192</td>\n",
       "      <td>2.169666</td>\n",
       "      <td>2.062164</td>\n",
       "      <td>1.431662</td>\n",
       "      <td>1.352064</td>\n",
       "      <td>1.547649</td>\n",
       "      <td>1.563188</td>\n",
       "      <td>0.975919</td>\n",
       "      <td>0.420016</td>\n",
       "      <td>0.046283</td>\n",
       "    </tr>\n",
       "    <tr>\n",
       "      <th>1073</th>\n",
       "      <td>2060092270</td>\n",
       "      <td>NaN</td>\n",
       "      <td>-0.459109</td>\n",
       "      <td>-0.736569</td>\n",
       "      <td>-1.137990</td>\n",
       "      <td>-0.178961</td>\n",
       "      <td>0.250913</td>\n",
       "      <td>0.645547</td>\n",
       "      <td>0.288763</td>\n",
       "      <td>0.359027</td>\n",
       "      <td>...</td>\n",
       "      <td>1.568679</td>\n",
       "      <td>2.396409</td>\n",
       "      <td>1.491833</td>\n",
       "      <td>0.631794</td>\n",
       "      <td>0.466646</td>\n",
       "      <td>0.375075</td>\n",
       "      <td>0.289059</td>\n",
       "      <td>-0.174989</td>\n",
       "      <td>-0.153655</td>\n",
       "      <td>-0.178568</td>\n",
       "    </tr>\n",
       "    <tr>\n",
       "      <th>1074</th>\n",
       "      <td>2060094250</td>\n",
       "      <td>NaN</td>\n",
       "      <td>0.206236</td>\n",
       "      <td>-0.640110</td>\n",
       "      <td>-0.469669</td>\n",
       "      <td>0.539658</td>\n",
       "      <td>-0.083044</td>\n",
       "      <td>-0.464367</td>\n",
       "      <td>-0.692698</td>\n",
       "      <td>-0.478246</td>\n",
       "      <td>...</td>\n",
       "      <td>1.885943</td>\n",
       "      <td>1.929488</td>\n",
       "      <td>1.025035</td>\n",
       "      <td>1.230408</td>\n",
       "      <td>2.028067</td>\n",
       "      <td>2.564252</td>\n",
       "      <td>2.209679</td>\n",
       "      <td>1.950304</td>\n",
       "      <td>0.995412</td>\n",
       "      <td>1.113984</td>\n",
       "    </tr>\n",
       "    <tr>\n",
       "      <th>1075</th>\n",
       "      <td>2060099470</td>\n",
       "      <td>-1.515500</td>\n",
       "      <td>-0.422330</td>\n",
       "      <td>0.249213</td>\n",
       "      <td>-1.258625</td>\n",
       "      <td>-0.969987</td>\n",
       "      <td>-1.085834</td>\n",
       "      <td>-0.383673</td>\n",
       "      <td>0.261188</td>\n",
       "      <td>0.588339</td>\n",
       "      <td>...</td>\n",
       "      <td>1.044983</td>\n",
       "      <td>2.067039</td>\n",
       "      <td>2.216021</td>\n",
       "      <td>1.660493</td>\n",
       "      <td>1.222940</td>\n",
       "      <td>1.099630</td>\n",
       "      <td>1.180125</td>\n",
       "      <td>0.862366</td>\n",
       "      <td>0.666127</td>\n",
       "      <td>0.374917</td>\n",
       "    </tr>\n",
       "    <tr>\n",
       "      <th>1076</th>\n",
       "      <td>2060104700</td>\n",
       "      <td>0.678917</td>\n",
       "      <td>0.291525</td>\n",
       "      <td>-1.364243</td>\n",
       "      <td>-0.924891</td>\n",
       "      <td>-0.147512</td>\n",
       "      <td>0.471193</td>\n",
       "      <td>0.473113</td>\n",
       "      <td>-0.541700</td>\n",
       "      <td>0.578163</td>\n",
       "      <td>...</td>\n",
       "      <td>-1.342887</td>\n",
       "      <td>-0.819844</td>\n",
       "      <td>-1.190351</td>\n",
       "      <td>-1.740616</td>\n",
       "      <td>0.500191</td>\n",
       "      <td>0.378837</td>\n",
       "      <td>-0.491120</td>\n",
       "      <td>-1.706135</td>\n",
       "      <td>-0.240916</td>\n",
       "      <td>0.588252</td>\n",
       "    </tr>\n",
       "  </tbody>\n",
       "</table>\n",
       "<p>1077 rows × 205 columns</p>\n",
       "</div>"
      ],
      "text/plain": [
       "           SUBID         1         2         3         4         5         6  \\\n",
       "0     2060000020 -1.447500 -0.678500 -1.512667 -1.678333 -1.416167 -1.088333   \n",
       "1     2060000250 -0.841611 -0.376611 -0.481278 -0.624333  0.071333 -0.095611   \n",
       "2     2060000350 -0.189248  0.308236  0.170155 -0.148409  0.615358  0.809728   \n",
       "3     2060000360 -0.057772  0.641776 -0.071709 -0.831357  0.760276  0.786154   \n",
       "4     2060001220 -0.375709  0.292616 -0.427568 -0.681236  0.346457  0.289082   \n",
       "...          ...       ...       ...       ...       ...       ...       ...   \n",
       "1072  2060092010 -1.494963 -0.647243  0.193877 -0.788099 -0.975851 -1.251790   \n",
       "1073  2060092270       NaN -0.459109 -0.736569 -1.137990 -0.178961  0.250913   \n",
       "1074  2060094250       NaN  0.206236 -0.640110 -0.469669  0.539658 -0.083044   \n",
       "1075  2060099470 -1.515500 -0.422330  0.249213 -1.258625 -0.969987 -1.085834   \n",
       "1076  2060104700  0.678917  0.291525 -1.364243 -0.924891 -0.147512  0.471193   \n",
       "\n",
       "             7         8         9  ...       195       196       197  \\\n",
       "0    -1.370667 -1.624833 -1.573833  ...  1.250167  0.948167  0.757500   \n",
       "1    -0.331389 -0.702444 -1.164933  ...  0.336889 -0.485333 -0.822944   \n",
       "2     0.691766  0.081720 -0.031275  ...  1.022802 -0.561480 -1.012867   \n",
       "3     0.367869 -0.014714  0.034511  ...  0.965195  0.859919  0.547498   \n",
       "4     0.170823 -0.041098 -0.008199  ...  0.556770  0.158352 -0.532563   \n",
       "...        ...       ...       ...  ...       ...       ...       ...   \n",
       "1072 -0.297143  0.060851  0.464551  ...  1.374192  2.169666  2.062164   \n",
       "1073  0.645547  0.288763  0.359027  ...  1.568679  2.396409  1.491833   \n",
       "1074 -0.464367 -0.692698 -0.478246  ...  1.885943  1.929488  1.025035   \n",
       "1075 -0.383673  0.261188  0.588339  ...  1.044983  2.067039  2.216021   \n",
       "1076  0.473113 -0.541700  0.578163  ... -1.342887 -0.819844 -1.190351   \n",
       "\n",
       "           198       199       200       201       202       203       204  \n",
       "0     1.425500  1.163833  0.907167  0.702500  0.387333  1.142833  1.303167  \n",
       "1     0.466722  0.475667  0.332000  0.930167  0.325778  0.846389  1.177056  \n",
       "2     0.068079 -0.087174  0.064454  0.279940  0.107797  0.377528  1.257511  \n",
       "3     0.854268  0.965067  0.668454  1.124251  0.211099  0.402814  0.723495  \n",
       "4    -0.285884 -0.040005 -0.136510 -0.218571 -0.832312 -0.120064  1.079247  \n",
       "...        ...       ...       ...       ...       ...       ...       ...  \n",
       "1072  1.431662  1.352064  1.547649  1.563188  0.975919  0.420016  0.046283  \n",
       "1073  0.631794  0.466646  0.375075  0.289059 -0.174989 -0.153655 -0.178568  \n",
       "1074  1.230408  2.028067  2.564252  2.209679  1.950304  0.995412  1.113984  \n",
       "1075  1.660493  1.222940  1.099630  1.180125  0.862366  0.666127  0.374917  \n",
       "1076 -1.740616  0.500191  0.378837 -0.491120 -1.706135 -0.240916  0.588252  \n",
       "\n",
       "[1077 rows x 205 columns]"
      ]
     },
     "execution_count": 16,
     "metadata": {},
     "output_type": "execute_result"
    }
   ],
   "source": [
    "df = df.drop([\"SUBIDs\", \"Common_Areas\"], axis=1)\n",
    "df = df.rename(columns={\"HYBAS_ID\" : \"SUBID\"})\n",
    "df['SUBID'] = df['SUBID'].astype(str)\n",
    "shp = shp.rename(columns={\"HYBAS_ID\" : \"SUBID\"})\n",
    "shp['SUBID'] = shp['SUBID'].astype(str)\n",
    "df"
   ]
  },
  {
   "cell_type": "code",
   "execution_count": 17,
   "metadata": {},
   "outputs": [
    {
     "data": {
      "text/plain": [
       "<AxesSubplot:>"
      ]
     },
     "execution_count": 17,
     "metadata": {},
     "output_type": "execute_result"
    },
    {
     "data": {
      "image/png": "[encoded data removed]",
      "text/plain": [
       "<Figure size 1152x720 with 1 Axes>"
      ]
     },
     "metadata": {
      "needs_background": "light"
     },
     "output_type": "display_data"
    }
   ],
   "source": [
    "shp.plot(figsize=(16,10), column=df['198'], cmap='RdYlGn', vmin=-2, vmax=2)"
   ]
  },
  {
   "cell_type": "code",
   "execution_count": 18,
   "metadata": {},
   "outputs": [],
   "source": [
    "def select_columns_by_months(dataframe, selected_months):\n",
    "    selected_columns = []\n",
    "\n",
    "    for i in range((dataframe.shape[1] - 1) // 12):\n",
    "        selected_columns.extend([month + i * 12 for month in selected_months])\n",
    "\n",
    "    all_columns = np.arange(1, dataframe.shape[1])\n",
    "    columns_to_drop = np.setdiff1d(all_columns, np.array(selected_columns))\n",
    "    columns_to_drop = [str(i) for i in columns_to_drop]\n",
    "\n",
    "    filtered_dataframe = dataframe.drop(columns=columns_to_drop, axis=1)\n",
    "\n",
    "    return filtered_dataframe"
   ]
  },
  {
   "cell_type": "code",
   "execution_count": 19,
   "metadata": {},
   "outputs": [
    {
     "data": {
      "text/plain": [
       "(1077, 103)"
      ]
     },
     "execution_count": 19,
     "metadata": {},
     "output_type": "execute_result"
    }
   ],
   "source": [
    "df = select_columns_by_months(df, [4,5,6,7,8,9])\n",
    "df.shape"
   ]
  },
  {
   "cell_type": "code",
   "execution_count": 20,
   "metadata": {},
   "outputs": [
    {
     "data": {
      "text/html": [
       "<div>\n",
       "<style scoped>\n",
       "    .dataframe tbody tr th:only-of-type {\n",
       "        vertical-align: middle;\n",
       "    }\n",
       "\n",
       "    .dataframe tbody tr th {\n",
       "        vertical-align: top;\n",
       "    }\n",
       "\n",
       "    .dataframe thead th {\n",
       "        text-align: right;\n",
       "    }\n",
       "</style>\n",
       "<table border=\"1\" class=\"dataframe\">\n",
       "  <thead>\n",
       "    <tr style=\"text-align: right;\">\n",
       "      <th></th>\n",
       "      <th>SUBID</th>\n",
       "      <th>4</th>\n",
       "      <th>5</th>\n",
       "      <th>6</th>\n",
       "      <th>7</th>\n",
       "      <th>8</th>\n",
       "      <th>9</th>\n",
       "      <th>16</th>\n",
       "      <th>17</th>\n",
       "      <th>18</th>\n",
       "      <th>...</th>\n",
       "      <th>186</th>\n",
       "      <th>187</th>\n",
       "      <th>188</th>\n",
       "      <th>189</th>\n",
       "      <th>196</th>\n",
       "      <th>197</th>\n",
       "      <th>198</th>\n",
       "      <th>199</th>\n",
       "      <th>200</th>\n",
       "      <th>201</th>\n",
       "    </tr>\n",
       "  </thead>\n",
       "  <tbody>\n",
       "    <tr>\n",
       "      <th>0</th>\n",
       "      <td>2060000020</td>\n",
       "      <td>-1.678333</td>\n",
       "      <td>-1.416167</td>\n",
       "      <td>-1.088333</td>\n",
       "      <td>-1.370667</td>\n",
       "      <td>-1.624833</td>\n",
       "      <td>-1.573833</td>\n",
       "      <td>-1.185667</td>\n",
       "      <td>-1.158500</td>\n",
       "      <td>-1.497667</td>\n",
       "      <td>...</td>\n",
       "      <td>1.598667</td>\n",
       "      <td>1.292667</td>\n",
       "      <td>0.903500</td>\n",
       "      <td>0.432333</td>\n",
       "      <td>0.948167</td>\n",
       "      <td>0.757500</td>\n",
       "      <td>1.425500</td>\n",
       "      <td>1.163833</td>\n",
       "      <td>0.907167</td>\n",
       "      <td>0.702500</td>\n",
       "    </tr>\n",
       "    <tr>\n",
       "      <th>1</th>\n",
       "      <td>2060000250</td>\n",
       "      <td>-0.624333</td>\n",
       "      <td>0.071333</td>\n",
       "      <td>-0.095611</td>\n",
       "      <td>-0.331389</td>\n",
       "      <td>-0.702444</td>\n",
       "      <td>-1.164933</td>\n",
       "      <td>1.400056</td>\n",
       "      <td>0.359389</td>\n",
       "      <td>-0.206611</td>\n",
       "      <td>...</td>\n",
       "      <td>1.366889</td>\n",
       "      <td>1.099611</td>\n",
       "      <td>0.954111</td>\n",
       "      <td>1.099667</td>\n",
       "      <td>-0.485333</td>\n",
       "      <td>-0.822944</td>\n",
       "      <td>0.466722</td>\n",
       "      <td>0.475667</td>\n",
       "      <td>0.332000</td>\n",
       "      <td>0.930167</td>\n",
       "    </tr>\n",
       "    <tr>\n",
       "      <th>2</th>\n",
       "      <td>2060000350</td>\n",
       "      <td>-0.148409</td>\n",
       "      <td>0.615358</td>\n",
       "      <td>0.809728</td>\n",
       "      <td>0.691766</td>\n",
       "      <td>0.081720</td>\n",
       "      <td>-0.031275</td>\n",
       "      <td>1.475373</td>\n",
       "      <td>1.562354</td>\n",
       "      <td>1.270759</td>\n",
       "      <td>...</td>\n",
       "      <td>0.367541</td>\n",
       "      <td>0.585144</td>\n",
       "      <td>0.400746</td>\n",
       "      <td>0.585439</td>\n",
       "      <td>-0.561480</td>\n",
       "      <td>-1.012867</td>\n",
       "      <td>0.068079</td>\n",
       "      <td>-0.087174</td>\n",
       "      <td>0.064454</td>\n",
       "      <td>0.279940</td>\n",
       "    </tr>\n",
       "    <tr>\n",
       "      <th>3</th>\n",
       "      <td>2060000360</td>\n",
       "      <td>-0.831357</td>\n",
       "      <td>0.760276</td>\n",
       "      <td>0.786154</td>\n",
       "      <td>0.367869</td>\n",
       "      <td>-0.014714</td>\n",
       "      <td>0.034511</td>\n",
       "      <td>-0.423302</td>\n",
       "      <td>0.248575</td>\n",
       "      <td>-0.041399</td>\n",
       "      <td>...</td>\n",
       "      <td>0.507585</td>\n",
       "      <td>0.346896</td>\n",
       "      <td>0.462830</td>\n",
       "      <td>0.297510</td>\n",
       "      <td>0.859919</td>\n",
       "      <td>0.547498</td>\n",
       "      <td>0.854268</td>\n",
       "      <td>0.965067</td>\n",
       "      <td>0.668454</td>\n",
       "      <td>1.124251</td>\n",
       "    </tr>\n",
       "    <tr>\n",
       "      <th>4</th>\n",
       "      <td>2060001220</td>\n",
       "      <td>-0.681236</td>\n",
       "      <td>0.346457</td>\n",
       "      <td>0.289082</td>\n",
       "      <td>0.170823</td>\n",
       "      <td>-0.041098</td>\n",
       "      <td>-0.008199</td>\n",
       "      <td>-0.172885</td>\n",
       "      <td>0.601283</td>\n",
       "      <td>0.396990</td>\n",
       "      <td>...</td>\n",
       "      <td>-0.033413</td>\n",
       "      <td>-0.081727</td>\n",
       "      <td>-0.074530</td>\n",
       "      <td>-0.159709</td>\n",
       "      <td>0.158352</td>\n",
       "      <td>-0.532563</td>\n",
       "      <td>-0.285884</td>\n",
       "      <td>-0.040005</td>\n",
       "      <td>-0.136510</td>\n",
       "      <td>-0.218571</td>\n",
       "    </tr>\n",
       "  </tbody>\n",
       "</table>\n",
       "<p>5 rows × 103 columns</p>\n",
       "</div>"
      ],
      "text/plain": [
       "        SUBID         4         5         6         7         8         9  \\\n",
       "0  2060000020 -1.678333 -1.416167 -1.088333 -1.370667 -1.624833 -1.573833   \n",
       "1  2060000250 -0.624333  0.071333 -0.095611 -0.331389 -0.702444 -1.164933   \n",
       "2  2060000350 -0.148409  0.615358  0.809728  0.691766  0.081720 -0.031275   \n",
       "3  2060000360 -0.831357  0.760276  0.786154  0.367869 -0.014714  0.034511   \n",
       "4  2060001220 -0.681236  0.346457  0.289082  0.170823 -0.041098 -0.008199   \n",
       "\n",
       "         16        17        18  ...       186       187       188       189  \\\n",
       "0 -1.185667 -1.158500 -1.497667  ...  1.598667  1.292667  0.903500  0.432333   \n",
       "1  1.400056  0.359389 -0.206611  ...  1.366889  1.099611  0.954111  1.099667   \n",
       "2  1.475373  1.562354  1.270759  ...  0.367541  0.585144  0.400746  0.585439   \n",
       "3 -0.423302  0.248575 -0.041399  ...  0.507585  0.346896  0.462830  0.297510   \n",
       "4 -0.172885  0.601283  0.396990  ... -0.033413 -0.081727 -0.074530 -0.159709   \n",
       "\n",
       "        196       197       198       199       200       201  \n",
       "0  0.948167  0.757500  1.425500  1.163833  0.907167  0.702500  \n",
       "1 -0.485333 -0.822944  0.466722  0.475667  0.332000  0.930167  \n",
       "2 -0.561480 -1.012867  0.068079 -0.087174  0.064454  0.279940  \n",
       "3  0.859919  0.547498  0.854268  0.965067  0.668454  1.124251  \n",
       "4  0.158352 -0.532563 -0.285884 -0.040005 -0.136510 -0.218571  \n",
       "\n",
       "[5 rows x 103 columns]"
      ]
     },
     "execution_count": 20,
     "metadata": {},
     "output_type": "execute_result"
    }
   ],
   "source": [
    "df.head()"
   ]
  },
  {
   "cell_type": "code",
   "execution_count": 21,
   "metadata": {},
   "outputs": [
    {
     "data": {
      "text/plain": [
       "(1032, 103)"
      ]
     },
     "execution_count": 21,
     "metadata": {},
     "output_type": "execute_result"
    }
   ],
   "source": [
    "#df_noNA = df.dropna()\n",
    "df_noNA = df.copy()\n",
    "#selected_columns = df_noNA.iloc[:, 3:]\n",
    "#df_noNA = df_noNA[(selected_columns.isnull().sum(axis=1)<=4)]\n",
    "\n",
    "df_noNA = df_noNA[df_noNA.isnull().sum(axis=1)<=4]\n",
    "df_noNA = df_noNA.reset_index(drop=True)\n",
    "df_noNA.shape"
   ]
  },
  {
   "cell_type": "code",
   "execution_count": 22,
   "metadata": {},
   "outputs": [
    {
     "data": {
      "text/plain": [
       "(1032, 17)"
      ]
     },
     "execution_count": 22,
     "metadata": {},
     "output_type": "execute_result"
    }
   ],
   "source": [
    "shp_noNA = shp[shp['SUBID'].isin(df_noNA['SUBID'])]\n",
    "shp_noNA = shp_noNA.reset_index(drop=True)\n",
    "shp_noNA.shape"
   ]
  },
  {
   "cell_type": "code",
   "execution_count": 23,
   "metadata": {},
   "outputs": [
    {
     "data": {
      "text/html": [
       "<div>\n",
       "<style scoped>\n",
       "    .dataframe tbody tr th:only-of-type {\n",
       "        vertical-align: middle;\n",
       "    }\n",
       "\n",
       "    .dataframe tbody tr th {\n",
       "        vertical-align: top;\n",
       "    }\n",
       "\n",
       "    .dataframe thead th {\n",
       "        text-align: right;\n",
       "    }\n",
       "</style>\n",
       "<table border=\"1\" class=\"dataframe\">\n",
       "  <thead>\n",
       "    <tr style=\"text-align: right;\">\n",
       "      <th></th>\n",
       "      <th>SUBID</th>\n",
       "      <th>4</th>\n",
       "      <th>5</th>\n",
       "      <th>6</th>\n",
       "      <th>7</th>\n",
       "      <th>8</th>\n",
       "      <th>9</th>\n",
       "      <th>16</th>\n",
       "      <th>17</th>\n",
       "      <th>18</th>\n",
       "      <th>...</th>\n",
       "      <th>186</th>\n",
       "      <th>187</th>\n",
       "      <th>188</th>\n",
       "      <th>189</th>\n",
       "      <th>196</th>\n",
       "      <th>197</th>\n",
       "      <th>198</th>\n",
       "      <th>199</th>\n",
       "      <th>200</th>\n",
       "      <th>201</th>\n",
       "    </tr>\n",
       "  </thead>\n",
       "  <tbody>\n",
       "    <tr>\n",
       "      <th>0</th>\n",
       "      <td>2060000020</td>\n",
       "      <td>-1.678333</td>\n",
       "      <td>-1.416167</td>\n",
       "      <td>-1.088333</td>\n",
       "      <td>-1.370667</td>\n",
       "      <td>-1.624833</td>\n",
       "      <td>-1.573833</td>\n",
       "      <td>-1.185667</td>\n",
       "      <td>-1.158500</td>\n",
       "      <td>-1.497667</td>\n",
       "      <td>...</td>\n",
       "      <td>1.598667</td>\n",
       "      <td>1.292667</td>\n",
       "      <td>0.903500</td>\n",
       "      <td>0.432333</td>\n",
       "      <td>0.948167</td>\n",
       "      <td>0.757500</td>\n",
       "      <td>1.425500</td>\n",
       "      <td>1.163833</td>\n",
       "      <td>0.907167</td>\n",
       "      <td>0.702500</td>\n",
       "    </tr>\n",
       "    <tr>\n",
       "      <th>1</th>\n",
       "      <td>2060000250</td>\n",
       "      <td>-0.624333</td>\n",
       "      <td>0.071333</td>\n",
       "      <td>-0.095611</td>\n",
       "      <td>-0.331389</td>\n",
       "      <td>-0.702444</td>\n",
       "      <td>-1.164933</td>\n",
       "      <td>1.400056</td>\n",
       "      <td>0.359389</td>\n",
       "      <td>-0.206611</td>\n",
       "      <td>...</td>\n",
       "      <td>1.366889</td>\n",
       "      <td>1.099611</td>\n",
       "      <td>0.954111</td>\n",
       "      <td>1.099667</td>\n",
       "      <td>-0.485333</td>\n",
       "      <td>-0.822944</td>\n",
       "      <td>0.466722</td>\n",
       "      <td>0.475667</td>\n",
       "      <td>0.332000</td>\n",
       "      <td>0.930167</td>\n",
       "    </tr>\n",
       "    <tr>\n",
       "      <th>2</th>\n",
       "      <td>2060000350</td>\n",
       "      <td>-0.148409</td>\n",
       "      <td>0.615358</td>\n",
       "      <td>0.809728</td>\n",
       "      <td>0.691766</td>\n",
       "      <td>0.081720</td>\n",
       "      <td>-0.031275</td>\n",
       "      <td>1.475373</td>\n",
       "      <td>1.562354</td>\n",
       "      <td>1.270759</td>\n",
       "      <td>...</td>\n",
       "      <td>0.367541</td>\n",
       "      <td>0.585144</td>\n",
       "      <td>0.400746</td>\n",
       "      <td>0.585439</td>\n",
       "      <td>-0.561480</td>\n",
       "      <td>-1.012867</td>\n",
       "      <td>0.068079</td>\n",
       "      <td>-0.087174</td>\n",
       "      <td>0.064454</td>\n",
       "      <td>0.279940</td>\n",
       "    </tr>\n",
       "    <tr>\n",
       "      <th>3</th>\n",
       "      <td>2060000360</td>\n",
       "      <td>-0.831357</td>\n",
       "      <td>0.760276</td>\n",
       "      <td>0.786154</td>\n",
       "      <td>0.367869</td>\n",
       "      <td>-0.014714</td>\n",
       "      <td>0.034511</td>\n",
       "      <td>-0.423302</td>\n",
       "      <td>0.248575</td>\n",
       "      <td>-0.041399</td>\n",
       "      <td>...</td>\n",
       "      <td>0.507585</td>\n",
       "      <td>0.346896</td>\n",
       "      <td>0.462830</td>\n",
       "      <td>0.297510</td>\n",
       "      <td>0.859919</td>\n",
       "      <td>0.547498</td>\n",
       "      <td>0.854268</td>\n",
       "      <td>0.965067</td>\n",
       "      <td>0.668454</td>\n",
       "      <td>1.124251</td>\n",
       "    </tr>\n",
       "    <tr>\n",
       "      <th>4</th>\n",
       "      <td>2060001220</td>\n",
       "      <td>-0.681236</td>\n",
       "      <td>0.346457</td>\n",
       "      <td>0.289082</td>\n",
       "      <td>0.170823</td>\n",
       "      <td>-0.041098</td>\n",
       "      <td>-0.008199</td>\n",
       "      <td>-0.172885</td>\n",
       "      <td>0.601283</td>\n",
       "      <td>0.396990</td>\n",
       "      <td>...</td>\n",
       "      <td>-0.033413</td>\n",
       "      <td>-0.081727</td>\n",
       "      <td>-0.074530</td>\n",
       "      <td>-0.159709</td>\n",
       "      <td>0.158352</td>\n",
       "      <td>-0.532563</td>\n",
       "      <td>-0.285884</td>\n",
       "      <td>-0.040005</td>\n",
       "      <td>-0.136510</td>\n",
       "      <td>-0.218571</td>\n",
       "    </tr>\n",
       "    <tr>\n",
       "      <th>...</th>\n",
       "      <td>...</td>\n",
       "      <td>...</td>\n",
       "      <td>...</td>\n",
       "      <td>...</td>\n",
       "      <td>...</td>\n",
       "      <td>...</td>\n",
       "      <td>...</td>\n",
       "      <td>...</td>\n",
       "      <td>...</td>\n",
       "      <td>...</td>\n",
       "      <td>...</td>\n",
       "      <td>...</td>\n",
       "      <td>...</td>\n",
       "      <td>...</td>\n",
       "      <td>...</td>\n",
       "      <td>...</td>\n",
       "      <td>...</td>\n",
       "      <td>...</td>\n",
       "      <td>...</td>\n",
       "      <td>...</td>\n",
       "      <td>...</td>\n",
       "    </tr>\n",
       "    <tr>\n",
       "      <th>1027</th>\n",
       "      <td>2060092010</td>\n",
       "      <td>-0.788099</td>\n",
       "      <td>-0.975851</td>\n",
       "      <td>-1.251790</td>\n",
       "      <td>-0.297143</td>\n",
       "      <td>0.060851</td>\n",
       "      <td>0.464551</td>\n",
       "      <td>-1.204007</td>\n",
       "      <td>-0.958711</td>\n",
       "      <td>-0.536867</td>\n",
       "      <td>...</td>\n",
       "      <td>0.854345</td>\n",
       "      <td>1.355788</td>\n",
       "      <td>1.589836</td>\n",
       "      <td>1.754621</td>\n",
       "      <td>2.169666</td>\n",
       "      <td>2.062164</td>\n",
       "      <td>1.431662</td>\n",
       "      <td>1.352064</td>\n",
       "      <td>1.547649</td>\n",
       "      <td>1.563188</td>\n",
       "    </tr>\n",
       "    <tr>\n",
       "      <th>1028</th>\n",
       "      <td>2060092270</td>\n",
       "      <td>-1.137990</td>\n",
       "      <td>-0.178961</td>\n",
       "      <td>0.250913</td>\n",
       "      <td>0.645547</td>\n",
       "      <td>0.288763</td>\n",
       "      <td>0.359027</td>\n",
       "      <td>-0.773574</td>\n",
       "      <td>-0.041117</td>\n",
       "      <td>0.093737</td>\n",
       "      <td>...</td>\n",
       "      <td>0.618511</td>\n",
       "      <td>1.180427</td>\n",
       "      <td>0.537719</td>\n",
       "      <td>0.202708</td>\n",
       "      <td>2.396409</td>\n",
       "      <td>1.491833</td>\n",
       "      <td>0.631794</td>\n",
       "      <td>0.466646</td>\n",
       "      <td>0.375075</td>\n",
       "      <td>0.289059</td>\n",
       "    </tr>\n",
       "    <tr>\n",
       "      <th>1029</th>\n",
       "      <td>2060094250</td>\n",
       "      <td>-0.469669</td>\n",
       "      <td>0.539658</td>\n",
       "      <td>-0.083044</td>\n",
       "      <td>-0.464367</td>\n",
       "      <td>-0.692698</td>\n",
       "      <td>-0.478246</td>\n",
       "      <td>-0.608712</td>\n",
       "      <td>-0.064372</td>\n",
       "      <td>0.140049</td>\n",
       "      <td>...</td>\n",
       "      <td>1.604588</td>\n",
       "      <td>1.827051</td>\n",
       "      <td>1.543458</td>\n",
       "      <td>1.200382</td>\n",
       "      <td>1.929488</td>\n",
       "      <td>1.025035</td>\n",
       "      <td>1.230408</td>\n",
       "      <td>2.028067</td>\n",
       "      <td>2.564252</td>\n",
       "      <td>2.209679</td>\n",
       "    </tr>\n",
       "    <tr>\n",
       "      <th>1030</th>\n",
       "      <td>2060099470</td>\n",
       "      <td>-1.258625</td>\n",
       "      <td>-0.969987</td>\n",
       "      <td>-1.085834</td>\n",
       "      <td>-0.383673</td>\n",
       "      <td>0.261188</td>\n",
       "      <td>0.588339</td>\n",
       "      <td>-0.643094</td>\n",
       "      <td>-0.584770</td>\n",
       "      <td>-0.261223</td>\n",
       "      <td>...</td>\n",
       "      <td>0.674865</td>\n",
       "      <td>1.238443</td>\n",
       "      <td>1.231055</td>\n",
       "      <td>1.558199</td>\n",
       "      <td>2.067039</td>\n",
       "      <td>2.216021</td>\n",
       "      <td>1.660493</td>\n",
       "      <td>1.222940</td>\n",
       "      <td>1.099630</td>\n",
       "      <td>1.180125</td>\n",
       "    </tr>\n",
       "    <tr>\n",
       "      <th>1031</th>\n",
       "      <td>2060104700</td>\n",
       "      <td>-0.924891</td>\n",
       "      <td>-0.147512</td>\n",
       "      <td>0.471193</td>\n",
       "      <td>0.473113</td>\n",
       "      <td>-0.541700</td>\n",
       "      <td>0.578163</td>\n",
       "      <td>0.018292</td>\n",
       "      <td>0.345503</td>\n",
       "      <td>-0.051539</td>\n",
       "      <td>...</td>\n",
       "      <td>0.757336</td>\n",
       "      <td>0.263761</td>\n",
       "      <td>-0.012134</td>\n",
       "      <td>-0.692743</td>\n",
       "      <td>-0.819844</td>\n",
       "      <td>-1.190351</td>\n",
       "      <td>-1.740616</td>\n",
       "      <td>0.500191</td>\n",
       "      <td>0.378837</td>\n",
       "      <td>-0.491120</td>\n",
       "    </tr>\n",
       "  </tbody>\n",
       "</table>\n",
       "<p>1032 rows × 103 columns</p>\n",
       "</div>"
      ],
      "text/plain": [
       "           SUBID         4         5         6         7         8         9  \\\n",
       "0     2060000020 -1.678333 -1.416167 -1.088333 -1.370667 -1.624833 -1.573833   \n",
       "1     2060000250 -0.624333  0.071333 -0.095611 -0.331389 -0.702444 -1.164933   \n",
       "2     2060000350 -0.148409  0.615358  0.809728  0.691766  0.081720 -0.031275   \n",
       "3     2060000360 -0.831357  0.760276  0.786154  0.367869 -0.014714  0.034511   \n",
       "4     2060001220 -0.681236  0.346457  0.289082  0.170823 -0.041098 -0.008199   \n",
       "...          ...       ...       ...       ...       ...       ...       ...   \n",
       "1027  2060092010 -0.788099 -0.975851 -1.251790 -0.297143  0.060851  0.464551   \n",
       "1028  2060092270 -1.137990 -0.178961  0.250913  0.645547  0.288763  0.359027   \n",
       "1029  2060094250 -0.469669  0.539658 -0.083044 -0.464367 -0.692698 -0.478246   \n",
       "1030  2060099470 -1.258625 -0.969987 -1.085834 -0.383673  0.261188  0.588339   \n",
       "1031  2060104700 -0.924891 -0.147512  0.471193  0.473113 -0.541700  0.578163   \n",
       "\n",
       "            16        17        18  ...       186       187       188  \\\n",
       "0    -1.185667 -1.158500 -1.497667  ...  1.598667  1.292667  0.903500   \n",
       "1     1.400056  0.359389 -0.206611  ...  1.366889  1.099611  0.954111   \n",
       "2     1.475373  1.562354  1.270759  ...  0.367541  0.585144  0.400746   \n",
       "3    -0.423302  0.248575 -0.041399  ...  0.507585  0.346896  0.462830   \n",
       "4    -0.172885  0.601283  0.396990  ... -0.033413 -0.081727 -0.074530   \n",
       "...        ...       ...       ...  ...       ...       ...       ...   \n",
       "1027 -1.204007 -0.958711 -0.536867  ...  0.854345  1.355788  1.589836   \n",
       "1028 -0.773574 -0.041117  0.093737  ...  0.618511  1.180427  0.537719   \n",
       "1029 -0.608712 -0.064372  0.140049  ...  1.604588  1.827051  1.543458   \n",
       "1030 -0.643094 -0.584770 -0.261223  ...  0.674865  1.238443  1.231055   \n",
       "1031  0.018292  0.345503 -0.051539  ...  0.757336  0.263761 -0.012134   \n",
       "\n",
       "           189       196       197       198       199       200       201  \n",
       "0     0.432333  0.948167  0.757500  1.425500  1.163833  0.907167  0.702500  \n",
       "1     1.099667 -0.485333 -0.822944  0.466722  0.475667  0.332000  0.930167  \n",
       "2     0.585439 -0.561480 -1.012867  0.068079 -0.087174  0.064454  0.279940  \n",
       "3     0.297510  0.859919  0.547498  0.854268  0.965067  0.668454  1.124251  \n",
       "4    -0.159709  0.158352 -0.532563 -0.285884 -0.040005 -0.136510 -0.218571  \n",
       "...        ...       ...       ...       ...       ...       ...       ...  \n",
       "1027  1.754621  2.169666  2.062164  1.431662  1.352064  1.547649  1.563188  \n",
       "1028  0.202708  2.396409  1.491833  0.631794  0.466646  0.375075  0.289059  \n",
       "1029  1.200382  1.929488  1.025035  1.230408  2.028067  2.564252  2.209679  \n",
       "1030  1.558199  2.067039  2.216021  1.660493  1.222940  1.099630  1.180125  \n",
       "1031 -0.692743 -0.819844 -1.190351 -1.740616  0.500191  0.378837 -0.491120  \n",
       "\n",
       "[1032 rows x 103 columns]"
      ]
     },
     "execution_count": 23,
     "metadata": {},
     "output_type": "execute_result"
    }
   ],
   "source": [
    "df_noNA"
   ]
  },
  {
   "cell_type": "markdown",
   "metadata": {},
   "source": [
    "## Compute neighbours"
   ]
  },
  {
   "cell_type": "code",
   "execution_count": 24,
   "metadata": {},
   "outputs": [
    {
     "name": "stderr",
     "output_type": "stream",
     "text": [
      "100%|██████████| 1032/1032 [01:12<00:00, 14.24it/s]"
     ]
    }
   ],
   "source": [
    "# add neighbours column\n",
    "shp_noNA[\"NEIGHBOURS\"] = None  \n",
    "    \n",
    "progress_bar = tqdm(total=shp_noNA.shape[0], position=0, leave=True, smoothing=0)\n",
    "\n",
    "for index, country in shp_noNA.iterrows():   \n",
    "    #print(index)\n",
    "    # get 'not disjoint' countries\n",
    "    neighbours = shp_noNA[~shp_noNA.geometry.disjoint(country.geometry)]['SUBID'].tolist()\n",
    "\n",
    "    # remove own name of the country from the list\n",
    "    neighbours = [ name for name in neighbours if country['SUBID'] != name ]\n",
    "\n",
    "    # add names of neighbours as neighbours value\n",
    "    shp_noNA.at[index, \"NEIGHBOURS\"] = neighbours\n",
    "                   \n",
    "    progress_bar.update(1)  "
   ]
  },
  {
   "cell_type": "code",
   "execution_count": 25,
   "metadata": {},
   "outputs": [],
   "source": [
    "# Create a set to store unique pairs\n",
    "neighbours_pairs = set()\n",
    "\n",
    "# Iterate over each row and generate pairs\n",
    "for index, row in shp_noNA.iterrows():\n",
    "    subid = row['SUBID']\n",
    "    neighbors = row['NEIGHBOURS']\n",
    "    \n",
    "    # Generate pairs and add to the set\n",
    "    for neighbor in neighbors:\n",
    "        pair = tuple(sorted([subid, neighbor]))\n",
    "        neighbours_pairs.add(pair)\n",
    "\n",
    "df_without_neighbours = shp_noNA[shp_noNA[\"NEIGHBOURS\"].apply(len)==0][[\"SUBID\"]]\n",
    "without_neighbours = df_without_neighbours[\"SUBID\"].to_list()            "
   ]
  },
  {
   "cell_type": "markdown",
   "metadata": {},
   "source": [
    "## Compute and visualize clusterings"
   ]
  },
  {
   "cell_type": "code",
   "execution_count": 26,
   "metadata": {},
   "outputs": [],
   "source": [
    "df = df_noNA.copy()\n",
    "\n",
    "# Transpose the DataFrame and set the \"SUBID\" column as the column names\n",
    "df = df.set_index('SUBID').T\n",
    "df = df.reset_index(drop=True)\n",
    "df = df.rename_axis(None, axis=1)"
   ]
  },
  {
   "cell_type": "code",
   "execution_count": 27,
   "metadata": {},
   "outputs": [],
   "source": [
    "df = df.astype(float)"
   ]
  },
  {
   "cell_type": "code",
   "execution_count": 28,
   "metadata": {},
   "outputs": [
    {
     "data": {
      "text/html": [
       "<div>\n",
       "<style scoped>\n",
       "    .dataframe tbody tr th:only-of-type {\n",
       "        vertical-align: middle;\n",
       "    }\n",
       "\n",
       "    .dataframe tbody tr th {\n",
       "        vertical-align: top;\n",
       "    }\n",
       "\n",
       "    .dataframe thead th {\n",
       "        text-align: right;\n",
       "    }\n",
       "</style>\n",
       "<table border=\"1\" class=\"dataframe\">\n",
       "  <thead>\n",
       "    <tr style=\"text-align: right;\">\n",
       "      <th></th>\n",
       "      <th>2060000020</th>\n",
       "      <th>2060000250</th>\n",
       "      <th>2060000350</th>\n",
       "      <th>2060000360</th>\n",
       "      <th>2060001220</th>\n",
       "      <th>2060001230</th>\n",
       "      <th>2060001320</th>\n",
       "      <th>2060001360</th>\n",
       "      <th>2060001370</th>\n",
       "      <th>2060001450</th>\n",
       "      <th>...</th>\n",
       "      <th>2060087250</th>\n",
       "      <th>2060087400</th>\n",
       "      <th>2060088830</th>\n",
       "      <th>2060089540</th>\n",
       "      <th>2060089970</th>\n",
       "      <th>2060092010</th>\n",
       "      <th>2060092270</th>\n",
       "      <th>2060094250</th>\n",
       "      <th>2060099470</th>\n",
       "      <th>2060104700</th>\n",
       "    </tr>\n",
       "  </thead>\n",
       "  <tbody>\n",
       "    <tr>\n",
       "      <th>0</th>\n",
       "      <td>-1.678333</td>\n",
       "      <td>-0.624333</td>\n",
       "      <td>-0.148409</td>\n",
       "      <td>-0.831357</td>\n",
       "      <td>-0.681236</td>\n",
       "      <td>-1.354158</td>\n",
       "      <td>-0.162569</td>\n",
       "      <td>-1.000450</td>\n",
       "      <td>-0.483065</td>\n",
       "      <td>-1.186783</td>\n",
       "      <td>...</td>\n",
       "      <td>-1.318485</td>\n",
       "      <td>-0.723147</td>\n",
       "      <td>-1.184153</td>\n",
       "      <td>-0.293410</td>\n",
       "      <td>-0.718578</td>\n",
       "      <td>-0.788099</td>\n",
       "      <td>-1.137990</td>\n",
       "      <td>-0.469669</td>\n",
       "      <td>-1.258625</td>\n",
       "      <td>-0.924891</td>\n",
       "    </tr>\n",
       "    <tr>\n",
       "      <th>1</th>\n",
       "      <td>-1.416167</td>\n",
       "      <td>0.071333</td>\n",
       "      <td>0.615358</td>\n",
       "      <td>0.760276</td>\n",
       "      <td>0.346457</td>\n",
       "      <td>-0.027128</td>\n",
       "      <td>0.417678</td>\n",
       "      <td>-0.459517</td>\n",
       "      <td>-0.418789</td>\n",
       "      <td>-0.667092</td>\n",
       "      <td>...</td>\n",
       "      <td>-0.858522</td>\n",
       "      <td>-0.005009</td>\n",
       "      <td>-1.191816</td>\n",
       "      <td>0.305664</td>\n",
       "      <td>-0.116004</td>\n",
       "      <td>-0.975851</td>\n",
       "      <td>-0.178961</td>\n",
       "      <td>0.539658</td>\n",
       "      <td>-0.969987</td>\n",
       "      <td>-0.147512</td>\n",
       "    </tr>\n",
       "    <tr>\n",
       "      <th>2</th>\n",
       "      <td>-1.088333</td>\n",
       "      <td>-0.095611</td>\n",
       "      <td>0.809728</td>\n",
       "      <td>0.786154</td>\n",
       "      <td>0.289082</td>\n",
       "      <td>0.498283</td>\n",
       "      <td>-0.264976</td>\n",
       "      <td>-0.539616</td>\n",
       "      <td>-1.026707</td>\n",
       "      <td>-0.717519</td>\n",
       "      <td>...</td>\n",
       "      <td>-0.651065</td>\n",
       "      <td>0.127423</td>\n",
       "      <td>-0.647307</td>\n",
       "      <td>0.249317</td>\n",
       "      <td>-0.181667</td>\n",
       "      <td>-1.251790</td>\n",
       "      <td>0.250913</td>\n",
       "      <td>-0.083044</td>\n",
       "      <td>-1.085834</td>\n",
       "      <td>0.471193</td>\n",
       "    </tr>\n",
       "    <tr>\n",
       "      <th>3</th>\n",
       "      <td>-1.370667</td>\n",
       "      <td>-0.331389</td>\n",
       "      <td>0.691766</td>\n",
       "      <td>0.367869</td>\n",
       "      <td>0.170823</td>\n",
       "      <td>0.158424</td>\n",
       "      <td>-0.177158</td>\n",
       "      <td>-0.456100</td>\n",
       "      <td>0.326470</td>\n",
       "      <td>-0.133610</td>\n",
       "      <td>...</td>\n",
       "      <td>-0.453663</td>\n",
       "      <td>-0.051051</td>\n",
       "      <td>-0.837534</td>\n",
       "      <td>-0.645329</td>\n",
       "      <td>-0.351125</td>\n",
       "      <td>-0.297143</td>\n",
       "      <td>0.645547</td>\n",
       "      <td>-0.464367</td>\n",
       "      <td>-0.383673</td>\n",
       "      <td>0.473113</td>\n",
       "    </tr>\n",
       "    <tr>\n",
       "      <th>4</th>\n",
       "      <td>-1.624833</td>\n",
       "      <td>-0.702444</td>\n",
       "      <td>0.081720</td>\n",
       "      <td>-0.014714</td>\n",
       "      <td>-0.041098</td>\n",
       "      <td>0.443348</td>\n",
       "      <td>0.097407</td>\n",
       "      <td>-0.063050</td>\n",
       "      <td>1.332316</td>\n",
       "      <td>0.168261</td>\n",
       "      <td>...</td>\n",
       "      <td>-0.406689</td>\n",
       "      <td>-0.044062</td>\n",
       "      <td>-1.169660</td>\n",
       "      <td>0.232371</td>\n",
       "      <td>-0.567616</td>\n",
       "      <td>0.060851</td>\n",
       "      <td>0.288763</td>\n",
       "      <td>-0.692698</td>\n",
       "      <td>0.261188</td>\n",
       "      <td>-0.541700</td>\n",
       "    </tr>\n",
       "  </tbody>\n",
       "</table>\n",
       "<p>5 rows × 1032 columns</p>\n",
       "</div>"
      ],
      "text/plain": [
       "   2060000020  2060000250  2060000350  2060000360  2060001220  2060001230  \\\n",
       "0   -1.678333   -0.624333   -0.148409   -0.831357   -0.681236   -1.354158   \n",
       "1   -1.416167    0.071333    0.615358    0.760276    0.346457   -0.027128   \n",
       "2   -1.088333   -0.095611    0.809728    0.786154    0.289082    0.498283   \n",
       "3   -1.370667   -0.331389    0.691766    0.367869    0.170823    0.158424   \n",
       "4   -1.624833   -0.702444    0.081720   -0.014714   -0.041098    0.443348   \n",
       "\n",
       "   2060001320  2060001360  2060001370  2060001450  ...  2060087250  \\\n",
       "0   -0.162569   -1.000450   -0.483065   -1.186783  ...   -1.318485   \n",
       "1    0.417678   -0.459517   -0.418789   -0.667092  ...   -0.858522   \n",
       "2   -0.264976   -0.539616   -1.026707   -0.717519  ...   -0.651065   \n",
       "3   -0.177158   -0.456100    0.326470   -0.133610  ...   -0.453663   \n",
       "4    0.097407   -0.063050    1.332316    0.168261  ...   -0.406689   \n",
       "\n",
       "   2060087400  2060088830  2060089540  2060089970  2060092010  2060092270  \\\n",
       "0   -0.723147   -1.184153   -0.293410   -0.718578   -0.788099   -1.137990   \n",
       "1   -0.005009   -1.191816    0.305664   -0.116004   -0.975851   -0.178961   \n",
       "2    0.127423   -0.647307    0.249317   -0.181667   -1.251790    0.250913   \n",
       "3   -0.051051   -0.837534   -0.645329   -0.351125   -0.297143    0.645547   \n",
       "4   -0.044062   -1.169660    0.232371   -0.567616    0.060851    0.288763   \n",
       "\n",
       "   2060094250  2060099470  2060104700  \n",
       "0   -0.469669   -1.258625   -0.924891  \n",
       "1    0.539658   -0.969987   -0.147512  \n",
       "2   -0.083044   -1.085834    0.471193  \n",
       "3   -0.464367   -0.383673    0.473113  \n",
       "4   -0.692698    0.261188   -0.541700  \n",
       "\n",
       "[5 rows x 1032 columns]"
      ]
     },
     "execution_count": 28,
     "metadata": {},
     "output_type": "execute_result"
    }
   ],
   "source": [
    "df.head()"
   ]
  },
  {
   "cell_type": "code",
   "execution_count": 29,
   "metadata": {},
   "outputs": [],
   "source": [
    "def plot_clusters_shp(shapefile, clusters, figsize=(8,8)):\n",
    "    shp = shapefile.copy()\n",
    "\n",
    "    clusters_no_singletons = remove_singletons(clusters)\n",
    "    singletons = clusters[len(clusters_no_singletons):]\n",
    "    \n",
    "    print(f'No. clusters (w/o singletons) = {len(clusters_no_singletons)}')\n",
    "    print(f'No. singletons = {len(singletons)}')\n",
    "        \n",
    "    progress_bar = tqdm(total=shp.shape[0], position=0, leave=True, smoothing=0)\n",
    "\n",
    "    clusterid = 0\n",
    "    for cluster in clusters:\n",
    "        for elem in cluster:\n",
    "            shp.loc[(shp['SUBID'] == elem), 'CLUSTERID'] = clusterid\n",
    "                    \n",
    "            progress_bar.update(1)\n",
    "        \n",
    "        clusterid += 1\n",
    "\n",
    "    unique_cluster_ids = shp['CLUSTERID'].unique()\n",
    "    num_unique_ids = len(unique_cluster_ids)\n",
    "    \n",
    "    #seed_value = 45\n",
    "    #np.random.seed(seed_value)\n",
    "    random_colors = np.random.rand(num_unique_ids, 3)  # RGB values\n",
    "\n",
    "    # Create a dictionary to map CLUSTERID to its corresponding random color\n",
    "    clusterid_to_color = dict(zip(unique_cluster_ids, random_colors))\n",
    "\n",
    "\n",
    "    # Map each CLUSTERID to its corresponding random color\n",
    "\n",
    "    shp['color'] = shp['CLUSTERID'].apply(lambda x: clusterid_to_color[x])\n",
    "\n",
    "    shp.plot(figsize=figsize, color=shp['color'])"
   ]
  },
  {
   "cell_type": "code",
   "execution_count": 32,
   "metadata": {},
   "outputs": [
    {
     "name": "stdout",
     "output_type": "stream",
     "text": [
      "Computing neighbours strengths...\n"
     ]
    },
    {
     "name": "stderr",
     "output_type": "stream",
     "text": [
      "  2%|▏         | 44/2654 [00:00<00:24, 106.44it/s]"
     ]
    },
    {
     "name": "stderr",
     "output_type": "stream",
     "text": [
      "100%|██████████| 2654/2654 [00:14<00:00, 185.24it/s]\n"
     ]
    },
    {
     "name": "stdout",
     "output_type": "stream",
     "text": [
      "Neighbours strengths computed.\n",
      "Computing clusters...\n"
     ]
    },
    {
     "name": "stderr",
     "output_type": "stream",
     "text": [
      "  0%|          | 4/1032 [00:00<00:44, 23.32it/s]"
     ]
    },
    {
     "name": "stdout",
     "output_type": "stream",
     "text": [
      "0.99\n",
      "0.98\n",
      "0.97\n"
     ]
    },
    {
     "name": "stderr",
     "output_type": "stream",
     "text": [
      "  3%|▎         | 27/1032 [00:02<01:21, 12.36it/s]"
     ]
    },
    {
     "name": "stdout",
     "output_type": "stream",
     "text": [
      "0.96\n"
     ]
    },
    {
     "name": "stderr",
     "output_type": "stream",
     "text": [
      "  7%|▋         | 71/1032 [00:04<00:56, 17.04it/s]"
     ]
    },
    {
     "name": "stdout",
     "output_type": "stream",
     "text": [
      "0.95\n"
     ]
    },
    {
     "name": "stderr",
     "output_type": "stream",
     "text": [
      " 12%|█▏        | 126/1032 [00:09<01:08, 13.25it/s]"
     ]
    },
    {
     "name": "stdout",
     "output_type": "stream",
     "text": [
      "0.94\n"
     ]
    },
    {
     "name": "stderr",
     "output_type": "stream",
     "text": [
      " 17%|█▋        | 172/1032 [00:12<00:56, 15.25it/s]"
     ]
    },
    {
     "name": "stdout",
     "output_type": "stream",
     "text": [
      "0.93\n"
     ]
    },
    {
     "name": "stderr",
     "output_type": "stream",
     "text": [
      " 22%|██▏       | 232/1032 [00:17<01:15, 10.56it/s]"
     ]
    },
    {
     "name": "stdout",
     "output_type": "stream",
     "text": [
      "0.92\n"
     ]
    },
    {
     "name": "stderr",
     "output_type": "stream",
     "text": [
      " 28%|██▊       | 290/1032 [00:23<01:18,  9.41it/s]"
     ]
    },
    {
     "name": "stdout",
     "output_type": "stream",
     "text": [
      "0.91\n"
     ]
    },
    {
     "name": "stderr",
     "output_type": "stream",
     "text": [
      " 33%|███▎      | 338/1032 [00:29<01:20,  8.67it/s]"
     ]
    },
    {
     "name": "stdout",
     "output_type": "stream",
     "text": [
      "0.90\n"
     ]
    },
    {
     "name": "stderr",
     "output_type": "stream",
     "text": [
      " 38%|███▊      | 392/1032 [00:35<01:12,  8.88it/s]"
     ]
    },
    {
     "name": "stdout",
     "output_type": "stream",
     "text": [
      "0.89\n"
     ]
    },
    {
     "name": "stderr",
     "output_type": "stream",
     "text": [
      " 41%|████▏     | 427/1032 [00:39<01:12,  8.30it/s]"
     ]
    },
    {
     "name": "stdout",
     "output_type": "stream",
     "text": [
      "0.88\n"
     ]
    },
    {
     "name": "stderr",
     "output_type": "stream",
     "text": [
      " 45%|████▌     | 467/1032 [00:46<01:36,  5.87it/s]"
     ]
    },
    {
     "name": "stdout",
     "output_type": "stream",
     "text": [
      "0.87\n"
     ]
    },
    {
     "name": "stderr",
     "output_type": "stream",
     "text": [
      " 48%|████▊     | 494/1032 [00:50<01:16,  7.02it/s]"
     ]
    },
    {
     "name": "stdout",
     "output_type": "stream",
     "text": [
      "0.86\n"
     ]
    },
    {
     "name": "stderr",
     "output_type": "stream",
     "text": [
      " 51%|█████▏    | 529/1032 [00:57<01:24,  5.92it/s]"
     ]
    },
    {
     "name": "stdout",
     "output_type": "stream",
     "text": [
      "0.85\n"
     ]
    },
    {
     "name": "stderr",
     "output_type": "stream",
     "text": [
      " 54%|█████▍    | 560/1032 [01:03<01:25,  5.51it/s]"
     ]
    },
    {
     "name": "stdout",
     "output_type": "stream",
     "text": [
      "0.84\n"
     ]
    },
    {
     "name": "stderr",
     "output_type": "stream",
     "text": [
      " 57%|█████▋    | 584/1032 [01:07<01:21,  5.52it/s]"
     ]
    },
    {
     "name": "stdout",
     "output_type": "stream",
     "text": [
      "0.83\n"
     ]
    },
    {
     "name": "stderr",
     "output_type": "stream",
     "text": [
      " 58%|█████▊    | 603/1032 [01:11<01:30,  4.76it/s]"
     ]
    },
    {
     "name": "stdout",
     "output_type": "stream",
     "text": [
      "0.82\n"
     ]
    },
    {
     "name": "stderr",
     "output_type": "stream",
     "text": [
      " 61%|██████    | 627/1032 [01:17<01:36,  4.19it/s]"
     ]
    },
    {
     "name": "stdout",
     "output_type": "stream",
     "text": [
      "0.81\n"
     ]
    },
    {
     "name": "stderr",
     "output_type": "stream",
     "text": [
      " 63%|██████▎   | 647/1032 [01:25<01:57,  3.27it/s]"
     ]
    },
    {
     "name": "stdout",
     "output_type": "stream",
     "text": [
      "0.80\n"
     ]
    },
    {
     "name": "stderr",
     "output_type": "stream",
     "text": [
      " 64%|██████▍   | 664/1032 [01:30<02:05,  2.93it/s]"
     ]
    },
    {
     "name": "stdout",
     "output_type": "stream",
     "text": [
      "0.79\n"
     ]
    },
    {
     "name": "stderr",
     "output_type": "stream",
     "text": [
      " 66%|██████▌   | 679/1032 [01:34<01:35,  3.69it/s]"
     ]
    },
    {
     "name": "stdout",
     "output_type": "stream",
     "text": [
      "0.78\n"
     ]
    },
    {
     "name": "stderr",
     "output_type": "stream",
     "text": [
      " 67%|██████▋   | 695/1032 [01:41<02:07,  2.65it/s]"
     ]
    },
    {
     "name": "stdout",
     "output_type": "stream",
     "text": [
      "0.77\n"
     ]
    },
    {
     "name": "stderr",
     "output_type": "stream",
     "text": [
      " 69%|██████▉   | 715/1032 [01:48<01:39,  3.19it/s]"
     ]
    },
    {
     "name": "stdout",
     "output_type": "stream",
     "text": [
      "0.76\n"
     ]
    },
    {
     "name": "stderr",
     "output_type": "stream",
     "text": [
      " 71%|███████   | 730/1032 [01:53<01:44,  2.88it/s]"
     ]
    },
    {
     "name": "stdout",
     "output_type": "stream",
     "text": [
      "0.75\n"
     ]
    },
    {
     "name": "stderr",
     "output_type": "stream",
     "text": [
      " 71%|███████▏  | 736/1032 [01:56<01:44,  2.85it/s]"
     ]
    },
    {
     "name": "stdout",
     "output_type": "stream",
     "text": [
      "0.74\n"
     ]
    },
    {
     "name": "stderr",
     "output_type": "stream",
     "text": [
      " 73%|███████▎  | 754/1032 [02:03<01:38,  2.81it/s]"
     ]
    },
    {
     "name": "stdout",
     "output_type": "stream",
     "text": [
      "0.73\n"
     ]
    },
    {
     "name": "stderr",
     "output_type": "stream",
     "text": [
      " 74%|███████▍  | 763/1032 [02:07<01:49,  2.45it/s]"
     ]
    },
    {
     "name": "stdout",
     "output_type": "stream",
     "text": [
      "0.72\n"
     ]
    },
    {
     "name": "stderr",
     "output_type": "stream",
     "text": [
      " 75%|███████▌  | 774/1032 [02:12<01:44,  2.47it/s]"
     ]
    },
    {
     "name": "stdout",
     "output_type": "stream",
     "text": [
      "0.71\n"
     ]
    },
    {
     "name": "stderr",
     "output_type": "stream",
     "text": [
      " 76%|███████▌  | 784/1032 [02:17<01:46,  2.32it/s]"
     ]
    },
    {
     "name": "stdout",
     "output_type": "stream",
     "text": [
      "0.70\n"
     ]
    },
    {
     "name": "stderr",
     "output_type": "stream",
     "text": [
      " 77%|███████▋  | 797/1032 [02:24<01:46,  2.20it/s]"
     ]
    },
    {
     "name": "stdout",
     "output_type": "stream",
     "text": [
      "0.69\n"
     ]
    },
    {
     "name": "stderr",
     "output_type": "stream",
     "text": [
      " 78%|███████▊  | 805/1032 [02:28<02:00,  1.89it/s]"
     ]
    },
    {
     "name": "stdout",
     "output_type": "stream",
     "text": [
      "0.68\n"
     ]
    },
    {
     "name": "stderr",
     "output_type": "stream",
     "text": [
      " 79%|███████▊  | 811/1032 [02:33<02:24,  1.53it/s]"
     ]
    },
    {
     "name": "stdout",
     "output_type": "stream",
     "text": [
      "0.67\n"
     ]
    },
    {
     "name": "stderr",
     "output_type": "stream",
     "text": [
      " 79%|███████▉  | 820/1032 [02:42<02:59,  1.18it/s]"
     ]
    },
    {
     "name": "stdout",
     "output_type": "stream",
     "text": [
      "0.66\n"
     ]
    },
    {
     "name": "stderr",
     "output_type": "stream",
     "text": [
      " 81%|████████  | 832/1032 [02:51<02:29,  1.34it/s]"
     ]
    },
    {
     "name": "stdout",
     "output_type": "stream",
     "text": [
      "0.65\n"
     ]
    },
    {
     "name": "stderr",
     "output_type": "stream",
     "text": [
      " 81%|████████  | 836/1032 [02:53<02:19,  1.40it/s]"
     ]
    },
    {
     "name": "stdout",
     "output_type": "stream",
     "text": [
      "0.64\n"
     ]
    },
    {
     "name": "stderr",
     "output_type": "stream",
     "text": [
      " 82%|████████▏ | 847/1032 [03:03<02:35,  1.19it/s]"
     ]
    },
    {
     "name": "stdout",
     "output_type": "stream",
     "text": [
      "0.63\n"
     ]
    },
    {
     "name": "stderr",
     "output_type": "stream",
     "text": [
      " 83%|████████▎ | 853/1032 [03:08<02:43,  1.10it/s]"
     ]
    },
    {
     "name": "stdout",
     "output_type": "stream",
     "text": [
      "0.62\n"
     ]
    },
    {
     "name": "stderr",
     "output_type": "stream",
     "text": [
      " 83%|████████▎ | 856/1032 [03:12<02:49,  1.04it/s]"
     ]
    },
    {
     "name": "stdout",
     "output_type": "stream",
     "text": [
      "0.61\n"
     ]
    },
    {
     "name": "stderr",
     "output_type": "stream",
     "text": [
      " 83%|████████▎ | 861/1032 [03:22<03:38,  1.28s/it]"
     ]
    },
    {
     "name": "stdout",
     "output_type": "stream",
     "text": [
      "0.60\n"
     ]
    },
    {
     "name": "stderr",
     "output_type": "stream",
     "text": [
      " 84%|████████▍ | 865/1032 [03:28<03:51,  1.39s/it]"
     ]
    },
    {
     "name": "stdout",
     "output_type": "stream",
     "text": [
      "0.59\n"
     ]
    },
    {
     "name": "stderr",
     "output_type": "stream",
     "text": [
      " 84%|████████▍ | 871/1032 [03:35<03:22,  1.26s/it]"
     ]
    },
    {
     "name": "stdout",
     "output_type": "stream",
     "text": [
      "0.58\n"
     ]
    },
    {
     "name": "stderr",
     "output_type": "stream",
     "text": [
      " 85%|████████▍ | 875/1032 [03:38<02:45,  1.06s/it]"
     ]
    },
    {
     "name": "stdout",
     "output_type": "stream",
     "text": [
      "0.57\n"
     ]
    },
    {
     "name": "stderr",
     "output_type": "stream",
     "text": [
      " 85%|████████▍ | 877/1032 [03:39<02:31,  1.02it/s]"
     ]
    },
    {
     "name": "stdout",
     "output_type": "stream",
     "text": [
      "0.56\n"
     ]
    },
    {
     "name": "stderr",
     "output_type": "stream",
     "text": [
      " 86%|████████▌ | 885/1032 [03:58<04:36,  1.88s/it]"
     ]
    },
    {
     "name": "stdout",
     "output_type": "stream",
     "text": [
      "0.55\n"
     ]
    },
    {
     "name": "stderr",
     "output_type": "stream",
     "text": [
      " 86%|████████▋ | 892/1032 [04:11<04:16,  1.83s/it]"
     ]
    },
    {
     "name": "stdout",
     "output_type": "stream",
     "text": [
      "0.54\n"
     ]
    },
    {
     "name": "stderr",
     "output_type": "stream",
     "text": [
      " 87%|████████▋ | 897/1032 [04:15<03:15,  1.45s/it]"
     ]
    },
    {
     "name": "stdout",
     "output_type": "stream",
     "text": [
      "0.53\n"
     ]
    },
    {
     "name": "stderr",
     "output_type": "stream",
     "text": [
      " 87%|████████▋ | 899/1032 [04:18<03:09,  1.43s/it]"
     ]
    },
    {
     "ename": "KeyboardInterrupt",
     "evalue": "",
     "output_type": "error",
     "traceback": [
      "\u001b[0;31m---------------------------------------------------------------------------\u001b[0m",
      "\u001b[0;31mKeyboardInterrupt\u001b[0m                         Traceback (most recent call last)",
      "\u001b[0;32m/var/folders/6b/j2xt7shx2fq5nt2p9y46s3lh0000gn/T/ipykernel_54418/3919378533.py\u001b[0m in \u001b[0;36m<module>\u001b[0;34m\u001b[0m\n\u001b[1;32m      1\u001b[0m \u001b[0mclustering\u001b[0m \u001b[0;34m=\u001b[0m \u001b[0mHierarchicalClustering\u001b[0m\u001b[0;34m(\u001b[0m\u001b[0mdf\u001b[0m\u001b[0;34m,\u001b[0m \u001b[0mneighbours_pairs\u001b[0m\u001b[0;34m,\u001b[0m \u001b[0mwithout_neighbours\u001b[0m\u001b[0;34m,\u001b[0m \u001b[0mmethod\u001b[0m\u001b[0;34m=\u001b[0m\u001b[0;34m'complete_correlation'\u001b[0m\u001b[0;34m,\u001b[0m \u001b[0mthreshold\u001b[0m\u001b[0;34m=\u001b[0m\u001b[0;36m0.5\u001b[0m\u001b[0;34m,\u001b[0m \u001b[0mmissing_values\u001b[0m\u001b[0;34m=\u001b[0m\u001b[0;32mTrue\u001b[0m\u001b[0;34m)\u001b[0m\u001b[0;34m\u001b[0m\u001b[0;34m\u001b[0m\u001b[0m\n\u001b[0;32m----> 2\u001b[0;31m \u001b[0mclustering\u001b[0m\u001b[0;34m.\u001b[0m\u001b[0mcompute_clusters\u001b[0m\u001b[0;34m(\u001b[0m\u001b[0;34m)\u001b[0m\u001b[0;34m\u001b[0m\u001b[0;34m\u001b[0m\u001b[0m\n\u001b[0m",
      "\u001b[0;32m~/Documents/Polimi/Tesi Magistrale/Droughts/Andrés/scripts/HierarchicalClusteringOptimized.py\u001b[0m in \u001b[0;36mcompute_clusters\u001b[0;34m(self)\u001b[0m\n\u001b[1;32m    251\u001b[0m \u001b[0;34m\u001b[0m\u001b[0m\n\u001b[1;32m    252\u001b[0m                 \u001b[0;32mdel\u001b[0m \u001b[0mself\u001b[0m\u001b[0;34m.\u001b[0m\u001b[0mneighbours_strength_dict\u001b[0m\u001b[0;34m[\u001b[0m\u001b[0mmax_strength\u001b[0m\u001b[0;34m]\u001b[0m\u001b[0;34m\u001b[0m\u001b[0;34m\u001b[0m\u001b[0m\n\u001b[0;32m--> 253\u001b[0;31m                 \u001b[0mself\u001b[0m\u001b[0;34m.\u001b[0m\u001b[0mrefresh_corr_values\u001b[0m\u001b[0;34m(\u001b[0m\u001b[0melem1\u001b[0m\u001b[0;34m,\u001b[0m \u001b[0melem2\u001b[0m\u001b[0;34m,\u001b[0m \u001b[0mcluster_index\u001b[0m\u001b[0;34m)\u001b[0m\u001b[0;34m\u001b[0m\u001b[0;34m\u001b[0m\u001b[0m\n\u001b[0m\u001b[1;32m    254\u001b[0m                 \u001b[0;31m#self.remove_cluster(to_be_removed)\u001b[0m\u001b[0;34m\u001b[0m\u001b[0;34m\u001b[0m\u001b[0m\n\u001b[1;32m    255\u001b[0m                 \u001b[0;31m#cluster_num_internal -= 1\u001b[0m\u001b[0;34m\u001b[0m\u001b[0;34m\u001b[0m\u001b[0m\n",
      "\u001b[0;32m~/Documents/Polimi/Tesi Magistrale/Droughts/Andrés/scripts/HierarchicalClusteringOptimized.py\u001b[0m in \u001b[0;36mrefresh_corr_values\u001b[0;34m(self, elem1_cluster, elem2_cluster, cluster_index)\u001b[0m\n\u001b[1;32m    404\u001b[0m                     \u001b[0;31m#elem_old_neighbour = elem2_cluster\u001b[0m\u001b[0;34m\u001b[0m\u001b[0;34m\u001b[0m\u001b[0m\n\u001b[1;32m    405\u001b[0m \u001b[0;34m\u001b[0m\u001b[0m\n\u001b[0;32m--> 406\u001b[0;31m                 \u001b[0mstrength\u001b[0m \u001b[0;34m=\u001b[0m \u001b[0mself\u001b[0m\u001b[0;34m.\u001b[0m\u001b[0mget_neighbours_strength\u001b[0m\u001b[0;34m(\u001b[0m\u001b[0mcluster_mean\u001b[0m\u001b[0;34m,\u001b[0m \u001b[0melem2\u001b[0m\u001b[0;34m,\u001b[0m \u001b[0melem_new_neighbour\u001b[0m\u001b[0;34m,\u001b[0m \u001b[0mkey\u001b[0m\u001b[0;34m)\u001b[0m\u001b[0;34m\u001b[0m\u001b[0;34m\u001b[0m\u001b[0m\n\u001b[0m\u001b[1;32m    407\u001b[0m                 \u001b[0mnew_key\u001b[0m \u001b[0;34m=\u001b[0m \u001b[0;34m(\u001b[0m\u001b[0;34mf'cluster_{cluster_index}'\u001b[0m\u001b[0;34m,\u001b[0m \u001b[0melem2\u001b[0m\u001b[0;34m)\u001b[0m\u001b[0;34m\u001b[0m\u001b[0;34m\u001b[0m\u001b[0m\n\u001b[1;32m    408\u001b[0m                 \u001b[0minverse_new_key\u001b[0m \u001b[0;34m=\u001b[0m \u001b[0;34m(\u001b[0m\u001b[0melem2\u001b[0m\u001b[0;34m,\u001b[0m \u001b[0;34mf'cluster_{cluster_index}'\u001b[0m\u001b[0;34m)\u001b[0m\u001b[0;34m\u001b[0m\u001b[0;34m\u001b[0m\u001b[0m\n",
      "\u001b[0;32m~/Documents/Polimi/Tesi Magistrale/Droughts/Andrés/scripts/HierarchicalClusteringOptimized.py\u001b[0m in \u001b[0;36mget_neighbours_strength\u001b[0;34m(self, cluster_mean, elem, elem_new_neighbour, key)\u001b[0m\n\u001b[1;32m    356\u001b[0m                         \u001b[0me2_mask\u001b[0m \u001b[0;34m=\u001b[0m \u001b[0;34m~\u001b[0m\u001b[0mnp\u001b[0m\u001b[0;34m.\u001b[0m\u001b[0misnan\u001b[0m\u001b[0;34m(\u001b[0m\u001b[0mself\u001b[0m\u001b[0;34m.\u001b[0m\u001b[0mdf\u001b[0m\u001b[0;34m[\u001b[0m\u001b[0me2\u001b[0m\u001b[0;34m]\u001b[0m\u001b[0;34m)\u001b[0m\u001b[0;34m\u001b[0m\u001b[0;34m\u001b[0m\u001b[0m\n\u001b[1;32m    357\u001b[0m                         \u001b[0mmask\u001b[0m \u001b[0;34m=\u001b[0m \u001b[0me1_mask\u001b[0m \u001b[0;34m*\u001b[0m \u001b[0me2_mask\u001b[0m\u001b[0;34m\u001b[0m\u001b[0;34m\u001b[0m\u001b[0m\n\u001b[0;32m--> 358\u001b[0;31m                         \u001b[0mstrength_temp\u001b[0m \u001b[0;34m=\u001b[0m \u001b[0mnp\u001b[0m\u001b[0;34m.\u001b[0m\u001b[0mcorrcoef\u001b[0m\u001b[0;34m(\u001b[0m\u001b[0mself\u001b[0m\u001b[0;34m.\u001b[0m\u001b[0mdf\u001b[0m\u001b[0;34m[\u001b[0m\u001b[0me1\u001b[0m\u001b[0;34m]\u001b[0m\u001b[0;34m[\u001b[0m\u001b[0mmask\u001b[0m\u001b[0;34m]\u001b[0m\u001b[0;34m,\u001b[0m \u001b[0mself\u001b[0m\u001b[0;34m.\u001b[0m\u001b[0mdf\u001b[0m\u001b[0;34m[\u001b[0m\u001b[0me2\u001b[0m\u001b[0;34m]\u001b[0m\u001b[0;34m[\u001b[0m\u001b[0mmask\u001b[0m\u001b[0;34m]\u001b[0m\u001b[0;34m)\u001b[0m\u001b[0;34m[\u001b[0m\u001b[0;36m0\u001b[0m\u001b[0;34m,\u001b[0m \u001b[0;36m1\u001b[0m\u001b[0;34m]\u001b[0m\u001b[0;34m\u001b[0m\u001b[0;34m\u001b[0m\u001b[0m\n\u001b[0m\u001b[1;32m    359\u001b[0m                         \u001b[0;32mif\u001b[0m \u001b[0mstrength_temp\u001b[0m \u001b[0;34m<\u001b[0m \u001b[0mstrength\u001b[0m\u001b[0;34m:\u001b[0m\u001b[0;34m\u001b[0m\u001b[0;34m\u001b[0m\u001b[0m\n\u001b[1;32m    360\u001b[0m                             \u001b[0mstrength\u001b[0m \u001b[0;34m=\u001b[0m \u001b[0mstrength_temp\u001b[0m\u001b[0;34m\u001b[0m\u001b[0;34m\u001b[0m\u001b[0m\n",
      "\u001b[0;32m/opt/anaconda3/lib/python3.9/site-packages/pandas/core/series.py\u001b[0m in \u001b[0;36m__getitem__\u001b[0;34m(self, key)\u001b[0m\n\u001b[1;32m   1068\u001b[0m             \u001b[0mkey\u001b[0m \u001b[0;34m=\u001b[0m \u001b[0mcheck_bool_indexer\u001b[0m\u001b[0;34m(\u001b[0m\u001b[0mself\u001b[0m\u001b[0;34m.\u001b[0m\u001b[0mindex\u001b[0m\u001b[0;34m,\u001b[0m \u001b[0mkey\u001b[0m\u001b[0;34m)\u001b[0m\u001b[0;34m\u001b[0m\u001b[0;34m\u001b[0m\u001b[0m\n\u001b[1;32m   1069\u001b[0m             \u001b[0mkey\u001b[0m \u001b[0;34m=\u001b[0m \u001b[0mnp\u001b[0m\u001b[0;34m.\u001b[0m\u001b[0masarray\u001b[0m\u001b[0;34m(\u001b[0m\u001b[0mkey\u001b[0m\u001b[0;34m,\u001b[0m \u001b[0mdtype\u001b[0m\u001b[0;34m=\u001b[0m\u001b[0mbool\u001b[0m\u001b[0;34m)\u001b[0m\u001b[0;34m\u001b[0m\u001b[0;34m\u001b[0m\u001b[0m\n\u001b[0;32m-> 1070\u001b[0;31m             \u001b[0;32mreturn\u001b[0m \u001b[0mself\u001b[0m\u001b[0;34m.\u001b[0m\u001b[0m_get_rows_with_mask\u001b[0m\u001b[0;34m(\u001b[0m\u001b[0mkey\u001b[0m\u001b[0;34m)\u001b[0m\u001b[0;34m\u001b[0m\u001b[0;34m\u001b[0m\u001b[0m\n\u001b[0m\u001b[1;32m   1071\u001b[0m \u001b[0;34m\u001b[0m\u001b[0m\n\u001b[1;32m   1072\u001b[0m         \u001b[0;32mreturn\u001b[0m \u001b[0mself\u001b[0m\u001b[0;34m.\u001b[0m\u001b[0m_get_with\u001b[0m\u001b[0;34m(\u001b[0m\u001b[0mkey\u001b[0m\u001b[0;34m)\u001b[0m\u001b[0;34m\u001b[0m\u001b[0;34m\u001b[0m\u001b[0m\n",
      "\u001b[0;32m/opt/anaconda3/lib/python3.9/site-packages/pandas/core/series.py\u001b[0m in \u001b[0;36m_get_rows_with_mask\u001b[0;34m(self, indexer)\u001b[0m\n\u001b[1;32m   1135\u001b[0m     \u001b[0;32mdef\u001b[0m \u001b[0m_get_rows_with_mask\u001b[0m\u001b[0;34m(\u001b[0m\u001b[0mself\u001b[0m\u001b[0;34m,\u001b[0m \u001b[0mindexer\u001b[0m\u001b[0;34m:\u001b[0m \u001b[0mnpt\u001b[0m\u001b[0;34m.\u001b[0m\u001b[0mNDArray\u001b[0m\u001b[0;34m[\u001b[0m\u001b[0mnp\u001b[0m\u001b[0;34m.\u001b[0m\u001b[0mbool_\u001b[0m\u001b[0;34m]\u001b[0m\u001b[0;34m)\u001b[0m \u001b[0;34m->\u001b[0m \u001b[0mSeries\u001b[0m\u001b[0;34m:\u001b[0m\u001b[0;34m\u001b[0m\u001b[0;34m\u001b[0m\u001b[0m\n\u001b[1;32m   1136\u001b[0m         \u001b[0mnew_mgr\u001b[0m \u001b[0;34m=\u001b[0m \u001b[0mself\u001b[0m\u001b[0;34m.\u001b[0m\u001b[0m_mgr\u001b[0m\u001b[0;34m.\u001b[0m\u001b[0mget_rows_with_mask\u001b[0m\u001b[0;34m(\u001b[0m\u001b[0mindexer\u001b[0m\u001b[0;34m)\u001b[0m\u001b[0;34m\u001b[0m\u001b[0;34m\u001b[0m\u001b[0m\n\u001b[0;32m-> 1137\u001b[0;31m         \u001b[0;32mreturn\u001b[0m \u001b[0mself\u001b[0m\u001b[0;34m.\u001b[0m\u001b[0m_constructor_from_mgr\u001b[0m\u001b[0;34m(\u001b[0m\u001b[0mnew_mgr\u001b[0m\u001b[0;34m,\u001b[0m \u001b[0maxes\u001b[0m\u001b[0;34m=\u001b[0m\u001b[0mnew_mgr\u001b[0m\u001b[0;34m.\u001b[0m\u001b[0maxes\u001b[0m\u001b[0;34m)\u001b[0m\u001b[0;34m.\u001b[0m\u001b[0m__finalize__\u001b[0m\u001b[0;34m(\u001b[0m\u001b[0mself\u001b[0m\u001b[0;34m)\u001b[0m\u001b[0;34m\u001b[0m\u001b[0;34m\u001b[0m\u001b[0m\n\u001b[0m\u001b[1;32m   1138\u001b[0m \u001b[0;34m\u001b[0m\u001b[0m\n\u001b[1;32m   1139\u001b[0m     \u001b[0;32mdef\u001b[0m \u001b[0m_get_value\u001b[0m\u001b[0;34m(\u001b[0m\u001b[0mself\u001b[0m\u001b[0;34m,\u001b[0m \u001b[0mlabel\u001b[0m\u001b[0;34m,\u001b[0m \u001b[0mtakeable\u001b[0m\u001b[0;34m:\u001b[0m \u001b[0mbool\u001b[0m \u001b[0;34m=\u001b[0m \u001b[0;32mFalse\u001b[0m\u001b[0;34m)\u001b[0m\u001b[0;34m:\u001b[0m\u001b[0;34m\u001b[0m\u001b[0;34m\u001b[0m\u001b[0m\n",
      "\u001b[0;32m/opt/anaconda3/lib/python3.9/site-packages/pandas/core/series.py\u001b[0m in \u001b[0;36m_constructor_from_mgr\u001b[0;34m(self, mgr, axes)\u001b[0m\n\u001b[1;32m    580\u001b[0m \u001b[0;34m\u001b[0m\u001b[0m\n\u001b[1;32m    581\u001b[0m     \u001b[0;32mdef\u001b[0m \u001b[0m_constructor_from_mgr\u001b[0m\u001b[0;34m(\u001b[0m\u001b[0mself\u001b[0m\u001b[0;34m,\u001b[0m \u001b[0mmgr\u001b[0m\u001b[0;34m,\u001b[0m \u001b[0maxes\u001b[0m\u001b[0;34m)\u001b[0m\u001b[0;34m:\u001b[0m\u001b[0;34m\u001b[0m\u001b[0;34m\u001b[0m\u001b[0m\n\u001b[0;32m--> 582\u001b[0;31m         \u001b[0mser\u001b[0m \u001b[0;34m=\u001b[0m \u001b[0mself\u001b[0m\u001b[0;34m.\u001b[0m\u001b[0m_from_mgr\u001b[0m\u001b[0;34m(\u001b[0m\u001b[0mmgr\u001b[0m\u001b[0;34m,\u001b[0m \u001b[0maxes\u001b[0m\u001b[0;34m=\u001b[0m\u001b[0maxes\u001b[0m\u001b[0;34m)\u001b[0m\u001b[0;34m\u001b[0m\u001b[0;34m\u001b[0m\u001b[0m\n\u001b[0m\u001b[1;32m    583\u001b[0m         \u001b[0mser\u001b[0m\u001b[0;34m.\u001b[0m\u001b[0m_name\u001b[0m \u001b[0;34m=\u001b[0m \u001b[0;32mNone\u001b[0m  \u001b[0;31m# caller is responsible for setting real name\u001b[0m\u001b[0;34m\u001b[0m\u001b[0;34m\u001b[0m\u001b[0m\n\u001b[1;32m    584\u001b[0m         \u001b[0;32mif\u001b[0m \u001b[0mtype\u001b[0m\u001b[0;34m(\u001b[0m\u001b[0mself\u001b[0m\u001b[0;34m)\u001b[0m \u001b[0;32mis\u001b[0m \u001b[0mSeries\u001b[0m\u001b[0;34m:\u001b[0m\u001b[0;34m\u001b[0m\u001b[0;34m\u001b[0m\u001b[0m\n",
      "\u001b[0;32m/opt/anaconda3/lib/python3.9/site-packages/pandas/core/generic.py\u001b[0m in \u001b[0;36m_from_mgr\u001b[0;34m(cls, mgr, axes)\u001b[0m\n\u001b[1;32m    350\u001b[0m         \"\"\"\n\u001b[1;32m    351\u001b[0m         \u001b[0mobj\u001b[0m \u001b[0;34m=\u001b[0m \u001b[0mcls\u001b[0m\u001b[0;34m.\u001b[0m\u001b[0m__new__\u001b[0m\u001b[0;34m(\u001b[0m\u001b[0mcls\u001b[0m\u001b[0;34m)\u001b[0m\u001b[0;34m\u001b[0m\u001b[0;34m\u001b[0m\u001b[0m\n\u001b[0;32m--> 352\u001b[0;31m         \u001b[0mNDFrame\u001b[0m\u001b[0;34m.\u001b[0m\u001b[0m__init__\u001b[0m\u001b[0;34m(\u001b[0m\u001b[0mobj\u001b[0m\u001b[0;34m,\u001b[0m \u001b[0mmgr\u001b[0m\u001b[0;34m)\u001b[0m\u001b[0;34m\u001b[0m\u001b[0;34m\u001b[0m\u001b[0m\n\u001b[0m\u001b[1;32m    353\u001b[0m         \u001b[0;32mreturn\u001b[0m \u001b[0mobj\u001b[0m\u001b[0;34m\u001b[0m\u001b[0;34m\u001b[0m\u001b[0m\n\u001b[1;32m    354\u001b[0m \u001b[0;34m\u001b[0m\u001b[0m\n",
      "\u001b[0;32m/opt/anaconda3/lib/python3.9/site-packages/pandas/core/generic.py\u001b[0m in \u001b[0;36m__init__\u001b[0;34m(self, data)\u001b[0m\n\u001b[1;32m    273\u001b[0m \u001b[0;34m\u001b[0m\u001b[0m\n\u001b[1;32m    274\u001b[0m     \u001b[0;32mdef\u001b[0m \u001b[0m__init__\u001b[0m\u001b[0;34m(\u001b[0m\u001b[0mself\u001b[0m\u001b[0;34m,\u001b[0m \u001b[0mdata\u001b[0m\u001b[0;34m:\u001b[0m \u001b[0mManager\u001b[0m\u001b[0;34m)\u001b[0m \u001b[0;34m->\u001b[0m \u001b[0;32mNone\u001b[0m\u001b[0;34m:\u001b[0m\u001b[0;34m\u001b[0m\u001b[0;34m\u001b[0m\u001b[0m\n\u001b[0;32m--> 275\u001b[0;31m         \u001b[0mobject\u001b[0m\u001b[0;34m.\u001b[0m\u001b[0m__setattr__\u001b[0m\u001b[0;34m(\u001b[0m\u001b[0mself\u001b[0m\u001b[0;34m,\u001b[0m \u001b[0;34m\"_is_copy\"\u001b[0m\u001b[0;34m,\u001b[0m \u001b[0;32mNone\u001b[0m\u001b[0;34m)\u001b[0m\u001b[0;34m\u001b[0m\u001b[0;34m\u001b[0m\u001b[0m\n\u001b[0m\u001b[1;32m    276\u001b[0m         \u001b[0mobject\u001b[0m\u001b[0;34m.\u001b[0m\u001b[0m__setattr__\u001b[0m\u001b[0;34m(\u001b[0m\u001b[0mself\u001b[0m\u001b[0;34m,\u001b[0m \u001b[0;34m\"_mgr\"\u001b[0m\u001b[0;34m,\u001b[0m \u001b[0mdata\u001b[0m\u001b[0;34m)\u001b[0m\u001b[0;34m\u001b[0m\u001b[0;34m\u001b[0m\u001b[0m\n\u001b[1;32m    277\u001b[0m         \u001b[0mobject\u001b[0m\u001b[0;34m.\u001b[0m\u001b[0m__setattr__\u001b[0m\u001b[0;34m(\u001b[0m\u001b[0mself\u001b[0m\u001b[0;34m,\u001b[0m \u001b[0;34m\"_item_cache\"\u001b[0m\u001b[0;34m,\u001b[0m \u001b[0;34m{\u001b[0m\u001b[0;34m}\u001b[0m\u001b[0;34m)\u001b[0m\u001b[0;34m\u001b[0m\u001b[0;34m\u001b[0m\u001b[0m\n",
      "\u001b[0;31mKeyboardInterrupt\u001b[0m: "
     ]
    }
   ],
   "source": [
    "clustering = HierarchicalClustering(df, neighbours_pairs, without_neighbours, method='complete_correlation', threshold=0.5, missing_values=True)\n",
    "clustering.compute_clusters()"
   ]
  },
  {
   "cell_type": "code",
   "execution_count": null,
   "metadata": {},
   "outputs": [],
   "source": []
  },
  {
   "cell_type": "code",
   "execution_count": null,
   "metadata": {},
   "outputs": [],
   "source": []
  },
  {
   "cell_type": "code",
   "execution_count": null,
   "metadata": {},
   "outputs": [],
   "source": []
  },
  {
   "cell_type": "code",
   "execution_count": null,
   "metadata": {},
   "outputs": [],
   "source": [
    "clusters = clustering.get_clusters_from_last_fathers(0.99)\n",
    "plot_clusters_shp(shp_noNA, clusters, figsize=(16,16))"
   ]
  },
  {
   "cell_type": "code",
   "execution_count": null,
   "metadata": {},
   "outputs": [],
   "source": []
  },
  {
   "cell_type": "code",
   "execution_count": null,
   "metadata": {},
   "outputs": [],
   "source": []
  },
  {
   "cell_type": "code",
   "execution_count": null,
   "metadata": {},
   "outputs": [],
   "source": [
    "clustering = HierarchicalClustering(df, neighbours_pairs, without_neighbours, method='complete_correlation', threshold=0.5)\n",
    "clustering.compute_clusters()"
   ]
  },
  {
   "cell_type": "code",
   "execution_count": null,
   "metadata": {},
   "outputs": [],
   "source": [
    "clusters = clustering.get_clusters_from_last_fathers(0.8)\n",
    "plot_clusters_shp(shp_noNA, clusters, figsize=(16,16))"
   ]
  },
  {
   "cell_type": "code",
   "execution_count": null,
   "metadata": {},
   "outputs": [],
   "source": [
    "clusters = clustering.get_clusters_from_last_fathers(0.8)\n",
    "plot_clusters_shp(shp_noNA, clusters, figsize=(16,16))"
   ]
  },
  {
   "cell_type": "code",
   "execution_count": null,
   "metadata": {},
   "outputs": [],
   "source": [
    "clusters_no_singletons = remove_singletons(clusters)\n",
    "avg_total_correlation = 0\n",
    "for cluster in range(len(clusters_no_singletons)):\n",
    "    min_correlation = 1\n",
    "    avg_correlation = 0\n",
    "    length = len(clusters[cluster])\n",
    "    \n",
    "    for i in range(length-1):\n",
    "        for j in range(i+1, length):\n",
    "            correlation = np.corrcoef(df[clusters[cluster][i]], df[clusters[cluster][j]])[0][1]\n",
    "            avg_correlation = avg_correlation + correlation\n",
    "            if correlation < min_correlation:\n",
    "                min_correlation = correlation\n",
    "                points = (clusters[cluster][i], clusters[cluster][j])\n",
    "    avg_correlation = avg_correlation / sum(range(1, length))      \n",
    "\n",
    "    print(f'Cluster {cluster}')\n",
    "    print(f'Avg. correlation : {avg_correlation}')            \n",
    "    print(f'Min. correlation : {min_correlation}, between points : {points}\\n')        \n",
    "\n",
    "    avg_total_correlation = avg_total_correlation + avg_correlation\n",
    "\n",
    "avg_total_correlation = avg_total_correlation/len(clusters_no_singletons)\n",
    "print(f'Avg. Total correlation : {avg_total_correlation}') "
   ]
  },
  {
   "cell_type": "code",
   "execution_count": null,
   "metadata": {},
   "outputs": [],
   "source": []
  },
  {
   "cell_type": "code",
   "execution_count": null,
   "metadata": {},
   "outputs": [],
   "source": [
    "ordered_fathers, ordered_correlations, ordered_count, ordered_singletons = clustering.get_ordered_clusters()\n",
    "\n",
    "# Create a single plot with two different y-axes\n",
    "fig, ax1 = plt.subplots(figsize=(12, 6))\n",
    "\n",
    "# Plot the first set of data on the first y-axis\n",
    "ax1.plot(ordered_correlations, ordered_count, label='No. Clusters', color='blue')\n",
    "ax1.plot(ordered_correlations, np.subtract(np.array(ordered_count), np.array(ordered_singletons)), label='No. Clusters - Singletons', color='green')\n",
    "ax1.plot(ordered_correlations, ordered_singletons, label='No. Singletons', color='red')\n",
    "ax1.set_xlabel('Correlation threshold')\n",
    "ax1.set_ylabel('No. Clusters')\n",
    "ax1.tick_params(axis='y')\n",
    "\n",
    "# Create a secondary y-axis on the same plot\n",
    "ax2 = ax1.twinx()\n",
    "\n",
    "# Plot the second set of data on the secondary y-axis\n",
    "ax2.plot(ordered_correlations, np.subtract(np.array(ordered_count), np.array(ordered_singletons))/np.array(ordered_singletons), label='(No. Clusters - Singletons) / No. Singletons', color='purple')\n",
    "ax2.set_ylabel('(No. Clusters - Singletons) / No. Singletons', color='purple')\n",
    "ax2.tick_params(axis='y', labelcolor='purple')\n",
    "\n",
    "# Combine the legends for both y-axes\n",
    "lines1, labels1 = ax1.get_legend_handles_labels()\n",
    "lines2, labels2 = ax2.get_legend_handles_labels()\n",
    "lines = lines1 + lines2\n",
    "labels = labels1 + labels2\n",
    "ax1.legend(lines, labels, loc='center left')\n",
    "\n",
    "# Set titles for the combined plot\n",
    "plt.title('Complete-Linkage, Clusters Count')\n",
    "\n",
    "# Show the combined plot\n",
    "plt.show()"
   ]
  },
  {
   "cell_type": "code",
   "execution_count": null,
   "metadata": {},
   "outputs": [],
   "source": []
  }
 ],
 "metadata": {
  "kernelspec": {
   "display_name": "base",
   "language": "python",
   "name": "python3"
  },
  "language_info": {
   "codemirror_mode": {
    "name": "ipython",
    "version": 3
   },
   "file_extension": ".py",
   "mimetype": "text/x-python",
   "name": "python",
   "nbconvert_exporter": "python",
   "pygments_lexer": "ipython3",
   "version": "3.9.7"
  }
 },
 "nbformat": 4,
 "nbformat_minor": 2
}
