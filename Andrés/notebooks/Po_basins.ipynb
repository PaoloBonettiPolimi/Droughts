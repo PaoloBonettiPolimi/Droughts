{
 "cells": [
  {
   "cell_type": "code",
   "execution_count": 15,
   "metadata": {},
   "outputs": [],
   "source": [
    "import matplotlib.pyplot as plt\n",
    "from itertools import cycle\n",
    "import numpy as np\n",
    "import os\n",
    "\n",
    "os.chdir(\"../scripts\")"
   ]
  },
  {
   "cell_type": "code",
   "execution_count": 4,
   "metadata": {},
   "outputs": [
    {
     "name": "stdout",
     "output_type": "stream",
     "text": [
      "The autoreload extension is already loaded. To reload it, use:\n",
      "  %reload_ext autoreload\n"
     ]
    }
   ],
   "source": [
    "from aux_NonLinCFA import prepare_features\n",
    "from clustering_operations import *\n",
    "\n",
    "%load_ext autoreload\n",
    "%autoreload 2"
   ]
  },
  {
   "cell_type": "code",
   "execution_count": 24,
   "metadata": {},
   "outputs": [],
   "source": [
    "def plot_clusters(output, figsize=(16,10), s=1, xmin=9, xmax=11, ymin=44, ymax=45.5):\n",
    "    x = []\n",
    "    y = []\n",
    "\n",
    "    cmap = plt.cm.colors.ListedColormap(np.random.rand(len(output), 3))\n",
    "    markers = cycle(['o', 's', '^', 'v', 'D', 'p', 'h'])\n",
    "\n",
    "    plt.figure(figsize=figsize)\n",
    "    #plt.title(title, fontsize = 12)\n",
    "    plt.xlim(xmin,xmax)\n",
    "    plt.ylim(ymin,ymax)\n",
    "    # iterate over all the features aggregations\n",
    "    for j in range (len(output)):       # j iterates all the clusters\n",
    "        X = [float(element.split('_')[0]) for element in output[j]]\n",
    "        Y = [float(element.split('_')[1]) for element in output[j]]\n",
    "        marker = next(markers)\n",
    "        plt.scatter(X, Y, s=s, color=cmap(j), marker=marker)"
   ]
  },
  {
   "cell_type": "code",
   "execution_count": 6,
   "metadata": {},
   "outputs": [],
   "source": [
    "colnames = ['cyclostationary_mean_tg',\n",
    "        'cyclostationary_mean_tg_1w',\n",
    "        'cyclostationary_mean_tg_4w',\n",
    "        'cyclostationary_mean_tg_8w',\n",
    "        'cyclostationary_mean_tg_12w',\n",
    "        'cyclostationary_mean_tg_16w',\n",
    "        'cyclostationary_mean_tg_24w',\n",
    "        'cyclostationary_mean_rr',\n",
    "        'cyclostationary_mean_rr_1w',\n",
    "        'cyclostationary_mean_rr_4w',\n",
    "        'cyclostationary_mean_rr_8w',\n",
    "        'cyclostationary_mean_rr_12w',\n",
    "        'cyclostationary_mean_rr_16w',\n",
    "        'cyclostationary_mean_rr_24w']\n",
    "\n",
    "col = colnames[9]\n",
    "path = \"../data/Emiliani1_aggreg.csv\"\n",
    "df_train_unfolded_std,df_val_unfolded_std,df_test_unfolded_std,df_trainVal_unfolded_std = prepare_features(path,col,multiple=False,max_train='2013-11-22', \n",
    "                            max_val='2018-04-10', max_test='2022-12-31', cols_order = \"bottom_left\", no_winter = False, only_winter = False)"
   ]
  },
  {
   "cell_type": "code",
   "execution_count": 9,
   "metadata": {},
   "outputs": [],
   "source": [
    "df_train_unfolded_std.columns = df_train_unfolded_std.columns.str.replace('mean_', '')"
   ]
  },
  {
   "cell_type": "code",
   "execution_count": 11,
   "metadata": {},
   "outputs": [
    {
     "name": "stdout",
     "output_type": "stream",
     "text": [
      "Computing neighbors...\n"
     ]
    },
    {
     "name": "stderr",
     "output_type": "stream",
     "text": [
      "100%|██████████| 172/172 [00:00<00:00, 432.74it/s]"
     ]
    },
    {
     "name": "stdout",
     "output_type": "stream",
     "text": [
      "Neighbors computed\n"
     ]
    },
    {
     "name": "stderr",
     "output_type": "stream",
     "text": [
      "\n"
     ]
    }
   ],
   "source": [
    "neighbors_01 = compute_neighbors(df_train_unfolded_std, max_distance = 0.1)"
   ]
  },
  {
   "cell_type": "code",
   "execution_count": 127,
   "metadata": {},
   "outputs": [
    {
     "name": "stdout",
     "output_type": "stream",
     "text": [
      "Computing clusters...\n"
     ]
    },
    {
     "name": "stderr",
     "output_type": "stream",
     "text": [
      "175it [00:02, 79.63it/s]                         "
     ]
    },
    {
     "name": "stdout",
     "output_type": "stream",
     "text": [
      "Clusters computed\n"
     ]
    },
    {
     "name": "stderr",
     "output_type": "stream",
     "text": [
      "\n"
     ]
    }
   ],
   "source": [
    "clusters_01_c088 = compute_clusters(df_train_unfolded_std, neighbors_01, method='correlation', threshold=0.9, noise=True)"
   ]
  },
  {
   "cell_type": "code",
   "execution_count": 128,
   "metadata": {},
   "outputs": [
    {
     "name": "stdout",
     "output_type": "stream",
     "text": [
      "#clusters : 9\n"
     ]
    },
    {
     "data": {
      "image/png": "[encoded data removed]",
      "text/plain": [
       "<Figure size 576x288 with 1 Axes>"
      ]
     },
     "metadata": {
      "needs_background": "light"
     },
     "output_type": "display_data"
    }
   ],
   "source": [
    "print(\"#clusters : \" + str(len(clusters_01_c088)))\n",
    "plot_clusters(clusters_01_c088, figsize=(8, 4), s=30, xmin=10, xmax=13.5, ymin=43.5, ymax=45.25)"
   ]
  },
  {
   "cell_type": "code",
   "execution_count": 129,
   "metadata": {},
   "outputs": [
    {
     "name": "stdout",
     "output_type": "stream",
     "text": [
      "Computing clusters...\n"
     ]
    },
    {
     "name": "stderr",
     "output_type": "stream",
     "text": [
      " 99%|█████████▉| 171/172 [00:04<00:00, 38.72it/s]"
     ]
    },
    {
     "name": "stdout",
     "output_type": "stream",
     "text": [
      "Clusters computed\n"
     ]
    },
    {
     "name": "stderr",
     "output_type": "stream",
     "text": [
      "\n"
     ]
    }
   ],
   "source": [
    "clusters_01_d088 = compute_clusters(df_train_unfolded_std, neighbors_01, method='distance', threshold=11, noise=True)"
   ]
  },
  {
   "cell_type": "code",
   "execution_count": 134,
   "metadata": {},
   "outputs": [
    {
     "name": "stdout",
     "output_type": "stream",
     "text": [
      "#clusters : 9\n"
     ]
    },
    {
     "data": {
      "image/png": "[encoded data removed]",
      "text/plain": [
       "<Figure size 576x288 with 1 Axes>"
      ]
     },
     "metadata": {
      "needs_background": "light"
     },
     "output_type": "display_data"
    }
   ],
   "source": [
    "print(\"#clusters : \" + str(len(clusters_01_d088)))\n",
    "plot_clusters(clusters_01_d088, figsize=(8, 4), s=30, xmin=10, xmax=13.5, ymin=43.5, ymax=45.25)"
   ]
  },
  {
   "cell_type": "code",
   "execution_count": null,
   "metadata": {},
   "outputs": [],
   "source": []
  }
 ],
 "metadata": {
  "kernelspec": {
   "display_name": "base",
   "language": "python",
   "name": "python3"
  },
  "language_info": {
   "codemirror_mode": {
    "name": "ipython",
    "version": 3
   },
   "file_extension": ".py",
   "mimetype": "text/x-python",
   "name": "python",
   "nbconvert_exporter": "python",
   "pygments_lexer": "ipython3",
   "version": "3.9.7"
  }
 },
 "nbformat": 4,
 "nbformat_minor": 2
}
