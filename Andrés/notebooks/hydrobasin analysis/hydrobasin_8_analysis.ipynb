{
 "cells": [
  {
   "cell_type": "code",
   "execution_count": 1,
   "metadata": {},
   "outputs": [
    {
     "name": "stderr",
     "output_type": "stream",
     "text": [
      "/opt/anaconda3/lib/python3.9/site-packages/pandas/core/computation/expressions.py:21: UserWarning: Pandas requires version '2.8.0' or newer of 'numexpr' (version '2.7.3' currently installed).\n",
      "  from pandas.core.computation.check import NUMEXPR_INSTALLED\n",
      "/opt/anaconda3/lib/python3.9/site-packages/pandas/core/arrays/masked.py:62: UserWarning: Pandas requires version '1.3.4' or newer of 'bottleneck' (version '1.3.2' currently installed).\n",
      "  from pandas.core import (\n"
     ]
    }
   ],
   "source": [
    "import pandas as pd\n",
    "import numpy as np\n",
    "import matplotlib.pyplot as plt\n",
    "import calendar\n",
    "import geopandas as gpd\n",
    "from tqdm import tqdm\n",
    "\n",
    "%load_ext autoreload\n",
    "%autoreload 2"
   ]
  },
  {
   "cell_type": "code",
   "execution_count": 2,
   "metadata": {},
   "outputs": [],
   "source": [
    "shapefile_finer = gpd.read_file('../../data/shapefiles/FAPAN_domain_fixed_geometry/FAPAN_domain_fixed_geometry.shp')"
   ]
  },
  {
   "cell_type": "code",
   "execution_count": 3,
   "metadata": {},
   "outputs": [],
   "source": [
    "df_original = pd.read_csv(\"../../data/FAPAN204_inline.csv\")\n",
    "df_lvl8 = pd.read_csv(\"../../data/FAPAN_level_08.csv\")"
   ]
  },
  {
   "cell_type": "code",
   "execution_count": 4,
   "metadata": {},
   "outputs": [],
   "source": [
    "df_corr_comparison = df_lvl8.copy()\n",
    "df_corr_comparison.insert(2, 'avg_correlation', None)"
   ]
  },
  {
   "cell_type": "code",
   "execution_count": 5,
   "metadata": {},
   "outputs": [],
   "source": [
    "# Precompute weights for all finer basins\n",
    "weights_dict = {}\n",
    "for i in range(shapefile_finer.shape[0]):\n",
    "    subid = shapefile_finer.iloc[i][\"SUBID\"]\n",
    "    weights = shapefile_finer.iloc[i][\"AREA\"]\n",
    "    weights_dict[subid] = weights"
   ]
  },
  {
   "cell_type": "code",
   "execution_count": 6,
   "metadata": {},
   "outputs": [],
   "source": [
    "def weighted_avg_correlation(finer_basins, coarser_basin, weights):\n",
    "    correlations = []\n",
    "    for i in range(len(finer_basins)):\n",
    "        correlations.append(np.corrcoef(finer_basins[i], coarser_basin[i])[0, 1])\n",
    "\n",
    "    no_nan_mask = ~np.isnan(correlations)\n",
    "    correlations_no_nan = np.array(correlations)[no_nan_mask]\n",
    "    weights_no_nan = np.array(weights)[no_nan_mask]\n",
    "\n",
    "    weighted_avg_correlation = np.dot(correlations_no_nan, weights_no_nan)/sum(weights_no_nan)    \n",
    "    return weighted_avg_correlation"
   ]
  },
  {
   "cell_type": "code",
   "execution_count": 7,
   "metadata": {},
   "outputs": [
    {
     "name": "stderr",
     "output_type": "stream",
     "text": [
      "  0%|          | 2/12844 [00:00<1:42:16,  2.09it/s]/opt/anaconda3/lib/python3.9/site-packages/numpy/lib/function_base.py:520: RuntimeWarning: Mean of empty slice.\n",
      "  avg = a.mean(axis, **keepdims_kw)\n",
      "/opt/anaconda3/lib/python3.9/site-packages/numpy/core/_methods.py:121: RuntimeWarning: invalid value encountered in divide\n",
      "  ret = um.true_divide(\n",
      "/opt/anaconda3/lib/python3.9/site-packages/numpy/lib/function_base.py:2889: RuntimeWarning: Degrees of freedom <= 0 for slice\n",
      "  c = cov(x, y, rowvar, dtype=dtype)\n",
      "/opt/anaconda3/lib/python3.9/site-packages/numpy/lib/function_base.py:2748: RuntimeWarning: divide by zero encountered in divide\n",
      "  c *= np.true_divide(1, fact)\n",
      "/opt/anaconda3/lib/python3.9/site-packages/numpy/lib/function_base.py:2748: RuntimeWarning: invalid value encountered in multiply\n",
      "  c *= np.true_divide(1, fact)\n",
      "  0%|          | 8/12844 [00:03<1:25:39,  2.50it/s]/var/folders/6b/j2xt7shx2fq5nt2p9y46s3lh0000gn/T/ipykernel_68877/2782509166.py:10: RuntimeWarning: invalid value encountered in divide\n",
      "  weighted_avg_correlation = np.dot(correlations_no_nan, weights_no_nan)/sum(weights_no_nan)\n",
      "100%|█████████▉| 12842/12844 [1:04:39<00:00,  3.31it/s]"
     ]
    }
   ],
   "source": [
    "progress_bar = tqdm(total=df_corr_comparison.shape[0], position=0, leave=True, smoothing=0)\n",
    "\n",
    "weighted_avg_correlations = []\n",
    "\n",
    "for index, row in df_corr_comparison.iterrows():\n",
    "    finer_basins = []\n",
    "    coarser_basin_no_nan = []\n",
    "    weights = []\n",
    "    coarser_basin = df_corr_comparison.iloc[index, 3:].values.astype(float)\n",
    "\n",
    "    for SUBID in map(float, row[\"SUBIDs\"].split(',')):\n",
    "        finer_basin = df_original.loc[df_original[\"SUBID\"]==SUBID, df_original.columns[3:]].values.astype(float).reshape(-1)\n",
    "        no_nan_mask = ~np.isnan(finer_basin)\n",
    "        finer_basin_no_nan = finer_basin[no_nan_mask]\n",
    "        \n",
    "        finer_basins.append(finer_basin_no_nan)\n",
    "        coarser_basin_no_nan.append(coarser_basin[no_nan_mask])\n",
    "        weights.append(shapefile_finer.loc[shapefile_finer[\"SUBID\"]==SUBID, \"AREA\"])\n",
    "\n",
    "    weighted_avg_correlations.append(weighted_avg_correlation(finer_basins, coarser_basin_no_nan, weights))\n",
    "    progress_bar.update(1)"
   ]
  },
  {
   "cell_type": "code",
   "execution_count": 8,
   "metadata": {},
   "outputs": [
    {
     "name": "stdout",
     "output_type": "stream",
     "text": [
      "71\n"
     ]
    },
    {
     "name": "stderr",
     "output_type": "stream",
     "text": [
      "100%|██████████| 12844/12844 [1:04:53<00:00,  3.30it/s]"
     ]
    }
   ],
   "source": [
    "count= 0\n",
    "for corr in weighted_avg_correlations:\n",
    "    if np.isnan(corr):\n",
    "        count = count+1\n",
    "\n",
    "print(count)"
   ]
  },
  {
   "cell_type": "code",
   "execution_count": 20,
   "metadata": {},
   "outputs": [
    {
     "data": {
      "text/plain": [
       "0.9260534514235677"
      ]
     },
     "execution_count": 20,
     "metadata": {},
     "output_type": "execute_result"
    }
   ],
   "source": [
    "no_nan_mask = ~np.isnan(weighted_avg_correlations)\n",
    "weighted_avg_correlations_no_nan = np.array(weighted_avg_correlations)[no_nan_mask]\n",
    "weighted_avg_correlations_no_nan.mean()"
   ]
  },
  {
   "cell_type": "code",
   "execution_count": 29,
   "metadata": {},
   "outputs": [
    {
     "data": {
      "text/plain": [
       "Text(0, 0.5, 'count')"
      ]
     },
     "execution_count": 29,
     "metadata": {},
     "output_type": "execute_result"
    },
    {
     "data": {
      "image/png": "[encoded data removed]",
      "text/plain": [
       "<Figure size 432x288 with 1 Axes>"
      ]
     },
     "metadata": {
      "needs_background": "light"
     },
     "output_type": "display_data"
    }
   ],
   "source": [
    "mean_value = weighted_avg_correlations_no_nan.mean()\n",
    "plt.hist(weighted_avg_correlations_no_nan)\n",
    "plt.axvline(mean_value, color='red', linestyle='dashed', linewidth=2, label='Mean')\n",
    "# Add text label for the mean value\n",
    "plt.text(mean_value-0.01, plt.ylim()[1], f'Mean: {mean_value:.3f}', color='red', fontsize=12, ha='right', va='top')\n",
    "\n",
    "plt.title(\"Level 8\", fontsize = 16)\n",
    "plt.xlabel('avg. correlation between original sub-basins and new sub-basin', fontsize=12)\n",
    "plt.ylabel('count', fontsize=12)"
   ]
  },
  {
   "cell_type": "code",
   "execution_count": 25,
   "metadata": {},
   "outputs": [
    {
     "name": "stdout",
     "output_type": "stream",
     "text": [
      "126168\n"
     ]
    }
   ],
   "source": [
    "count = 0\n",
    "for index, row in df_lvl8.iterrows():\n",
    "    count = count + len(row[\"SUBIDs\"].split(\",\"))\n",
    "\n",
    "print(count)"
   ]
  },
  {
   "cell_type": "code",
   "execution_count": null,
   "metadata": {},
   "outputs": [],
   "source": []
  }
 ],
 "metadata": {
  "kernelspec": {
   "display_name": "base",
   "language": "python",
   "name": "python3"
  },
  "language_info": {
   "codemirror_mode": {
    "name": "ipython",
    "version": 3
   },
   "file_extension": ".py",
   "mimetype": "text/x-python",
   "name": "python",
   "nbconvert_exporter": "python",
   "pygments_lexer": "ipython3",
   "version": "3.9.7"
  }
 },
 "nbformat": 4,
 "nbformat_minor": 2
}
